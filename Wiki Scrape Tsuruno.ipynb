{
 "cells": [
  {
   "cell_type": "code",
   "execution_count": 1,
   "metadata": {},
   "outputs": [],
   "source": [
    "# Dependencies\n",
    "import os\n",
    "from bs4 import BeautifulSoup as bs\n",
    "import json\n",
    "import requests"
   ]
  },
  {
   "cell_type": "code",
   "execution_count": 2,
   "metadata": {},
   "outputs": [],
   "source": [
    "query_url = \"https://wiki.puella-magi.net/Tsuruno_Yui\"\n",
    "response = requests.get(query_url)\n",
    "soup = bs(response.text, 'html.parser')"
   ]
  },
  {
   "cell_type": "code",
   "execution_count": 7,
   "metadata": {},
   "outputs": [
    {
     "name": "stdout",
     "output_type": "stream",
     "text": [
      "<li><b>Age:</b> 17</li>\n",
      "<li><b>School:</b> Kamihama City University Affiliated School, 11th grade</li>\n"
     ]
    }
   ],
   "source": [
    "bullet_points = soup.find_all('li')\n",
    "# 25- 33 General Info\n",
    "print(bullet_points[22])\n",
    "print(bullet_points[33])"
   ]
  },
  {
   "cell_type": "code",
   "execution_count": 9,
   "metadata": {},
   "outputs": [
    {
     "name": "stdout",
     "output_type": "stream",
     "text": [
      "The Doppel of harmony. Its form is ham.<sup class=\"reference\" id=\"cite_ref-1\"><a href=\"#cite_note-1\">[1]</a></sup>\n",
      "The master of this emotion is quite dissatisfied with both the appearance and behavior of her Doppel.\n",
      "In contrast to her own desires to achieve great deeds through her own hard work, this Doppel creates an endless stream of wealth to satisfy the never-ending desires of her close relatives in an attempt to preserve family peace. The truth is, however, that this is only a very fickle and short-lived harmony. The master believes that it exists in complete contrast to her own noble goals and prefers to keep its boorish existence hidden from the world. However, she may one day find that she needs this Doppel's powers to protect the harmony between her family members, no matter how fragile that harmony might be.\n"
     ]
    }
   ],
   "source": [
    "para = soup.find_all('p')\n",
    "para = str(para[4])\n",
    "para = para.strip(\"<p>\")\n",
    "para = para.strip(\"</p>\")\n",
    "para = para.rstrip()\n",
    "print(para)"
   ]
  },
  {
   "cell_type": "code",
   "execution_count": 10,
   "metadata": {},
   "outputs": [
    {
     "name": "stdout",
     "output_type": "stream",
     "text": [
      "2904 1264 936\n",
      "9165 4128 2933\n",
      "11607 5232 3714\n",
      "15270 6888 4885\n",
      "18927 8552 6056\n",
      "20978 9731 7576\n"
     ]
    }
   ],
   "source": [
    "table_data = soup.find_all('td')\n",
    "\n",
    "# table_data[8] through\n",
    "# Headers no1 8, 9,10, 11\n",
    "# Data 12, 13, 14, 15 - 15 is a Link Picture\n",
    "# Headers no2 16, 17, 18, 19\n",
    "# initial 20, 21, 22, 23\n",
    "initial_hp = str(table_data[21]).replace('<td style=\"width:25%;\">', '').replace('</td>', '').rstrip()\n",
    "initial_atk = str(table_data[22]).replace('<td style=\"width:25%;\">', '').replace('</td>', '').rstrip()\n",
    "initial_def = str(table_data[23]).replace('<td style=\"width:25%;\">', '').replace('</td>', '').rstrip()\n",
    "# max at 2* 25, 26, 27\n",
    "two_star_hp = str(table_data[25]).replace('<td style=\"width:25%;\">', '').replace('</td>', '').rstrip()\n",
    "two_star_atk = str(table_data[26]).replace('<td style=\"width:25%;\">', '').replace('</td>', '').rstrip()\n",
    "two_star_def = str(table_data[27]).replace('<td style=\"width:25%;\">', '').replace('</td>', '').rstrip()\n",
    "# max at 3* 29, 30, 31\n",
    "three_star_hp = str(table_data[29]).replace('<td style=\"width:25%;\">', '').replace('</td>', '').rstrip()\n",
    "three_star_atk = str(table_data[30]).replace('<td style=\"width:25%;\">', '').replace('</td>', '').rstrip()\n",
    "three_star_def = str(table_data[31]).replace('<td style=\"width:25%;\">', '').replace('</td>', '').rstrip()\n",
    "# max at 4* 33, 34, 35\n",
    "four_star_hp = str(table_data[33]).replace('<td style=\"width:25%;\">', '').replace('</td>', '').rstrip()\n",
    "four_star_atk = str(table_data[34]).replace('<td style=\"width:25%;\">', '').replace('</td>', '').rstrip()\n",
    "four_star_def = str(table_data[35]).replace('<td style=\"width:25%;\">', '').replace('</td>', '').rstrip()\n",
    "# max at 5* 37, 38, 39\n",
    "five_star_hp = str(table_data[37]).replace('<td style=\"width:25%;\">', '').replace('</td>', '').rstrip()\n",
    "five_star_atk = str(table_data[38]).replace('<td style=\"width:25%;\">', '').replace('</td>', '').rstrip()\n",
    "five_star_def = str(table_data[39]).replace('<td style=\"width:25%;\">', '').replace('</td>', '').rstrip()\n",
    "# Max SE 41, 42, 43\n",
    "se_hp = str(table_data[41]).replace('<td style=\"width:25%;\">', '').replace('</td>', '').rstrip()\n",
    "se_atk = str(table_data[42]).replace('<td style=\"width:25%;\">', '').replace('</td>', '').rstrip()\n",
    "se_def = str(table_data[43]).replace('<td style=\"width:25%;\">', '').replace('</td>', '').rstrip()\n",
    "print(initial_hp, initial_atk, initial_def)\n",
    "print(two_star_hp, two_star_atk, two_star_def)\n",
    "print(three_star_hp, three_star_atk, three_star_def)\n",
    "print(four_star_hp, four_star_atk, four_star_def)\n",
    "print(five_star_hp, five_star_atk, five_star_def)\n",
    "print(se_hp, se_atk, se_def)"
   ]
  },
  {
   "cell_type": "code",
   "execution_count": 11,
   "metadata": {},
   "outputs": [
    {
     "name": "stdout",
     "output_type": "stream",
     "text": [
      "['Accel', 'Accel', 'Blast', 'Blast', 'Charge']\n"
     ]
    }
   ],
   "source": [
    "# data 44 through 48 is disks\n",
    "# if condition on alt attribute to determine what type of data to put where\n",
    "\n",
    "disk_one = str(table_data[44])\n",
    "disk_two = str(table_data[45])\n",
    "disk_three = str(table_data[46])\n",
    "disk_four = str(table_data[47])\n",
    "disk_five = str(table_data[48])\n",
    "\n",
    "if (disk_one.find(\"accel\") != -1):\n",
    "    disk_one = \"Accel\"\n",
    "elif (disk_one.find(\"blast\") != -1):\n",
    "    disk_one = \"Blast\"\n",
    "else:\n",
    "    disk_one = \"Charge\"\n",
    "    \n",
    "if (disk_two.find(\"accel\") != -1):\n",
    "    disk_two = \"Accel\"\n",
    "elif (disk_two.find(\"blast\") != -1):\n",
    "    disk_two = \"Blast\"\n",
    "else:\n",
    "    disk_two = \"Charge\"\n",
    "\n",
    "if (disk_three.find(\"accel\") != -1):\n",
    "    disk_three = \"Accel\"\n",
    "elif (disk_three.find(\"blast\") != -1):\n",
    "    disk_three = \"Blast\"\n",
    "else:\n",
    "    disk_three = \"Charge\"\n",
    "    \n",
    "if (disk_four.find(\"accel\") != -1):\n",
    "    disk_four = \"Accel\"\n",
    "elif (disk_four.find(\"blast\") != -1):\n",
    "    disk_four = \"Blast\"\n",
    "else:\n",
    "    disk_four = \"Charge\"\n",
    "    \n",
    "if (disk_five.find(\"accel\") != -1):\n",
    "    disk_five = \"Accel\"\n",
    "elif (disk_five.find(\"blast\") != -1):\n",
    "    disk_five = \"Blast\"\n",
    "else:\n",
    "    disk_five = \"Charge\"\n",
    "    \n",
    "disks = [disk_one, disk_two, disk_three, disk_four, disk_five]\n",
    "print(disks)"
   ]
  },
  {
   "cell_type": "code",
   "execution_count": 12,
   "metadata": {},
   "outputs": [
    {
     "name": "stdout",
     "output_type": "stream",
     "text": [
      "★2: Blast Damage UP [III] &amp; Attack Up [III]\n",
      "★3: Blast Damage UP [V] &amp; Attack Up [V]\n",
      "★4: Blast Damage UP [VII] &amp; Attack Up [VII]\n",
      "★5: Blast Damage UP [IX] &amp; Attack Up [IX]\n"
     ]
    }
   ],
   "source": [
    "# table_data 49 through 52 are Connect Info\n",
    "connect_two_star = str(table_data[49])\n",
    "connect_three_star = str(table_data[50])\n",
    "connect_four_star = str(table_data[51])\n",
    "connect_five_star = str(table_data[52])\n",
    "\n",
    "connect_two_star = connect_two_star.replace('</td>', '')\n",
    "connect_two_star = connect_two_star.replace('<td style=\"width:100%;\">', '')\n",
    "connect_two_star = connect_two_star.rstrip()\n",
    "print(connect_two_star)\n",
    "\n",
    "connect_three_star = connect_three_star.replace('</td>', '')\n",
    "connect_three_star = connect_three_star.replace('<td style=\"width:100%;\">', '')\n",
    "connect_three_star = connect_three_star.rstrip()\n",
    "print(connect_three_star)\n",
    "\n",
    "connect_four_star = connect_four_star.replace('</td>', '')\n",
    "connect_four_star = connect_four_star.replace('<td style=\"width:100%;\">', '')\n",
    "connect_four_star = connect_four_star.rstrip()\n",
    "print(connect_four_star)\n",
    "\n",
    "connect_five_star = connect_five_star.replace('</td>', '')\n",
    "connect_five_star = connect_five_star.replace('<td style=\"width:100%;\">', '')\n",
    "connect_five_star = connect_five_star.rstrip()\n",
    "print(connect_five_star)"
   ]
  },
  {
   "cell_type": "code",
   "execution_count": 13,
   "metadata": {},
   "outputs": [
    {
     "name": "stdout",
     "output_type": "stream",
     "text": [
      "★2: Damage All Enemies [II] &amp; Blast Damage UP (All / 3 T)\n",
      "★3: Damage All Enemies [IV] &amp; Blast Damage UP (All / 3 T)\n",
      "★4: Damage All Enemies [VI] &amp; Blast Damage UP (All / 3 T) &amp; Accele MP Gain UP (All / 3 T)\n",
      "★5: Damage All Enemies [VIII] &amp; Blast Damage UP (All / 3 T) &amp; Accele MP Gain UP (All / 3 T) &amp; Guaranteed Evade (Self / 1 T)\n"
     ]
    }
   ],
   "source": [
    "# table_data 53 through 56 are Magia Info\n",
    "table_data[58]\n",
    "magia_two_star = str(table_data[53])\n",
    "magia_three_star = str(table_data[54])\n",
    "magia_four_star = str(table_data[55])\n",
    "magia_five_star = str(table_data[56])\n",
    "\n",
    "magia_two_star = magia_two_star.replace('</td>', '')\n",
    "magia_two_star = magia_two_star.replace('<td style=\"width:100%;\">', '')\n",
    "magia_two_star = magia_two_star.rstrip()\n",
    "print(magia_two_star)\n",
    "\n",
    "magia_three_star = magia_three_star.replace('</td>', '')\n",
    "magia_three_star = magia_three_star.replace('<td style=\"width:100%;\">', '')\n",
    "magia_three_star = magia_three_star.rstrip()\n",
    "print(magia_three_star)\n",
    "\n",
    "magia_four_star = magia_four_star.replace('</td>', '')\n",
    "magia_four_star = magia_four_star.replace('<td style=\"width:100%;\">', '')\n",
    "magia_four_star = magia_four_star.rstrip()\n",
    "print(magia_four_star)\n",
    "\n",
    "magia_five_star = magia_five_star.replace('</td>', '')\n",
    "magia_five_star = magia_five_star.replace('<td style=\"width:100%;\">', '')\n",
    "magia_five_star = magia_five_star.rstrip()\n",
    "print(magia_five_star)"
   ]
  },
  {
   "cell_type": "code",
   "execution_count": 14,
   "metadata": {},
   "outputs": [
    {
     "name": "stdout",
     "output_type": "stream",
     "text": [
      "Damage All Enemies [X] &amp; Blast Damage UP (All / 3 T) &amp; Accele MP Gain UP (All / 3 T) &amp; Guaranteed Evade (Self / 1 T)\n"
     ]
    }
   ],
   "source": [
    "# table_data 57 is Doppel Info\n",
    "table_data[57]\n",
    "doppel_info = str(table_data[57])\n",
    "doppel_info = doppel_info.replace('<td style=\"width:100%;\">', '')\n",
    "doppel_info = doppel_info.replace('</td>', '')\n",
    "doppel_info = doppel_info.rstrip()\n",
    "print(doppel_info)"
   ]
  },
  {
   "cell_type": "code",
   "execution_count": 15,
   "metadata": {},
   "outputs": [
    {
     "name": "stdout",
     "output_type": "stream",
     "text": [
      "<th colspan=\"5\"><b>Magia:</b> <i>Flame Waltz</i>\n",
      "</th>\n",
      "<th colspan=\"5\"><b>Doppel:</b> <i>Yu Hong</i>\n",
      "</th>\n"
     ]
    }
   ],
   "source": [
    "table_head = soup.find_all('th')\n",
    "connect = str(table_head[3])\n",
    "magia = str(table_head[4])\n",
    "doppel = str(table_head[5])\n",
    "print(magia)\n",
    "print(doppel)"
   ]
  },
  {
   "cell_type": "code",
   "execution_count": 16,
   "metadata": {},
   "outputs": [
    {
     "name": "stdout",
     "output_type": "stream",
     "text": [
      "Connect: Let's Take Our Chances!\n",
      "Magia: Flame Waltz\n",
      "Doppel: Yu Hong\n"
     ]
    }
   ],
   "source": [
    "connect = connect.strip('<th colspan=\"5\">')\n",
    "connect = connect.strip('b>')\n",
    "connect = connect.replace('</b>', '')\n",
    "connect = connect.replace('<i>', '')\n",
    "connect = connect.replace('</i>', '')\n",
    "connect = connect.strip('</')\n",
    "connect = connect.rstrip()\n",
    "print(connect)\n",
    "\n",
    "magia = magia.strip('<th colspan=\"5\">')\n",
    "magia = magia.strip('b>')\n",
    "magia = magia.replace('</b>', '')\n",
    "magia = magia.replace('<i>', '')\n",
    "magia = magia.replace('</i>', '')\n",
    "magia = magia.strip('</')\n",
    "magia = magia.rstrip()\n",
    "print(magia)\n",
    "\n",
    "doppel = doppel.strip('<th colspan=\"5\">')\n",
    "doppel = doppel.strip('b>')\n",
    "doppel = doppel.replace('<b>', '')\n",
    "doppel = doppel.replace('</b>', '')\n",
    "doppel = doppel.replace('<i>', '')\n",
    "doppel = doppel.replace('</i>', '')\n",
    "doppel = doppel.strip('</')\n",
    "doppel = doppel.rstrip()\n",
    "print(doppel)"
   ]
  },
  {
   "cell_type": "code",
   "execution_count": 17,
   "metadata": {},
   "outputs": [
    {
     "name": "stdout",
     "output_type": "stream",
     "text": [
      "Age: 17\n",
      "Height: 162 cm\n",
      "Eye colour: Orange\n",
      "Hair colour: Light Brown\n",
      "Origins: Sankyo Ward\n",
      "Soul Gem: Orange diamond in the center (waist belt)\n",
      "Weapon: <a class=\"external text\" href=\"https://en.wikipedia.org/wiki/Japanese_war_fan\" rel=\"nofollow\">Iron Fans\n",
      "Wish: \"I want to win the lottery.\" (meaning the 800 million yen lottery)\n",
      "Ability: Good Luck\n",
      "Witch form: Yu Hong\n",
      "Japanese pronoun: <i>watashi</i><span style=\"font-weight: normal\"> (<span class=\"t_nihongo_kanji\" lang=\"ja\">わたし</span>)</span\n",
      "School: Kamihama City University Affiliated School 11th grade\n"
     ]
    }
   ],
   "source": [
    "Age = str(bullet_points[22]).strip(\"<li>\").strip(\"</li>\").strip(\"<b>\").replace(\"</b>\", \"\").replace(',', '')\n",
    "print(Age)\n",
    "Height = str(bullet_points[23]).strip(\"<li>\").strip(\"</li>\").strip(\"<b>\").replace(\"</b>\", \"\").replace(',', '')\n",
    "print(Height)\n",
    "EyeColor = str(bullet_points[24]).strip(\"<li>\").strip(\"</li>\").strip(\"<b>\").replace(\"</b>\", \"\").replace(',', '')\n",
    "print(EyeColor)\n",
    "HairColor = str(bullet_points[25]).strip(\"<li>\").strip(\"</li>\").strip(\"<b>\").replace(\"</b>\", \"\").replace(',', '')\n",
    "print(HairColor)\n",
    "Hometown = str(bullet_points[26]).strip(\"<li>\").strip(\"</li>\").strip(\"<b>\").replace(\"</b>\", \"\").replace(',', '')\n",
    "print(Hometown)\n",
    "SoulGem = str(bullet_points[27]).strip(\"<li>\").strip(\"</li>\").strip(\"<b>\").replace(\"</b>\", \"\").replace(',', '')\n",
    "print(SoulGem)\n",
    "Weapon = str(bullet_points[28]).strip(\"<li>\").strip(\"</li>\").strip(\"<b>\").replace(\"</b>\", \"\").replace('</a', '').replace('<a class=\"external text\" href=\"https://en.wikipedia.org/wiki/Crossbow\" rel=\"nofollow\">', '')\n",
    "print(Weapon)\n",
    "Wish = str(bullet_points[29]).strip(\"<li>\").strip(\"</li>\").strip(\"<b>\").replace(\"</b>\", \"\").replace(',', '')\n",
    "print(Wish)\n",
    "Ability = str(bullet_points[30]).strip(\"<li>\").strip(\"</li>\").strip(\"<b>\").replace(\"</b>\", \"\").replace(',', '')\n",
    "print(Ability)\n",
    "Witch = str(bullet_points[31]).strip(\"<li>\").strip(\"</li>\").strip(\"<b>\").replace(\"</b>\", \"\").replace(',', '')\n",
    "print(Witch)\n",
    "Pronoun = str(bullet_points[32]).strip(\"<li>\").strip(\"</li>\").strip(\"<b>\").replace(\"</b>\", \"\").replace(',', '')\n",
    "print(Pronoun)\n",
    "School = str(bullet_points[33]).strip(\"<li>\").strip(\"</li>\").strip(\"<b>\").replace(\"</b>\", \"\").replace(',', '')\n",
    "print(School)"
   ]
  },
  {
   "cell_type": "code",
   "execution_count": 18,
   "metadata": {},
   "outputs": [],
   "source": [
    "Tsuruno = {\n",
    "    \"Name\": \"Tsuruno Yui\",\n",
    "    \"Age\": Age,\n",
    "    \"EyeColor\": EyeColor,\n",
    "    \"HairColor\": HairColor,\n",
    "    \"Hometown\": Hometown,\n",
    "    \"SoulGem\": SoulGem,\n",
    "    \"Weapon\": Weapon,\n",
    "    \"Wish\": Wish,\n",
    "    \"Ability\": Ability,\n",
    "    \"Witch\": Witch,\n",
    "    \"Pronoun\": Pronoun,\n",
    "    \"School\": School,\n",
    "    \"Disks\": disks,\n",
    "    \"Stats\": {\n",
    "        \"Initial\": {\n",
    "            \"HP\": initial_hp,\n",
    "            \"ATK\": initial_atk,\n",
    "            \"DEF\": initial_def\n",
    "        },\n",
    "        \"Two_Star\": {\n",
    "            \"HP\": two_star_hp,\n",
    "            \"ATK\": two_star_atk,\n",
    "            \"DEF\": two_star_def \n",
    "        },\n",
    "        \"Three_Star\": {\n",
    "            \"HP\": three_star_hp,\n",
    "            \"ATK\": three_star_atk,\n",
    "            \"DEF\": three_star_def\n",
    "        },\n",
    "        \"Four_Star\": {\n",
    "            \"HP\": four_star_hp,\n",
    "            \"ATK\": four_star_atk,\n",
    "            \"DEF\": four_star_def\n",
    "        },\n",
    "        \"Five_Star\": {\n",
    "            \"HP\": five_star_hp,\n",
    "            \"ATK\": five_star_atk,\n",
    "            \"DEF\": five_star_def        \n",
    "        },\n",
    "        \"SE\": {\n",
    "            \"HP\": se_hp,\n",
    "            \"ATK\": se_atk,\n",
    "            \"DEF\":  se_def          \n",
    "        }\n",
    "    },\n",
    "    \"Connect\": {\n",
    "        \"Name\": connect,\n",
    "        \"Two_Star\": connect_two_star,\n",
    "        \"Three_Star\": connect_three_star,\n",
    "        \"Four_Star\": connect_four_star,\n",
    "        \"Five_Star\": connect_five_star\n",
    "    },\n",
    "    \"Magia\": {\n",
    "        \"Name\": magia,\n",
    "        \"Two_Star\": magia_two_star,\n",
    "        \"Three_Star\": magia_three_star,\n",
    "        \"Four_Star\": magia_four_star,\n",
    "        \"Five_Star\": magia_five_star\n",
    "    },\n",
    "    \"Doppel\": {\n",
    "        \"Name\": doppel,\n",
    "        \"Desc\": para,\n",
    "        \"Ability\": doppel_info,\n",
    "    }\n",
    "}"
   ]
  },
  {
   "cell_type": "code",
   "execution_count": 19,
   "metadata": {},
   "outputs": [
    {
     "name": "stdout",
     "output_type": "stream",
     "text": [
      "{'Name': 'Tsuruno Yui', 'Age': 'Age: 17', 'EyeColor': 'Eye colour: Orange', 'HairColor': 'Hair colour: Light Brown', 'Hometown': 'Origins: Sankyo Ward', 'SoulGem': 'Soul Gem: Orange diamond in the center (waist belt)', 'Weapon': 'Weapon: <a class=\"external text\" href=\"https://en.wikipedia.org/wiki/Japanese_war_fan\" rel=\"nofollow\">Iron Fans', 'Wish': 'Wish: \"I want to win the lottery.\" (meaning the 800 million yen lottery)', 'Ability': 'Ability: Good Luck', 'Witch': 'Witch form: Yu Hong', 'Pronoun': 'Japanese pronoun: <i>watashi</i><span style=\"font-weight: normal\"> (<span class=\"t_nihongo_kanji\" lang=\"ja\">わたし</span>)</span', 'School': 'School: Kamihama City University Affiliated School 11th grade', 'Disks': ['Accel', 'Accel', 'Blast', 'Blast', 'Charge'], 'Stats': {'Initial': {'HP': '2904', 'ATK': '1264', 'DEF': '936'}, 'Two_Star': {'HP': '9165', 'ATK': '4128', 'DEF': '2933'}, 'Three_Star': {'HP': '11607', 'ATK': '5232', 'DEF': '3714'}, 'Four_Star': {'HP': '15270', 'ATK': '6888', 'DEF': '4885'}, 'Five_Star': {'HP': '18927', 'ATK': '8552', 'DEF': '6056'}, 'SE': {'HP': '20978', 'ATK': '9731', 'DEF': '7576'}}, 'Connect': {'Name': \"Connect: Let's Take Our Chances!\", 'Two_Star': '★2: Blast Damage UP [III] &amp; Attack Up [III]', 'Three_Star': '★3: Blast Damage UP [V] &amp; Attack Up [V]', 'Four_Star': '★4: Blast Damage UP [VII] &amp; Attack Up [VII]', 'Five_Star': '★5: Blast Damage UP [IX] &amp; Attack Up [IX]'}, 'Magia': {'Name': 'Magia: Flame Waltz', 'Two_Star': '★2: Damage All Enemies [II] &amp; Blast Damage UP (All / 3 T)', 'Three_Star': '★3: Damage All Enemies [IV] &amp; Blast Damage UP (All / 3 T)', 'Four_Star': '★4: Damage All Enemies [VI] &amp; Blast Damage UP (All / 3 T) &amp; Accele MP Gain UP (All / 3 T)', 'Five_Star': '★5: Damage All Enemies [VIII] &amp; Blast Damage UP (All / 3 T) &amp; Accele MP Gain UP (All / 3 T) &amp; Guaranteed Evade (Self / 1 T)'}, 'Doppel': {'Name': 'Doppel: Yu Hong', 'Desc': 'The Doppel of harmony. Its form is ham.<sup class=\"reference\" id=\"cite_ref-1\"><a href=\"#cite_note-1\">[1]</a></sup>\\nThe master of this emotion is quite dissatisfied with both the appearance and behavior of her Doppel.\\nIn contrast to her own desires to achieve great deeds through her own hard work, this Doppel creates an endless stream of wealth to satisfy the never-ending desires of her close relatives in an attempt to preserve family peace. The truth is, however, that this is only a very fickle and short-lived harmony. The master believes that it exists in complete contrast to her own noble goals and prefers to keep its boorish existence hidden from the world. However, she may one day find that she needs this Doppel\\'s powers to protect the harmony between her family members, no matter how fragile that harmony might be.', 'Ability': 'Damage All Enemies [X] &amp; Blast Damage UP (All / 3 T) &amp; Accele MP Gain UP (All / 3 T) &amp; Guaranteed Evade (Self / 1 T)'}}\n"
     ]
    }
   ],
   "source": [
    "print(Tsuruno)"
   ]
  },
  {
   "cell_type": "code",
   "execution_count": 20,
   "metadata": {},
   "outputs": [
    {
     "name": "stdout",
     "output_type": "stream",
     "text": [
      "{\"Name\": \"Tsuruno Yui\", \"Age\": \"Age: 17\", \"EyeColor\": \"Eye colour: Orange\", \"HairColor\": \"Hair colour: Light Brown\", \"Hometown\": \"Origins: Sankyo Ward\", \"SoulGem\": \"Soul Gem: Orange diamond in the center (waist belt)\", \"Weapon\": \"Weapon: <a class=\\\"external text\\\" href=\\\"https://en.wikipedia.org/wiki/Japanese_war_fan\\\" rel=\\\"nofollow\\\">Iron Fans\", \"Wish\": \"Wish: \\\"I want to win the lottery.\\\" (meaning the 800 million yen lottery)\", \"Ability\": \"Ability: Good Luck\", \"Witch\": \"Witch form: Yu Hong\", \"Pronoun\": \"Japanese pronoun: <i>watashi</i><span style=\\\"font-weight: normal\\\"> (<span class=\\\"t_nihongo_kanji\\\" lang=\\\"ja\\\">\\u308f\\u305f\\u3057</span>)</span\", \"School\": \"School: Kamihama City University Affiliated School 11th grade\", \"Disks\": [\"Accel\", \"Accel\", \"Blast\", \"Blast\", \"Charge\"], \"Stats\": {\"Initial\": {\"HP\": \"2904\", \"ATK\": \"1264\", \"DEF\": \"936\"}, \"Two_Star\": {\"HP\": \"9165\", \"ATK\": \"4128\", \"DEF\": \"2933\"}, \"Three_Star\": {\"HP\": \"11607\", \"ATK\": \"5232\", \"DEF\": \"3714\"}, \"Four_Star\": {\"HP\": \"15270\", \"ATK\": \"6888\", \"DEF\": \"4885\"}, \"Five_Star\": {\"HP\": \"18927\", \"ATK\": \"8552\", \"DEF\": \"6056\"}, \"SE\": {\"HP\": \"20978\", \"ATK\": \"9731\", \"DEF\": \"7576\"}}, \"Connect\": {\"Name\": \"Connect: Let's Take Our Chances!\", \"Two_Star\": \"\\u26052: Blast Damage UP [III] &amp; Attack Up [III]\", \"Three_Star\": \"\\u26053: Blast Damage UP [V] &amp; Attack Up [V]\", \"Four_Star\": \"\\u26054: Blast Damage UP [VII] &amp; Attack Up [VII]\", \"Five_Star\": \"\\u26055: Blast Damage UP [IX] &amp; Attack Up [IX]\"}, \"Magia\": {\"Name\": \"Magia: Flame Waltz\", \"Two_Star\": \"\\u26052: Damage All Enemies [II] &amp; Blast Damage UP (All / 3 T)\", \"Three_Star\": \"\\u26053: Damage All Enemies [IV] &amp; Blast Damage UP (All / 3 T)\", \"Four_Star\": \"\\u26054: Damage All Enemies [VI] &amp; Blast Damage UP (All / 3 T) &amp; Accele MP Gain UP (All / 3 T)\", \"Five_Star\": \"\\u26055: Damage All Enemies [VIII] &amp; Blast Damage UP (All / 3 T) &amp; Accele MP Gain UP (All / 3 T) &amp; Guaranteed Evade (Self / 1 T)\"}, \"Doppel\": {\"Name\": \"Doppel: Yu Hong\", \"Desc\": \"The Doppel of harmony. Its form is ham.<sup class=\\\"reference\\\" id=\\\"cite_ref-1\\\"><a href=\\\"#cite_note-1\\\">[1]</a></sup>\\nThe master of this emotion is quite dissatisfied with both the appearance and behavior of her Doppel.\\nIn contrast to her own desires to achieve great deeds through her own hard work, this Doppel creates an endless stream of wealth to satisfy the never-ending desires of her close relatives in an attempt to preserve family peace. The truth is, however, that this is only a very fickle and short-lived harmony. The master believes that it exists in complete contrast to her own noble goals and prefers to keep its boorish existence hidden from the world. However, she may one day find that she needs this Doppel's powers to protect the harmony between her family members, no matter how fragile that harmony might be.\", \"Ability\": \"Damage All Enemies [X] &amp; Blast Damage UP (All / 3 T) &amp; Accele MP Gain UP (All / 3 T) &amp; Guaranteed Evade (Self / 1 T)\"}}\n"
     ]
    }
   ],
   "source": [
    "girl_json = json.dumps(Tsuruno)\n",
    "print(girl_json)\n",
    "\n",
    "with open('tsuruno.json', 'w') as json_file:\n",
    "  json.dump(girl_json, json_file)"
   ]
  },
  {
   "cell_type": "code",
   "execution_count": null,
   "metadata": {},
   "outputs": [],
   "source": []
  }
 ],
 "metadata": {
  "kernelspec": {
   "display_name": "Python 3",
   "language": "python",
   "name": "python3"
  },
  "language_info": {
   "codemirror_mode": {
    "name": "ipython",
    "version": 3
   },
   "file_extension": ".py",
   "mimetype": "text/x-python",
   "name": "python",
   "nbconvert_exporter": "python",
   "pygments_lexer": "ipython3",
   "version": "3.7.1"
  }
 },
 "nbformat": 4,
 "nbformat_minor": 2
}
