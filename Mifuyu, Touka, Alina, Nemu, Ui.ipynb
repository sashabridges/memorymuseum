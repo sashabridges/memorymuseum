{
 "cells": [
  {
   "cell_type": "code",
   "execution_count": 3,
   "metadata": {},
   "outputs": [
    {
     "name": "stdout",
     "output_type": "stream",
     "text": [
      "<li><b>Age:</b> 19 (contracted at 12)</li>\n",
      "<li><b>School:</b> Not currently enrolled (Formerly Mizuna Girls' School)</li>\n",
      "The Doppel of livelihood. Its form is a bird-catcher.<sup class=\"reference\" id=\"cite_ref-1\"><a href=\"#cite_note-1\">[1]</a></sup>\n",
      "The master of this emotion will use all powers at her disposal to stay alive in this reality, including this all-in-one Doppel. Countless bird-shaped minions known as \"Sugar Geese\" emerge from her shadows on the ground, attacking her foes on command. The mere touch of a Sugar Goose will cause its target to taste such sweetness that it will inspire a maddening addiction. This makes it easy to make targets accept most lies, even with just a few geese. The Doppel sprouts from the tongue and arms, so she cannot speak while using it.\n"
     ]
    }
   ],
   "source": [
    "# Dependencies\n",
    "import os\n",
    "from bs4 import BeautifulSoup as bs\n",
    "import json\n",
    "import requests\n",
    "\n",
    "query_url = \"https://wiki.puella-magi.net/Mifuyu_Azusa\"\n",
    "response = requests.get(query_url)\n",
    "soup = bs(response.text, 'html.parser')\n",
    "\n",
    "bullet_points = soup.find_all('li')\n",
    "# 19- 30 General Info\n",
    "print(bullet_points[19])\n",
    "print(bullet_points[30])\n",
    "\n",
    "para = soup.find_all('p')\n",
    "para = str(para[4])\n",
    "para = para.strip(\"<p>\")\n",
    "para = para.strip(\"</p>\")\n",
    "para = para.rstrip()\n",
    "print(para)"
   ]
  },
  {
   "cell_type": "code",
   "execution_count": 7,
   "metadata": {},
   "outputs": [
    {
     "name": "stdout",
     "output_type": "stream",
     "text": [
      "6102 1724 1705\n",
      "21808 6296 6182\n",
      "27452 7933 7785\n"
     ]
    }
   ],
   "source": [
    "table_data = soup.find_all('td')\n",
    "\n",
    "# table_data[8] through\n",
    "# Headers no1 8, 9,10, 11\n",
    "# Data 12, 13, 14, 15 - 15 is a Link Picture\n",
    "# Headers no2 16, 17, 18, 19\n",
    "# initial 20, 21, 22, 23\n",
    "initial_hp = str(table_data[21]).replace('<td style=\"width:25%;\">', '').replace('</td>', '').rstrip()\n",
    "initial_atk = str(table_data[22]).replace('<td style=\"width:25%;\">', '').replace('</td>', '').rstrip()\n",
    "initial_def = str(table_data[23]).replace('<td style=\"width:25%;\">', '').replace('</td>', '').rstrip()\n",
    "# max at 4* 33, 34, 35\n",
    "four_star_hp = str(table_data[25]).replace('<td style=\"width:25%;\">', '').replace('</td>', '').rstrip()\n",
    "four_star_atk = str(table_data[26]).replace('<td style=\"width:25%;\">', '').replace('</td>', '').rstrip()\n",
    "four_star_def = str(table_data[27]).replace('<td style=\"width:25%;\">', '').replace('</td>', '').rstrip()\n",
    "# max at 5* 37, 38, 39\n",
    "five_star_hp = str(table_data[29]).replace('<td style=\"width:25%;\">', '').replace('</td>', '').rstrip()\n",
    "five_star_atk = str(table_data[30]).replace('<td style=\"width:25%;\">', '').replace('</td>', '').rstrip()\n",
    "five_star_def = str(table_data[31]).replace('<td style=\"width:25%;\">', '').replace('</td>', '').rstrip()\n",
    "# No SE\n",
    "print(initial_hp, initial_atk, initial_def)\n",
    "print(four_star_hp, four_star_atk, four_star_def)\n",
    "print(five_star_hp, five_star_atk, five_star_def)"
   ]
  },
  {
   "cell_type": "code",
   "execution_count": 8,
   "metadata": {},
   "outputs": [
    {
     "name": "stdout",
     "output_type": "stream",
     "text": [
      "['Accel', 'Accel', 'Accel', 'Blast', 'Charge']\n"
     ]
    }
   ],
   "source": [
    "disk_one = str(table_data[32])\n",
    "disk_two = str(table_data[33])\n",
    "disk_three = str(table_data[34])\n",
    "disk_four = str(table_data[35])\n",
    "disk_five = str(table_data[36])\n",
    "\n",
    "if (disk_one.find(\"accel\") != -1):\n",
    "    disk_one = \"Accel\"\n",
    "elif (disk_one.find(\"blast\") != -1):\n",
    "    disk_one = \"Blast\"\n",
    "else:\n",
    "    disk_one = \"Charge\"\n",
    "    \n",
    "if (disk_two.find(\"accel\") != -1):\n",
    "    disk_two = \"Accel\"\n",
    "elif (disk_two.find(\"blast\") != -1):\n",
    "    disk_two = \"Blast\"\n",
    "else:\n",
    "    disk_two = \"Charge\"\n",
    "\n",
    "if (disk_three.find(\"accel\") != -1):\n",
    "    disk_three = \"Accel\"\n",
    "elif (disk_three.find(\"blast\") != -1):\n",
    "    disk_three = \"Blast\"\n",
    "else:\n",
    "    disk_three = \"Charge\"\n",
    "    \n",
    "if (disk_four.find(\"accel\") != -1):\n",
    "    disk_four = \"Accel\"\n",
    "elif (disk_four.find(\"blast\") != -1):\n",
    "    disk_four = \"Blast\"\n",
    "else:\n",
    "    disk_four = \"Charge\"\n",
    "    \n",
    "if (disk_five.find(\"accel\") != -1):\n",
    "    disk_five = \"Accel\"\n",
    "elif (disk_five.find(\"blast\") != -1):\n",
    "    disk_five = \"Blast\"\n",
    "else:\n",
    "    disk_five = \"Charge\"\n",
    "    \n",
    "disks = [disk_one, disk_two, disk_three, disk_four, disk_five]\n",
    "print(disks)"
   ]
  },
  {
   "cell_type": "code",
   "execution_count": 10,
   "metadata": {},
   "outputs": [
    {
     "name": "stdout",
     "output_type": "stream",
     "text": [
      "★4: Accele MP UP [VII] &amp; Guaranteed Dazzle\n",
      "★5: Accele MP UP [IX] &amp; Guaranteed Dazzle\n",
      "★4: Damage to All Enemies [V] &amp; Chance of Dazzle (All / 1 T) &amp; Dispel Buffs (All)\n",
      "★5: Damage to All Enemies [VII] &amp; Chance of Dazzle (All / 1 T) &amp; Dispel Buffs (All)\n"
     ]
    }
   ],
   "source": [
    "# table_data 49 through 52 are Connect Info\n",
    "connect_four_star = str(table_data[37])\n",
    "connect_five_star = str(table_data[38])\n",
    "\n",
    "connect_four_star = connect_four_star.replace('</td>', '')\n",
    "connect_four_star = connect_four_star.replace('<td style=\"width:100%;\">', '')\n",
    "connect_four_star = connect_four_star.rstrip()\n",
    "print(connect_four_star)\n",
    "\n",
    "connect_five_star = connect_five_star.replace('</td>', '')\n",
    "connect_five_star = connect_five_star.replace('<td style=\"width:100%;\">', '')\n",
    "connect_five_star = connect_five_star.rstrip()\n",
    "print(connect_five_star)\n",
    "\n",
    "# table_data 53 through 56 are Magia Info\n",
    "\n",
    "magia_four_star = str(table_data[39])\n",
    "magia_five_star = str(table_data[40])\n",
    "\n",
    "magia_four_star = magia_four_star.replace('</td>', '')\n",
    "magia_four_star = magia_four_star.replace('<td style=\"width:100%;\">', '')\n",
    "magia_four_star = magia_four_star.rstrip()\n",
    "print(magia_four_star)\n",
    "\n",
    "magia_five_star = magia_five_star.replace('</td>', '')\n",
    "magia_five_star = magia_five_star.replace('<td style=\"width:100%;\">', '')\n",
    "magia_five_star = magia_five_star.rstrip()\n",
    "print(magia_five_star)"
   ]
  },
  {
   "cell_type": "code",
   "execution_count": 11,
   "metadata": {},
   "outputs": [
    {
     "name": "stdout",
     "output_type": "stream",
     "text": [
      "Damage to All Enemies [IX] &amp; Guaranteed Dazzle (All / 2 T) &amp; Dispel Buffs (All)\n",
      "<th colspan=\"5\"><b>Magia:</b>Assault Paranoia<b></b>\n",
      "</th>\n",
      "<th colspan=\"5\"><b>Doppel:</b> <i>Hevelius</i>\n",
      "</th>\n"
     ]
    }
   ],
   "source": [
    "doppel_info = str(table_data[41])\n",
    "doppel_info = doppel_info.replace('<td style=\"width:100%;\">', '')\n",
    "doppel_info = doppel_info.replace('</td>', '')\n",
    "doppel_info = doppel_info.rstrip()\n",
    "print(doppel_info)\n",
    "\n",
    "table_head = soup.find_all('th')\n",
    "connect = str(table_head[3])\n",
    "magia = str(table_head[4])\n",
    "doppel = str(table_head[5])\n",
    "print(magia)\n",
    "print(doppel)"
   ]
  },
  {
   "cell_type": "code",
   "execution_count": 13,
   "metadata": {},
   "outputs": [
    {
     "name": "stdout",
     "output_type": "stream",
     "text": [
      "Connect:You Just Can't Live Without Me\n",
      "Magia:Assault Paranoia\n",
      "Doppel: Heveliu\n"
     ]
    }
   ],
   "source": [
    "connect = connect.strip('<th colspan=\"5\">')\n",
    "connect = connect.strip('b>')\n",
    "connect = connect.strip('<b>')\n",
    "connect = connect.replace('</b>', '')\n",
    "connect = connect.replace('<i>', '')\n",
    "connect = connect.replace('</i>', '')\n",
    "connect = connect.strip('</')\n",
    "connect = connect.rstrip()\n",
    "print(connect)\n",
    "\n",
    "magia = magia.strip('<th colspan=\"5\">')\n",
    "magia = magia.strip('b>')\n",
    "magia = magia.replace('</b>', '')\n",
    "magia = magia.replace('<i>', '')\n",
    "magia = magia.replace('</i>', '')\n",
    "magia = magia.strip('</')\n",
    "magia = magia.rstrip()\n",
    "print(magia)\n",
    "\n",
    "doppel = doppel.strip('<th colspan=\"5\">')\n",
    "doppel = doppel.strip('b>')\n",
    "doppel = doppel.replace('<b>', '')\n",
    "doppel = doppel.replace('</b>', '')\n",
    "doppel = doppel.replace('<i>', '')\n",
    "doppel = doppel.replace('</i>', '')\n",
    "doppel = doppel.strip('</')\n",
    "doppel = doppel.rstrip()\n",
    "print(doppel)"
   ]
  },
  {
   "cell_type": "code",
   "execution_count": 14,
   "metadata": {},
   "outputs": [
    {
     "name": "stdout",
     "output_type": "stream",
     "text": [
      "Age: 19 (contracted at 12)\n",
      "Height: 165cm\n",
      "Eye colour: Tea\n",
      "Hair colour: Silver\n",
      "Origins: Mizuna ward\n",
      "Soul Gem: Silver-colored orb adorned with eight points (choker on her throat)\n",
      "Weapon: Round Lunar Hoop (<a class=\"external text\" href=\"https://en.wikipedia.org/wiki/Chakram\" rel=\"nofollow\">Chakram>)\n",
      "Wish: \"I want to be free even if just in my dreams.\"\n",
      "Ability: Hallucination\n",
      "Witch form: Hevelius\n",
      "Japanese pronoun: <i>watashi</i><span style=\"font-weight: normal\"> (<span class=\"t_nihongo_kanji\" lang=\"ja\">ワタシ</span>)</span\n",
      "School: Not currently enrolled (Formerly Mizuna Girls' School)\n"
     ]
    }
   ],
   "source": [
    "Age = str(bullet_points[19]).strip(\"<li>\").strip(\"</li>\").strip(\"<b>\").replace(\"</b>\", \"\").replace(',', '')\n",
    "print(Age)\n",
    "Height = str(bullet_points[20]).strip(\"<li>\").strip(\"</li>\").strip(\"<b>\").replace(\"</b>\", \"\").replace(',', '')\n",
    "print(Height)\n",
    "EyeColor = str(bullet_points[21]).strip(\"<li>\").strip(\"</li>\").strip(\"<b>\").replace(\"</b>\", \"\").replace(',', '')\n",
    "print(EyeColor)\n",
    "HairColor = str(bullet_points[22]).strip(\"<li>\").strip(\"</li>\").strip(\"<b>\").replace(\"</b>\", \"\").replace(',', '')\n",
    "print(HairColor)\n",
    "Hometown = str(bullet_points[23]).strip(\"<li>\").strip(\"</li>\").strip(\"<b>\").replace(\"</b>\", \"\").replace(',', '')\n",
    "print(Hometown)\n",
    "SoulGem = str(bullet_points[24]).strip(\"<li>\").strip(\"</li>\").strip(\"<b>\").replace(\"</b>\", \"\").replace(',', '')\n",
    "print(SoulGem)\n",
    "Weapon = str(bullet_points[25]).strip(\"<li>\").strip(\"</li>\").strip(\"<b>\").replace(\"</b>\", \"\").replace('</a', '').replace('<a class=\"external text\" href=\"https://en.wikipedia.org/wiki/Crossbow\" rel=\"nofollow\">', '')\n",
    "print(Weapon)\n",
    "Wish = str(bullet_points[26]).strip(\"<li>\").strip(\"</li>\").strip(\"<b>\").replace(\"</b>\", \"\").replace(',', '')\n",
    "print(Wish)\n",
    "Ability = str(bullet_points[27]).strip(\"<li>\").strip(\"</li>\").strip(\"<b>\").replace(\"</b>\", \"\").replace(',', '')\n",
    "print(Ability)\n",
    "Witch = str(bullet_points[28]).strip(\"<li>\").strip(\"</li>\").strip(\"<b>\").replace(\"</b>\", \"\").replace(',', '')\n",
    "print(Witch)\n",
    "Pronoun = str(bullet_points[29]).strip(\"<li>\").strip(\"</li>\").strip(\"<b>\").replace(\"</b>\", \"\").replace(',', '')\n",
    "print(Pronoun)\n",
    "School = str(bullet_points[30]).strip(\"<li>\").strip(\"</li>\").strip(\"<b>\").replace(\"</b>\", \"\").replace(',', '')\n",
    "print(School)"
   ]
  },
  {
   "cell_type": "code",
   "execution_count": 16,
   "metadata": {},
   "outputs": [
    {
     "name": "stdout",
     "output_type": "stream",
     "text": [
      "{'Name': 'Mifuyu Azusa', 'Age': 'Age: 19 (contracted at 12)', 'EyeColor': 'Eye colour: Tea', 'HairColor': 'Hair colour: Silver', 'Hometown': 'Origins: Mizuna ward', 'SoulGem': 'Soul Gem: Silver-colored orb adorned with eight points (choker on her throat)', 'Weapon': 'Weapon: Round Lunar Hoop (<a class=\"external text\" href=\"https://en.wikipedia.org/wiki/Chakram\" rel=\"nofollow\">Chakram>)', 'Wish': 'Wish: \"I want to be free even if just in my dreams.\"', 'Ability': 'Ability: Hallucination', 'Witch': 'Witch form: Hevelius', 'Pronoun': 'Japanese pronoun: <i>watashi</i><span style=\"font-weight: normal\"> (<span class=\"t_nihongo_kanji\" lang=\"ja\">ワタシ</span>)</span', 'School': \"School: Not currently enrolled (Formerly Mizuna Girls' School)\", 'Disks': ['Accel', 'Accel', 'Accel', 'Blast', 'Charge'], 'Stats': {'Initial': {'HP': '6102', 'ATK': '1724', 'DEF': '1705'}, 'Four_Star': {'HP': '21808', 'ATK': '6296', 'DEF': '6182'}, 'Five_Star': {'HP': '27452', 'ATK': '7933', 'DEF': '7785'}}, 'Connect': {'Name': \"Connect:You Just Can't Live Without Me\", 'Four_Star': '★4: Accele MP UP [VII] &amp; Guaranteed Dazzle', 'Five_Star': '★5: Accele MP UP [IX] &amp; Guaranteed Dazzle'}, 'Magia': {'Name': 'Magia:Assault Paranoia', 'Four_Star': '★4: Damage to All Enemies [V] &amp; Chance of Dazzle (All / 1 T) &amp; Dispel Buffs (All)', 'Five_Star': '★5: Damage to All Enemies [VII] &amp; Chance of Dazzle (All / 1 T) &amp; Dispel Buffs (All)'}, 'Doppel': {'Name': 'Doppel: Heveliu', 'Desc': 'The Doppel of\\xa0livelihood. Its form is a\\xa0bird-catcher.<sup class=\"reference\" id=\"cite_ref-1\"><a href=\"#cite_note-1\">[1]</a></sup>\\nThe master of this emotion will use all powers at her disposal to stay alive in this reality, including this all-in-one Doppel. Countless bird-shaped minions known as \"Sugar Geese\" emerge from her shadows on the ground, attacking her foes on command. The mere touch of a Sugar Goose will cause its target to taste such sweetness that it will inspire a maddening addiction. This makes it easy to make targets accept most lies, even with just a few geese. The Doppel sprouts from the tongue and arms, so she cannot speak while using it.', 'Ability': 'Damage to All Enemies [IX] &amp; Guaranteed Dazzle (All / 2 T) &amp; Dispel Buffs (All)'}}\n"
     ]
    }
   ],
   "source": [
    "Mifuyu = {\n",
    "    \"Name\": \"Mifuyu Azusa\",\n",
    "    \"Age\": Age,\n",
    "    \"EyeColor\": EyeColor,\n",
    "    \"HairColor\": HairColor,\n",
    "    \"Hometown\": Hometown,\n",
    "    \"SoulGem\": SoulGem,\n",
    "    \"Weapon\": Weapon,\n",
    "    \"Wish\": Wish,\n",
    "    \"Ability\": Ability,\n",
    "    \"Witch\": Witch,\n",
    "    \"Pronoun\": Pronoun,\n",
    "    \"School\": School,\n",
    "    \"Disks\": disks,\n",
    "    \"Stats\": {\n",
    "        \"Initial\": {\n",
    "            \"HP\": initial_hp,\n",
    "            \"ATK\": initial_atk,\n",
    "            \"DEF\": initial_def\n",
    "        },\n",
    "        \"Four_Star\": {\n",
    "            \"HP\": four_star_hp,\n",
    "            \"ATK\": four_star_atk,\n",
    "            \"DEF\": four_star_def\n",
    "        },\n",
    "        \"Five_Star\": {\n",
    "            \"HP\": five_star_hp,\n",
    "            \"ATK\": five_star_atk,\n",
    "            \"DEF\": five_star_def        \n",
    "        }\n",
    "    },\n",
    "    \"Connect\": {\n",
    "        \"Name\": connect,\n",
    "        \"Four_Star\": connect_four_star,\n",
    "        \"Five_Star\": connect_five_star\n",
    "    },\n",
    "    \"Magia\": {\n",
    "        \"Name\": magia,\n",
    "        \"Four_Star\": magia_four_star,\n",
    "        \"Five_Star\": magia_five_star\n",
    "    },\n",
    "    \"Doppel\": {\n",
    "        \"Name\": doppel,\n",
    "        \"Desc\": para,\n",
    "        \"Ability\": doppel_info,\n",
    "    }\n",
    "}\n",
    "\n",
    "print(Mifuyu)"
   ]
  },
  {
   "cell_type": "code",
   "execution_count": 17,
   "metadata": {},
   "outputs": [
    {
     "name": "stdout",
     "output_type": "stream",
     "text": [
      "{\"Name\": \"Mifuyu Azusa\", \"Age\": \"Age: 19 (contracted at 12)\", \"EyeColor\": \"Eye colour: Tea\", \"HairColor\": \"Hair colour: Silver\", \"Hometown\": \"Origins: Mizuna ward\", \"SoulGem\": \"Soul Gem: Silver-colored orb adorned with eight points (choker on her throat)\", \"Weapon\": \"Weapon: Round Lunar Hoop (<a class=\\\"external text\\\" href=\\\"https://en.wikipedia.org/wiki/Chakram\\\" rel=\\\"nofollow\\\">Chakram>)\", \"Wish\": \"Wish: \\\"I want to be free even if just in my dreams.\\\"\", \"Ability\": \"Ability: Hallucination\", \"Witch\": \"Witch form: Hevelius\", \"Pronoun\": \"Japanese pronoun: <i>watashi</i><span style=\\\"font-weight: normal\\\"> (<span class=\\\"t_nihongo_kanji\\\" lang=\\\"ja\\\">\\u30ef\\u30bf\\u30b7</span>)</span\", \"School\": \"School: Not currently enrolled (Formerly Mizuna Girls' School)\", \"Disks\": [\"Accel\", \"Accel\", \"Accel\", \"Blast\", \"Charge\"], \"Stats\": {\"Initial\": {\"HP\": \"6102\", \"ATK\": \"1724\", \"DEF\": \"1705\"}, \"Four_Star\": {\"HP\": \"21808\", \"ATK\": \"6296\", \"DEF\": \"6182\"}, \"Five_Star\": {\"HP\": \"27452\", \"ATK\": \"7933\", \"DEF\": \"7785\"}}, \"Connect\": {\"Name\": \"Connect:You Just Can't Live Without Me\", \"Four_Star\": \"\\u26054: Accele MP UP [VII] &amp; Guaranteed Dazzle\", \"Five_Star\": \"\\u26055: Accele MP UP [IX] &amp; Guaranteed Dazzle\"}, \"Magia\": {\"Name\": \"Magia:Assault Paranoia\", \"Four_Star\": \"\\u26054: Damage to All Enemies [V] &amp; Chance of Dazzle (All / 1 T) &amp; Dispel Buffs (All)\", \"Five_Star\": \"\\u26055: Damage to All Enemies [VII] &amp; Chance of Dazzle (All / 1 T) &amp; Dispel Buffs (All)\"}, \"Doppel\": {\"Name\": \"Doppel: Heveliu\", \"Desc\": \"The Doppel of\\u00a0livelihood. Its form is a\\u00a0bird-catcher.<sup class=\\\"reference\\\" id=\\\"cite_ref-1\\\"><a href=\\\"#cite_note-1\\\">[1]</a></sup>\\nThe master of this emotion will use all powers at her disposal to stay alive in this reality, including this all-in-one Doppel. Countless bird-shaped minions known as \\\"Sugar Geese\\\" emerge from her shadows on the ground, attacking her foes on command. The mere touch of a Sugar Goose will cause its target to taste such sweetness that it will inspire a maddening addiction. This makes it easy to make targets accept most lies, even with just a few geese. The Doppel sprouts from the tongue and arms, so she cannot speak while using it.\", \"Ability\": \"Damage to All Enemies [IX] &amp; Guaranteed Dazzle (All / 2 T) &amp; Dispel Buffs (All)\"}}\n"
     ]
    }
   ],
   "source": [
    "girl_json = json.dumps(Mifuyu)\n",
    "print(girl_json)\n",
    "\n",
    "with open('mifuyu.json', 'w') as json_file:\n",
    "  json.dump(girl_json, json_file)"
   ]
  },
  {
   "cell_type": "code",
   "execution_count": 19,
   "metadata": {},
   "outputs": [
    {
     "name": "stdout",
     "output_type": "stream",
     "text": [
      "<li><b>Age:</b> 11</li>\n",
      "<li><b>School:</b> St Lilliana Academy, 5th grade</li>\n",
      "The Doppel of daydreams. Its form is a match-seller. Even after becoming a Puella Magi, the master of this emotion desires yet more power, with which to accomplish yet greater wishes. This Doppel carries matches cut from its master’s lifespan, and it’s said that by striking and lighting these matches, it can grant any “what-if” imaginable. The number of remaining matches is tied to its master’s lifespan, and using them all up will mean the end of her life. It’s a very strong Doppel, but because it sacrifices its master’s lifespan in much the same way as the Doppel of Testament, overuse of it is forbidden.\n"
     ]
    }
   ],
   "source": [
    "query_url = \"https://wiki.puella-magi.net/Touka_Satomi\"\n",
    "response = requests.get(query_url)\n",
    "soup = bs(response.text, 'html.parser')\n",
    "\n",
    "bullet_points = soup.find_all('li')\n",
    "# 19- 30 General Info\n",
    "print(bullet_points[18])\n",
    "print(bullet_points[29])\n",
    "\n",
    "para = soup.find_all('p')\n",
    "para = str(para[4])\n",
    "para = para.strip(\"<p>\")\n",
    "para = para.strip(\"</p>\")\n",
    "para = para.rstrip()\n",
    "print(para)"
   ]
  },
  {
   "cell_type": "code",
   "execution_count": 20,
   "metadata": {},
   "outputs": [
    {
     "name": "stdout",
     "output_type": "stream",
     "text": [
      "4704 2109 1372\n",
      "16689 7756 4832\n",
      "21019 9803 6072\n"
     ]
    }
   ],
   "source": [
    "table_data = soup.find_all('td')\n",
    "\n",
    "# table_data[8] through\n",
    "# Headers no1 8, 9,10, 11\n",
    "# Data 12, 13, 14, 15 - 15 is a Link Picture\n",
    "# Headers no2 16, 17, 18, 19\n",
    "# initial 20, 21, 22, 23\n",
    "initial_hp = str(table_data[21]).replace('<td style=\"width:25%;\">', '').replace('</td>', '').rstrip()\n",
    "initial_atk = str(table_data[22]).replace('<td style=\"width:25%;\">', '').replace('</td>', '').rstrip()\n",
    "initial_def = str(table_data[23]).replace('<td style=\"width:25%;\">', '').replace('</td>', '').rstrip()\n",
    "# max at 4* 33, 34, 35\n",
    "four_star_hp = str(table_data[25]).replace('<td style=\"width:25%;\">', '').replace('</td>', '').rstrip()\n",
    "four_star_atk = str(table_data[26]).replace('<td style=\"width:25%;\">', '').replace('</td>', '').rstrip()\n",
    "four_star_def = str(table_data[27]).replace('<td style=\"width:25%;\">', '').replace('</td>', '').rstrip()\n",
    "# max at 5* 37, 38, 39\n",
    "five_star_hp = str(table_data[29]).replace('<td style=\"width:25%;\">', '').replace('</td>', '').rstrip()\n",
    "five_star_atk = str(table_data[30]).replace('<td style=\"width:25%;\">', '').replace('</td>', '').rstrip()\n",
    "five_star_def = str(table_data[31]).replace('<td style=\"width:25%;\">', '').replace('</td>', '').rstrip()\n",
    "# No SE\n",
    "print(initial_hp, initial_atk, initial_def)\n",
    "print(four_star_hp, four_star_atk, four_star_def)\n",
    "print(five_star_hp, five_star_atk, five_star_def)"
   ]
  },
  {
   "cell_type": "code",
   "execution_count": 21,
   "metadata": {},
   "outputs": [
    {
     "name": "stdout",
     "output_type": "stream",
     "text": [
      "['Accel', 'Accel', 'Blast', 'Blast', 'Charge']\n"
     ]
    }
   ],
   "source": [
    "disk_one = str(table_data[32])\n",
    "disk_two = str(table_data[33])\n",
    "disk_three = str(table_data[34])\n",
    "disk_four = str(table_data[35])\n",
    "disk_five = str(table_data[36])\n",
    "\n",
    "if (disk_one.find(\"accel\") != -1):\n",
    "    disk_one = \"Accel\"\n",
    "elif (disk_one.find(\"blast\") != -1):\n",
    "    disk_one = \"Blast\"\n",
    "else:\n",
    "    disk_one = \"Charge\"\n",
    "    \n",
    "if (disk_two.find(\"accel\") != -1):\n",
    "    disk_two = \"Accel\"\n",
    "elif (disk_two.find(\"blast\") != -1):\n",
    "    disk_two = \"Blast\"\n",
    "else:\n",
    "    disk_two = \"Charge\"\n",
    "\n",
    "if (disk_three.find(\"accel\") != -1):\n",
    "    disk_three = \"Accel\"\n",
    "elif (disk_three.find(\"blast\") != -1):\n",
    "    disk_three = \"Blast\"\n",
    "else:\n",
    "    disk_three = \"Charge\"\n",
    "    \n",
    "if (disk_four.find(\"accel\") != -1):\n",
    "    disk_four = \"Accel\"\n",
    "elif (disk_four.find(\"blast\") != -1):\n",
    "    disk_four = \"Blast\"\n",
    "else:\n",
    "    disk_four = \"Charge\"\n",
    "    \n",
    "if (disk_five.find(\"accel\") != -1):\n",
    "    disk_five = \"Accel\"\n",
    "elif (disk_five.find(\"blast\") != -1):\n",
    "    disk_five = \"Blast\"\n",
    "else:\n",
    "    disk_five = \"Charge\"\n",
    "    \n",
    "disks = [disk_one, disk_two, disk_three, disk_four, disk_five]\n",
    "print(disks)"
   ]
  },
  {
   "cell_type": "code",
   "execution_count": 22,
   "metadata": {},
   "outputs": [
    {
     "name": "stdout",
     "output_type": "stream",
     "text": [
      "★4: Attack UP [VII] &amp; MP Restore [IV] &amp; Guaranteed Magia Seal\n",
      "★5: Attack UP [IX] &amp; MP Restore [VI] &amp; Guaranteed Magia Seal\n",
      "★4: Damage All Enemies [V] &amp; Defense Down (All / 3 T) &amp; Defense UP (Self / 3 T)\n",
      "★5: Damage All Enemies [VII] &amp; Defense Down (All / 3 T) &amp; Defense UP (Self / 3 T) &amp; Magia Damage UP (Self / 3 T)\n"
     ]
    }
   ],
   "source": [
    "# table_data 49 through 52 are Connect Info\n",
    "connect_four_star = str(table_data[37])\n",
    "connect_five_star = str(table_data[38])\n",
    "\n",
    "connect_four_star = connect_four_star.replace('</td>', '')\n",
    "connect_four_star = connect_four_star.replace('<td style=\"width:100%;\">', '')\n",
    "connect_four_star = connect_four_star.rstrip()\n",
    "print(connect_four_star)\n",
    "\n",
    "connect_five_star = connect_five_star.replace('</td>', '')\n",
    "connect_five_star = connect_five_star.replace('<td style=\"width:100%;\">', '')\n",
    "connect_five_star = connect_five_star.rstrip()\n",
    "print(connect_five_star)\n",
    "\n",
    "# table_data 53 through 56 are Magia Info\n",
    "\n",
    "magia_four_star = str(table_data[39])\n",
    "magia_five_star = str(table_data[40])\n",
    "\n",
    "magia_four_star = magia_four_star.replace('</td>', '')\n",
    "magia_four_star = magia_four_star.replace('<td style=\"width:100%;\">', '')\n",
    "magia_four_star = magia_four_star.rstrip()\n",
    "print(magia_four_star)\n",
    "\n",
    "magia_five_star = magia_five_star.replace('</td>', '')\n",
    "magia_five_star = magia_five_star.replace('<td style=\"width:100%;\">', '')\n",
    "magia_five_star = magia_five_star.rstrip()\n",
    "print(magia_five_star)"
   ]
  },
  {
   "cell_type": "code",
   "execution_count": 23,
   "metadata": {},
   "outputs": [
    {
     "name": "stdout",
     "output_type": "stream",
     "text": [
      "Damage All Enemies [IX] &amp; Defense DOWN (All / 3 T) &amp; Defense UP (Self / 3 T) &amp; Magia Damage UP (Self / 5 T)\n",
      "<th colspan=\"5\"><b>Magia:</b> <i>Neo * Genesis ☆彡 </i>\n",
      "</th>\n",
      "<th colspan=\"5\"><b>Doppel:</b> <i>Pennen Nolde</i>\n",
      "</th>\n"
     ]
    }
   ],
   "source": [
    "doppel_info = str(table_data[41])\n",
    "doppel_info = doppel_info.replace('<td style=\"width:100%;\">', '')\n",
    "doppel_info = doppel_info.replace('</td>', '')\n",
    "doppel_info = doppel_info.rstrip()\n",
    "print(doppel_info)\n",
    "\n",
    "table_head = soup.find_all('th')\n",
    "connect = str(table_head[3])\n",
    "magia = str(table_head[4])\n",
    "doppel = str(table_head[5])\n",
    "print(magia)\n",
    "print(doppel)"
   ]
  },
  {
   "cell_type": "code",
   "execution_count": 24,
   "metadata": {},
   "outputs": [
    {
     "name": "stdout",
     "output_type": "stream",
     "text": [
      "Connect: Let's raise those probabilities-!\n",
      "Magia: Neo * Genesis ☆彡\n",
      "Doppel: Pennen Nolde\n"
     ]
    }
   ],
   "source": [
    "connect = connect.strip('<th colspan=\"5\">')\n",
    "connect = connect.strip('b>')\n",
    "connect = connect.strip('<b>')\n",
    "connect = connect.replace('</b>', '')\n",
    "connect = connect.replace('<i>', '')\n",
    "connect = connect.replace('</i>', '')\n",
    "connect = connect.strip('</')\n",
    "connect = connect.rstrip()\n",
    "print(connect)\n",
    "\n",
    "magia = magia.strip('<th colspan=\"5\">')\n",
    "magia = magia.strip('b>')\n",
    "magia = magia.replace('</b>', '')\n",
    "magia = magia.replace('<i>', '')\n",
    "magia = magia.replace('</i>', '')\n",
    "magia = magia.strip('</')\n",
    "magia = magia.rstrip()\n",
    "print(magia)\n",
    "\n",
    "doppel = doppel.strip('<th colspan=\"5\">')\n",
    "doppel = doppel.strip('b>')\n",
    "doppel = doppel.replace('<b>', '')\n",
    "doppel = doppel.replace('</b>', '')\n",
    "doppel = doppel.replace('<i>', '')\n",
    "doppel = doppel.replace('</i>', '')\n",
    "doppel = doppel.strip('</')\n",
    "doppel = doppel.rstrip()\n",
    "print(doppel)"
   ]
  },
  {
   "cell_type": "code",
   "execution_count": 25,
   "metadata": {},
   "outputs": [
    {
     "name": "stdout",
     "output_type": "stream",
     "text": [
      "Age: 11\n",
      "Height: 148cm\n",
      "Eye colour: Russet\n",
      "Hair colour: Russet\n",
      "Origins: Hokuyo Ward\n",
      "Soul Gem: Red bow-shaped gem (ribbon on her throat)\n",
      "Weapon: Paraso\n",
      "Wish: <span class=\"inline-spoilers\">\"Give me the power of [conversion]! Let me rob you! Kyubey!\"</span\n",
      "Ability: Energy Conversion\n",
      "Witch form: Pennen Nolde\n",
      "Japanese pronoun: <i>watakushi</i><span style=\"font-weight: normal\"> (<span class=\"t_nihongo_kanji\" lang=\"ja\">わたくし</span>)</span\n",
      "School: St Lilliana Academy 5th grade\n"
     ]
    }
   ],
   "source": [
    "Age = str(bullet_points[18]).strip(\"<li>\").strip(\"</li>\").strip(\"<b>\").replace(\"</b>\", \"\").replace(',', '')\n",
    "print(Age)\n",
    "Height = str(bullet_points[19]).strip(\"<li>\").strip(\"</li>\").strip(\"<b>\").replace(\"</b>\", \"\").replace(',', '')\n",
    "print(Height)\n",
    "EyeColor = str(bullet_points[20]).strip(\"<li>\").strip(\"</li>\").strip(\"<b>\").replace(\"</b>\", \"\").replace(',', '')\n",
    "print(EyeColor)\n",
    "HairColor = str(bullet_points[21]).strip(\"<li>\").strip(\"</li>\").strip(\"<b>\").replace(\"</b>\", \"\").replace(',', '')\n",
    "print(HairColor)\n",
    "Hometown = str(bullet_points[22]).strip(\"<li>\").strip(\"</li>\").strip(\"<b>\").replace(\"</b>\", \"\").replace(',', '')\n",
    "print(Hometown)\n",
    "SoulGem = str(bullet_points[23]).strip(\"<li>\").strip(\"</li>\").strip(\"<b>\").replace(\"</b>\", \"\").replace(',', '')\n",
    "print(SoulGem)\n",
    "Weapon = str(bullet_points[24]).strip(\"<li>\").strip(\"</li>\").strip(\"<b>\").replace(\"</b>\", \"\").replace('</a', '').replace('<a class=\"external text\" href=\"https://en.wikipedia.org/wiki/Crossbow\" rel=\"nofollow\">', '')\n",
    "print(Weapon)\n",
    "Wish = str(bullet_points[25]).strip(\"<li>\").strip(\"</li>\").strip(\"<b>\").replace(\"</b>\", \"\").replace(',', '')\n",
    "print(Wish)\n",
    "Ability = str(bullet_points[26]).strip(\"<li>\").strip(\"</li>\").strip(\"<b>\").replace(\"</b>\", \"\").replace(',', '')\n",
    "print(Ability)\n",
    "Witch = str(bullet_points[27]).strip(\"<li>\").strip(\"</li>\").strip(\"<b>\").replace(\"</b>\", \"\").replace(',', '')\n",
    "print(Witch)\n",
    "Pronoun = str(bullet_points[28]).strip(\"<li>\").strip(\"</li>\").strip(\"<b>\").replace(\"</b>\", \"\").replace(',', '')\n",
    "print(Pronoun)\n",
    "School = str(bullet_points[29]).strip(\"<li>\").strip(\"</li>\").strip(\"<b>\").replace(\"</b>\", \"\").replace(',', '')\n",
    "print(School)"
   ]
  },
  {
   "cell_type": "code",
   "execution_count": 26,
   "metadata": {},
   "outputs": [
    {
     "name": "stdout",
     "output_type": "stream",
     "text": [
      "{'Name': 'Touka Satomi', 'Age': 'Age: 11', 'EyeColor': 'Eye colour: Russet', 'HairColor': 'Hair colour: Russet', 'Hometown': 'Origins: Hokuyo Ward', 'SoulGem': 'Soul Gem: Red bow-shaped gem (ribbon on her throat)', 'Weapon': 'Weapon: Paraso', 'Wish': 'Wish: <span class=\"inline-spoilers\">\"Give me the power of [conversion]! Let me rob you! Kyubey!\"</span', 'Ability': 'Ability: Energy Conversion', 'Witch': 'Witch form: Pennen Nolde', 'Pronoun': 'Japanese pronoun: <i>watakushi</i><span style=\"font-weight: normal\"> (<span class=\"t_nihongo_kanji\" lang=\"ja\">わたくし</span>)</span', 'School': 'School: St Lilliana Academy 5th grade', 'Disks': ['Accel', 'Accel', 'Blast', 'Blast', 'Charge'], 'Stats': {'Initial': {'HP': '4704', 'ATK': '2109', 'DEF': '1372'}, 'Four_Star': {'HP': '16689', 'ATK': '7756', 'DEF': '4832'}, 'Five_Star': {'HP': '21019', 'ATK': '9803', 'DEF': '6072'}}, 'Connect': {'Name': \"Connect: Let's raise those probabilities-!\", 'Four_Star': '★4: Attack UP [VII] &amp; MP Restore [IV] &amp; Guaranteed Magia Seal', 'Five_Star': '★5: Attack UP [IX] &amp; MP Restore [VI] &amp; Guaranteed Magia Seal'}, 'Magia': {'Name': 'Magia: Neo * Genesis ☆彡', 'Four_Star': '★4: Damage All Enemies [V] &amp; Defense Down (All / 3 T) &amp; Defense UP (Self / 3 T)', 'Five_Star': '★5: Damage All Enemies [VII] &amp; Defense Down (All / 3 T) &amp; Defense UP (Self / 3 T) &amp; Magia Damage UP (Self / 3 T)'}, 'Doppel': {'Name': 'Doppel: Pennen Nolde', 'Desc': 'The Doppel of daydreams. Its form is a match-seller. Even after becoming a Puella Magi, the master of this emotion desires yet more power, with which to accomplish yet greater wishes. This Doppel carries matches cut from its master’s lifespan, and it’s said that by striking and lighting these matches, it can grant any “what-if” imaginable. The number of remaining matches is tied to its master’s lifespan, and using them all up will mean the end of her life. It’s a very strong Doppel, but because it sacrifices its master’s lifespan in much the same way as the Doppel of Testament, overuse of it is forbidden.', 'Ability': 'Damage All Enemies [IX] &amp; Defense DOWN (All / 3 T) &amp; Defense UP (Self / 3 T) &amp; Magia Damage UP (Self / 5 T)'}}\n"
     ]
    }
   ],
   "source": [
    "Touka = {\n",
    "    \"Name\": \"Touka Satomi\",\n",
    "    \"Age\": Age,\n",
    "    \"EyeColor\": EyeColor,\n",
    "    \"HairColor\": HairColor,\n",
    "    \"Hometown\": Hometown,\n",
    "    \"SoulGem\": SoulGem,\n",
    "    \"Weapon\": Weapon,\n",
    "    \"Wish\": Wish,\n",
    "    \"Ability\": Ability,\n",
    "    \"Witch\": Witch,\n",
    "    \"Pronoun\": Pronoun,\n",
    "    \"School\": School,\n",
    "    \"Disks\": disks,\n",
    "    \"Stats\": {\n",
    "        \"Initial\": {\n",
    "            \"HP\": initial_hp,\n",
    "            \"ATK\": initial_atk,\n",
    "            \"DEF\": initial_def\n",
    "        },\n",
    "        \"Four_Star\": {\n",
    "            \"HP\": four_star_hp,\n",
    "            \"ATK\": four_star_atk,\n",
    "            \"DEF\": four_star_def\n",
    "        },\n",
    "        \"Five_Star\": {\n",
    "            \"HP\": five_star_hp,\n",
    "            \"ATK\": five_star_atk,\n",
    "            \"DEF\": five_star_def        \n",
    "        }\n",
    "    },\n",
    "    \"Connect\": {\n",
    "        \"Name\": connect,\n",
    "        \"Four_Star\": connect_four_star,\n",
    "        \"Five_Star\": connect_five_star\n",
    "    },\n",
    "    \"Magia\": {\n",
    "        \"Name\": magia,\n",
    "        \"Four_Star\": magia_four_star,\n",
    "        \"Five_Star\": magia_five_star\n",
    "    },\n",
    "    \"Doppel\": {\n",
    "        \"Name\": doppel,\n",
    "        \"Desc\": para,\n",
    "        \"Ability\": doppel_info,\n",
    "    }\n",
    "}\n",
    "\n",
    "print(Touka)"
   ]
  },
  {
   "cell_type": "code",
   "execution_count": 27,
   "metadata": {},
   "outputs": [
    {
     "name": "stdout",
     "output_type": "stream",
     "text": [
      "{\"Name\": \"Touka Satomi\", \"Age\": \"Age: 11\", \"EyeColor\": \"Eye colour: Russet\", \"HairColor\": \"Hair colour: Russet\", \"Hometown\": \"Origins: Hokuyo Ward\", \"SoulGem\": \"Soul Gem: Red bow-shaped gem (ribbon on her throat)\", \"Weapon\": \"Weapon: Paraso\", \"Wish\": \"Wish: <span class=\\\"inline-spoilers\\\">\\\"Give me the power of [conversion]! Let me rob you! Kyubey!\\\"</span\", \"Ability\": \"Ability: Energy Conversion\", \"Witch\": \"Witch form: Pennen Nolde\", \"Pronoun\": \"Japanese pronoun: <i>watakushi</i><span style=\\\"font-weight: normal\\\"> (<span class=\\\"t_nihongo_kanji\\\" lang=\\\"ja\\\">\\u308f\\u305f\\u304f\\u3057</span>)</span\", \"School\": \"School: St Lilliana Academy 5th grade\", \"Disks\": [\"Accel\", \"Accel\", \"Blast\", \"Blast\", \"Charge\"], \"Stats\": {\"Initial\": {\"HP\": \"4704\", \"ATK\": \"2109\", \"DEF\": \"1372\"}, \"Four_Star\": {\"HP\": \"16689\", \"ATK\": \"7756\", \"DEF\": \"4832\"}, \"Five_Star\": {\"HP\": \"21019\", \"ATK\": \"9803\", \"DEF\": \"6072\"}}, \"Connect\": {\"Name\": \"Connect: Let's raise those probabilities-!\", \"Four_Star\": \"\\u26054: Attack UP [VII] &amp; MP Restore [IV] &amp; Guaranteed Magia Seal\", \"Five_Star\": \"\\u26055: Attack UP [IX] &amp; MP Restore [VI] &amp; Guaranteed Magia Seal\"}, \"Magia\": {\"Name\": \"Magia: Neo * Genesis \\u2606\\u5f61\", \"Four_Star\": \"\\u26054: Damage All Enemies [V] &amp; Defense Down (All / 3 T) &amp; Defense UP (Self / 3 T)\", \"Five_Star\": \"\\u26055: Damage All Enemies [VII] &amp; Defense Down (All / 3 T) &amp; Defense UP (Self / 3 T) &amp; Magia Damage UP (Self / 3 T)\"}, \"Doppel\": {\"Name\": \"Doppel: Pennen Nolde\", \"Desc\": \"The Doppel of daydreams. Its form is a match-seller. Even after becoming a Puella Magi, the master of this emotion desires yet more power, with which to accomplish yet greater wishes. This Doppel carries matches cut from its master\\u2019s lifespan, and it\\u2019s said that by striking and lighting these matches, it can grant any \\u201cwhat-if\\u201d imaginable. The number of remaining matches is tied to its master\\u2019s lifespan, and using them all up will mean the end of her life. It\\u2019s a very strong Doppel, but because it sacrifices its master\\u2019s lifespan in much the same way as the Doppel of Testament, overuse of it is forbidden.\", \"Ability\": \"Damage All Enemies [IX] &amp; Defense DOWN (All / 3 T) &amp; Defense UP (Self / 3 T) &amp; Magia Damage UP (Self / 5 T)\"}}\n"
     ]
    }
   ],
   "source": [
    "girl_json = json.dumps(Touka)\n",
    "print(girl_json)\n",
    "\n",
    "with open('touka.json', 'w') as json_file:\n",
    "  json.dump(girl_json, json_file)"
   ]
  },
  {
   "cell_type": "code",
   "execution_count": 30,
   "metadata": {},
   "outputs": [
    {
     "name": "stdout",
     "output_type": "stream",
     "text": [
      "<li><b>Age:</b> 16</li>\n",
      "<li><b>School:</b> Sakae General School, 10th grade</li>\n",
      "The Doppel of fever. Its form is a tube.\n",
      "The master of this Doppel is entranced by the beauty of her own Doppel, but has yet to realize that it is still hiding its true form. It attacks from where it sprouts out of her back, using a large projection of itself made from the hardened paint (Pathogen Tempera) it emits. It boasts a Witch-like figure as it does this, despite its Doppel nature — this is because its human body becomes so coated in paint that she's no longer visible. The master cannot verify the appearance of her Doppel, but apparently it is \"just as beautiful when you view it from the inside\".\n"
     ]
    }
   ],
   "source": [
    "query_url = \"https://wiki.puella-magi.net/Alina_Gray\"\n",
    "response = requests.get(query_url)\n",
    "soup = bs(response.text, 'html.parser')\n",
    "\n",
    "bullet_points = soup.find_all('li')\n",
    "# 19- 30 General Info\n",
    "print(bullet_points[22])\n",
    "print(bullet_points[33])\n",
    "\n",
    "para = soup.find_all('p')\n",
    "para = str(para[4])\n",
    "para = para.strip(\"<p>\")\n",
    "para = para.strip(\"</p>\")\n",
    "para = para.rstrip()\n",
    "print(para)"
   ]
  },
  {
   "cell_type": "code",
   "execution_count": 31,
   "metadata": {},
   "outputs": [
    {
     "name": "stdout",
     "output_type": "stream",
     "text": [
      "4881 2139 1580\n",
      "17825 7756 5646\n",
      "22370 9784 7106\n",
      "30351 12537 9097\n"
     ]
    }
   ],
   "source": [
    "table_data = soup.find_all('td')\n",
    "\n",
    "# table_data[8] through\n",
    "# Headers no1 8, 9,10, 11\n",
    "# Data 12, 13, 14, 15 - 15 is a Link Picture\n",
    "# Headers no2 16, 17, 18, 19\n",
    "# initial 20, 21, 22, 23\n",
    "initial_hp = str(table_data[21]).replace('<td style=\"width:25%;\">', '').replace('</td>', '').rstrip()\n",
    "initial_atk = str(table_data[22]).replace('<td style=\"width:25%;\">', '').replace('</td>', '').rstrip()\n",
    "initial_def = str(table_data[23]).replace('<td style=\"width:25%;\">', '').replace('</td>', '').rstrip()\n",
    "# max at 4* 33, 34, 35\n",
    "four_star_hp = str(table_data[25]).replace('<td style=\"width:25%;\">', '').replace('</td>', '').rstrip()\n",
    "four_star_atk = str(table_data[26]).replace('<td style=\"width:25%;\">', '').replace('</td>', '').rstrip()\n",
    "four_star_def = str(table_data[27]).replace('<td style=\"width:25%;\">', '').replace('</td>', '').rstrip()\n",
    "# max at 5* 37, 38, 39\n",
    "five_star_hp = str(table_data[29]).replace('<td style=\"width:25%;\">', '').replace('</td>', '').rstrip()\n",
    "five_star_atk = str(table_data[30]).replace('<td style=\"width:25%;\">', '').replace('</td>', '').rstrip()\n",
    "five_star_def = str(table_data[31]).replace('<td style=\"width:25%;\">', '').replace('</td>', '').rstrip()\n",
    "# SE\n",
    "se_hp = str(table_data[33]).replace('<td style=\"width:25%;\">', '').replace('</td>', '').rstrip()\n",
    "se_atk = str(table_data[34]).replace('<td style=\"width:25%;\">', '').replace('</td>', '').rstrip()\n",
    "se_def = str(table_data[35]).replace('<td style=\"width:25%;\">', '').replace('</td>', '').rstrip()\n",
    "\n",
    "print(initial_hp, initial_atk, initial_def)\n",
    "print(four_star_hp, four_star_atk, four_star_def)\n",
    "print(five_star_hp, five_star_atk, five_star_def)\n",
    "print(se_hp, se_atk, se_def)"
   ]
  },
  {
   "cell_type": "code",
   "execution_count": 32,
   "metadata": {},
   "outputs": [
    {
     "name": "stdout",
     "output_type": "stream",
     "text": [
      "['Accel', 'Accel', 'Blast', 'Blast', 'Charge']\n"
     ]
    }
   ],
   "source": [
    "disk_one = str(table_data[36])\n",
    "disk_two = str(table_data[37])\n",
    "disk_three = str(table_data[38])\n",
    "disk_four = str(table_data[39])\n",
    "disk_five = str(table_data[40])\n",
    "\n",
    "if (disk_one.find(\"accel\") != -1):\n",
    "    disk_one = \"Accel\"\n",
    "elif (disk_one.find(\"blast\") != -1):\n",
    "    disk_one = \"Blast\"\n",
    "else:\n",
    "    disk_one = \"Charge\"\n",
    "    \n",
    "if (disk_two.find(\"accel\") != -1):\n",
    "    disk_two = \"Accel\"\n",
    "elif (disk_two.find(\"blast\") != -1):\n",
    "    disk_two = \"Blast\"\n",
    "else:\n",
    "    disk_two = \"Charge\"\n",
    "\n",
    "if (disk_three.find(\"accel\") != -1):\n",
    "    disk_three = \"Accel\"\n",
    "elif (disk_three.find(\"blast\") != -1):\n",
    "    disk_three = \"Blast\"\n",
    "else:\n",
    "    disk_three = \"Charge\"\n",
    "    \n",
    "if (disk_four.find(\"accel\") != -1):\n",
    "    disk_four = \"Accel\"\n",
    "elif (disk_four.find(\"blast\") != -1):\n",
    "    disk_four = \"Blast\"\n",
    "else:\n",
    "    disk_four = \"Charge\"\n",
    "    \n",
    "if (disk_five.find(\"accel\") != -1):\n",
    "    disk_five = \"Accel\"\n",
    "elif (disk_five.find(\"blast\") != -1):\n",
    "    disk_five = \"Blast\"\n",
    "else:\n",
    "    disk_five = \"Charge\"\n",
    "    \n",
    "disks = [disk_one, disk_two, disk_three, disk_four, disk_five]\n",
    "print(disks)"
   ]
  },
  {
   "cell_type": "code",
   "execution_count": 33,
   "metadata": {},
   "outputs": [
    {
     "name": "stdout",
     "output_type": "stream",
     "text": [
      "★4: Attack UP [VII] &amp; Guaranteed Dazzle &amp; Guaranteed Poison\n",
      "★5: Attack UP [VIII] &amp; Guaranteed Dazzle &amp; Guaranteed Poison &amp; Chance to Stun\n",
      "★4: Damage to all Enemies [V] &amp; Attack UP (Self / 2 T) &amp; Probability Critical (Self / 2 T)\n",
      "★5: Damage to all Enemies [VII] &amp; Attack UP (Self / 2 T) &amp; Probability Critical (Self / 2 T)\n"
     ]
    }
   ],
   "source": [
    "# table_data 49 through 52 are Connect Info\n",
    "connect_four_star = str(table_data[41])\n",
    "connect_five_star = str(table_data[42])\n",
    "\n",
    "connect_four_star = connect_four_star.replace('</td>', '')\n",
    "connect_four_star = connect_four_star.replace('<td style=\"width:100%;\">', '')\n",
    "connect_four_star = connect_four_star.rstrip()\n",
    "print(connect_four_star)\n",
    "\n",
    "connect_five_star = connect_five_star.replace('</td>', '')\n",
    "connect_five_star = connect_five_star.replace('<td style=\"width:100%;\">', '')\n",
    "connect_five_star = connect_five_star.rstrip()\n",
    "print(connect_five_star)\n",
    "\n",
    "# table_data 53 through 56 are Magia Info\n",
    "\n",
    "magia_four_star = str(table_data[43])\n",
    "magia_five_star = str(table_data[44])\n",
    "\n",
    "magia_four_star = magia_four_star.replace('</td>', '')\n",
    "magia_four_star = magia_four_star.replace('<td style=\"width:100%;\">', '')\n",
    "magia_four_star = magia_four_star.rstrip()\n",
    "print(magia_four_star)\n",
    "\n",
    "magia_five_star = magia_five_star.replace('</td>', '')\n",
    "magia_five_star = magia_five_star.replace('<td style=\"width:100%;\">', '')\n",
    "magia_five_star = magia_five_star.rstrip()\n",
    "print(magia_five_star)"
   ]
  },
  {
   "cell_type": "code",
   "execution_count": 34,
   "metadata": {},
   "outputs": [
    {
     "name": "stdout",
     "output_type": "stream",
     "text": [
      "Damage to all Enemies [IX] &amp; Guaranteed Poison (All / 3 T) &amp; Attack UP (Self / 2 T) &amp; Probability Critical (Self / 2 T)\n",
      "<th colspan=\"5\"><b>Magia:</b> <i>Nine Phases</i>\n",
      "</th>\n",
      "<th colspan=\"5\"><b>Doppel:</b> <i>Old Dorothy</i>\n",
      "</th>\n"
     ]
    }
   ],
   "source": [
    "doppel_info = str(table_data[45])\n",
    "doppel_info = doppel_info.replace('<td style=\"width:100%;\">', '')\n",
    "doppel_info = doppel_info.replace('</td>', '')\n",
    "doppel_info = doppel_info.rstrip()\n",
    "print(doppel_info)\n",
    "\n",
    "table_head = soup.find_all('th')\n",
    "connect = str(table_head[3])\n",
    "magia = str(table_head[4])\n",
    "doppel = str(table_head[5])\n",
    "print(magia)\n",
    "print(doppel)"
   ]
  },
  {
   "cell_type": "code",
   "execution_count": 35,
   "metadata": {},
   "outputs": [
    {
     "name": "stdout",
     "output_type": "stream",
     "text": [
      "Connect: Melt in Alina's Work\n",
      "Magia: Nine Phases\n",
      "Doppel: Old Dorothy\n"
     ]
    }
   ],
   "source": [
    "connect = connect.strip('<th colspan=\"5\">')\n",
    "connect = connect.strip('b>')\n",
    "connect = connect.strip('<b>')\n",
    "connect = connect.replace('</b>', '')\n",
    "connect = connect.replace('<i>', '')\n",
    "connect = connect.replace('</i>', '')\n",
    "connect = connect.strip('</')\n",
    "connect = connect.rstrip()\n",
    "print(connect)\n",
    "\n",
    "magia = magia.strip('<th colspan=\"5\">')\n",
    "magia = magia.strip('b>')\n",
    "magia = magia.replace('</b>', '')\n",
    "magia = magia.replace('<i>', '')\n",
    "magia = magia.replace('</i>', '')\n",
    "magia = magia.strip('</')\n",
    "magia = magia.rstrip()\n",
    "print(magia)\n",
    "\n",
    "doppel = doppel.strip('<th colspan=\"5\">')\n",
    "doppel = doppel.strip('b>')\n",
    "doppel = doppel.replace('<b>', '')\n",
    "doppel = doppel.replace('</b>', '')\n",
    "doppel = doppel.replace('<i>', '')\n",
    "doppel = doppel.replace('</i>', '')\n",
    "doppel = doppel.strip('</')\n",
    "doppel = doppel.rstrip()\n",
    "print(doppel)"
   ]
  },
  {
   "cell_type": "code",
   "execution_count": 36,
   "metadata": {},
   "outputs": [
    {
     "name": "stdout",
     "output_type": "stream",
     "text": [
      "Age: 16\n",
      "Height: 159cm\n",
      "Eye colour: Bright Green with a yellow highlight\n",
      "Hair colour: Lime\n",
      "Origins: Sakae ward\n",
      "Soul Gem: Green shield-shaped gem (ribbon tie at her throat)\n",
      "Weapon: <a class=\"external text\" href=\"https://en.wikipedia.org/wiki/Rubik%27s_Cube\" rel=\"nofollow\">Light construct rubik's cube\n",
      "Wish: \"I want an area where nobody can disturb me.\"\n",
      "Ability: Barrier generation\n",
      "Witch form: Old Dorothy\n",
      "Japanese pronoun: <i>Alina</i><span style=\"font-weight: normal\"> (<span class=\"t_nihongo_kanji\" lang=\"ja\">アリナ</span>)</span\n",
      "School: Sakae General School 10th grade\n"
     ]
    }
   ],
   "source": [
    "Age = str(bullet_points[22]).strip(\"<li>\").strip(\"</li>\").strip(\"<b>\").replace(\"</b>\", \"\").replace(',', '')\n",
    "print(Age)\n",
    "Height = str(bullet_points[23]).strip(\"<li>\").strip(\"</li>\").strip(\"<b>\").replace(\"</b>\", \"\").replace(',', '')\n",
    "print(Height)\n",
    "EyeColor = str(bullet_points[24]).strip(\"<li>\").strip(\"</li>\").strip(\"<b>\").replace(\"</b>\", \"\").replace(',', '')\n",
    "print(EyeColor)\n",
    "HairColor = str(bullet_points[25]).strip(\"<li>\").strip(\"</li>\").strip(\"<b>\").replace(\"</b>\", \"\").replace(',', '')\n",
    "print(HairColor)\n",
    "Hometown = str(bullet_points[26]).strip(\"<li>\").strip(\"</li>\").strip(\"<b>\").replace(\"</b>\", \"\").replace(',', '')\n",
    "print(Hometown)\n",
    "SoulGem = str(bullet_points[27]).strip(\"<li>\").strip(\"</li>\").strip(\"<b>\").replace(\"</b>\", \"\").replace(',', '')\n",
    "print(SoulGem)\n",
    "Weapon = str(bullet_points[28]).strip(\"<li>\").strip(\"</li>\").strip(\"<b>\").replace(\"</b>\", \"\").replace('</a', '').replace('<a class=\"external text\" href=\"https://en.wikipedia.org/wiki/Crossbow\" rel=\"nofollow\">', '')\n",
    "print(Weapon)\n",
    "Wish = str(bullet_points[29]).strip(\"<li>\").strip(\"</li>\").strip(\"<b>\").replace(\"</b>\", \"\").replace(',', '')\n",
    "print(Wish)\n",
    "Ability = str(bullet_points[30]).strip(\"<li>\").strip(\"</li>\").strip(\"<b>\").replace(\"</b>\", \"\").replace(',', '')\n",
    "print(Ability)\n",
    "Witch = str(bullet_points[31]).strip(\"<li>\").strip(\"</li>\").strip(\"<b>\").replace(\"</b>\", \"\").replace(',', '')\n",
    "print(Witch)\n",
    "Pronoun = str(bullet_points[32]).strip(\"<li>\").strip(\"</li>\").strip(\"<b>\").replace(\"</b>\", \"\").replace(',', '')\n",
    "print(Pronoun)\n",
    "School = str(bullet_points[33]).strip(\"<li>\").strip(\"</li>\").strip(\"<b>\").replace(\"</b>\", \"\").replace(',', '')\n",
    "print(School)"
   ]
  },
  {
   "cell_type": "code",
   "execution_count": 37,
   "metadata": {},
   "outputs": [
    {
     "name": "stdout",
     "output_type": "stream",
     "text": [
      "{'Name': 'Alina Gray', 'Age': 'Age: 16', 'EyeColor': 'Eye colour: Bright Green with a yellow highlight', 'HairColor': 'Hair colour: Lime', 'Hometown': 'Origins: Sakae ward', 'SoulGem': 'Soul Gem: Green shield-shaped gem (ribbon tie at her throat)', 'Weapon': 'Weapon: <a class=\"external text\" href=\"https://en.wikipedia.org/wiki/Rubik%27s_Cube\" rel=\"nofollow\">Light construct rubik\\'s cube', 'Wish': 'Wish: \"I want an area where nobody can disturb me.\"', 'Ability': 'Ability: Barrier generation', 'Witch': 'Witch form: Old Dorothy', 'Pronoun': 'Japanese pronoun: <i>Alina</i><span style=\"font-weight: normal\"> (<span class=\"t_nihongo_kanji\" lang=\"ja\">アリナ</span>)</span', 'School': 'School: Sakae General School 10th grade', 'Disks': ['Accel', 'Accel', 'Blast', 'Blast', 'Charge'], 'Stats': {'Initial': {'HP': '4881', 'ATK': '2139', 'DEF': '1580'}, 'Four_Star': {'HP': '17825', 'ATK': '7756', 'DEF': '5646'}, 'Five_Star': {'HP': '22370', 'ATK': '9784', 'DEF': '7106'}, 'SE': {'HP': '30351', 'ATK': '12537', 'DEF': '9097'}}, 'Connect': {'Name': \"Connect: Melt in Alina's Work\", 'Four_Star': '★4: Attack UP [VII] &amp; Guaranteed Dazzle &amp; Guaranteed Poison', 'Five_Star': '★5: Attack UP [VIII] &amp; Guaranteed Dazzle &amp; Guaranteed Poison &amp; Chance to Stun'}, 'Magia': {'Name': 'Magia: Nine Phases', 'Four_Star': '★4: Damage to all Enemies [V] &amp; Attack UP (Self / 2 T) &amp; Probability Critical (Self / 2 T)', 'Five_Star': '★5: Damage to all Enemies [VII] &amp; Attack UP (Self / 2 T) &amp; Probability Critical (Self / 2 T)'}, 'Doppel': {'Name': 'Doppel: Old Dorothy', 'Desc': 'The Doppel of fever. Its form is a tube.\\nThe master of this Doppel is entranced by the beauty of her own Doppel, but has yet to realize that it is still hiding its true form. It attacks from where it sprouts out of her back, using a large projection of itself made from the hardened paint (Pathogen Tempera) it emits. It boasts a Witch-like figure as it does this, despite its Doppel nature — this is because its human body becomes so coated in paint that she\\'s no longer visible. The master cannot verify the appearance of her Doppel, but apparently it is \"just as beautiful when you view it from the inside\".', 'Ability': 'Damage to all Enemies [IX] &amp; Guaranteed Poison (All / 3 T) &amp; Attack UP (Self / 2 T) &amp; Probability Critical (Self / 2 T)'}}\n"
     ]
    }
   ],
   "source": [
    "Alina = {\n",
    "    \"Name\": \"Alina Gray\",\n",
    "    \"Age\": Age,\n",
    "    \"EyeColor\": EyeColor,\n",
    "    \"HairColor\": HairColor,\n",
    "    \"Hometown\": Hometown,\n",
    "    \"SoulGem\": SoulGem,\n",
    "    \"Weapon\": Weapon,\n",
    "    \"Wish\": Wish,\n",
    "    \"Ability\": Ability,\n",
    "    \"Witch\": Witch,\n",
    "    \"Pronoun\": Pronoun,\n",
    "    \"School\": School,\n",
    "    \"Disks\": disks,\n",
    "    \"Stats\": {\n",
    "        \"Initial\": {\n",
    "            \"HP\": initial_hp,\n",
    "            \"ATK\": initial_atk,\n",
    "            \"DEF\": initial_def\n",
    "        },\n",
    "        \"Four_Star\": {\n",
    "            \"HP\": four_star_hp,\n",
    "            \"ATK\": four_star_atk,\n",
    "            \"DEF\": four_star_def\n",
    "        },\n",
    "        \"Five_Star\": {\n",
    "            \"HP\": five_star_hp,\n",
    "            \"ATK\": five_star_atk,\n",
    "            \"DEF\": five_star_def        \n",
    "        },\n",
    "        \"SE\": {\n",
    "            \"HP\": se_hp,\n",
    "            \"ATK\": se_atk,\n",
    "            \"DEF\":  se_def          \n",
    "        }\n",
    "    },\n",
    "    \"Connect\": {\n",
    "        \"Name\": connect,\n",
    "        \"Four_Star\": connect_four_star,\n",
    "        \"Five_Star\": connect_five_star\n",
    "    },\n",
    "    \"Magia\": {\n",
    "        \"Name\": magia,\n",
    "        \"Four_Star\": magia_four_star,\n",
    "        \"Five_Star\": magia_five_star\n",
    "    },\n",
    "    \"Doppel\": {\n",
    "        \"Name\": doppel,\n",
    "        \"Desc\": para,\n",
    "        \"Ability\": doppel_info,\n",
    "    }\n",
    "}\n",
    "\n",
    "print(Alina)"
   ]
  },
  {
   "cell_type": "code",
   "execution_count": 38,
   "metadata": {},
   "outputs": [
    {
     "name": "stdout",
     "output_type": "stream",
     "text": [
      "{\"Name\": \"Alina Gray\", \"Age\": \"Age: 16\", \"EyeColor\": \"Eye colour: Bright Green with a yellow highlight\", \"HairColor\": \"Hair colour: Lime\", \"Hometown\": \"Origins: Sakae ward\", \"SoulGem\": \"Soul Gem: Green shield-shaped gem (ribbon tie at her throat)\", \"Weapon\": \"Weapon: <a class=\\\"external text\\\" href=\\\"https://en.wikipedia.org/wiki/Rubik%27s_Cube\\\" rel=\\\"nofollow\\\">Light construct rubik's cube\", \"Wish\": \"Wish: \\\"I want an area where nobody can disturb me.\\\"\", \"Ability\": \"Ability: Barrier generation\", \"Witch\": \"Witch form: Old Dorothy\", \"Pronoun\": \"Japanese pronoun: <i>Alina</i><span style=\\\"font-weight: normal\\\"> (<span class=\\\"t_nihongo_kanji\\\" lang=\\\"ja\\\">\\u30a2\\u30ea\\u30ca</span>)</span\", \"School\": \"School: Sakae General School 10th grade\", \"Disks\": [\"Accel\", \"Accel\", \"Blast\", \"Blast\", \"Charge\"], \"Stats\": {\"Initial\": {\"HP\": \"4881\", \"ATK\": \"2139\", \"DEF\": \"1580\"}, \"Four_Star\": {\"HP\": \"17825\", \"ATK\": \"7756\", \"DEF\": \"5646\"}, \"Five_Star\": {\"HP\": \"22370\", \"ATK\": \"9784\", \"DEF\": \"7106\"}, \"SE\": {\"HP\": \"30351\", \"ATK\": \"12537\", \"DEF\": \"9097\"}}, \"Connect\": {\"Name\": \"Connect: Melt in Alina's Work\", \"Four_Star\": \"\\u26054: Attack UP [VII] &amp; Guaranteed Dazzle &amp; Guaranteed Poison\", \"Five_Star\": \"\\u26055: Attack UP [VIII] &amp; Guaranteed Dazzle &amp; Guaranteed Poison &amp; Chance to Stun\"}, \"Magia\": {\"Name\": \"Magia: Nine Phases\", \"Four_Star\": \"\\u26054: Damage to all Enemies [V] &amp; Attack UP (Self / 2 T) &amp; Probability Critical (Self / 2 T)\", \"Five_Star\": \"\\u26055: Damage to all Enemies [VII] &amp; Attack UP (Self / 2 T) &amp; Probability Critical (Self / 2 T)\"}, \"Doppel\": {\"Name\": \"Doppel: Old Dorothy\", \"Desc\": \"The Doppel of fever. Its form is a tube.\\nThe master of this Doppel is entranced by the beauty of her own Doppel, but has yet to realize that it is still hiding its true form. It attacks from where it sprouts out of her back, using a large projection of itself made from the hardened paint (Pathogen Tempera) it emits. It boasts a Witch-like figure as it does this, despite its Doppel nature \\u2014 this is because its human body becomes so coated in paint that she's no longer visible. The master cannot verify the appearance of her Doppel, but apparently it is \\\"just as beautiful when you view it from the inside\\\".\", \"Ability\": \"Damage to all Enemies [IX] &amp; Guaranteed Poison (All / 3 T) &amp; Attack UP (Self / 2 T) &amp; Probability Critical (Self / 2 T)\"}}\n"
     ]
    }
   ],
   "source": [
    "girl_json = json.dumps(Alina)\n",
    "print(girl_json)\n",
    "\n",
    "with open('alina.json', 'w') as json_file:\n",
    "  json.dump(girl_json, json_file)"
   ]
  },
  {
   "cell_type": "code",
   "execution_count": null,
   "metadata": {},
   "outputs": [],
   "source": []
  }
 ],
 "metadata": {
  "kernelspec": {
   "display_name": "Python 3",
   "language": "python",
   "name": "python3"
  },
  "language_info": {
   "codemirror_mode": {
    "name": "ipython",
    "version": 3
   },
   "file_extension": ".py",
   "mimetype": "text/x-python",
   "name": "python",
   "nbconvert_exporter": "python",
   "pygments_lexer": "ipython3",
   "version": "3.7.1"
  }
 },
 "nbformat": 4,
 "nbformat_minor": 2
}
