{
 "cells": [
  {
   "cell_type": "code",
   "execution_count": 1,
   "metadata": {},
   "outputs": [],
   "source": [
    "# Dependencies\n",
    "import os\n",
    "from bs4 import BeautifulSoup as bs\n",
    "import json\n",
    "import requests\n",
    "\n",
    "query_url = \"https://wiki.puella-magi.net/Felicia_Mitsuki\"\n",
    "response = requests.get(query_url)\n",
    "soup = bs(response.text, 'html.parser')"
   ]
  },
  {
   "cell_type": "code",
   "execution_count": 4,
   "metadata": {},
   "outputs": [
    {
     "name": "stdout",
     "output_type": "stream",
     "text": [
      "<li><b>Age:</b> 13</li>\n",
      "<li><b>School:</b> <a href=\"/Schools#Chuo_Academy\" title=\"Schools\">Chuo Academy</a>, Seventh grade</li>\n",
      "The Doppel of tumult. Its form is an eyelid.\n",
      "The master of this emotion falls into a deep sleep while this Doppel is present, and is therefore unable to witness what it experiences.\n",
      "While its master is sleeping, it paints over all inconveniences with muddy tears that flow from its vacant stare.\n",
      "This duplicate will surely awaken when it requires the power to crush reality.\n"
     ]
    }
   ],
   "source": [
    "bullet_points = soup.find_all('li')\n",
    "# 25- 33 General Info\n",
    "print(bullet_points[23])\n",
    "print(bullet_points[34])\n",
    "\n",
    "para = soup.find_all('p')\n",
    "para = str(para[4])\n",
    "para = para.strip(\"<p>\")\n",
    "para = para.strip(\"</p>\")\n",
    "para = para.rstrip()\n",
    "print(para)"
   ]
  },
  {
   "cell_type": "code",
   "execution_count": 5,
   "metadata": {},
   "outputs": [
    {
     "name": "stdout",
     "output_type": "stream",
     "text": [
      "3140 1305 994\n",
      "10186 4204 3158\n",
      "12912 5327 4003\n",
      "16996 7012 5268\n",
      "21087 8700 6530\n",
      "25274 9807 8136\n"
     ]
    }
   ],
   "source": [
    "table_data = soup.find_all('td')\n",
    "\n",
    "# table_data[8] through\n",
    "# Headers no1 8, 9,10, 11\n",
    "# Data 12, 13, 14, 15 - 15 is a Link Picture\n",
    "# Headers no2 16, 17, 18, 19\n",
    "# initial 20, 21, 22, 23\n",
    "initial_hp = str(table_data[21]).replace('<td style=\"width:25%;\">', '').replace('</td>', '').rstrip()\n",
    "initial_atk = str(table_data[22]).replace('<td style=\"width:25%;\">', '').replace('</td>', '').rstrip()\n",
    "initial_def = str(table_data[23]).replace('<td style=\"width:25%;\">', '').replace('</td>', '').rstrip()\n",
    "# max at 2* 25, 26, 27\n",
    "two_star_hp = str(table_data[25]).replace('<td style=\"width:25%;\">', '').replace('</td>', '').rstrip()\n",
    "two_star_atk = str(table_data[26]).replace('<td style=\"width:25%;\">', '').replace('</td>', '').rstrip()\n",
    "two_star_def = str(table_data[27]).replace('<td style=\"width:25%;\">', '').replace('</td>', '').rstrip()\n",
    "# max at 3* 29, 30, 31\n",
    "three_star_hp = str(table_data[29]).replace('<td style=\"width:25%;\">', '').replace('</td>', '').rstrip()\n",
    "three_star_atk = str(table_data[30]).replace('<td style=\"width:25%;\">', '').replace('</td>', '').rstrip()\n",
    "three_star_def = str(table_data[31]).replace('<td style=\"width:25%;\">', '').replace('</td>', '').rstrip()\n",
    "# max at 4* 33, 34, 35\n",
    "four_star_hp = str(table_data[33]).replace('<td style=\"width:25%;\">', '').replace('</td>', '').rstrip()\n",
    "four_star_atk = str(table_data[34]).replace('<td style=\"width:25%;\">', '').replace('</td>', '').rstrip()\n",
    "four_star_def = str(table_data[35]).replace('<td style=\"width:25%;\">', '').replace('</td>', '').rstrip()\n",
    "# max at 5* 37, 38, 39\n",
    "five_star_hp = str(table_data[37]).replace('<td style=\"width:25%;\">', '').replace('</td>', '').rstrip()\n",
    "five_star_atk = str(table_data[38]).replace('<td style=\"width:25%;\">', '').replace('</td>', '').rstrip()\n",
    "five_star_def = str(table_data[39]).replace('<td style=\"width:25%;\">', '').replace('</td>', '').rstrip()\n",
    "# Max SE 41, 42, 43\n",
    "se_hp = str(table_data[41]).replace('<td style=\"width:25%;\">', '').replace('</td>', '').rstrip()\n",
    "se_atk = str(table_data[42]).replace('<td style=\"width:25%;\">', '').replace('</td>', '').rstrip()\n",
    "se_def = str(table_data[43]).replace('<td style=\"width:25%;\">', '').replace('</td>', '').rstrip()\n",
    "print(initial_hp, initial_atk, initial_def)\n",
    "print(two_star_hp, two_star_atk, two_star_def)\n",
    "print(three_star_hp, three_star_atk, three_star_def)\n",
    "print(four_star_hp, four_star_atk, four_star_def)\n",
    "print(five_star_hp, five_star_atk, five_star_def)\n",
    "print(se_hp, se_atk, se_def)"
   ]
  },
  {
   "cell_type": "code",
   "execution_count": 6,
   "metadata": {},
   "outputs": [
    {
     "name": "stdout",
     "output_type": "stream",
     "text": [
      "['Accel', 'Blast', 'Blast', 'Charge', 'Charge']\n"
     ]
    }
   ],
   "source": [
    "# data 44 through 48 is disks\n",
    "# if condition on alt attribute to determine what type of data to put where\n",
    "\n",
    "disk_one = str(table_data[44])\n",
    "disk_two = str(table_data[45])\n",
    "disk_three = str(table_data[46])\n",
    "disk_four = str(table_data[47])\n",
    "disk_five = str(table_data[48])\n",
    "\n",
    "if (disk_one.find(\"accel\") != -1):\n",
    "    disk_one = \"Accel\"\n",
    "elif (disk_one.find(\"blast\") != -1):\n",
    "    disk_one = \"Blast\"\n",
    "else:\n",
    "    disk_one = \"Charge\"\n",
    "    \n",
    "if (disk_two.find(\"accel\") != -1):\n",
    "    disk_two = \"Accel\"\n",
    "elif (disk_two.find(\"blast\") != -1):\n",
    "    disk_two = \"Blast\"\n",
    "else:\n",
    "    disk_two = \"Charge\"\n",
    "\n",
    "if (disk_three.find(\"accel\") != -1):\n",
    "    disk_three = \"Accel\"\n",
    "elif (disk_three.find(\"blast\") != -1):\n",
    "    disk_three = \"Blast\"\n",
    "else:\n",
    "    disk_three = \"Charge\"\n",
    "    \n",
    "if (disk_four.find(\"accel\") != -1):\n",
    "    disk_four = \"Accel\"\n",
    "elif (disk_four.find(\"blast\") != -1):\n",
    "    disk_four = \"Blast\"\n",
    "else:\n",
    "    disk_four = \"Charge\"\n",
    "    \n",
    "if (disk_five.find(\"accel\") != -1):\n",
    "    disk_five = \"Accel\"\n",
    "elif (disk_five.find(\"blast\") != -1):\n",
    "    disk_five = \"Blast\"\n",
    "else:\n",
    "    disk_five = \"Charge\"\n",
    "    \n",
    "disks = [disk_one, disk_two, disk_three, disk_four, disk_five]\n",
    "print(disks)"
   ]
  },
  {
   "cell_type": "code",
   "execution_count": 7,
   "metadata": {},
   "outputs": [
    {
     "name": "stdout",
     "output_type": "stream",
     "text": [
      "★2: Damage UP [III] &amp; Guaranteed Anti-Counter\n",
      "★3: Damage UP [V] &amp; Guaranteed Anti-Counter\n",
      "★4: Damage UP [VII] &amp; Guaranteed Anti-Counter\n",
      "★5: Damage UP [IX] &amp; Guaranteed Anti-Counter\n",
      "★2: Damage One Enemy [I] &amp; Defense DOWN (Single / 3 T)\n",
      "★3: Damage One Enemy [III] &amp; Defense DOWN (Single / 3 T)\n",
      "★4: Damage One Enemy [V] &amp; Defense DOWN (Single / 3 T) &amp; Defense DOWN Further (Single / 3 T)\n",
      "★5: Damage One Enemy [VII] &amp; Defense DOWN (Single / 3 T) &amp; Defense DOWN Further (Single / 3 T) &amp; Chance to Bind (Single / 1 T)\n"
     ]
    }
   ],
   "source": [
    "# table_data 49 through 52 are Connect Info\n",
    "connect_two_star = str(table_data[49])\n",
    "connect_three_star = str(table_data[50])\n",
    "connect_four_star = str(table_data[51])\n",
    "connect_five_star = str(table_data[52])\n",
    "\n",
    "connect_two_star = connect_two_star.replace('</td>', '')\n",
    "connect_two_star = connect_two_star.replace('<td style=\"width:100%;\">', '')\n",
    "connect_two_star = connect_two_star.rstrip()\n",
    "print(connect_two_star)\n",
    "\n",
    "connect_three_star = connect_three_star.replace('</td>', '')\n",
    "connect_three_star = connect_three_star.replace('<td style=\"width:100%;\">', '')\n",
    "connect_three_star = connect_three_star.rstrip()\n",
    "print(connect_three_star)\n",
    "\n",
    "connect_four_star = connect_four_star.replace('</td>', '')\n",
    "connect_four_star = connect_four_star.replace('<td style=\"width:100%;\">', '')\n",
    "connect_four_star = connect_four_star.rstrip()\n",
    "print(connect_four_star)\n",
    "\n",
    "connect_five_star = connect_five_star.replace('</td>', '')\n",
    "connect_five_star = connect_five_star.replace('<td style=\"width:100%;\">', '')\n",
    "connect_five_star = connect_five_star.rstrip()\n",
    "print(connect_five_star)\n",
    "\n",
    "# table_data 53 through 56 are Magia Info\n",
    "table_data[58]\n",
    "magia_two_star = str(table_data[53])\n",
    "magia_three_star = str(table_data[54])\n",
    "magia_four_star = str(table_data[55])\n",
    "magia_five_star = str(table_data[56])\n",
    "\n",
    "magia_two_star = magia_two_star.replace('</td>', '')\n",
    "magia_two_star = magia_two_star.replace('<td style=\"width:100%;\">', '')\n",
    "magia_two_star = magia_two_star.rstrip()\n",
    "print(magia_two_star)\n",
    "\n",
    "magia_three_star = magia_three_star.replace('</td>', '')\n",
    "magia_three_star = magia_three_star.replace('<td style=\"width:100%;\">', '')\n",
    "magia_three_star = magia_three_star.rstrip()\n",
    "print(magia_three_star)\n",
    "\n",
    "magia_four_star = magia_four_star.replace('</td>', '')\n",
    "magia_four_star = magia_four_star.replace('<td style=\"width:100%;\">', '')\n",
    "magia_four_star = magia_four_star.rstrip()\n",
    "print(magia_four_star)\n",
    "\n",
    "magia_five_star = magia_five_star.replace('</td>', '')\n",
    "magia_five_star = magia_five_star.replace('<td style=\"width:100%;\">', '')\n",
    "magia_five_star = magia_five_star.rstrip()\n",
    "print(magia_five_star)"
   ]
  },
  {
   "cell_type": "code",
   "execution_count": 8,
   "metadata": {},
   "outputs": [
    {
     "name": "stdout",
     "output_type": "stream",
     "text": [
      "Damage One Enemy [IX] &amp; Defense DOWN (Single / 3 T) &amp; Defense DOWN Further (Single / 3 T) &amp; Guaranteed Bind (Single / 1 T)\n",
      "<th colspan=\"5\"><b>Magia:</b> <i>Ultra Great Big Hammer</i>\n",
      "</th>\n",
      "<th colspan=\"5\"><b>Doppel:</b> <i>Beatrice</i>\n",
      "</th>\n"
     ]
    }
   ],
   "source": [
    "# table_data 57 is Doppel Info\n",
    "table_data[57]\n",
    "doppel_info = str(table_data[57])\n",
    "doppel_info = doppel_info.replace('<td style=\"width:100%;\">', '')\n",
    "doppel_info = doppel_info.replace('</td>', '')\n",
    "doppel_info = doppel_info.rstrip()\n",
    "print(doppel_info)\n",
    "\n",
    "table_head = soup.find_all('th')\n",
    "connect = str(table_head[3])\n",
    "magia = str(table_head[4])\n",
    "doppel = str(table_head[5])\n",
    "print(magia)\n",
    "print(doppel)"
   ]
  },
  {
   "cell_type": "code",
   "execution_count": 9,
   "metadata": {},
   "outputs": [
    {
     "name": "stdout",
     "output_type": "stream",
     "text": [
      "Connect: Leave the heavy hits to me!\n",
      "Magia: Ultra Great Big Hammer\n",
      "Doppel: Beatrice\n"
     ]
    }
   ],
   "source": [
    "connect = connect.strip('<th colspan=\"5\">')\n",
    "connect = connect.strip('b>')\n",
    "connect = connect.replace('</b>', '')\n",
    "connect = connect.replace('<i>', '')\n",
    "connect = connect.replace('</i>', '')\n",
    "connect = connect.strip('</')\n",
    "connect = connect.rstrip()\n",
    "print(connect)\n",
    "\n",
    "magia = magia.strip('<th colspan=\"5\">')\n",
    "magia = magia.strip('b>')\n",
    "magia = magia.replace('</b>', '')\n",
    "magia = magia.replace('<i>', '')\n",
    "magia = magia.replace('</i>', '')\n",
    "magia = magia.strip('</')\n",
    "magia = magia.rstrip()\n",
    "print(magia)\n",
    "\n",
    "doppel = doppel.strip('<th colspan=\"5\">')\n",
    "doppel = doppel.strip('b>')\n",
    "doppel = doppel.replace('<b>', '')\n",
    "doppel = doppel.replace('</b>', '')\n",
    "doppel = doppel.replace('<i>', '')\n",
    "doppel = doppel.replace('</i>', '')\n",
    "doppel = doppel.strip('</')\n",
    "doppel = doppel.rstrip()\n",
    "print(doppel)"
   ]
  },
  {
   "cell_type": "code",
   "execution_count": 10,
   "metadata": {},
   "outputs": [
    {
     "name": "stdout",
     "output_type": "stream",
     "text": [
      "Age: 13\n",
      "Height: 151cm\n",
      "Eye colour: Purple\n",
      "Hair colour: Yellow\n",
      "Origins: Minagi Ward\n",
      "Soul Gem: Purple gem (stomach)\n",
      "Weapon: <a class=\"external text\" href=\"https://en.wikipedia.org/wiki/War_hammer\" rel=\"nofollow\">Hammer\n",
      "Wish: \"I want you [Kyubey] to make it so that what just happened never happened.\"\n",
      "Ability: Oblivion\n",
      "Witch form: Beatrice\n",
      "Japanese pronoun: <i>ore</i><span style=\"font-weight: normal\"> (<span class=\"t_nihongo_kanji\" lang=\"ja\">オレ</span>)</span\n",
      "School: <a href=\"/Schools#Chuo_Academy\" title=\"Schools\">Chuo Academy</a> Seventh grade\n"
     ]
    }
   ],
   "source": [
    "Age = str(bullet_points[23]).strip(\"<li>\").strip(\"</li>\").strip(\"<b>\").replace(\"</b>\", \"\").replace(',', '')\n",
    "print(Age)\n",
    "Height = str(bullet_points[24]).strip(\"<li>\").strip(\"</li>\").strip(\"<b>\").replace(\"</b>\", \"\").replace(',', '')\n",
    "print(Height)\n",
    "EyeColor = str(bullet_points[25]).strip(\"<li>\").strip(\"</li>\").strip(\"<b>\").replace(\"</b>\", \"\").replace(',', '')\n",
    "print(EyeColor)\n",
    "HairColor = str(bullet_points[26]).strip(\"<li>\").strip(\"</li>\").strip(\"<b>\").replace(\"</b>\", \"\").replace(',', '')\n",
    "print(HairColor)\n",
    "Hometown = str(bullet_points[27]).strip(\"<li>\").strip(\"</li>\").strip(\"<b>\").replace(\"</b>\", \"\").replace(',', '')\n",
    "print(Hometown)\n",
    "SoulGem = str(bullet_points[28]).strip(\"<li>\").strip(\"</li>\").strip(\"<b>\").replace(\"</b>\", \"\").replace(',', '')\n",
    "print(SoulGem)\n",
    "Weapon = str(bullet_points[29]).strip(\"<li>\").strip(\"</li>\").strip(\"<b>\").replace(\"</b>\", \"\").replace('</a', '').replace('<a class=\"external text\" href=\"https://en.wikipedia.org/wiki/Crossbow\" rel=\"nofollow\">', '')\n",
    "print(Weapon)\n",
    "Wish = str(bullet_points[30]).strip(\"<li>\").strip(\"</li>\").strip(\"<b>\").replace(\"</b>\", \"\").replace(',', '')\n",
    "print(Wish)\n",
    "Ability = str(bullet_points[31]).strip(\"<li>\").strip(\"</li>\").strip(\"<b>\").replace(\"</b>\", \"\").replace(',', '')\n",
    "print(Ability)\n",
    "Witch = str(bullet_points[32]).strip(\"<li>\").strip(\"</li>\").strip(\"<b>\").replace(\"</b>\", \"\").replace(',', '')\n",
    "print(Witch)\n",
    "Pronoun = str(bullet_points[33]).strip(\"<li>\").strip(\"</li>\").strip(\"<b>\").replace(\"</b>\", \"\").replace(',', '')\n",
    "print(Pronoun)\n",
    "School = str(bullet_points[34]).strip(\"<li>\").strip(\"</li>\").strip(\"<b>\").replace(\"</b>\", \"\").replace(',', '')\n",
    "print(School)"
   ]
  },
  {
   "cell_type": "code",
   "execution_count": 11,
   "metadata": {},
   "outputs": [
    {
     "name": "stdout",
     "output_type": "stream",
     "text": [
      "{'Name': 'Felicia Mitsuki', 'Age': 'Age: 13', 'EyeColor': 'Eye colour: Purple', 'HairColor': 'Hair colour: Yellow', 'Hometown': 'Origins: Minagi Ward', 'SoulGem': 'Soul Gem: Purple gem (stomach)', 'Weapon': 'Weapon: <a class=\"external text\" href=\"https://en.wikipedia.org/wiki/War_hammer\" rel=\"nofollow\">Hammer', 'Wish': 'Wish: \"I want you [Kyubey] to make it so that what just happened never happened.\"', 'Ability': 'Ability: Oblivion', 'Witch': 'Witch form: Beatrice', 'Pronoun': 'Japanese pronoun: <i>ore</i><span style=\"font-weight: normal\"> (<span class=\"t_nihongo_kanji\" lang=\"ja\">オレ</span>)</span', 'School': 'School: <a href=\"/Schools#Chuo_Academy\" title=\"Schools\">Chuo Academy</a> Seventh grade', 'Disks': ['Accel', 'Blast', 'Blast', 'Charge', 'Charge'], 'Stats': {'Initial': {'HP': '3140', 'ATK': '1305', 'DEF': '994'}, 'Two_Star': {'HP': '10186', 'ATK': '4204', 'DEF': '3158'}, 'Three_Star': {'HP': '12912', 'ATK': '5327', 'DEF': '4003'}, 'Four_Star': {'HP': '16996', 'ATK': '7012', 'DEF': '5268'}, 'Five_Star': {'HP': '21087', 'ATK': '8700', 'DEF': '6530'}, 'SE': {'HP': '25274', 'ATK': '9807', 'DEF': '8136'}}, 'Connect': {'Name': 'Connect: Leave the heavy hits to me!', 'Two_Star': '★2: Damage UP [III] &amp; Guaranteed Anti-Counter', 'Three_Star': '★3: Damage UP [V] &amp; Guaranteed Anti-Counter', 'Four_Star': '★4: Damage UP [VII] &amp; Guaranteed Anti-Counter', 'Five_Star': '★5: Damage UP [IX] &amp; Guaranteed Anti-Counter'}, 'Magia': {'Name': 'Magia: Ultra Great Big Hammer', 'Two_Star': '★2: Damage One Enemy [I] &amp; Defense DOWN (Single / 3 T)', 'Three_Star': '★3: Damage One Enemy [III] &amp; Defense DOWN (Single / 3 T)', 'Four_Star': '★4: Damage One Enemy [V] &amp; Defense DOWN (Single / 3 T) &amp; Defense DOWN Further (Single / 3 T)', 'Five_Star': '★5: Damage One Enemy [VII] &amp; Defense DOWN (Single / 3 T) &amp; Defense DOWN Further (Single / 3 T) &amp; Chance to Bind (Single / 1 T)'}, 'Doppel': {'Name': 'Doppel: Beatrice', 'Desc': 'The Doppel of tumult. Its form is an eyelid.\\nThe master of this emotion falls into a deep sleep while this Doppel is present, and is therefore unable to witness what it experiences.\\nWhile its master is sleeping, it paints over all inconveniences with muddy tears that flow from its vacant stare.\\nThis duplicate will surely awaken when it requires the power to crush reality.', 'Ability': 'Damage One Enemy [IX] &amp; Defense DOWN (Single / 3 T) &amp; Defense DOWN Further (Single / 3 T) &amp; Guaranteed Bind (Single / 1 T)'}}\n"
     ]
    }
   ],
   "source": [
    "Felicia = {\n",
    "    \"Name\": \"Felicia Mitsuki\",\n",
    "    \"Age\": Age,\n",
    "    \"EyeColor\": EyeColor,\n",
    "    \"HairColor\": HairColor,\n",
    "    \"Hometown\": Hometown,\n",
    "    \"SoulGem\": SoulGem,\n",
    "    \"Weapon\": Weapon,\n",
    "    \"Wish\": Wish,\n",
    "    \"Ability\": Ability,\n",
    "    \"Witch\": Witch,\n",
    "    \"Pronoun\": Pronoun,\n",
    "    \"School\": School,\n",
    "    \"Disks\": disks,\n",
    "    \"Stats\": {\n",
    "        \"Initial\": {\n",
    "            \"HP\": initial_hp,\n",
    "            \"ATK\": initial_atk,\n",
    "            \"DEF\": initial_def\n",
    "        },\n",
    "        \"Two_Star\": {\n",
    "            \"HP\": two_star_hp,\n",
    "            \"ATK\": two_star_atk,\n",
    "            \"DEF\": two_star_def \n",
    "        },\n",
    "        \"Three_Star\": {\n",
    "            \"HP\": three_star_hp,\n",
    "            \"ATK\": three_star_atk,\n",
    "            \"DEF\": three_star_def\n",
    "        },\n",
    "        \"Four_Star\": {\n",
    "            \"HP\": four_star_hp,\n",
    "            \"ATK\": four_star_atk,\n",
    "            \"DEF\": four_star_def\n",
    "        },\n",
    "        \"Five_Star\": {\n",
    "            \"HP\": five_star_hp,\n",
    "            \"ATK\": five_star_atk,\n",
    "            \"DEF\": five_star_def        \n",
    "        },\n",
    "        \"SE\": {\n",
    "            \"HP\": se_hp,\n",
    "            \"ATK\": se_atk,\n",
    "            \"DEF\":  se_def          \n",
    "        }\n",
    "    },\n",
    "    \"Connect\": {\n",
    "        \"Name\": connect,\n",
    "        \"Two_Star\": connect_two_star,\n",
    "        \"Three_Star\": connect_three_star,\n",
    "        \"Four_Star\": connect_four_star,\n",
    "        \"Five_Star\": connect_five_star\n",
    "    },\n",
    "    \"Magia\": {\n",
    "        \"Name\": magia,\n",
    "        \"Two_Star\": magia_two_star,\n",
    "        \"Three_Star\": magia_three_star,\n",
    "        \"Four_Star\": magia_four_star,\n",
    "        \"Five_Star\": magia_five_star\n",
    "    },\n",
    "    \"Doppel\": {\n",
    "        \"Name\": doppel,\n",
    "        \"Desc\": para,\n",
    "        \"Ability\": doppel_info,\n",
    "    }\n",
    "}\n",
    "\n",
    "print(Felicia)"
   ]
  },
  {
   "cell_type": "code",
   "execution_count": 12,
   "metadata": {},
   "outputs": [
    {
     "name": "stdout",
     "output_type": "stream",
     "text": [
      "{\"Name\": \"Felicia Mitsuki\", \"Age\": \"Age: 13\", \"EyeColor\": \"Eye colour: Purple\", \"HairColor\": \"Hair colour: Yellow\", \"Hometown\": \"Origins: Minagi Ward\", \"SoulGem\": \"Soul Gem: Purple gem (stomach)\", \"Weapon\": \"Weapon: <a class=\\\"external text\\\" href=\\\"https://en.wikipedia.org/wiki/War_hammer\\\" rel=\\\"nofollow\\\">Hammer\", \"Wish\": \"Wish: \\\"I want you [Kyubey] to make it so that what just happened never happened.\\\"\", \"Ability\": \"Ability: Oblivion\", \"Witch\": \"Witch form: Beatrice\", \"Pronoun\": \"Japanese pronoun: <i>ore</i><span style=\\\"font-weight: normal\\\"> (<span class=\\\"t_nihongo_kanji\\\" lang=\\\"ja\\\">\\u30aa\\u30ec</span>)</span\", \"School\": \"School: <a href=\\\"/Schools#Chuo_Academy\\\" title=\\\"Schools\\\">Chuo Academy</a> Seventh grade\", \"Disks\": [\"Accel\", \"Blast\", \"Blast\", \"Charge\", \"Charge\"], \"Stats\": {\"Initial\": {\"HP\": \"3140\", \"ATK\": \"1305\", \"DEF\": \"994\"}, \"Two_Star\": {\"HP\": \"10186\", \"ATK\": \"4204\", \"DEF\": \"3158\"}, \"Three_Star\": {\"HP\": \"12912\", \"ATK\": \"5327\", \"DEF\": \"4003\"}, \"Four_Star\": {\"HP\": \"16996\", \"ATK\": \"7012\", \"DEF\": \"5268\"}, \"Five_Star\": {\"HP\": \"21087\", \"ATK\": \"8700\", \"DEF\": \"6530\"}, \"SE\": {\"HP\": \"25274\", \"ATK\": \"9807\", \"DEF\": \"8136\"}}, \"Connect\": {\"Name\": \"Connect: Leave the heavy hits to me!\", \"Two_Star\": \"\\u26052: Damage UP [III] &amp; Guaranteed Anti-Counter\", \"Three_Star\": \"\\u26053: Damage UP [V] &amp; Guaranteed Anti-Counter\", \"Four_Star\": \"\\u26054: Damage UP [VII] &amp; Guaranteed Anti-Counter\", \"Five_Star\": \"\\u26055: Damage UP [IX] &amp; Guaranteed Anti-Counter\"}, \"Magia\": {\"Name\": \"Magia: Ultra Great Big Hammer\", \"Two_Star\": \"\\u26052: Damage One Enemy [I] &amp; Defense DOWN (Single / 3 T)\", \"Three_Star\": \"\\u26053: Damage One Enemy [III] &amp; Defense DOWN (Single / 3 T)\", \"Four_Star\": \"\\u26054: Damage One Enemy [V] &amp; Defense DOWN (Single / 3 T) &amp; Defense DOWN Further (Single / 3 T)\", \"Five_Star\": \"\\u26055: Damage One Enemy [VII] &amp; Defense DOWN (Single / 3 T) &amp; Defense DOWN Further (Single / 3 T) &amp; Chance to Bind (Single / 1 T)\"}, \"Doppel\": {\"Name\": \"Doppel: Beatrice\", \"Desc\": \"The Doppel of tumult. Its form is an eyelid.\\nThe master of this emotion falls into a deep sleep while this Doppel is present, and is therefore unable to witness what it experiences.\\nWhile its master is sleeping, it paints over all inconveniences with muddy tears that flow from its vacant stare.\\nThis duplicate will surely awaken when it requires the power to crush reality.\", \"Ability\": \"Damage One Enemy [IX] &amp; Defense DOWN (Single / 3 T) &amp; Defense DOWN Further (Single / 3 T) &amp; Guaranteed Bind (Single / 1 T)\"}}\n"
     ]
    }
   ],
   "source": [
    "girl_json = json.dumps(Felicia)\n",
    "print(girl_json)\n",
    "\n",
    "with open('felicia.json', 'w') as json_file:\n",
    "  json.dump(girl_json, json_file)"
   ]
  },
  {
   "cell_type": "code",
   "execution_count": null,
   "metadata": {},
   "outputs": [],
   "source": []
  }
 ],
 "metadata": {
  "kernelspec": {
   "display_name": "Python 3",
   "language": "python",
   "name": "python3"
  },
  "language_info": {
   "codemirror_mode": {
    "name": "ipython",
    "version": 3
   },
   "file_extension": ".py",
   "mimetype": "text/x-python",
   "name": "python",
   "nbconvert_exporter": "python",
   "pygments_lexer": "ipython3",
   "version": "3.7.1"
  }
 },
 "nbformat": 4,
 "nbformat_minor": 2
}
