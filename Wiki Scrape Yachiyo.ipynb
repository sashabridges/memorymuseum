{
 "cells": [
  {
   "cell_type": "code",
   "execution_count": 2,
   "metadata": {},
   "outputs": [],
   "source": [
    "# Dependencies\n",
    "import os\n",
    "from bs4 import BeautifulSoup as bs\n",
    "import json\n",
    "import requests"
   ]
  },
  {
   "cell_type": "code",
   "execution_count": 3,
   "metadata": {},
   "outputs": [],
   "source": [
    "query_url = \"https://wiki.puella-magi.net/Yachiyo_Nanami\"\n",
    "response = requests.get(query_url)\n",
    "soup = bs(response.text, 'html.parser')"
   ]
  },
  {
   "cell_type": "code",
   "execution_count": 4,
   "metadata": {},
   "outputs": [
    {
     "data": {
      "text/plain": [
       "172"
      ]
     },
     "execution_count": 4,
     "metadata": {},
     "output_type": "execute_result"
    }
   ],
   "source": [
    "bullet_points = soup.find_all('li')\n",
    "len(bullet_points)"
   ]
  },
  {
   "cell_type": "code",
   "execution_count": 8,
   "metadata": {},
   "outputs": [
    {
     "name": "stdout",
     "output_type": "stream",
     "text": [
      "<li><b>Age:</b> 19 (contracted at 12)</li>\n",
      "<li><b>School:</b> Kamihama City University, First-year</li>\n"
     ]
    }
   ],
   "source": [
    "# 25- 36 General Info\n",
    "print(bullet_points[25])\n",
    "print(bullet_points[36])"
   ]
  },
  {
   "cell_type": "code",
   "execution_count": 9,
   "metadata": {},
   "outputs": [],
   "source": [
    "Yachiyo = {\n",
    "    \"Name\": \"Yachiyo Nanami\",\n",
    "    \"Age:\": str(bullet_points[25]).strip(\"<li>\").strip(\"</li>\").strip(\"<b>\").strip(\"</b>\"),\n",
    "    \"Height\": str(bullet_points[26]).strip(\"<li>\").strip(\"</li>\").strip(\"<b>\").strip(\"</b>\"),\n",
    "    \"EyeColor\": str(bullet_points[27]).strip(\"<li>\").strip(\"</li>\").strip(\"<b>\").strip(\"</b>\"),\n",
    "    \"HairColor\": str(bullet_points[28]).strip(\"<li>\").strip(\"</li>\").strip(\"<b>\").strip(\"</b>\"),\n",
    "    \"Hometown\": str(bullet_points[29]).strip(\"<li>\").strip(\"</li>\").strip(\"<b>\").strip(\"</b>\"),\n",
    "    \"SoulGem\": str(bullet_points[30]).strip(\"<li>\").strip(\"</li>\").strip(\"<b>\").strip(\"</b>\"),\n",
    "    \"Weapon\": str(bullet_points[31]).strip(\"<li>\").strip(\"</li>\").strip(\"<b>\").strip(\"</b>\"),\n",
    "    \"Wish\": str(bullet_points[32]).strip(\"<li>\").strip(\"</li>\").strip(\"<b>\").strip(\"</b>\"),\n",
    "    \"Ability\": str(bullet_points[33]).strip(\"<li>\").strip(\"</li>\").strip(\"<b>\").strip(\"</b>\"),\n",
    "    \"Witch\": str(bullet_points[34]).strip(\"<li>\").strip(\"</li>\").strip(\"<b>\").strip(\"</b>\"),\n",
    "    \"Pronoun\": str(bullet_points[35]).strip(\"<li>\").strip(\"</li>\").strip(\"<b>\").strip(\"</b>\"),\n",
    "    \"School\": str(bullet_points[36]).strip(\"<li>\").strip(\"</li>\").strip(\"<b>\").strip(\"</b>\")\n",
    "}"
   ]
  },
  {
   "cell_type": "code",
   "execution_count": 10,
   "metadata": {},
   "outputs": [
    {
     "name": "stdout",
     "output_type": "stream",
     "text": [
      "{'Name': 'Yachiyo Nanami', 'Age:': 'Age:</b> 19 (contracted at 12)', 'Height': 'Height:</b> 165cm', 'EyeColor': 'Eye colour:</b> Blue', 'HairColor': 'Hair colour:</b> Blue', 'Hometown': 'Origins:</b> Shinsei Ward', 'SoulGem': 'Soul Gem:</b> Blue crescent moon (beneath chest)', 'Weapon': 'Weapon:</b> <a class=\"external text\" href=\"https://en.m.wikipedia.org/wiki/Halberd\" rel=\"nofollow\">Halberd</a', 'Wish': 'Wish:</b> \"I want to survive.\"', 'Ability': 'Ability:</b> To receive hope (take over the power of the dead)', 'Witch': 'Witch form:</b> Campanella', 'Pronoun': 'Japanese pronoun:</b> <i>watashi</i><span style=\"font-weight: normal\"> (<span class=\"t_nihongo_kanji\" lang=\"ja\">私</span>)</span', 'School': 'School:</b> Kamihama City University, First-year'}\n"
     ]
    }
   ],
   "source": [
    "print(Yachiyo)"
   ]
  },
  {
   "cell_type": "code",
   "execution_count": 11,
   "metadata": {},
   "outputs": [
    {
     "name": "stdout",
     "output_type": "stream",
     "text": [
      "[<p>English: <a class=\"external text\" href=\"https://twitter.com/ErikaHarlacher/status/1225171413650169856\" rel=\"nofollow\">Erika Harlacher</a><br/>\n",
      "Russian: Tatyana Borzova\n",
      "</p>, <p><b>Yachiyo Nanami</b> is the one of the original characters of the 2017 mobile game <a href=\"/Puella_Magi_Madoka_Magica_Side_Story:_Magia_Record\" title=\"Puella Magi Madoka Magica Side Story: Magia Record\">Puella Magi Madoka Magica Side Story: Magia Record</a>\n",
      "</p>, <p><br/>\n",
      "</p>, <p>A seasoned Magical Girl who has fought witches for 7 years in Kamihama. Yachiyo is well informed about the city and Magical Girls in general. She keeps her distance from other Magical Girls while she compiles files on the Rumors of Kamihama City.\n",
      "</p>, <p>The Doppel of ticket-taking.<sup class=\"reference\" id=\"cite_ref-1\"><a href=\"#cite_note-1\">[1]</a></sup> Her form is that of a ticket puncher. This Doppel is a replica of ticket-taking. When her soul gem turns black, both of Yachiyo's hands and her left leg transforms and assumes this form. Since the person who uses this Doppel has been a magical girl for a long time and is of a relatively older age than the other girls, the range of her emotions is considerably smaller compared to those of adolescent young girls. As a result, the Doppel is unable to completely separate herself from the magical girl's body and occasionally assumes a form where the owner and the Doppel are fused into one.\n",
      "</p>, <p>The Doppel of admittance. Its form is a ticket puncher. The master of this Doppel dreams of the day she will begin her journey, following in the footsteps of all the friends she has parted from. The light from the lantern at the end of the Doppel's tail can call forth a myriad of illusions, and the scissors are said to cause great devastation in the near futures of those who have been harmed by them. As Magical Girls get older, their emotional range becomes smaller, and such is the case for this master, who cannot separate her body from her Doppel.\n",
      "</p>, <p>Yachiyo's side story occurs around a year before <a href=\"/Iroha_Tamaki\" title=\"Iroha Tamaki\">Iroha Tamaki</a> came to <a href=\"/Kamihama_City\" title=\"Kamihama City\">Kamihama City</a>. It begins with Yachiyo having <a href=\"/Momoko_Togame\" title=\"Momoko Togame\">Momoko Togame</a>, <a href=\"/Rena_Minami\" title=\"Rena Minami\">Rena Minami</a>, and <a href=\"/Kaede_Akino\" title=\"Kaede Akino\">Kaede Akino</a> over at her house. After Yachiyo excuses herself, Kaede says it's a big house, and Momoko explains it used to be a boarding house. Kaede says this is only the second time Rena and herself met Yachiyo. Rena says the first time was when they were fighting a witch in \"Shinnishi\" and Momoko says they just ran into her this time. It turns out Momoko met Yachiyo two years ago, right when she became a magical girl. Even now, she sometimes teams up with her. Kaede is amazed that Yachiyo has six years of experience. Momoko says not to bring that up, because Yachiyo believes it makes her sound old.\n",
      "</p>, <p>Yachiyo returns with snacks. She says as magical girls they need to get along. Momoko invites her friends to ask Yachiyo anything. Unable to think of a question, Kaede asks her favorite food, and Yachiyo says it's <a class=\"external text\" href=\"https://en.wikipedia.org/wiki/Buckwheat\" rel=\"nofollow\">soba</a>. The narration states that most of the questions the girls asks Yachiyo were safe ones. Afterward, Yachiyo leaves to make tea. Rena helps herself to a donut Yachiyo left behind. When she returns, Yachiyo quickly notices her donut is missing and pegs Rena as the culprit. Rena apologizes, and Yachiyo says it's alright. Yachiyo explains she saw the sugar from the donut around Rena's lips. When Momoko points out they all ate donuts earlier, Yachiyo says the others wiped their mouths when they stopped eating a little while ago. Kaede and Momoko say Yachiyo is a detective, but Yachiyo says that would be an insult to Holmes and Poirot.\n",
      "</p>, <p>When it gets late, Momoko's team prepares to leave. However, Kaede remembers they have something to bring up with Yachyo. Momoko asks her if she knows about the \"Dueling Girl\". While they only know about it from another magical girl, there's apparently a magical girl that randomly challenges others to a duel. Rena says she's supposedly pretty strong. Yachiyo thanks them and says she'll let her other friends know. She says that if the others see the Dueling Girl they should call her immediately. Yachiyo thinks she has to protect those kids, and wonders what sort of person the Dueling Girl is.\n",
      "</p>, <p>Several days later, Momoko's team encounters the Dueling Girl and contacts Yachiyo. The Dueling Girl introduces herself as <a href=\"/Tsuruno_Yui\" title=\"Tsuruno Yui\">Tsuruno Yui</a>, who wants to return honor to her family name. She says she'll defeat them all for her grand ambition. When Rena asks her to explain, Tsuruno says she won't waste her breath. Yachiyo says she doesn't want to fight without a reason. Tsuruno reluctantly admits she wants to be the strongest magical girl, which equals the highest honor. Rena still doesn't understand. Yachiyo says she will be Tsuruno's opponent.\n",
      "</p>, <p>As the battle begins, the other girls see that Tsuruno is really strong, but Yachiyo perfectly counters her moves. Tsuruno is able to land a hit on Yachiyo, who decides to change tactics. When Tsuruno sees an opening, she hits Yachiyo...who disappears. Suddenly Tsuruno hears the real Yachiyo say that was just a dummy. Yachiyo then uses magic to wrap Tsuruno up in rope. Tsuruno realizes she was tricked, and asks to be finished off. Momoko and Kaede says to just end the fight now, but Yachiyo seems to consider Tsuruno's request. She appears to attack, but it turns out she was only removing Tsuruno's rope. Yachiyo says that Tsuruno should stop doing this or else she will really be in trouble someday.\n",
      "</p>, <p>Yachiyo asks why Tsuruno wants to be the strongest. Tsuruno answers it's to obtain the highest honor. Next, Yachiyo asks if the highest honor can only be obtained through strength, and Tsuruno says you have to be number one. Yachiyo then asks what Tsuruno will do once she reaches her goal. Tsuruno says she has to achieve something big. Yachiyo asks if Tsuruno means to continue until she's hurt lots of people. Tsuruno denies this and says she wants to become \"the strongest magical girl who pierces evil\". Yachiyo finally asks what Tsuruno wants to do after she and her allies finish hurting each other. A stuttering Tsuruno says she's wrong, and shouts she has to become the strongest.\n",
      "</p>, <p>Yachiyo and Tsuruno fight six more times, with Yachiyo winning each time. Yachiyo asks if Tsuruno has any Grief Seeds. Tsuruno answers it's none of her business. Yachiyo says she can't forgive magical girls hurting each other. She says Tsuruno doesn't know how to use her strength, that being a magical girl is difficult, and for that reason they should be friends. She tells Tsuruno to stop dueling and claims Tsuruno herself knows she been doing something wrong. Tsuruno starts crying and runs off. Yachiyo wonders if Tsuruno understood. In her narration, Yachiyo admits it felt like she was halfway near the end of her rope.\n",
      "</p>, <p>Several days later, Momoko's team runs into Tsuruno again. Kaede runs to get Yachiyo while the other two keep Tsuruno busy. Yachiyo arrives to find Momoko unconscious. Rena says that she and Momoko tried talking to Tsuruno, who started mumbling. Tsuruno claims she was just trying to meet Yachiyo again. Yachiyo says the place suddenly became pitch-black before she arrived. Rena says that after the black out Momoko was knocked out. Rena claims that Tsuruno used magic to make the place dark and attack Momoko but Tsuruno says she can't use magic like that. Yachiyo looks at Tsuruno and agrees it wasn't Tsuruno who did it. She then attacks Tsuruno, who suddenly turns into a familiar!\n",
      "</p>, <p>Yachiyo explains that a witch set a trap for them to turn the girls against she other. She believes the actual Tsuruno was captured by the witch. Kaede, Rena and Yachiyo defeat the witch and rescue Tsuruno. Afterward, Rena claims Yachiyo is a detective and asks how she figured it out. Yachiyo says that if you concentrate and look at the enemy, you can roughly sense their psychological state. Yachiyo says she's not a detective because using supernatural abilities is against the rules of mysteries. Tsurno suddenly starts saying she lost completely, and asks if she can be Yachiyo's apprentice.\n",
      "</p>, <p>Suddenly Momoko begins to wake up. Rena starts explaining what happened to her, and wonders if Yachiyo used her magic to learn who took the donut from earlier. The narration states that Tsuruno stopped dueling others. While she did not become Yachiyo's apprentice, she did become a \"friend\" to Yachiyo and Momoko's team. It's explained that the bond between them would be shattered due to a future incident, but back then, Yachiyo believed that she would protect everyone, no matter what. Yachiyo narrates that witches also have tricks up their sleeves, and that she'll have to be careful from now on.\n",
      "</p>, <p>Yachiyo finds her old high school uniform when cleaning her room. She remembers the times she spent with <a href=\"/Mifuyu_Azusa\" title=\"Mifuyu Azusa\">Mifuyu Azusa</a>, <a href=\"/Kanae_Yukino\" title=\"Kanae Yukino\">Kanae Yukino</a>, and <a class=\"mw-redirect\" href=\"/Meru_Anna\" title=\"Meru Anna\">Meru Anna</a>. However, she only thinks of really awkward memories, including times when Kanae and Meru thought she doesn't look like a high school student. Yachiyo then tries remembering a time with Momoko, but that ends the same way. At this point, Iroha enters. She says Yachiyo looks good in her old uniform, much to Yachiyo's relief.\n",
      "</p>, <p>At the beach, Iroha asks Yachiyo how she keeps her skin pale. Yachiyo says it's food, but then clarifies it's white food, such as rice, squid, or tofu. Yachiyo admits she has to use sunscreen when modeling, and finds it a hassle. Iroha, Rena and Tsuruno figure that Yachiyo is just naturally pale, and wonder if Yachiyo was being serious earlier.\n",
      "</p>, <p>As shown in the manga adaptation, Yachiyo uses water magic, and is capable of creating shields and spears out of water. She can use this magic even when not transformed.\n",
      "</p>, <p>Magia Record 2 Star card\n",
      "</p>, <p>Magia Record 3 Star card\n",
      "</p>, <p>Magia Record 4 Star card\n",
      "</p>, <p>Magia Record 5 Star card\n",
      "</p>, <p>In-battle Sprite\n",
      "</p>, <p>In-battle Sprite (Five Star)\n",
      "</p>, <p>In-battle Doppel Sprite\n",
      "</p>, <p>New Year's outfit\n",
      "</p>, <p>Yachiyo in Pajamas\n",
      "</p>, <p>April Fool's sprite\n",
      "</p>, <p>Magical Girl Seal 2019\n",
      "</p>, <p>Yachiyo's Soul Gem in the Anime\n",
      "</p>, <p>Image is from an official livestream event on September 1st, 2018. The artist is Fujino Fuji\n",
      "</p>, <p><a class=\"external text\" href=\"https://twitter.com/shaft_official/status/1035900395619528709\" rel=\"nofollow\">Source</a>\n",
      "</p>, <p>Yachiyo in the manga\n",
      "</p>, <p>Concept art from the anime\n",
      "</p>, <p><a class=\"external text\" href=\"http://bpnavi.jp/s/kuji/pc/medias/show_by_key/magireco3-01\" rel=\"nofollow\">Source</a>\n",
      "</p>, <p><a class=\"external text\" href=\"http://www.lawson.co.jp/campaign/magireco/rt.html\" rel=\"nofollow\">Source</a>\n",
      "</p>, <p><a class=\"external text\" href=\"http://sega-collabocafe.com/magireco.html\" rel=\"nofollow\">Source</a>\n",
      "</p>, <p><a class=\"external text\" href=\"https://twitter.com/magireco/status/1024461378956840960\" rel=\"nofollow\">Source</a>\n",
      "</p>, <p><a class=\"external text\" href=\"https://www.animenewsnetwork.com/interest/2018-08-09/shaft-cancels-madoka-game-planned-swimsuit-comiket-merchandise/.135299\" rel=\"nofollow\">Source</a>\n",
      "</p>, <p>辞めてしまえば、惨めだったことも、悲しんだことも、\n",
      "幸せだったことも、全部無くなってしまう気がするのよね」\n",
      "</p>, <p>\"Yes...I wonder if the colors are compatible. I want to choose a light blue this time, but other pinks would work well with blue as well.\"\n",
      "\"Blue and pink...somehow, it looks like us!\"\n",
      "</p>, <p>「そうね…やっぱり色の相性かしら　今回は水色を選んだけど、\n",
      "他にはピンクなんかも、青と相性がいいわね」\n",
      "「青とピンク…なんだか、それって私たちみたいですね！」\n",
      "</p>, <p>いろは「や、やちよさん引っ張らないで！泳げなくてもいいんです！」\n",
      "鶴乃「やちよ！いろはちゃん！」やちよ「え？」いろは「ん？」\n",
      "パシャッ！\n",
      "鶴乃「この由比鶴乃がツーショットを頂いたよ！」\n",
      "</p>, <p>\"As expected of Master Yachiyo! That's so generous!\"\n",
      "\"Yeah...! Thank you so much...Yachiyo-san!\"\n",
      "(Fufu...It's so delightful to be able to hand out New Year's Gifts like this.)\n",
      "</p>, <p>「さっすがやちよししょー！太っ腹だよね！」\n",
      "「うん…！ありがとうございます…やちよさん！」\n",
      "（ふふ…お年玉って、渡す方もこんなに嬉しいものなのね）\n",
      "</p>, <p>Kamihama and Mitakihara, Past and Future, Hope and Despair…and Salvation.\n",
      "There were many encounters, a number of causalities were spun.\n",
      "Everytime they overlap they are connected, into one more story\n",
      "(Comic Rise Collaboration Memorial)\n",
      "</p>, <p>神浜と見滝原、過去と未来、希望と絶望…そして救い\n",
      "いくつもの出会い、いくつもの因果が紡がれ、重なり合うたびに\n",
      "つながってゆく、もうひとつのストーリー（コミカライズ記念）\n",
      "</p>, <p>数多見てきた悲しい光景…数多味わってきた辛い経験…。\n",
      "それでも、私は生きることを決して諦めはしない。\n",
      "過去を無意味なものにしないためにも…」\n",
      "</p>, <p>I can do it now, I’ll pay for the stack of sins if that’s the case,\n",
      "Now I, I want to save myself by doing as much as I can do…\n",
      "For the Black Feathers and the White Feathers too, As well as Yacchan…”\n",
      "</p>, <p>今のワタシにできるのは、重ねた罪を購うこと\n",
      "それなら、ワタシは今、自分が出来うる事をして多くを救いたい…\n",
      "黒羽根のことも白羽根のことも、そしてやっちゃんのことも…」\n",
      "</p>, <p>参京区の学校に現れる謎の兵隊…。\n",
      "信憑性の高い、噂や都市伝説がまとめられた\"神浜うわさファイル\"。\n",
      "今日もまた１つ、新しい\"噂\"が記録された。\n",
      "</p>, <p>When you skillfully arrange black tea and sweets, this is the perfect spot for a break once you’ve prepared!\n",
      "Because of all this trouble, let’s invite plenty of friends (T Card Collab Commemoration)\n",
      "</p>, <p>手際良く紅茶とお菓子の準備をしたら\n",
      "とっておきの休憩スポットが完成！\n",
      "せっかくだから、友達をたくさん誘っちゃおう（Tカードコラボ記念）\n",
      "</p>, <p>死者は見守り、生者は未来へ進む\n",
      "もう、同じ時を歩むことはできないけれど\n",
      "在りし日の思い出が、色あせることは決してない\n",
      "</p>, <p>\"I'm very glad to have found my favorite original menu.\"\n",
      "\"It's kind of peaceful today.\" (CoCo Ichi Collaboration Commemoration)\n",
      "</p>, <p>一見合わないセットも案外デリシャスだったりするワケ」\n",
      "「自分好みのオリジナルメニューが見つかると、すっごく嬉しいわね」\n",
      "「今日はなんだか平和ですねー」（ココイチコラボ記念）\n",
      "</p>, <p>鮮やかな青い空、広い海、仲間たちの笑顔…\n",
      "みんなと過ごしたあの夏の旅の想い出は\n",
      "一生に一度だけの、かけがえのない記憶\n",
      "</p>, <p>Iroha: \"Yeah! Is it almost ready to eat?\"\n",
      "Yachiyo: \"Wait!...Not yet. I'll know when it's ready.\"\n",
      "Tsuruno &amp; Felicia: \"Fufufu... Chaaarge!\"\n",
      "</p>, <p>いろは「うん！そろそろ食べごろかな？」\n",
      "やちよ「待って！...まだよ…食べ頃は私が見極めるわ」\n",
      "鶴乃＆フェリシア「ふつふつふつ...突撃だぁー！」\n",
      "</p>, <p>\"Don't worry, we are not alone.\"\n",
      "And I hope that one day, perhaps,\n",
      "this warmth will melt away all the anxiety in our hearts.\n",
      "I wish for you to melt all of that anxiety with this warmth.\n",
      "</p>, <p>大丈夫、私たちはひとりじゃないって\n",
      "そして、いつの日にか…\n",
      "このぬくもりが抱える不安全てを溶かしてくれますように\n",
      "</p>]\n"
     ]
    }
   ],
   "source": [
    "para = soup.find_all('p')\n",
    "print(para)"
   ]
  },
  {
   "cell_type": "code",
   "execution_count": 14,
   "metadata": {},
   "outputs": [
    {
     "name": "stdout",
     "output_type": "stream",
     "text": [
      "The Doppel of admittance. Its form is a ticket puncher. The master of this Doppel dreams of the day she will begin her journey, following in the footsteps of all the friends she has parted from. The light from the lantern at the end of the Doppel's tail can call forth a myriad of illusions, and the scissors are said to cause great devastation in the near futures of those who have been harmed by them. As Magical Girls get older, their emotional range becomes smaller, and such is the case for this master, who cannot separate her body from her Doppel.\n"
     ]
    }
   ],
   "source": [
    "yach_para = str(para[5])\n",
    "yach_para = yach_para.strip(\"<p>\")\n",
    "yach_para = yach_para.strip(\"</p>\")\n",
    "yach_para = yach_para.rstrip()\n",
    "print(yach_para)"
   ]
  },
  {
   "cell_type": "code",
   "execution_count": 15,
   "metadata": {},
   "outputs": [
    {
     "data": {
      "text/plain": [
       "<td style=\"width:25%;\"><b>Rarity</b>\n",
       "</td>"
      ]
     },
     "execution_count": 15,
     "metadata": {},
     "output_type": "execute_result"
    }
   ],
   "source": [
    "table_data = soup.find_all('td')\n",
    "table_data[8]"
   ]
  },
  {
   "cell_type": "code",
   "execution_count": 24,
   "metadata": {},
   "outputs": [
    {
     "name": "stdout",
     "output_type": "stream",
     "text": [
      "3630 1164 1211\n",
      "11376 3673 4008\n",
      "14406 4655 5082\n",
      "18948 6123 6695\n",
      "23479 7588 8316\n",
      "25639 8329 11090\n"
     ]
    }
   ],
   "source": [
    "# table_data[8] through\n",
    "# Headers no1 8, 9,10, 11\n",
    "# Data 12, 13, 14, 15 - 15 is a Link Picture\n",
    "# Headers no2 16, 17, 18, 19\n",
    "# initial 20, 21, 22, 23\n",
    "initial_hp = str(table_data[21]).replace('<td style=\"width:25%;\">', '').replace('</td>', '').rstrip()\n",
    "initial_atk = str(table_data[22]).replace('<td style=\"width:25%;\">', '').replace('</td>', '').rstrip()\n",
    "initial_def = str(table_data[23]).replace('<td style=\"width:25%;\">', '').replace('</td>', '').rstrip()\n",
    "# max at 2* 25, 26, 27\n",
    "two_star_hp = str(table_data[25]).replace('<td style=\"width:25%;\">', '').replace('</td>', '').rstrip()\n",
    "two_star_atk = str(table_data[26]).replace('<td style=\"width:25%;\">', '').replace('</td>', '').rstrip()\n",
    "two_star_def = str(table_data[27]).replace('<td style=\"width:25%;\">', '').replace('</td>', '').rstrip()\n",
    "# max at 3* 29, 30, 31\n",
    "three_star_hp = str(table_data[29]).replace('<td style=\"width:25%;\">', '').replace('</td>', '').rstrip()\n",
    "three_star_atk = str(table_data[30]).replace('<td style=\"width:25%;\">', '').replace('</td>', '').rstrip()\n",
    "three_star_def = str(table_data[31]).replace('<td style=\"width:25%;\">', '').replace('</td>', '').rstrip()\n",
    "# max at 4* 33, 34, 35\n",
    "four_star_hp = str(table_data[33]).replace('<td style=\"width:25%;\">', '').replace('</td>', '').rstrip()\n",
    "four_star_atk = str(table_data[34]).replace('<td style=\"width:25%;\">', '').replace('</td>', '').rstrip()\n",
    "four_star_def = str(table_data[35]).replace('<td style=\"width:25%;\">', '').replace('</td>', '').rstrip()\n",
    "# max at 5* 37, 38, 39\n",
    "five_star_hp = str(table_data[37]).replace('<td style=\"width:25%;\">', '').replace('</td>', '').rstrip()\n",
    "five_star_atk = str(table_data[38]).replace('<td style=\"width:25%;\">', '').replace('</td>', '').rstrip()\n",
    "five_star_def = str(table_data[39]).replace('<td style=\"width:25%;\">', '').replace('</td>', '').rstrip()\n",
    "# Max SE 41, 42, 43\n",
    "se_hp = str(table_data[41]).replace('<td style=\"width:25%;\">', '').replace('</td>', '').rstrip()\n",
    "se_atk = str(table_data[42]).replace('<td style=\"width:25%;\">', '').replace('</td>', '').rstrip()\n",
    "se_def = str(table_data[43]).replace('<td style=\"width:25%;\">', '').replace('</td>', '').rstrip()\n",
    "print(initial_hp, initial_atk, initial_def)\n",
    "print(two_star_hp, two_star_atk, two_star_def)\n",
    "print(three_star_hp, three_star_atk, three_star_def)\n",
    "print(four_star_hp, four_star_atk, four_star_def)\n",
    "print(five_star_hp, five_star_atk, five_star_def)\n",
    "print(se_hp, se_atk, se_def)"
   ]
  },
  {
   "cell_type": "code",
   "execution_count": 20,
   "metadata": {},
   "outputs": [
    {
     "name": "stdout",
     "output_type": "stream",
     "text": [
      "['Accel', 'Blast', 'Blast', 'Blast', 'Charge']\n"
     ]
    }
   ],
   "source": [
    "# data 44 through 48 is disks\n",
    "# if condition on alt attribute to determine what type of data to put where\n",
    "\n",
    "disk_one = str(table_data[44])\n",
    "disk_two = str(table_data[45])\n",
    "disk_three = str(table_data[46])\n",
    "disk_four = str(table_data[47])\n",
    "disk_five = str(table_data[48])\n",
    "\n",
    "if (disk_one.find(\"accel\") != -1):\n",
    "    disk_one = \"Accel\"\n",
    "elif (disk_one.find(\"blast\") != -1):\n",
    "    disk_one = \"Blast\"\n",
    "else:\n",
    "    disk_one = \"Charge\"\n",
    "    \n",
    "if (disk_two.find(\"accel\") != -1):\n",
    "    disk_two = \"Accel\"\n",
    "elif (disk_two.find(\"blast\") != -1):\n",
    "    disk_two = \"Blast\"\n",
    "else:\n",
    "    disk_two = \"Charge\"\n",
    "\n",
    "if (disk_three.find(\"accel\") != -1):\n",
    "    disk_three = \"Accel\"\n",
    "elif (disk_three.find(\"blast\") != -1):\n",
    "    disk_three = \"Blast\"\n",
    "else:\n",
    "    disk_three = \"Charge\"\n",
    "    \n",
    "if (disk_four.find(\"accel\") != -1):\n",
    "    disk_four = \"Accel\"\n",
    "elif (disk_four.find(\"blast\") != -1):\n",
    "    disk_four = \"Blast\"\n",
    "else:\n",
    "    disk_four = \"Charge\"\n",
    "    \n",
    "if (disk_five.find(\"accel\") != -1):\n",
    "    disk_five = \"Accel\"\n",
    "elif (disk_five.find(\"blast\") != -1):\n",
    "    disk_five = \"Blast\"\n",
    "else:\n",
    "    disk_five = \"Charge\"\n",
    "    \n",
    "disks = [disk_one, disk_two, disk_three, disk_four, disk_five]\n",
    "print(disks)"
   ]
  },
  {
   "cell_type": "code",
   "execution_count": 25,
   "metadata": {},
   "outputs": [
    {
     "name": "stdout",
     "output_type": "stream",
     "text": [
      "★2: Blast Damage UP [III] &amp; Probability Critical [III]\n",
      "★3: Blast Damage UP [V] &amp; Probability Critical [V]\n",
      "★4: Blast Damage UP [VII] &amp; Probability Critical [VII]\n",
      "★5: Blast Damage UP [IX] &amp; Probability Critical [IX] &amp; Restore HP to Iroha\n"
     ]
    }
   ],
   "source": [
    "# table_data 49 through 52 are Connect Info\n",
    "connect_two_star = str(table_data[49])\n",
    "connect_three_star = str(table_data[50])\n",
    "connect_four_star = str(table_data[51])\n",
    "connect_five_star = str(table_data[52])\n",
    "\n",
    "connect_two_star = connect_two_star.replace('</td>', '')\n",
    "connect_two_star = connect_two_star.replace('<td style=\"width:100%;\">', '')\n",
    "connect_two_star = connect_two_star.rstrip()\n",
    "print(connect_two_star)\n",
    "\n",
    "connect_three_star = connect_three_star.replace('</td>', '')\n",
    "connect_three_star = connect_three_star.replace('<td style=\"width:100%;\">', '')\n",
    "connect_three_star = connect_three_star.rstrip()\n",
    "print(connect_three_star)\n",
    "\n",
    "connect_four_star = connect_four_star.replace('</td>', '')\n",
    "connect_four_star = connect_four_star.replace('<td style=\"width:100%;\">', '')\n",
    "connect_four_star = connect_four_star.rstrip()\n",
    "print(connect_four_star)\n",
    "\n",
    "connect_five_star = connect_five_star.replace('</td>', '')\n",
    "connect_five_star = connect_five_star.replace('<td style=\"width:100%;\">', '')\n",
    "connect_five_star = connect_five_star.rstrip()\n",
    "print(connect_five_star)"
   ]
  },
  {
   "cell_type": "code",
   "execution_count": 26,
   "metadata": {},
   "outputs": [
    {
     "name": "stdout",
     "output_type": "stream",
     "text": [
      "★2: Damage to all enemies [I] &amp; Blast Damage UP (All / 3 T)\n",
      "★3: Damage to all enemies [III] &amp; Blast Damage UP (All / 3 T)\n",
      "★4: Damage to all enemies [V] &amp; Blast Damage UP (All / 3 T) &amp; Attack UP (Self / 3 T)\n",
      "★5: Damage to all enemies [VII] &amp; Blast Damage UP (All / 3 T) &amp; Attack UP (All / 3 T)\n"
     ]
    }
   ],
   "source": [
    "# table_data 53 through 56 are Magia Info\n",
    "table_data[58]\n",
    "magia_two_star = str(table_data[53])\n",
    "magia_three_star = str(table_data[54])\n",
    "magia_four_star = str(table_data[55])\n",
    "magia_five_star = str(table_data[56])\n",
    "\n",
    "magia_two_star = magia_two_star.replace('</td>', '')\n",
    "magia_two_star = magia_two_star.replace('<td style=\"width:100%;\">', '')\n",
    "magia_two_star = magia_two_star.rstrip()\n",
    "print(magia_two_star)\n",
    "\n",
    "magia_three_star = magia_three_star.replace('</td>', '')\n",
    "magia_three_star = magia_three_star.replace('<td style=\"width:100%;\">', '')\n",
    "magia_three_star = magia_three_star.rstrip()\n",
    "print(magia_three_star)\n",
    "\n",
    "magia_four_star = magia_four_star.replace('</td>', '')\n",
    "magia_four_star = magia_four_star.replace('<td style=\"width:100%;\">', '')\n",
    "magia_four_star = magia_four_star.rstrip()\n",
    "print(magia_four_star)\n",
    "\n",
    "magia_five_star = magia_five_star.replace('</td>', '')\n",
    "magia_five_star = magia_five_star.replace('<td style=\"width:100%;\">', '')\n",
    "magia_five_star = magia_five_star.rstrip()\n",
    "print(magia_five_star)"
   ]
  },
  {
   "cell_type": "code",
   "execution_count": 28,
   "metadata": {},
   "outputs": [
    {
     "name": "stdout",
     "output_type": "stream",
     "text": [
      "Damage to all enemies [IX] &amp; Blast Damage UP (All / 3 T) &amp; Attack UP (All / 3 T)\n"
     ]
    }
   ],
   "source": [
    "# table_data 57 is Doppel Info\n",
    "table_data[57]\n",
    "doppel_info = str(table_data[57])\n",
    "doppel_info = doppel_info.replace('<td style=\"width:100%;\">', '')\n",
    "doppel_info = doppel_info.replace('</td>', '')\n",
    "doppel_info = doppel_info.rstrip()\n",
    "print(doppel_info)"
   ]
  },
  {
   "cell_type": "code",
   "execution_count": 29,
   "metadata": {},
   "outputs": [
    {
     "name": "stdout",
     "output_type": "stream",
     "text": [
      "<th colspan=\"5\"><b>Magia:</b> <i>Absolute Rain</i>\n",
      "</th>\n",
      "<th colspan=\"5\"><b>Doppel:</b> <i>Campanella</i>\n",
      "</th>\n"
     ]
    }
   ],
   "source": [
    "table_head = soup.find_all('th')\n",
    "connect = str(table_head[3])\n",
    "magia = str(table_head[4])\n",
    "doppel = str(table_head[5])\n",
    "print(magia)\n",
    "print(doppel)"
   ]
  },
  {
   "cell_type": "code",
   "execution_count": 31,
   "metadata": {},
   "outputs": [
    {
     "name": "stdout",
     "output_type": "stream",
     "text": [
      "Connect: I'll Light the Way\n",
      "Magia: Absolute Rain\n",
      "Doppel: Campanella\n"
     ]
    }
   ],
   "source": [
    "connect = connect.strip('<th colspan=\"5\">')\n",
    "connect = connect.strip('b>')\n",
    "connect = connect.replace('</b>', '')\n",
    "connect = connect.replace('<i>', '')\n",
    "connect = connect.replace('</i>', '')\n",
    "connect = connect.strip('</')\n",
    "connect = connect.rstrip()\n",
    "print(connect)\n",
    "\n",
    "magia = magia.strip('<th colspan=\"5\">')\n",
    "magia = magia.strip('b>')\n",
    "magia = magia.replace('</b>', '')\n",
    "magia = magia.replace('<i>', '')\n",
    "magia = magia.replace('</i>', '')\n",
    "magia = magia.strip('</')\n",
    "magia = magia.rstrip()\n",
    "print(magia)\n",
    "\n",
    "doppel = doppel.strip('<th colspan=\"5\">')\n",
    "doppel = doppel.strip('b>')\n",
    "doppel = doppel.replace('<b>', '')\n",
    "doppel = doppel.replace('</b>', '')\n",
    "doppel = doppel.replace('<i>', '')\n",
    "doppel = doppel.replace('</i>', '')\n",
    "doppel = doppel.strip('</')\n",
    "doppel = doppel.rstrip()\n",
    "print(doppel)"
   ]
  },
  {
   "cell_type": "code",
   "execution_count": 32,
   "metadata": {},
   "outputs": [
    {
     "name": "stdout",
     "output_type": "stream",
     "text": [
      "Age: 19 (contracted at 12)\n",
      "Height: 165cm\n",
      "Eye colour: Blue\n",
      "Hair colour: Blue\n",
      "Origins: Shinsei Ward\n",
      "Soul Gem: Blue crescent moon (beneath chest)\n",
      "Weapon: <a class=\"external text\" href=\"https://en.m.wikipedia.org/wiki/Halberd\" rel=\"nofollow\">Halberd\n",
      "Wish: \"I want to survive.\"\n",
      "Ability: To receive hope (take over the power of the dead)\n",
      "Witch form: Campanella\n",
      "Japanese pronoun: <i>watashi</i><span style=\"font-weight: normal\"> (<span class=\"t_nihongo_kanji\" lang=\"ja\">私</span>)</span\n",
      "School: Kamihama City University First-year\n"
     ]
    }
   ],
   "source": [
    "Age = str(bullet_points[25]).strip(\"<li>\").strip(\"</li>\").strip(\"<b>\").replace(\"</b>\", \"\").replace(',', '')\n",
    "print(Age)\n",
    "Height = str(bullet_points[26]).strip(\"<li>\").strip(\"</li>\").strip(\"<b>\").replace(\"</b>\", \"\").replace(',', '')\n",
    "print(Height)\n",
    "EyeColor = str(bullet_points[27]).strip(\"<li>\").strip(\"</li>\").strip(\"<b>\").replace(\"</b>\", \"\").replace(',', '')\n",
    "print(EyeColor)\n",
    "HairColor = str(bullet_points[28]).strip(\"<li>\").strip(\"</li>\").strip(\"<b>\").replace(\"</b>\", \"\").replace(',', '')\n",
    "print(HairColor)\n",
    "Hometown = str(bullet_points[29]).strip(\"<li>\").strip(\"</li>\").strip(\"<b>\").replace(\"</b>\", \"\").replace(',', '')\n",
    "print(Hometown)\n",
    "SoulGem = str(bullet_points[30]).strip(\"<li>\").strip(\"</li>\").strip(\"<b>\").replace(\"</b>\", \"\").replace(',', '')\n",
    "print(SoulGem)\n",
    "Weapon = str(bullet_points[31]).strip(\"<li>\").strip(\"</li>\").strip(\"<b>\").replace(\"</b>\", \"\").replace('</a', '').replace('<a class=\"external text\" href=\"https://en.wikipedia.org/wiki/Crossbow\" rel=\"nofollow\">', '')\n",
    "print(Weapon)\n",
    "Wish = str(bullet_points[32]).strip(\"<li>\").strip(\"</li>\").strip(\"<b>\").replace(\"</b>\", \"\").replace(',', '')\n",
    "print(Wish)\n",
    "Ability = str(bullet_points[33]).strip(\"<li>\").strip(\"</li>\").strip(\"<b>\").replace(\"</b>\", \"\").replace(',', '')\n",
    "print(Ability)\n",
    "Witch = str(bullet_points[34]).strip(\"<li>\").strip(\"</li>\").strip(\"<b>\").replace(\"</b>\", \"\").replace(',', '')\n",
    "print(Witch)\n",
    "Pronoun = str(bullet_points[35]).strip(\"<li>\").strip(\"</li>\").strip(\"<b>\").replace(\"</b>\", \"\").replace(',', '')\n",
    "print(Pronoun)\n",
    "School = str(bullet_points[36]).strip(\"<li>\").strip(\"</li>\").strip(\"<b>\").replace(\"</b>\", \"\").replace(',', '')\n",
    "print(School)"
   ]
  },
  {
   "cell_type": "code",
   "execution_count": 33,
   "metadata": {},
   "outputs": [],
   "source": [
    "Yachiyo = {\n",
    "    \"Name\": \"Yachiyo Nanami\",\n",
    "    \"Age\": Age,\n",
    "    \"EyeColor\": EyeColor,\n",
    "    \"HairColor\": HairColor,\n",
    "    \"Hometown\": Hometown,\n",
    "    \"SoulGem\": SoulGem,\n",
    "    \"Weapon\": Weapon,\n",
    "    \"Wish\": Wish,\n",
    "    \"Ability\": Ability,\n",
    "    \"Witch\": Witch,\n",
    "    \"Pronoun\": Pronoun,\n",
    "    \"School\": School,\n",
    "    \"Disks\": disks,\n",
    "    \"Stats\": {\n",
    "        \"Initial\": {\n",
    "            \"HP\": initial_hp,\n",
    "            \"ATK\": initial_atk,\n",
    "            \"DEF\": initial_def\n",
    "        },\n",
    "        \"Two_Star\": {\n",
    "            \"HP\": two_star_hp,\n",
    "            \"ATK\": two_star_atk,\n",
    "            \"DEF\": two_star_def \n",
    "        },\n",
    "        \"Three_Star\": {\n",
    "            \"HP\": three_star_hp,\n",
    "            \"ATK\": three_star_atk,\n",
    "            \"DEF\": three_star_def\n",
    "        },\n",
    "        \"Four_Star\": {\n",
    "            \"HP\": four_star_hp,\n",
    "            \"ATK\": four_star_atk,\n",
    "            \"DEF\": four_star_def\n",
    "        },\n",
    "        \"Five_Star\": {\n",
    "            \"HP\": five_star_hp,\n",
    "            \"ATK\": five_star_atk,\n",
    "            \"DEF\": five_star_def        \n",
    "        },\n",
    "        \"SE\": {\n",
    "            \"HP\": se_hp,\n",
    "            \"ATK\": se_atk,\n",
    "            \"DEF\":  se_def          \n",
    "        }\n",
    "    },\n",
    "    \"Connect\": {\n",
    "        \"Name\": connect,\n",
    "        \"Two_Star\": connect_two_star,\n",
    "        \"Three_Star\": connect_three_star,\n",
    "        \"Four_Star\": connect_four_star,\n",
    "        \"Five_Star\": connect_five_star\n",
    "    },\n",
    "    \"Magia\": {\n",
    "        \"Name\": magia,\n",
    "        \"Two_Star\": magia_two_star,\n",
    "        \"Three_Star\": magia_three_star,\n",
    "        \"Four_Star\": magia_four_star,\n",
    "        \"Five_Star\": magia_five_star\n",
    "    },\n",
    "    \"Doppel\": {\n",
    "        \"Name\": doppel,\n",
    "        \"Desc\": yach_para,\n",
    "        \"Ability\": doppel_info,\n",
    "    }\n",
    "}"
   ]
  },
  {
   "cell_type": "code",
   "execution_count": 34,
   "metadata": {},
   "outputs": [
    {
     "name": "stdout",
     "output_type": "stream",
     "text": [
      "{'Name': 'Yachiyo Nanami', 'Age': 'Age: 19 (contracted at 12)', 'EyeColor': 'Eye colour: Blue', 'HairColor': 'Hair colour: Blue', 'Hometown': 'Origins: Shinsei Ward', 'SoulGem': 'Soul Gem: Blue crescent moon (beneath chest)', 'Weapon': 'Weapon: <a class=\"external text\" href=\"https://en.m.wikipedia.org/wiki/Halberd\" rel=\"nofollow\">Halberd', 'Wish': 'Wish: \"I want to survive.\"', 'Ability': 'Ability: To receive hope (take over the power of the dead)', 'Witch': 'Witch form: Campanella', 'Pronoun': 'Japanese pronoun: <i>watashi</i><span style=\"font-weight: normal\"> (<span class=\"t_nihongo_kanji\" lang=\"ja\">私</span>)</span', 'School': 'School: Kamihama City University First-year', 'Disks': ['Accel', 'Blast', 'Blast', 'Blast', 'Charge'], 'Stats': {'Initial': {'HP': '3630', 'ATK': '1164', 'DEF': '1211'}, 'Two_Star': {'HP': '11376', 'ATK': '3673', 'DEF': '4008'}, 'Three_Star': {'HP': '14406', 'ATK': '4655', 'DEF': '5082'}, 'Four_Star': {'HP': '18948', 'ATK': '6123', 'DEF': '6695'}, 'Five_Star': {'HP': '23479', 'ATK': '7588', 'DEF': '8316'}, 'SE': {'HP': '25639', 'ATK': '8329', 'DEF': '11090'}}, 'Connect': {'Name': \"Connect: I'll Light the Way\", 'Two_Star': '★2: Blast Damage UP [III] &amp; Probability Critical [III]', 'Three_Star': '★3: Blast Damage UP [V] &amp; Probability Critical [V]', 'Four_Star': '★4: Blast Damage UP [VII] &amp; Probability Critical [VII]', 'Five_Star': '★5: Blast Damage UP [IX] &amp; Probability Critical [IX] &amp; Restore HP to Iroha'}, 'Magia': {'Name': 'Magia: Absolute Rain', 'Two_Star': '★2: Damage to all enemies [I] &amp; Blast Damage UP (All / 3 T)', 'Three_Star': '★3: Damage to all enemies [III] &amp; Blast Damage UP (All / 3 T)', 'Four_Star': '★4: Damage to all enemies [V] &amp; Blast Damage UP (All / 3 T) &amp; Attack UP (Self / 3 T)', 'Five_Star': '★5: Damage to all enemies [VII] &amp; Blast Damage UP (All / 3 T) &amp; Attack UP (All / 3 T)'}, 'Doppel': {'Name': 'Doppel: Campanella', 'Desc': \"The Doppel of admittance. Its form is a ticket puncher. The master of this Doppel dreams of the day she will begin her journey, following in the footsteps of all the friends she has parted from. The light from the lantern at the end of the Doppel's tail can call forth a myriad of illusions, and the scissors are said to cause great devastation in the near futures of those who have been harmed by them. As Magical Girls get older, their emotional range becomes smaller, and such is the case for this master, who cannot separate her body from her Doppel.\", 'Ability': 'Damage to all enemies [IX] &amp; Blast Damage UP (All / 3 T) &amp; Attack UP (All / 3 T)'}}\n"
     ]
    }
   ],
   "source": [
    "print(Yachiyo)"
   ]
  },
  {
   "cell_type": "code",
   "execution_count": 35,
   "metadata": {},
   "outputs": [
    {
     "name": "stdout",
     "output_type": "stream",
     "text": [
      "{\"Name\": \"Yachiyo Nanami\", \"Age\": \"Age: 19 (contracted at 12)\", \"EyeColor\": \"Eye colour: Blue\", \"HairColor\": \"Hair colour: Blue\", \"Hometown\": \"Origins: Shinsei Ward\", \"SoulGem\": \"Soul Gem: Blue crescent moon (beneath chest)\", \"Weapon\": \"Weapon: <a class=\\\"external text\\\" href=\\\"https://en.m.wikipedia.org/wiki/Halberd\\\" rel=\\\"nofollow\\\">Halberd\", \"Wish\": \"Wish: \\\"I want to survive.\\\"\", \"Ability\": \"Ability: To receive hope (take over the power of the dead)\", \"Witch\": \"Witch form: Campanella\", \"Pronoun\": \"Japanese pronoun: <i>watashi</i><span style=\\\"font-weight: normal\\\"> (<span class=\\\"t_nihongo_kanji\\\" lang=\\\"ja\\\">\\u79c1</span>)</span\", \"School\": \"School: Kamihama City University First-year\", \"Disks\": [\"Accel\", \"Blast\", \"Blast\", \"Blast\", \"Charge\"], \"Stats\": {\"Initial\": {\"HP\": \"3630\", \"ATK\": \"1164\", \"DEF\": \"1211\"}, \"Two_Star\": {\"HP\": \"11376\", \"ATK\": \"3673\", \"DEF\": \"4008\"}, \"Three_Star\": {\"HP\": \"14406\", \"ATK\": \"4655\", \"DEF\": \"5082\"}, \"Four_Star\": {\"HP\": \"18948\", \"ATK\": \"6123\", \"DEF\": \"6695\"}, \"Five_Star\": {\"HP\": \"23479\", \"ATK\": \"7588\", \"DEF\": \"8316\"}, \"SE\": {\"HP\": \"25639\", \"ATK\": \"8329\", \"DEF\": \"11090\"}}, \"Connect\": {\"Name\": \"Connect: I'll Light the Way\", \"Two_Star\": \"\\u26052: Blast Damage UP [III] &amp; Probability Critical [III]\", \"Three_Star\": \"\\u26053: Blast Damage UP [V] &amp; Probability Critical [V]\", \"Four_Star\": \"\\u26054: Blast Damage UP [VII] &amp; Probability Critical [VII]\", \"Five_Star\": \"\\u26055: Blast Damage UP [IX] &amp; Probability Critical [IX] &amp; Restore HP to Iroha\"}, \"Magia\": {\"Name\": \"Magia: Absolute Rain\", \"Two_Star\": \"\\u26052: Damage to all enemies [I] &amp; Blast Damage UP (All / 3 T)\", \"Three_Star\": \"\\u26053: Damage to all enemies [III] &amp; Blast Damage UP (All / 3 T)\", \"Four_Star\": \"\\u26054: Damage to all enemies [V] &amp; Blast Damage UP (All / 3 T) &amp; Attack UP (Self / 3 T)\", \"Five_Star\": \"\\u26055: Damage to all enemies [VII] &amp; Blast Damage UP (All / 3 T) &amp; Attack UP (All / 3 T)\"}, \"Doppel\": {\"Name\": \"Doppel: Campanella\", \"Desc\": \"The Doppel of admittance. Its form is a ticket puncher. The master of this Doppel dreams of the day she will begin her journey, following in the footsteps of all the friends she has parted from. The light from the lantern at the end of the Doppel's tail can call forth a myriad of illusions, and the scissors are said to cause great devastation in the near futures of those who have been harmed by them. As Magical Girls get older, their emotional range becomes smaller, and such is the case for this master, who cannot separate her body from her Doppel.\", \"Ability\": \"Damage to all enemies [IX] &amp; Blast Damage UP (All / 3 T) &amp; Attack UP (All / 3 T)\"}}\n"
     ]
    }
   ],
   "source": [
    "yach_json = json.dumps(Yachiyo)\n",
    "print(yach_json)\n",
    "\n",
    "with open('yachiyo.json', 'w') as json_file:\n",
    "  json.dump(yach_json, json_file)"
   ]
  },
  {
   "cell_type": "code",
   "execution_count": null,
   "metadata": {},
   "outputs": [],
   "source": []
  }
 ],
 "metadata": {
  "kernelspec": {
   "display_name": "Python 3",
   "language": "python",
   "name": "python3"
  },
  "language_info": {
   "codemirror_mode": {
    "name": "ipython",
    "version": 3
   },
   "file_extension": ".py",
   "mimetype": "text/x-python",
   "name": "python",
   "nbconvert_exporter": "python",
   "pygments_lexer": "ipython3",
   "version": "3.7.1"
  }
 },
 "nbformat": 4,
 "nbformat_minor": 2
}
