{
 "cells": [
  {
   "cell_type": "code",
   "execution_count": 2,
   "metadata": {},
   "outputs": [
    {
     "name": "stdout",
     "output_type": "stream",
     "text": [
      "<li><b>Age:</b> 14</li>\n",
      "<li><b>School:</b> Kamihama City University Affiliated School, 8th grade</li>\n"
     ]
    }
   ],
   "source": [
    "# Dependencies\n",
    "import os\n",
    "from bs4 import BeautifulSoup as bs\n",
    "import json\n",
    "import requests\n",
    "\n",
    "query_url = \"https://wiki.puella-magi.net/Leila_Ibuki\"\n",
    "response = requests.get(query_url)\n",
    "soup = bs(response.text, 'html.parser')\n",
    "\n",
    "bullet_points = soup.find_all('li')\n",
    "# 19- 30 General Info\n",
    "print(bullet_points[13])\n",
    "print(bullet_points[24])"
   ]
  },
  {
   "cell_type": "code",
   "execution_count": 3,
   "metadata": {},
   "outputs": [
    {
     "name": "stdout",
     "output_type": "stream",
     "text": [
      "4615 1479 1494\n",
      "15691 5028 5079\n",
      "20408 6544 6609\n"
     ]
    }
   ],
   "source": [
    "table_data = soup.find_all('td')\n",
    "\n",
    "initial_hp = str(table_data[21]).replace('<td style=\"width:25%;\">', '').replace('</td>', '').rstrip()\n",
    "initial_atk = str(table_data[22]).replace('<td style=\"width:25%;\">', '').replace('</td>', '').rstrip()\n",
    "initial_def = str(table_data[23]).replace('<td style=\"width:25%;\">', '').replace('</td>', '').rstrip()\n",
    "# max at 3* 32, 33, 34, 35\n",
    "three_star_hp = str(table_data[25]).replace('<td style=\"width:25%;\">', '').replace('</td>', '').rstrip()\n",
    "three_star_atk = str(table_data[26]).replace('<td style=\"width:25%;\">', '').replace('</td>', '').rstrip()\n",
    "three_star_def = str(table_data[27]).replace('<td style=\"width:25%;\">', '').replace('</td>', '').rstrip()\n",
    "# max at 4* 36, 37, 38, 39\n",
    "four_star_hp = str(table_data[29]).replace('<td style=\"width:25%;\">', '').replace('</td>', '').rstrip()\n",
    "four_star_atk = str(table_data[30]).replace('<td style=\"width:25%;\">', '').replace('</td>', '').rstrip()\n",
    "four_star_def = str(table_data[31]).replace('<td style=\"width:25%;\">', '').replace('</td>', '').rstrip()\n",
    "\n",
    "print(initial_hp, initial_atk, initial_def)\n",
    "print(three_star_hp, three_star_atk, three_star_def)\n",
    "print(four_star_hp, four_star_atk, four_star_def)"
   ]
  },
  {
   "cell_type": "code",
   "execution_count": 4,
   "metadata": {},
   "outputs": [
    {
     "name": "stdout",
     "output_type": "stream",
     "text": [
      "['Accel', 'Blast', 'Charge', 'Charge', 'Charge']\n"
     ]
    }
   ],
   "source": [
    "disk_one = str(table_data[32])\n",
    "disk_two = str(table_data[33])\n",
    "disk_three = str(table_data[34])\n",
    "disk_four = str(table_data[35])\n",
    "disk_five = str(table_data[36])\n",
    "\n",
    "if (disk_one.find(\"accel\") != -1):\n",
    "    disk_one = \"Accel\"\n",
    "elif (disk_one.find(\"blast\") != -1):\n",
    "    disk_one = \"Blast\"\n",
    "else:\n",
    "    disk_one = \"Charge\"\n",
    "    \n",
    "if (disk_two.find(\"accel\") != -1):\n",
    "    disk_two = \"Accel\"\n",
    "elif (disk_two.find(\"blast\") != -1):\n",
    "    disk_two = \"Blast\"\n",
    "else:\n",
    "    disk_two = \"Charge\"\n",
    "\n",
    "if (disk_three.find(\"accel\") != -1):\n",
    "    disk_three = \"Accel\"\n",
    "elif (disk_three.find(\"blast\") != -1):\n",
    "    disk_three = \"Blast\"\n",
    "else:\n",
    "    disk_three = \"Charge\"\n",
    "    \n",
    "if (disk_four.find(\"accel\") != -1):\n",
    "    disk_four = \"Accel\"\n",
    "elif (disk_four.find(\"blast\") != -1):\n",
    "    disk_four = \"Blast\"\n",
    "else:\n",
    "    disk_four = \"Charge\"\n",
    "    \n",
    "if (disk_five.find(\"accel\") != -1):\n",
    "    disk_five = \"Accel\"\n",
    "elif (disk_five.find(\"blast\") != -1):\n",
    "    disk_five = \"Blast\"\n",
    "else:\n",
    "    disk_five = \"Charge\"\n",
    "    \n",
    "disks = [disk_one, disk_two, disk_three, disk_four, disk_five]\n",
    "print(disks)"
   ]
  },
  {
   "cell_type": "code",
   "execution_count": 5,
   "metadata": {},
   "outputs": [
    {
     "name": "stdout",
     "output_type": "stream",
     "text": [
      "★3: HP Restore [IV] &amp; Attack UP [V] &amp; Burn Edge\n",
      "★4: HP Restore [VI] &amp; Attack UP [VI] &amp; Guaranteed Burn\n",
      "★3: Attribute Strengthened Damage One Enemy [III] &amp; Charged Damage Up (All / 3 T)\n",
      "★4: Attribute Strengthened Damage One Enemy [V] &amp; Charged Damage Up (All / 3 T) &amp; Remove all negative effects (All)\n"
     ]
    }
   ],
   "source": [
    "# table_data 49 through 52 are Connect Info\n",
    "connect_three_star = str(table_data[37])\n",
    "connect_four_star = str(table_data[38])\n",
    "\n",
    "connect_three_star = connect_three_star.replace('</td>', '')\n",
    "connect_three_star = connect_three_star.replace('<td style=\"width:100%;\">', '')\n",
    "connect_three_star = connect_three_star.rstrip()\n",
    "print(connect_three_star)\n",
    "\n",
    "connect_four_star = connect_four_star.replace('</td>', '')\n",
    "connect_four_star = connect_four_star.replace('<td style=\"width:100%;\">', '')\n",
    "connect_four_star = connect_four_star.rstrip()\n",
    "print(connect_four_star)\n",
    "\n",
    "# table_data 53 through 56 are Magia Info\n",
    "magia_three_star = str(table_data[39])\n",
    "magia_four_star = str(table_data[40])\n",
    "\n",
    "magia_three_star = magia_three_star.replace('</td>', '')\n",
    "magia_three_star = magia_three_star.replace('<td style=\"width:100%;\">', '')\n",
    "magia_three_star = magia_three_star.rstrip()\n",
    "print(magia_three_star)\n",
    "\n",
    "magia_four_star = magia_four_star.replace('</td>', '')\n",
    "magia_four_star = magia_four_star.replace('<td style=\"width:100%;\">', '')\n",
    "magia_four_star = magia_four_star.rstrip()\n",
    "print(magia_four_star)"
   ]
  },
  {
   "cell_type": "code",
   "execution_count": 6,
   "metadata": {},
   "outputs": [
    {
     "name": "stdout",
     "output_type": "stream",
     "text": [
      "<th colspan=\"5\"><b>Magia:</b> <i>Circle of Fire</i>\n",
      "</th>\n",
      "Connect: Let's Unite Our Feelings!\n",
      "Magia: Circle of Fire\n"
     ]
    }
   ],
   "source": [
    "table_head = soup.find_all('th')\n",
    "connect = str(table_head[3])\n",
    "magia = str(table_head[4])\n",
    "print(magia)\n",
    "\n",
    "connect = connect.strip('<th colspan=\"5\">')\n",
    "connect = connect.strip('b>')\n",
    "connect = connect.strip('<b>')\n",
    "connect = connect.replace('</b>', '')\n",
    "connect = connect.replace('<i>', '')\n",
    "connect = connect.replace('</i>', '')\n",
    "connect = connect.strip('</')\n",
    "connect = connect.rstrip()\n",
    "print(connect)\n",
    "\n",
    "magia = magia.strip('<th colspan=\"5\">')\n",
    "magia = magia.strip('b>')\n",
    "magia = magia.replace('</b>', '')\n",
    "magia = magia.replace('<i>', '')\n",
    "magia = magia.replace('</i>', '')\n",
    "magia = magia.strip('</')\n",
    "magia = magia.rstrip()\n",
    "print(magia)"
   ]
  },
  {
   "cell_type": "code",
   "execution_count": 7,
   "metadata": {},
   "outputs": [
    {
     "name": "stdout",
     "output_type": "stream",
     "text": [
      "Age: 14\n",
      "Height: 158cm\n",
      "Eye colour: Turquoise\n",
      "Hair colour: Pink\n",
      "Origins: Daito ward\n",
      "Soul Gem: Blue heart (hair ornament)\n",
      "Weapon: Integrated Sword and Shield\n",
      "Wish: \"I want things to go back to how they were with Seika\"\n",
      "Ability: Purification Flames\n",
      "Witch form:\n",
      "Japanese pronoun: watashi<span style=\"font-weight: normal\"> (<span class=\"t_nihongo_kanji\" lang=\"ja\">私</span>)</span\n",
      "School: Kamihama City University Affiliated School 8th grade\n"
     ]
    }
   ],
   "source": [
    "Age = str(bullet_points[13]).strip(\"<li>\").strip(\"</li>\").strip(\"<b>\").replace(\"</b>\", \"\").replace(',', '')\n",
    "print(Age)\n",
    "Height = str(bullet_points[14]).strip(\"<li>\").strip(\"</li>\").strip(\"<b>\").replace(\"</b>\", \"\").replace(',', '')\n",
    "print(Height)\n",
    "EyeColor = str(bullet_points[15]).strip(\"<li>\").strip(\"</li>\").strip(\"<b>\").replace(\"</b>\", \"\").replace(',', '')\n",
    "print(EyeColor)\n",
    "HairColor = str(bullet_points[16]).strip(\"<li>\").strip(\"</li>\").strip(\"<b>\").replace(\"</b>\", \"\").replace(',', '')\n",
    "print(HairColor)\n",
    "Hometown = str(bullet_points[17]).strip(\"<li>\").strip(\"</li>\").strip(\"<b>\").replace(\"</b>\", \"\").replace(',', '')\n",
    "print(Hometown)\n",
    "SoulGem = str(bullet_points[18]).strip(\"<li>\").strip(\"</li>\").strip(\"<b>\").replace(\"</b>\", \"\").replace(',', '')\n",
    "print(SoulGem)\n",
    "Weapon = str(bullet_points[19]).strip(\"<li>\").strip(\"</li>\").strip(\"<b>\").replace(\"</b>\", \"\").replace('</a', '').replace('<a class=\"external text\" href=\"https://en.wikipedia.org/wiki/Crossbow\" rel=\"nofollow\">', '')\n",
    "print(Weapon)\n",
    "Wish = str(bullet_points[20]).strip(\"<li>\").strip(\"</li>\").strip(\"<b>\").replace(\"</b>\", \"\").replace(',', '')\n",
    "print(Wish)\n",
    "Ability = str(bullet_points[21]).strip(\"<li>\").strip(\"</li>\").strip(\"<b>\").replace(\"</b>\", \"\").replace(',', '')\n",
    "print(Ability)\n",
    "Witch = str(bullet_points[22]).strip(\"<li>\").strip(\"</li>\").strip(\"<b>\").replace(\"</b>\", \"\").replace(',', '').replace('</', '')\n",
    "print(Witch)\n",
    "Pronoun = str(bullet_points[23]).strip(\"<li>\").strip(\"</li>\").strip(\"<b>\").replace(\"</b>\", \"\").replace(',', '')\n",
    "print(Pronoun)\n",
    "School = str(bullet_points[24]).strip(\"<li>\").strip(\"</li>\").strip(\"<b>\").replace(\"</b>\", \"\").replace(',', '')\n",
    "print(School)"
   ]
  },
  {
   "cell_type": "code",
   "execution_count": 9,
   "metadata": {},
   "outputs": [
    {
     "name": "stdout",
     "output_type": "stream",
     "text": [
      "{'Name': 'Leila Ibuki', 'Age': 'Age: 14', 'EyeColor': 'Eye colour: Turquoise', 'HairColor': 'Hair colour: Pink', 'Hometown': 'Origins: Daito ward', 'SoulGem': 'Soul Gem: Blue heart (hair ornament)', 'Weapon': 'Weapon: Integrated Sword and Shield', 'Wish': 'Wish: \"I want things to go back to how they were with Seika\"', 'Ability': 'Ability: Purification Flames', 'Witch': 'Witch form:', 'Pronoun': 'Japanese pronoun: watashi<span style=\"font-weight: normal\"> (<span class=\"t_nihongo_kanji\" lang=\"ja\">私</span>)</span', 'School': 'School: Kamihama City University Affiliated School 8th grade', 'Disks': ['Accel', 'Blast', 'Charge', 'Charge', 'Charge'], 'Stats': {'Initial': {'HP': '4615', 'ATK': '1479', 'DEF': '1494'}, 'Three_Star': {'HP': '15691', 'ATK': '5028', 'DEF': '5079'}, 'Four_Star': {'HP': '20408', 'ATK': '6544', 'DEF': '6609'}}, 'Connect': {'Name': \"Connect: Let's Unite Our Feelings!\", 'Three_Star': '★3: HP Restore [IV] &amp; Attack UP [V] &amp; Burn Edge', 'Four_Star': '★4: HP Restore [VI] &amp; Attack UP [VI] &amp; Guaranteed Burn'}, 'Magia': {'Name': 'Magia: Circle of Fire', 'Three_Star': '★3: Attribute Strengthened Damage One Enemy [III] &amp; Charged Damage Up (All / 3 T)', 'Four_Star': '★4: Attribute Strengthened Damage One Enemy [V] &amp; Charged Damage Up (All / 3 T) &amp; Remove all negative effects (All)'}, 'Doppel': {'Name': ''}}\n"
     ]
    }
   ],
   "source": [
    "Leila = {\n",
    "    \"Name\": \"Leila Ibuki\",\n",
    "    \"Age\": Age,\n",
    "    \"EyeColor\": EyeColor,\n",
    "    \"HairColor\": HairColor,\n",
    "    \"Hometown\": Hometown,\n",
    "    \"SoulGem\": SoulGem,\n",
    "    \"Weapon\": Weapon,\n",
    "    \"Wish\": Wish,\n",
    "    \"Ability\": Ability,\n",
    "    \"Witch\": Witch,\n",
    "    \"Pronoun\": Pronoun,\n",
    "    \"School\": School,\n",
    "    \"Disks\": disks,\n",
    "    \"Stats\": {\n",
    "        \"Initial\": {\n",
    "            \"HP\": initial_hp,\n",
    "            \"ATK\": initial_atk,\n",
    "            \"DEF\": initial_def\n",
    "        },\n",
    "        \"Three_Star\": {\n",
    "            \"HP\": three_star_hp,\n",
    "            \"ATK\": three_star_atk,\n",
    "            \"DEF\": three_star_def\n",
    "        },\n",
    "        \"Four_Star\": {\n",
    "            \"HP\": four_star_hp,\n",
    "            \"ATK\": four_star_atk,\n",
    "            \"DEF\": four_star_def\n",
    "        }\n",
    "    },\n",
    "    \"Connect\": {\n",
    "        \"Name\": connect,\n",
    "        \"Three_Star\": connect_three_star,\n",
    "        \"Four_Star\": connect_four_star\n",
    "    },\n",
    "    \"Magia\": {\n",
    "        \"Name\": magia,\n",
    "        \"Three_Star\": magia_three_star,\n",
    "        \"Four_Star\": magia_four_star\n",
    "    },\n",
    "    \"Doppel\": {\n",
    "        \"Name\": \"\"\n",
    "    }\n",
    "}\n",
    "\n",
    "print(Leila)"
   ]
  },
  {
   "cell_type": "code",
   "execution_count": 10,
   "metadata": {},
   "outputs": [
    {
     "name": "stdout",
     "output_type": "stream",
     "text": [
      "{\"Name\": \"Leila Ibuki\", \"Age\": \"Age: 14\", \"EyeColor\": \"Eye colour: Turquoise\", \"HairColor\": \"Hair colour: Pink\", \"Hometown\": \"Origins: Daito ward\", \"SoulGem\": \"Soul Gem: Blue heart (hair ornament)\", \"Weapon\": \"Weapon: Integrated Sword and Shield\", \"Wish\": \"Wish: \\\"I want things to go back to how they were with Seika\\\"\", \"Ability\": \"Ability: Purification Flames\", \"Witch\": \"Witch form:\", \"Pronoun\": \"Japanese pronoun: watashi<span style=\\\"font-weight: normal\\\"> (<span class=\\\"t_nihongo_kanji\\\" lang=\\\"ja\\\">\\u79c1</span>)</span\", \"School\": \"School: Kamihama City University Affiliated School 8th grade\", \"Disks\": [\"Accel\", \"Blast\", \"Charge\", \"Charge\", \"Charge\"], \"Stats\": {\"Initial\": {\"HP\": \"4615\", \"ATK\": \"1479\", \"DEF\": \"1494\"}, \"Three_Star\": {\"HP\": \"15691\", \"ATK\": \"5028\", \"DEF\": \"5079\"}, \"Four_Star\": {\"HP\": \"20408\", \"ATK\": \"6544\", \"DEF\": \"6609\"}}, \"Connect\": {\"Name\": \"Connect: Let's Unite Our Feelings!\", \"Three_Star\": \"\\u26053: HP Restore [IV] &amp; Attack UP [V] &amp; Burn Edge\", \"Four_Star\": \"\\u26054: HP Restore [VI] &amp; Attack UP [VI] &amp; Guaranteed Burn\"}, \"Magia\": {\"Name\": \"Magia: Circle of Fire\", \"Three_Star\": \"\\u26053: Attribute Strengthened Damage One Enemy [III] &amp; Charged Damage Up (All / 3 T)\", \"Four_Star\": \"\\u26054: Attribute Strengthened Damage One Enemy [V] &amp; Charged Damage Up (All / 3 T) &amp; Remove all negative effects (All)\"}, \"Doppel\": {\"Name\": \"\"}}\n"
     ]
    }
   ],
   "source": [
    "girl_json = json.dumps(Leila)\n",
    "print(girl_json)\n",
    "\n",
    "with open('leila.json', 'w') as json_file:\n",
    "  json.dump(girl_json, json_file)"
   ]
  },
  {
   "cell_type": "code",
   "execution_count": 12,
   "metadata": {},
   "outputs": [
    {
     "name": "stdout",
     "output_type": "stream",
     "text": [
      "<li><b>Age:</b> 14</li>\n",
      "<li><b>School:</b> Kamihama City University Affiliated School, 8th grade</li>\n"
     ]
    }
   ],
   "source": [
    "query_url = \"https://wiki.puella-magi.net/Seika_Kumi\"\n",
    "response = requests.get(query_url)\n",
    "soup = bs(response.text, 'html.parser')\n",
    "\n",
    "bullet_points = soup.find_all('li')\n",
    "# 19- 30 General Info\n",
    "print(bullet_points[13])\n",
    "print(bullet_points[24])"
   ]
  },
  {
   "cell_type": "code",
   "execution_count": 13,
   "metadata": {},
   "outputs": [
    {
     "name": "stdout",
     "output_type": "stream",
     "text": [
      "3866 1076 1047\n",
      "12541 3466 3327\n",
      "15898 4396 4220\n",
      "20925 5787 5546\n"
     ]
    }
   ],
   "source": [
    "table_data = soup.find_all('td')\n",
    "\n",
    "initial_hp = str(table_data[21]).replace('<td style=\"width:25%;\">', '').replace('</td>', '').rstrip()\n",
    "initial_atk = str(table_data[22]).replace('<td style=\"width:25%;\">', '').replace('</td>', '').rstrip()\n",
    "initial_def = str(table_data[23]).replace('<td style=\"width:25%;\">', '').replace('</td>', '').rstrip()\n",
    "# max at 2* 28, 29, 30, 31\n",
    "two_star_hp = str(table_data[25]).replace('<td style=\"width:25%;\">', '').replace('</td>', '').rstrip()\n",
    "two_star_atk = str(table_data[26]).replace('<td style=\"width:25%;\">', '').replace('</td>', '').rstrip()\n",
    "two_star_def = str(table_data[27]).replace('<td style=\"width:25%;\">', '').replace('</td>', '').rstrip()\n",
    "# max at 3* 32, 33, 34, 35\n",
    "three_star_hp = str(table_data[29]).replace('<td style=\"width:25%;\">', '').replace('</td>', '').rstrip()\n",
    "three_star_atk = str(table_data[30]).replace('<td style=\"width:25%;\">', '').replace('</td>', '').rstrip()\n",
    "three_star_def = str(table_data[31]).replace('<td style=\"width:25%;\">', '').replace('</td>', '').rstrip()\n",
    "# max at 4* 36, 37, 38, 39\n",
    "four_star_hp = str(table_data[33]).replace('<td style=\"width:25%;\">', '').replace('</td>', '').rstrip()\n",
    "four_star_atk = str(table_data[34]).replace('<td style=\"width:25%;\">', '').replace('</td>', '').rstrip()\n",
    "four_star_def = str(table_data[35]).replace('<td style=\"width:25%;\">', '').replace('</td>', '').rstrip()\n",
    "\n",
    "print(initial_hp, initial_atk, initial_def)\n",
    "print(two_star_hp, two_star_atk, two_star_def)\n",
    "print(three_star_hp, three_star_atk, three_star_def)\n",
    "print(four_star_hp, four_star_atk, four_star_def)"
   ]
  },
  {
   "cell_type": "code",
   "execution_count": 14,
   "metadata": {},
   "outputs": [
    {
     "name": "stdout",
     "output_type": "stream",
     "text": [
      "['Accel', 'Accel', 'Blast', 'Blast', 'Charge']\n"
     ]
    }
   ],
   "source": [
    "disk_one = str(table_data[36])\n",
    "disk_two = str(table_data[37])\n",
    "disk_three = str(table_data[38])\n",
    "disk_four = str(table_data[39])\n",
    "disk_five = str(table_data[40])\n",
    "\n",
    "if (disk_one.find(\"accel\") != -1):\n",
    "    disk_one = \"Accel\"\n",
    "elif (disk_one.find(\"blast\") != -1):\n",
    "    disk_one = \"Blast\"\n",
    "else:\n",
    "    disk_one = \"Charge\"\n",
    "    \n",
    "if (disk_two.find(\"accel\") != -1):\n",
    "    disk_two = \"Accel\"\n",
    "elif (disk_two.find(\"blast\") != -1):\n",
    "    disk_two = \"Blast\"\n",
    "else:\n",
    "    disk_two = \"Charge\"\n",
    "\n",
    "if (disk_three.find(\"accel\") != -1):\n",
    "    disk_three = \"Accel\"\n",
    "elif (disk_three.find(\"blast\") != -1):\n",
    "    disk_three = \"Blast\"\n",
    "else:\n",
    "    disk_three = \"Charge\"\n",
    "    \n",
    "if (disk_four.find(\"accel\") != -1):\n",
    "    disk_four = \"Accel\"\n",
    "elif (disk_four.find(\"blast\") != -1):\n",
    "    disk_four = \"Blast\"\n",
    "else:\n",
    "    disk_four = \"Charge\"\n",
    "    \n",
    "if (disk_five.find(\"accel\") != -1):\n",
    "    disk_five = \"Accel\"\n",
    "elif (disk_five.find(\"blast\") != -1):\n",
    "    disk_five = \"Blast\"\n",
    "else:\n",
    "    disk_five = \"Charge\"\n",
    "    \n",
    "disks = [disk_one, disk_two, disk_three, disk_four, disk_five]\n",
    "print(disks)"
   ]
  },
  {
   "cell_type": "code",
   "execution_count": 15,
   "metadata": {},
   "outputs": [
    {
     "name": "stdout",
     "output_type": "stream",
     "text": [
      "★2: Attack UP [IV] &amp; Charged Damage UP [III] &amp; Fog Edge\n",
      "★3: Attack UP [VI] &amp; charged Damage UP [V] &amp; Guaranteed Fog\n",
      "★4: Attack UP [VIII] &amp; charged Damage UP [VII] &amp; Guaranteed Fog\n",
      "★2: Damage All Enemies [I] &amp; Chance to Fog (All 3 / T)\n",
      "★3: Damage All Enemies [III] &amp; Guaranteed Fog (All / 3 T)\n",
      "★4: Damage All Enemies [V] &amp; Guaranteed Fog (All / 3 T) &amp; Blast Damage DOWN (All / 3 T)\n"
     ]
    }
   ],
   "source": [
    "# table_data 49 through 52 are Connect Info\n",
    "connect_two_star = str(table_data[41])\n",
    "connect_three_star = str(table_data[42])\n",
    "connect_four_star = str(table_data[43])\n",
    "\n",
    "connect_two_star = connect_two_star.replace('</td>', '')\n",
    "connect_two_star = connect_two_star.replace('<td style=\"width:100%;\">', '')\n",
    "connect_two_star = connect_two_star.rstrip()\n",
    "print(connect_two_star)\n",
    "\n",
    "connect_three_star = connect_three_star.replace('</td>', '')\n",
    "connect_three_star = connect_three_star.replace('<td style=\"width:100%;\">', '')\n",
    "connect_three_star = connect_three_star.rstrip()\n",
    "print(connect_three_star)\n",
    "\n",
    "connect_four_star = connect_four_star.replace('</td>', '')\n",
    "connect_four_star = connect_four_star.replace('<td style=\"width:100%;\">', '')\n",
    "connect_four_star = connect_four_star.rstrip()\n",
    "print(connect_four_star)\n",
    "\n",
    "# table_data 53 through 56 are Magia Info\n",
    "\n",
    "magia_two_star = str(table_data[44])\n",
    "magia_three_star = str(table_data[45])\n",
    "magia_four_star = str(table_data[46])\n",
    "\n",
    "magia_two_star = magia_two_star.replace('</td>', '')\n",
    "magia_two_star = magia_two_star.replace('<td style=\"width:100%;\">', '')\n",
    "magia_two_star = magia_two_star.rstrip()\n",
    "print(magia_two_star)\n",
    "\n",
    "magia_three_star = magia_three_star.replace('</td>', '')\n",
    "magia_three_star = magia_three_star.replace('<td style=\"width:100%;\">', '')\n",
    "magia_three_star = magia_three_star.rstrip()\n",
    "print(magia_three_star)\n",
    "\n",
    "magia_four_star = magia_four_star.replace('</td>', '')\n",
    "magia_four_star = magia_four_star.replace('<td style=\"width:100%;\">', '')\n",
    "magia_four_star = magia_four_star.rstrip()\n",
    "print(magia_four_star)"
   ]
  },
  {
   "cell_type": "code",
   "execution_count": 18,
   "metadata": {},
   "outputs": [
    {
     "name": "stdout",
     "output_type": "stream",
     "text": [
      "<th colspan=\"5\"><b>Magia:</b> <i>Summon Wave</i><sup class=\"reference\" id=\"cite_ref-1\"><a href=\"#cite_note-1\">[1]</a></sup>\n",
      "</th>\n",
      "Connect: Ummm... Would You... Uhhh... Err...\n",
      "Magia: Summon Wave\n"
     ]
    }
   ],
   "source": [
    "table_head = soup.find_all('th')\n",
    "connect = str(table_head[3])\n",
    "magia = str(table_head[4])\n",
    "print(magia)\n",
    "\n",
    "connect = connect.strip('<th colspan=\"5\">')\n",
    "connect = connect.strip('b>')\n",
    "connect = connect.strip('<b>')\n",
    "connect = connect.replace('</b>', '')\n",
    "connect = connect.replace('<i>', '')\n",
    "connect = connect.replace('</i>', '')\n",
    "connect = connect.strip('</')\n",
    "connect = connect.rstrip()\n",
    "print(connect)\n",
    "\n",
    "magia = magia.strip('<th colspan=\"5\">')\n",
    "magia = magia.strip('b>')\n",
    "magia = magia.replace('</b>', '')\n",
    "magia = magia.replace('<i>', '')\n",
    "magia = magia.replace('</i>', '')\n",
    "magia = magia.replace('<sup class=\"reference\" id=\"cite_ref-1\">', '')\n",
    "magia = magia.replace('<a href=\"#cite_note-1\">[1]</a></sup>', '')\n",
    "magia = magia.strip('</')\n",
    "magia = magia.rstrip()\n",
    "print(magia)"
   ]
  },
  {
   "cell_type": "code",
   "execution_count": 19,
   "metadata": {},
   "outputs": [
    {
     "name": "stdout",
     "output_type": "stream",
     "text": [
      "Age: 14\n",
      "Height: 162cm\n",
      "Eye colour: Light purple\n",
      "Hair colour: Light blue\n",
      "Origins: Daito ward\n",
      "Soul Gem: Blue diamond (right ear earring)\n",
      "Weapon: <a class=\"external text\" href=\"https://en.wikipedia.org/wiki/Whip\" rel=\"nofollow\">Whip\n",
      "Wish: \"Revive Leila!\"\n",
      "Ability: Move from water to water (from a puddle to a puddle)\n",
      "Witch form:\n",
      "Japanese pronoun: watashi<span style=\"font-weight: normal\"> (<span class=\"t_nihongo_kanji\" lang=\"ja\">私</span>)</span\n",
      "School: Kamihama City University Affiliated School 8th grade\n"
     ]
    }
   ],
   "source": [
    "Age = str(bullet_points[13]).strip(\"<li>\").strip(\"</li>\").strip(\"<b>\").replace(\"</b>\", \"\").replace(',', '')\n",
    "print(Age)\n",
    "Height = str(bullet_points[14]).strip(\"<li>\").strip(\"</li>\").strip(\"<b>\").replace(\"</b>\", \"\").replace(',', '')\n",
    "print(Height)\n",
    "EyeColor = str(bullet_points[15]).strip(\"<li>\").strip(\"</li>\").strip(\"<b>\").replace(\"</b>\", \"\").replace(',', '')\n",
    "print(EyeColor)\n",
    "HairColor = str(bullet_points[16]).strip(\"<li>\").strip(\"</li>\").strip(\"<b>\").replace(\"</b>\", \"\").replace(',', '')\n",
    "print(HairColor)\n",
    "Hometown = str(bullet_points[17]).strip(\"<li>\").strip(\"</li>\").strip(\"<b>\").replace(\"</b>\", \"\").replace(',', '')\n",
    "print(Hometown)\n",
    "SoulGem = str(bullet_points[18]).strip(\"<li>\").strip(\"</li>\").strip(\"<b>\").replace(\"</b>\", \"\").replace(',', '')\n",
    "print(SoulGem)\n",
    "Weapon = str(bullet_points[19]).strip(\"<li>\").strip(\"</li>\").strip(\"<b>\").replace(\"</b>\", \"\").replace('</a', '').replace('<a class=\"external text\" href=\"https://en.wikipedia.org/wiki/Crossbow\" rel=\"nofollow\">', '')\n",
    "print(Weapon)\n",
    "Wish = str(bullet_points[20]).strip(\"<li>\").strip(\"</li>\").strip(\"<b>\").replace(\"</b>\", \"\").replace(',', '')\n",
    "print(Wish)\n",
    "Ability = str(bullet_points[21]).strip(\"<li>\").strip(\"</li>\").strip(\"<b>\").replace(\"</b>\", \"\").replace(',', '')\n",
    "print(Ability)\n",
    "Witch = str(bullet_points[22]).strip(\"<li>\").strip(\"</li>\").strip(\"<b>\").replace(\"</b>\", \"\").replace(',', '').replace('</', '')\n",
    "print(Witch)\n",
    "Pronoun = str(bullet_points[23]).strip(\"<li>\").strip(\"</li>\").strip(\"<b>\").replace(\"</b>\", \"\").replace(',', '')\n",
    "print(Pronoun)\n",
    "School = str(bullet_points[24]).strip(\"<li>\").strip(\"</li>\").strip(\"<b>\").replace(\"</b>\", \"\").replace(',', '')\n",
    "print(School)"
   ]
  },
  {
   "cell_type": "code",
   "execution_count": 20,
   "metadata": {},
   "outputs": [
    {
     "name": "stdout",
     "output_type": "stream",
     "text": [
      "{'Name': 'Seika Kumi', 'Age': 'Age: 14', 'EyeColor': 'Eye colour: Light purple', 'HairColor': 'Hair colour: Light blue', 'Hometown': 'Origins: Daito ward', 'SoulGem': 'Soul Gem: Blue diamond (right ear earring)', 'Weapon': 'Weapon: <a class=\"external text\" href=\"https://en.wikipedia.org/wiki/Whip\" rel=\"nofollow\">Whip', 'Wish': 'Wish: \"Revive Leila!\"', 'Ability': 'Ability: Move from water to water (from a puddle to a puddle)', 'Witch': 'Witch form:', 'Pronoun': 'Japanese pronoun: watashi<span style=\"font-weight: normal\"> (<span class=\"t_nihongo_kanji\" lang=\"ja\">私</span>)</span', 'School': 'School: Kamihama City University Affiliated School 8th grade', 'Disks': ['Accel', 'Accel', 'Blast', 'Blast', 'Charge'], 'Stats': {'Initial': {'HP': '3866', 'ATK': '1076', 'DEF': '1047'}, 'Two_Star': {'HP': '12541', 'ATK': '3466', 'DEF': '3327'}, 'Three_Star': {'HP': '15898', 'ATK': '4396', 'DEF': '4220'}, 'Four_Star': {'HP': '20925', 'ATK': '5787', 'DEF': '5546'}}, 'Connect': {'Name': 'Connect: Ummm... Would You... Uhhh... Err...', 'Two_Star': '★2: Attack UP [IV] &amp; Charged Damage UP [III] &amp; Fog Edge', 'Three_Star': '★3: Attack UP [VI] &amp; charged Damage UP [V] &amp; Guaranteed Fog', 'Four_Star': '★4: Attack UP [VIII] &amp; charged Damage UP [VII] &amp; Guaranteed Fog'}, 'Magia': {'Name': 'Magia: Summon Wave', 'Two_Star': '★2: Damage All Enemies [I] &amp; Chance to Fog (All 3 / T)', 'Three_Star': '★3: Damage All Enemies [III] &amp; Guaranteed Fog (All / 3 T)', 'Four_Star': '★4: Damage All Enemies [V] &amp; Guaranteed Fog (All / 3 T) &amp; Blast Damage DOWN (All / 3 T)'}, 'Doppel': {'Name': ''}}\n"
     ]
    }
   ],
   "source": [
    "Seika = {\n",
    "    \"Name\": \"Seika Kumi\",\n",
    "    \"Age\": Age,\n",
    "    \"EyeColor\": EyeColor,\n",
    "    \"HairColor\": HairColor,\n",
    "    \"Hometown\": Hometown,\n",
    "    \"SoulGem\": SoulGem,\n",
    "    \"Weapon\": Weapon,\n",
    "    \"Wish\": Wish,\n",
    "    \"Ability\": Ability,\n",
    "    \"Witch\": Witch,\n",
    "    \"Pronoun\": Pronoun,\n",
    "    \"School\": School,\n",
    "    \"Disks\": disks,\n",
    "    \"Stats\": {\n",
    "        \"Initial\": {\n",
    "            \"HP\": initial_hp,\n",
    "            \"ATK\": initial_atk,\n",
    "            \"DEF\": initial_def\n",
    "        },\n",
    "        \"Two_Star\": {\n",
    "            \"HP\": two_star_hp,\n",
    "            \"ATK\": two_star_atk,\n",
    "            \"DEF\": two_star_def \n",
    "        },\n",
    "        \"Three_Star\": {\n",
    "            \"HP\": three_star_hp,\n",
    "            \"ATK\": three_star_atk,\n",
    "            \"DEF\": three_star_def\n",
    "        },\n",
    "        \"Four_Star\": {\n",
    "            \"HP\": four_star_hp,\n",
    "            \"ATK\": four_star_atk,\n",
    "            \"DEF\": four_star_def\n",
    "        }\n",
    "    },\n",
    "    \"Connect\": {\n",
    "        \"Name\": connect,\n",
    "        \"Two_Star\": connect_two_star,\n",
    "        \"Three_Star\": connect_three_star,\n",
    "        \"Four_Star\": connect_four_star\n",
    "    },\n",
    "    \"Magia\": {\n",
    "        \"Name\": magia,\n",
    "        \"Two_Star\": magia_two_star,\n",
    "        \"Three_Star\": magia_three_star,\n",
    "        \"Four_Star\": magia_four_star\n",
    "    },\n",
    "    \"Doppel\": {\n",
    "        \"Name\": \"\"\n",
    "    }\n",
    "}\n",
    "\n",
    "print(Seika)"
   ]
  },
  {
   "cell_type": "code",
   "execution_count": 21,
   "metadata": {},
   "outputs": [
    {
     "name": "stdout",
     "output_type": "stream",
     "text": [
      "{\"Name\": \"Seika Kumi\", \"Age\": \"Age: 14\", \"EyeColor\": \"Eye colour: Light purple\", \"HairColor\": \"Hair colour: Light blue\", \"Hometown\": \"Origins: Daito ward\", \"SoulGem\": \"Soul Gem: Blue diamond (right ear earring)\", \"Weapon\": \"Weapon: <a class=\\\"external text\\\" href=\\\"https://en.wikipedia.org/wiki/Whip\\\" rel=\\\"nofollow\\\">Whip\", \"Wish\": \"Wish: \\\"Revive Leila!\\\"\", \"Ability\": \"Ability: Move from water to water (from a puddle to a puddle)\", \"Witch\": \"Witch form:\", \"Pronoun\": \"Japanese pronoun: watashi<span style=\\\"font-weight: normal\\\"> (<span class=\\\"t_nihongo_kanji\\\" lang=\\\"ja\\\">\\u79c1</span>)</span\", \"School\": \"School: Kamihama City University Affiliated School 8th grade\", \"Disks\": [\"Accel\", \"Accel\", \"Blast\", \"Blast\", \"Charge\"], \"Stats\": {\"Initial\": {\"HP\": \"3866\", \"ATK\": \"1076\", \"DEF\": \"1047\"}, \"Two_Star\": {\"HP\": \"12541\", \"ATK\": \"3466\", \"DEF\": \"3327\"}, \"Three_Star\": {\"HP\": \"15898\", \"ATK\": \"4396\", \"DEF\": \"4220\"}, \"Four_Star\": {\"HP\": \"20925\", \"ATK\": \"5787\", \"DEF\": \"5546\"}}, \"Connect\": {\"Name\": \"Connect: Ummm... Would You... Uhhh... Err...\", \"Two_Star\": \"\\u26052: Attack UP [IV] &amp; Charged Damage UP [III] &amp; Fog Edge\", \"Three_Star\": \"\\u26053: Attack UP [VI] &amp; charged Damage UP [V] &amp; Guaranteed Fog\", \"Four_Star\": \"\\u26054: Attack UP [VIII] &amp; charged Damage UP [VII] &amp; Guaranteed Fog\"}, \"Magia\": {\"Name\": \"Magia: Summon Wave\", \"Two_Star\": \"\\u26052: Damage All Enemies [I] &amp; Chance to Fog (All 3 / T)\", \"Three_Star\": \"\\u26053: Damage All Enemies [III] &amp; Guaranteed Fog (All / 3 T)\", \"Four_Star\": \"\\u26054: Damage All Enemies [V] &amp; Guaranteed Fog (All / 3 T) &amp; Blast Damage DOWN (All / 3 T)\"}, \"Doppel\": {\"Name\": \"\"}}\n"
     ]
    }
   ],
   "source": [
    "girl_json = json.dumps(Seika)\n",
    "print(girl_json)\n",
    "\n",
    "with open('seika.json', 'w') as json_file:\n",
    "  json.dump(girl_json, json_file)"
   ]
  },
  {
   "cell_type": "code",
   "execution_count": 23,
   "metadata": {},
   "outputs": [
    {
     "name": "stdout",
     "output_type": "stream",
     "text": [
      "<li><b>Age:</b> 14</li>\n",
      "<li><b>School:</b> Kamihama City University Affiliated School, 8th grade</li>\n",
      "The Doppel of unity. Its form is a coat.\n",
      "The master of this Doppel wishes for beautiful friendships to last for eternity. This Doppel answers that desire by compressing everything it captures into a single concentrated lump, which turns into an unbreakable crystal that will shine for thousands of years. Attacks by the Doppel are made by crystallizing its master's emotions, but continued use of this power causes even the master's memories to harden, making it impossible to create new ones.\n"
     ]
    }
   ],
   "source": [
    "query_url = \"https://wiki.puella-magi.net/Mito_Aino\"\n",
    "response = requests.get(query_url)\n",
    "soup = bs(response.text, 'html.parser')\n",
    "\n",
    "bullet_points = soup.find_all('li')\n",
    "# 19- 30 General Info\n",
    "print(bullet_points[14])\n",
    "print(bullet_points[25])\n",
    "\n",
    "para = soup.find_all('p')\n",
    "para = str(para[3])\n",
    "para = para.strip(\"<p>\")\n",
    "para = para.strip(\"</p>\")\n",
    "para = para.rstrip()\n",
    "print(para)"
   ]
  },
  {
   "cell_type": "code",
   "execution_count": 25,
   "metadata": {},
   "outputs": [
    {
     "name": "stdout",
     "output_type": "stream",
     "text": [
      "4898 1892 1883\n",
      "21539 6860 6729\n",
      "27141 8644 8471\n",
      "['Accel', 'Accel', 'Blast', 'Charge', 'Charge']\n",
      "★4: Chance to Evade [VII] &amp; Chance to Provoke [VII] &amp; Chance to Critical Hit [VII]\n",
      "★5: Chance to Evade [IX] &amp; Chance to Provoke [IX] &amp; Chance to Critical Hit [IX]\n",
      "★4: Damage One Enemy [V] &amp; Guaranteed Evade (Self / 1 T) &amp; Chance to Provoke (Self / 1 T)\n",
      "★5: Damage One Enemy [VII] &amp; Guaranteed Evade (Self / 1 T) &amp; Guaranteed Provoke (Self / 1 T) &amp; Attack UP (All / 3 T)\n",
      "Damage One Enemy [IX] &amp; Guaranteed Evasion (Self / 1 T) &amp; Guaranteed Provoke (Self / 1 T) &amp; Defense UP (All / 3 T)\n",
      "<th colspan=\"5\"><b>Magia:</b> <i>Shooting Thorny Burst</i><sup class=\"reference\" id=\"cite_ref-1\"><a href=\"#cite_note-1\">[1]</a></sup>\n",
      "</th>\n",
      "<th colspan=\"5\"><b>Doppel: <i>Akakiy</i></b>\n",
      "</th>\n",
      "Connect: Time to Double Up!\n",
      "Magia: Shooting Thorny Burst\n",
      "Doppel: Akakiy\n"
     ]
    }
   ],
   "source": [
    "table_data = soup.find_all('td')\n",
    "\n",
    "initial_hp = str(table_data[21]).replace('<td style=\"width:25%;\">', '').replace('</td>', '').rstrip()\n",
    "initial_atk = str(table_data[22]).replace('<td style=\"width:25%;\">', '').replace('</td>', '').rstrip()\n",
    "initial_def = str(table_data[23]).replace('<td style=\"width:25%;\">', '').replace('</td>', '').rstrip()\n",
    "\n",
    "four_star_hp = str(table_data[25]).replace('<td style=\"width:25%;\">', '').replace('</td>', '').rstrip()\n",
    "four_star_atk = str(table_data[26]).replace('<td style=\"width:25%;\">', '').replace('</td>', '').rstrip()\n",
    "four_star_def = str(table_data[27]).replace('<td style=\"width:25%;\">', '').replace('</td>', '').rstrip()\n",
    "# max at 5* [40], [41], [42], [43]\n",
    "five_star_hp = str(table_data[29]).replace('<td style=\"width:25%;\">', '').replace('</td>', '').rstrip()\n",
    "five_star_atk = str(table_data[30]).replace('<td style=\"width:25%;\">', '').replace('</td>', '').rstrip()\n",
    "five_star_def = str(table_data[31]).replace('<td style=\"width:25%;\">', '').replace('</td>', '').rstrip()\n",
    "\n",
    "print(initial_hp, initial_atk, initial_def)\n",
    "print(four_star_hp, four_star_atk, four_star_def)\n",
    "print(five_star_hp, five_star_atk, five_star_def)\n",
    "\n",
    "disk_one = str(table_data[32])\n",
    "disk_two = str(table_data[33])\n",
    "disk_three = str(table_data[34])\n",
    "disk_four = str(table_data[35])\n",
    "disk_five = str(table_data[36])\n",
    "\n",
    "if (disk_one.find(\"accel\") != -1):\n",
    "    disk_one = \"Accel\"\n",
    "elif (disk_one.find(\"blast\") != -1):\n",
    "    disk_one = \"Blast\"\n",
    "else:\n",
    "    disk_one = \"Charge\"\n",
    "    \n",
    "if (disk_two.find(\"accel\") != -1):\n",
    "    disk_two = \"Accel\"\n",
    "elif (disk_two.find(\"blast\") != -1):\n",
    "    disk_two = \"Blast\"\n",
    "else:\n",
    "    disk_two = \"Charge\"\n",
    "\n",
    "if (disk_three.find(\"accel\") != -1):\n",
    "    disk_three = \"Accel\"\n",
    "elif (disk_three.find(\"blast\") != -1):\n",
    "    disk_three = \"Blast\"\n",
    "else:\n",
    "    disk_three = \"Charge\"\n",
    "    \n",
    "if (disk_four.find(\"accel\") != -1):\n",
    "    disk_four = \"Accel\"\n",
    "elif (disk_four.find(\"blast\") != -1):\n",
    "    disk_four = \"Blast\"\n",
    "else:\n",
    "    disk_four = \"Charge\"\n",
    "    \n",
    "if (disk_five.find(\"accel\") != -1):\n",
    "    disk_five = \"Accel\"\n",
    "elif (disk_five.find(\"blast\") != -1):\n",
    "    disk_five = \"Blast\"\n",
    "else:\n",
    "    disk_five = \"Charge\"\n",
    "    \n",
    "disks = [disk_one, disk_two, disk_three, disk_four, disk_five]\n",
    "print(disks)\n",
    "\n",
    "# table_data 49 through 52 are Connect Info\n",
    "connect_four_star = str(table_data[37])\n",
    "connect_five_star = str(table_data[38])\n",
    "\n",
    "connect_four_star = connect_four_star.replace('</td>', '')\n",
    "connect_four_star = connect_four_star.replace('<td style=\"width:100%;\">', '')\n",
    "connect_four_star = connect_four_star.rstrip()\n",
    "print(connect_four_star)\n",
    "\n",
    "connect_five_star = connect_five_star.replace('</td>', '')\n",
    "connect_five_star = connect_five_star.replace('<td style=\"width:100%;\">', '')\n",
    "connect_five_star = connect_five_star.rstrip()\n",
    "print(connect_five_star)\n",
    "\n",
    "# table_data 53 through 56 are Magia Info\n",
    "magia_four_star = str(table_data[39])\n",
    "magia_five_star = str(table_data[40])\n",
    "\n",
    "magia_four_star = magia_four_star.replace('</td>', '')\n",
    "magia_four_star = magia_four_star.replace('<td style=\"width:100%;\">', '')\n",
    "magia_four_star = magia_four_star.rstrip()\n",
    "print(magia_four_star)\n",
    "\n",
    "magia_five_star = magia_five_star.replace('</td>', '')\n",
    "magia_five_star = magia_five_star.replace('<td style=\"width:100%;\">', '')\n",
    "magia_five_star = magia_five_star.rstrip()\n",
    "print(magia_five_star)\n",
    "\n",
    "doppel_info = str(table_data[41])\n",
    "doppel_info = doppel_info.replace('<td style=\"width:100%;\">', '')\n",
    "doppel_info = doppel_info.replace('</td>', '')\n",
    "doppel_info = doppel_info.rstrip()\n",
    "print(doppel_info)\n",
    "\n",
    "table_head = soup.find_all('th')\n",
    "connect = str(table_head[3])\n",
    "magia = str(table_head[4])\n",
    "doppel = str(table_head[5])\n",
    "print(magia)\n",
    "print(doppel)\n",
    "\n",
    "connect = connect.strip('<th colspan=\"5\">')\n",
    "connect = connect.strip('b>')\n",
    "connect = connect.strip('<b>')\n",
    "connect = connect.replace('</b>', '')\n",
    "connect = connect.replace('<i>', '')\n",
    "connect = connect.replace('</i>', '')\n",
    "connect = connect.strip('</')\n",
    "connect = connect.rstrip()\n",
    "print(connect)\n",
    "\n",
    "magia = magia.strip('<th colspan=\"5\">')\n",
    "magia = magia.strip('b>')\n",
    "magia = magia.replace('</b>', '')\n",
    "magia = magia.replace('<i>', '')\n",
    "magia = magia.replace('</i>', '')\n",
    "magia = magia.replace('<sup class=\"reference\" id=\"cite_ref-1\"><a href=\"#cite_note-1\">[1]</a></sup>', '')\n",
    "magia = magia.strip('</')\n",
    "magia = magia.rstrip()\n",
    "print(magia)\n",
    "\n",
    "doppel = doppel.strip('<th colspan=\"5\">')\n",
    "doppel = doppel.strip('b>')\n",
    "doppel = doppel.replace('<b>', '')\n",
    "doppel = doppel.replace('</b>', '')\n",
    "doppel = doppel.replace('<i>', '')\n",
    "doppel = doppel.replace('</i>', '')\n",
    "doppel = doppel.strip('</')\n",
    "doppel = doppel.rstrip()\n",
    "print(doppel)"
   ]
  },
  {
   "cell_type": "code",
   "execution_count": 26,
   "metadata": {},
   "outputs": [
    {
     "name": "stdout",
     "output_type": "stream",
     "text": [
      "Age: 14\n",
      "Height: 155cm\n",
      "Eye colour: Light brown\n",
      "Hair colour: Light brown\n",
      "Origins: Daito ward\n",
      "Soul Gem: Light brown four-leaf clover (cloak fastening)\n",
      "Weapon: Bow\n",
      "Wish: \"I want the power to connect hearts.\"\n",
      "Ability: Connect Hearts (You can understand what the other person thinks but the more people you connect the more you feel)\n",
      "Witch form: Akakiy\n",
      "Japanese pronoun: watashi<span style=\"font-weight: normal\"> (<span class=\"t_nihongo_kanji\" lang=\"ja\">私</span>)</span\n",
      "School: Kamihama City University Affiliated School 8th grade\n",
      "{'Name': 'Mito Aino', 'Age': 'Age: 14', 'EyeColor': 'Eye colour: Light brown', 'HairColor': 'Hair colour: Light brown', 'Hometown': 'Origins: Daito ward', 'SoulGem': 'Soul Gem: Light brown four-leaf clover (cloak fastening)', 'Weapon': 'Weapon: Bow', 'Wish': 'Wish: \"I want the power to connect hearts.\"', 'Ability': 'Ability: Connect Hearts (You can understand what the other person thinks but the more people you connect the more you feel)', 'Witch': 'Witch form: Akakiy', 'Pronoun': 'Japanese pronoun: watashi<span style=\"font-weight: normal\"> (<span class=\"t_nihongo_kanji\" lang=\"ja\">私</span>)</span', 'School': 'School: Kamihama City University Affiliated School 8th grade', 'Disks': ['Accel', 'Accel', 'Blast', 'Charge', 'Charge'], 'Stats': {'Initial': {'HP': '4898', 'ATK': '1892', 'DEF': '1883'}, 'Four_Star': {'HP': '21539', 'ATK': '6860', 'DEF': '6729'}, 'Five_Star': {'HP': '27141', 'ATK': '8644', 'DEF': '8471'}}, 'Connect': {'Name': 'Connect: Time to Double Up!', 'Four_Star': '★4: Chance to Evade [VII] &amp; Chance to Provoke [VII] &amp; Chance to Critical Hit [VII]', 'Five_Star': '★5: Chance to Evade [IX] &amp; Chance to Provoke [IX] &amp; Chance to Critical Hit [IX]'}, 'Magia': {'Name': 'Magia: Shooting Thorny Burst', 'Four_Star': '★4: Damage One Enemy [V] &amp; Guaranteed Evade (Self / 1 T) &amp; Chance to Provoke (Self / 1 T)', 'Five_Star': '★5: Damage One Enemy [VII] &amp; Guaranteed Evade (Self / 1 T) &amp; Guaranteed Provoke (Self / 1 T) &amp; Attack UP (All / 3 T)'}, 'Doppel': {'Name': 'Doppel: Akakiy', 'Desc': \"The Doppel of unity. Its form is a coat.\\nThe master of this Doppel wishes for beautiful friendships to last for eternity. This Doppel answers that desire by compressing everything it captures into a single concentrated lump, which turns into an unbreakable crystal that will shine for thousands of years. Attacks by the Doppel are made by crystallizing its master's emotions, but continued use of this power causes even the master's memories to harden, making it impossible to create new ones.\", 'Ability': 'Damage One Enemy [IX] &amp; Guaranteed Evasion (Self / 1 T) &amp; Guaranteed Provoke (Self / 1 T) &amp; Defense UP (All / 3 T)'}}\n"
     ]
    }
   ],
   "source": [
    "Age = str(bullet_points[14]).strip(\"<li>\").strip(\"</li>\").strip(\"<b>\").replace(\"</b>\", \"\").replace(',', '')\n",
    "print(Age)\n",
    "Height = str(bullet_points[15]).strip(\"<li>\").strip(\"</li>\").strip(\"<b>\").replace(\"</b>\", \"\").replace(',', '')\n",
    "print(Height)\n",
    "EyeColor = str(bullet_points[16]).strip(\"<li>\").strip(\"</li>\").strip(\"<b>\").replace(\"</b>\", \"\").replace(',', '')\n",
    "print(EyeColor)\n",
    "HairColor = str(bullet_points[17]).strip(\"<li>\").strip(\"</li>\").strip(\"<b>\").replace(\"</b>\", \"\").replace(',', '')\n",
    "print(HairColor)\n",
    "Hometown = str(bullet_points[18]).strip(\"<li>\").strip(\"</li>\").strip(\"<b>\").replace(\"</b>\", \"\").replace(',', '')\n",
    "print(Hometown)\n",
    "SoulGem = str(bullet_points[19]).strip(\"<li>\").strip(\"</li>\").strip(\"<b>\").replace(\"</b>\", \"\").replace(',', '')\n",
    "print(SoulGem)\n",
    "Weapon = str(bullet_points[20]).strip(\"<li>\").strip(\"</li>\").strip(\"<b>\").replace(\"</b>\", \"\").replace('</a', '').replace('<a class=\"external text\" href=\"https://en.wikipedia.org/wiki/Crossbow\" rel=\"nofollow\">', '')\n",
    "print(Weapon)\n",
    "Wish = str(bullet_points[21]).strip(\"<li>\").strip(\"</li>\").strip(\"<b>\").replace(\"</b>\", \"\").replace(',', '')\n",
    "print(Wish)\n",
    "Ability = str(bullet_points[22]).strip(\"<li>\").strip(\"</li>\").strip(\"<b>\").replace(\"</b>\", \"\").replace(',', '')\n",
    "print(Ability)\n",
    "Witch = str(bullet_points[23]).strip(\"<li>\").strip(\"</li>\").strip(\"<b>\").replace(\"</b>\", \"\").replace(',', '')\n",
    "print(Witch)\n",
    "Pronoun = str(bullet_points[24]).strip(\"<li>\").strip(\"</li>\").strip(\"<b>\").replace(\"</b>\", \"\").replace(',', '')\n",
    "print(Pronoun)\n",
    "School = str(bullet_points[25]).strip(\"<li>\").strip(\"</li>\").strip(\"<b>\").replace(\"</b>\", \"\").replace(',', '')\n",
    "print(School)\n",
    "\n",
    "Mito = {\n",
    "    \"Name\": \"Mito Aino\",\n",
    "    \"Age\": Age,\n",
    "    \"EyeColor\": EyeColor,\n",
    "    \"HairColor\": HairColor,\n",
    "    \"Hometown\": Hometown,\n",
    "    \"SoulGem\": SoulGem,\n",
    "    \"Weapon\": Weapon,\n",
    "    \"Wish\": Wish,\n",
    "    \"Ability\": Ability,\n",
    "    \"Witch\": Witch,\n",
    "    \"Pronoun\": Pronoun,\n",
    "    \"School\": School,\n",
    "    \"Disks\": disks,\n",
    "    \"Stats\": {\n",
    "        \"Initial\": {\n",
    "            \"HP\": initial_hp,\n",
    "            \"ATK\": initial_atk,\n",
    "            \"DEF\": initial_def\n",
    "        },\n",
    "        \"Four_Star\": {\n",
    "            \"HP\": four_star_hp,\n",
    "            \"ATK\": four_star_atk,\n",
    "            \"DEF\": four_star_def\n",
    "        },\n",
    "        \"Five_Star\": {\n",
    "            \"HP\": five_star_hp,\n",
    "            \"ATK\": five_star_atk,\n",
    "            \"DEF\": five_star_def        \n",
    "        }\n",
    "    },\n",
    "    \"Connect\": {\n",
    "        \"Name\": connect,\n",
    "        \"Four_Star\": connect_four_star,\n",
    "        \"Five_Star\": connect_five_star\n",
    "    },\n",
    "    \"Magia\": {\n",
    "        \"Name\": magia,\n",
    "        \"Four_Star\": magia_four_star,\n",
    "        \"Five_Star\": magia_five_star\n",
    "    },\n",
    "    \"Doppel\": {\n",
    "        \"Name\": doppel,\n",
    "        \"Desc\": para,\n",
    "        \"Ability\": doppel_info,\n",
    "    }\n",
    "}\n",
    "\n",
    "print(Mito)"
   ]
  },
  {
   "cell_type": "code",
   "execution_count": 27,
   "metadata": {},
   "outputs": [
    {
     "name": "stdout",
     "output_type": "stream",
     "text": [
      "{\"Name\": \"Mito Aino\", \"Age\": \"Age: 14\", \"EyeColor\": \"Eye colour: Light brown\", \"HairColor\": \"Hair colour: Light brown\", \"Hometown\": \"Origins: Daito ward\", \"SoulGem\": \"Soul Gem: Light brown four-leaf clover (cloak fastening)\", \"Weapon\": \"Weapon: Bow\", \"Wish\": \"Wish: \\\"I want the power to connect hearts.\\\"\", \"Ability\": \"Ability: Connect Hearts (You can understand what the other person thinks but the more people you connect the more you feel)\", \"Witch\": \"Witch form: Akakiy\", \"Pronoun\": \"Japanese pronoun: watashi<span style=\\\"font-weight: normal\\\"> (<span class=\\\"t_nihongo_kanji\\\" lang=\\\"ja\\\">\\u79c1</span>)</span\", \"School\": \"School: Kamihama City University Affiliated School 8th grade\", \"Disks\": [\"Accel\", \"Accel\", \"Blast\", \"Charge\", \"Charge\"], \"Stats\": {\"Initial\": {\"HP\": \"4898\", \"ATK\": \"1892\", \"DEF\": \"1883\"}, \"Four_Star\": {\"HP\": \"21539\", \"ATK\": \"6860\", \"DEF\": \"6729\"}, \"Five_Star\": {\"HP\": \"27141\", \"ATK\": \"8644\", \"DEF\": \"8471\"}}, \"Connect\": {\"Name\": \"Connect: Time to Double Up!\", \"Four_Star\": \"\\u26054: Chance to Evade [VII] &amp; Chance to Provoke [VII] &amp; Chance to Critical Hit [VII]\", \"Five_Star\": \"\\u26055: Chance to Evade [IX] &amp; Chance to Provoke [IX] &amp; Chance to Critical Hit [IX]\"}, \"Magia\": {\"Name\": \"Magia: Shooting Thorny Burst\", \"Four_Star\": \"\\u26054: Damage One Enemy [V] &amp; Guaranteed Evade (Self / 1 T) &amp; Chance to Provoke (Self / 1 T)\", \"Five_Star\": \"\\u26055: Damage One Enemy [VII] &amp; Guaranteed Evade (Self / 1 T) &amp; Guaranteed Provoke (Self / 1 T) &amp; Attack UP (All / 3 T)\"}, \"Doppel\": {\"Name\": \"Doppel: Akakiy\", \"Desc\": \"The Doppel of unity. Its form is a coat.\\nThe master of this Doppel wishes for beautiful friendships to last for eternity. This Doppel answers that desire by compressing everything it captures into a single concentrated lump, which turns into an unbreakable crystal that will shine for thousands of years. Attacks by the Doppel are made by crystallizing its master's emotions, but continued use of this power causes even the master's memories to harden, making it impossible to create new ones.\", \"Ability\": \"Damage One Enemy [IX] &amp; Guaranteed Evasion (Self / 1 T) &amp; Guaranteed Provoke (Self / 1 T) &amp; Defense UP (All / 3 T)\"}}\n"
     ]
    }
   ],
   "source": [
    "girl_json = json.dumps(Mito)\n",
    "print(girl_json)\n",
    "\n",
    "with open('mito.json', 'w') as json_file:\n",
    "  json.dump(girl_json, json_file)"
   ]
  },
  {
   "cell_type": "code",
   "execution_count": null,
   "metadata": {},
   "outputs": [],
   "source": [
    "18\n",
    "20\n",
    "7\n",
    "3"
   ]
  }
 ],
 "metadata": {
  "kernelspec": {
   "display_name": "Python 3",
   "language": "python",
   "name": "python3"
  },
  "language_info": {
   "codemirror_mode": {
    "name": "ipython",
    "version": 3
   },
   "file_extension": ".py",
   "mimetype": "text/x-python",
   "name": "python",
   "nbconvert_exporter": "python",
   "pygments_lexer": "ipython3",
   "version": "3.7.3"
  }
 },
 "nbformat": 4,
 "nbformat_minor": 2
}
