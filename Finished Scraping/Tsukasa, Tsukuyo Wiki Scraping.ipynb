{
 "cells": [
  {
   "cell_type": "code",
   "execution_count": 2,
   "metadata": {},
   "outputs": [
    {
     "name": "stdout",
     "output_type": "stream",
     "text": [
      "<li><b>Age:</b> 17</li>\n",
      "<li><b>School:</b> Kosho Academy, 11th grade</li>\n",
      "The Doppel of disconnection. Its form is an aquarium. The master of this emotion, free from being bound by her own environment or circumstances, drowns in affection for her other half as the one person who understands her. By using this Doppel, the two of them cut themselves off from all connections except theirs. As long as they stay within this tiny half-planet, they each only believe in what the other can sense; outsiders will never get through to them, no matter how many opinions one expresses or how overbearing an attitude one takes. The use of this Doppel shuts out the diverse values held by others, thereby stabilizing one’s mind, but as a side effect, their hold on society’s ethics will dwindle as well.\n"
     ]
    }
   ],
   "source": [
    "# Dependencies\n",
    "import os\n",
    "from bs4 import BeautifulSoup as bs\n",
    "import json\n",
    "import requests\n",
    "\n",
    "query_url = \"https://wiki.puella-magi.net/Tsukasa_Amane\"\n",
    "response = requests.get(query_url)\n",
    "soup = bs(response.text, 'html.parser')\n",
    "\n",
    "bullet_points = soup.find_all('li')\n",
    "# 19- 30 General Info\n",
    "print(bullet_points[19])\n",
    "print(bullet_points[30])\n",
    "\n",
    "para = soup.find_all('p')\n",
    "para = str(para[5])\n",
    "para = para.strip(\"<p>\")\n",
    "para = para.strip(\"</p>\")\n",
    "para = para.rstrip()\n",
    "print(para)"
   ]
  },
  {
   "cell_type": "code",
   "execution_count": 3,
   "metadata": {},
   "outputs": [
    {
     "name": "stdout",
     "output_type": "stream",
     "text": [
      "3714 1543 1197\n",
      "12716 5209 4127\n",
      "16534 6769 5368\n",
      "21161 8071 6613\n",
      "22818 8953 8422\n"
     ]
    }
   ],
   "source": [
    "table_data = soup.find_all('td')\n",
    "\n",
    "initial_hp = str(table_data[21]).replace('<td style=\"width:25%;\">', '').replace('</td>', '').rstrip()\n",
    "initial_atk = str(table_data[22]).replace('<td style=\"width:25%;\">', '').replace('</td>', '').rstrip()\n",
    "initial_def = str(table_data[23]).replace('<td style=\"width:25%;\">', '').replace('</td>', '').rstrip()\n",
    "\n",
    "# max at 3* 32, 33, 34, 35\n",
    "three_star_hp = str(table_data[25]).replace('<td style=\"width:25%;\">', '').replace('</td>', '').rstrip()\n",
    "three_star_atk = str(table_data[26]).replace('<td style=\"width:25%;\">', '').replace('</td>', '').rstrip()\n",
    "three_star_def = str(table_data[27]).replace('<td style=\"width:25%;\">', '').replace('</td>', '').rstrip()\n",
    "# max at 4* 36, 37, 38, 39\n",
    "four_star_hp = str(table_data[29]).replace('<td style=\"width:25%;\">', '').replace('</td>', '').rstrip()\n",
    "four_star_atk = str(table_data[30]).replace('<td style=\"width:25%;\">', '').replace('</td>', '').rstrip()\n",
    "four_star_def = str(table_data[31]).replace('<td style=\"width:25%;\">', '').replace('</td>', '').rstrip()\n",
    "# max at 5* [40], [41], [42], [43]\n",
    "five_star_hp = str(table_data[33]).replace('<td style=\"width:25%;\">', '').replace('</td>', '').rstrip()\n",
    "five_star_atk = str(table_data[34]).replace('<td style=\"width:25%;\">', '').replace('</td>', '').rstrip()\n",
    "five_star_def = str(table_data[35]).replace('<td style=\"width:25%;\">', '').replace('</td>', '').rstrip()\n",
    "# Max SE 44, 45, 46, 47\n",
    "se_hp = str(table_data[37]).replace('<td style=\"width:25%;\">', '').replace('</td>', '').rstrip()\n",
    "se_atk = str(table_data[38]).replace('<td style=\"width:25%;\">', '').replace('</td>', '').rstrip()\n",
    "se_def = str(table_data[39]).replace('<td style=\"width:25%;\">', '').replace('</td>', '').rstrip()\n",
    "\n",
    "print(initial_hp, initial_atk, initial_def)\n",
    "print(three_star_hp, three_star_atk, three_star_def)\n",
    "print(four_star_hp, four_star_atk, four_star_def)\n",
    "print(five_star_hp, five_star_atk, five_star_def)\n",
    "print(se_hp, se_atk, se_def)"
   ]
  },
  {
   "cell_type": "code",
   "execution_count": 4,
   "metadata": {},
   "outputs": [
    {
     "name": "stdout",
     "output_type": "stream",
     "text": [
      "['Accel', 'Accel', 'Blast', 'Charge', 'Charge']\n"
     ]
    }
   ],
   "source": [
    "disk_one = str(table_data[40])\n",
    "disk_two = str(table_data[41])\n",
    "disk_three = str(table_data[42])\n",
    "disk_four = str(table_data[43])\n",
    "disk_five = str(table_data[44])\n",
    "\n",
    "if (disk_one.find(\"accel\") != -1):\n",
    "    disk_one = \"Accel\"\n",
    "elif (disk_one.find(\"blast\") != -1):\n",
    "    disk_one = \"Blast\"\n",
    "else:\n",
    "    disk_one = \"Charge\"\n",
    "    \n",
    "if (disk_two.find(\"accel\") != -1):\n",
    "    disk_two = \"Accel\"\n",
    "elif (disk_two.find(\"blast\") != -1):\n",
    "    disk_two = \"Blast\"\n",
    "else:\n",
    "    disk_two = \"Charge\"\n",
    "\n",
    "if (disk_three.find(\"accel\") != -1):\n",
    "    disk_three = \"Accel\"\n",
    "elif (disk_three.find(\"blast\") != -1):\n",
    "    disk_three = \"Blast\"\n",
    "else:\n",
    "    disk_three = \"Charge\"\n",
    "    \n",
    "if (disk_four.find(\"accel\") != -1):\n",
    "    disk_four = \"Accel\"\n",
    "elif (disk_four.find(\"blast\") != -1):\n",
    "    disk_four = \"Blast\"\n",
    "else:\n",
    "    disk_four = \"Charge\"\n",
    "    \n",
    "if (disk_five.find(\"accel\") != -1):\n",
    "    disk_five = \"Accel\"\n",
    "elif (disk_five.find(\"blast\") != -1):\n",
    "    disk_five = \"Blast\"\n",
    "else:\n",
    "    disk_five = \"Charge\"\n",
    "    \n",
    "disks = [disk_one, disk_two, disk_three, disk_four, disk_five]\n",
    "print(disks)"
   ]
  },
  {
   "cell_type": "code",
   "execution_count": 5,
   "metadata": {},
   "outputs": [
    {
     "name": "stdout",
     "output_type": "stream",
     "text": [
      "★3: MP Restore [IV / 20 MP] (Restore Increased MP to <a href=\"/Tsukuyo_Amane\" title=\"Tsukuyo Amane\">Tsukuyo Amane</a> / 20 MP)\n",
      "★4: MP Restore [VI / 25 MP] (Restore Increased MP to <a href=\"/Tsukuyo_Amane\" title=\"Tsukuyo Amane\">Tsukuyo Amane</a> / 25 MP)\n",
      "★5: MP Restore [VIII / 30 MP] (Restore Increased MP to <a href=\"/Tsukuyo_Amane\" title=\"Tsukuyo Amane\">Tsukuyo Amane</a> / 25 MP)\n",
      "★3: Damage All Enemies [II] &amp; Accele MP Gain UP (All / 3 T)\n",
      "★4: Damage All Enemies [IV] &amp; Accele MP Gain UP (All / 3 T)\n",
      "★5: Damage All Enemies [VI] &amp; Accele MP Gain UP (All / 3 T)\n"
     ]
    }
   ],
   "source": [
    "# table_data 49 through 52 are Connect Info\n",
    "connect_three_star = str(table_data[45])\n",
    "connect_four_star = str(table_data[46])\n",
    "connect_five_star = str(table_data[47])\n",
    "\n",
    "connect_three_star = connect_three_star.replace('</td>', '')\n",
    "connect_three_star = connect_three_star.replace('<td style=\"width:100%;\">', '')\n",
    "connect_three_star = connect_three_star.rstrip()\n",
    "print(connect_three_star)\n",
    "\n",
    "connect_four_star = connect_four_star.replace('</td>', '')\n",
    "connect_four_star = connect_four_star.replace('<td style=\"width:100%;\">', '')\n",
    "connect_four_star = connect_four_star.rstrip()\n",
    "print(connect_four_star)\n",
    "\n",
    "connect_five_star = connect_five_star.replace('</td>', '')\n",
    "connect_five_star = connect_five_star.replace('<td style=\"width:100%;\">', '')\n",
    "connect_five_star = connect_five_star.rstrip()\n",
    "print(connect_five_star)\n",
    "\n",
    "# table_data 53 through 56 are Magia Info\n",
    "\n",
    "magia_three_star = str(table_data[48])\n",
    "magia_four_star = str(table_data[49])\n",
    "magia_five_star = str(table_data[50])\n",
    "\n",
    "magia_three_star = magia_three_star.replace('</td>', '')\n",
    "magia_three_star = magia_three_star.replace('<td style=\"width:100%;\">', '')\n",
    "magia_three_star = magia_three_star.rstrip()\n",
    "print(magia_three_star)\n",
    "\n",
    "magia_four_star = magia_four_star.replace('</td>', '')\n",
    "magia_four_star = magia_four_star.replace('<td style=\"width:100%;\">', '')\n",
    "magia_four_star = magia_four_star.rstrip()\n",
    "print(magia_four_star)\n",
    "\n",
    "magia_five_star = magia_five_star.replace('</td>', '')\n",
    "magia_five_star = magia_five_star.replace('<td style=\"width:100%;\">', '')\n",
    "magia_five_star = magia_five_star.rstrip()\n",
    "print(magia_five_star)"
   ]
  },
  {
   "cell_type": "code",
   "execution_count": 6,
   "metadata": {},
   "outputs": [
    {
     "name": "stdout",
     "output_type": "stream",
     "text": [
      "Damage All Enemies [VIII] &amp; Accele MP Gain UP (All / 3 T)\n",
      "<th colspan=\"5\"><b>Magia:</b> <i>Cherry Ballad</i>\n",
      "</th>\n",
      "<th colspan=\"5\"><b>Doppel: <i>Dee</i></b>\n",
      "</th>\n",
      "Connect: This is our harmony\n",
      "Magia: Cherry Ballad\n",
      "Doppel: Dee\n"
     ]
    }
   ],
   "source": [
    "doppel_info = str(table_data[51])\n",
    "doppel_info = doppel_info.replace('<td style=\"width:100%;\">', '')\n",
    "doppel_info = doppel_info.replace('</td>', '')\n",
    "doppel_info = doppel_info.rstrip()\n",
    "print(doppel_info)\n",
    "\n",
    "table_head = soup.find_all('th')\n",
    "connect = str(table_head[3])\n",
    "magia = str(table_head[4])\n",
    "doppel = str(table_head[5])\n",
    "print(magia)\n",
    "print(doppel)\n",
    "\n",
    "connect = connect.strip('<th colspan=\"5\">')\n",
    "connect = connect.strip('b>')\n",
    "connect = connect.strip('<b>')\n",
    "connect = connect.replace('</b>', '')\n",
    "connect = connect.replace('<i>', '')\n",
    "connect = connect.replace('</i>', '')\n",
    "connect = connect.strip('</')\n",
    "connect = connect.rstrip()\n",
    "print(connect)\n",
    "\n",
    "magia = magia.strip('<th colspan=\"5\">')\n",
    "magia = magia.strip('b>')\n",
    "magia = magia.replace('</b>', '')\n",
    "magia = magia.replace('<i>', '')\n",
    "magia = magia.replace('</i>', '')\n",
    "magia = magia.strip('</')\n",
    "magia = magia.rstrip()\n",
    "print(magia)\n",
    "\n",
    "doppel = doppel.strip('<th colspan=\"5\">')\n",
    "doppel = doppel.strip('b>')\n",
    "doppel = doppel.replace('<b>', '')\n",
    "doppel = doppel.replace('</b>', '')\n",
    "doppel = doppel.replace('<i>', '')\n",
    "doppel = doppel.replace('</i>', '')\n",
    "doppel = doppel.strip('</')\n",
    "doppel = doppel.rstrip()\n",
    "print(doppel)"
   ]
  },
  {
   "cell_type": "code",
   "execution_count": 7,
   "metadata": {},
   "outputs": [
    {
     "name": "stdout",
     "output_type": "stream",
     "text": [
      "Age: 17\n",
      "Height: 158cm\n",
      "Eye colour: Dark Red\n",
      "Hair colour: Brown\n",
      "Origins: Kosho ward\n",
      "Soul Gem: Red Ying-Yang (necklace)\n",
      "Weapon: <a class=\"external text\" href=\"https://en.wikipedia.org/wiki/Shinobue\" rel=\"nofollow\">Shinobue (Japanese Bamboo Flute)\n",
      "Wish: \"We don't want to hate each other\" (referring to her twin sister)\n",
      "Ability: Sound Wave Manipulation\n",
      "Witch form: Dee\n",
      "Japanese pronoun: <i>watashi</i><span style=\"font-weight: normal\"> (<span class=\"t_nihongo_kanji\" lang=\"ja\">私</span>)</span\n",
      "School: Kosho Academy 11th grade\n"
     ]
    }
   ],
   "source": [
    "Age = str(bullet_points[19]).strip(\"<li>\").strip(\"</li>\").strip(\"<b>\").replace(\"</b>\", \"\").replace(',', '')\n",
    "print(Age)\n",
    "Height = str(bullet_points[20]).strip(\"<li>\").strip(\"</li>\").strip(\"<b>\").replace(\"</b>\", \"\").replace(',', '')\n",
    "print(Height)\n",
    "EyeColor = str(bullet_points[21]).strip(\"<li>\").strip(\"</li>\").strip(\"<b>\").replace(\"</b>\", \"\").replace(',', '')\n",
    "print(EyeColor)\n",
    "HairColor = str(bullet_points[22]).strip(\"<li>\").strip(\"</li>\").strip(\"<b>\").replace(\"</b>\", \"\").replace(',', '')\n",
    "print(HairColor)\n",
    "Hometown = str(bullet_points[23]).strip(\"<li>\").strip(\"</li>\").strip(\"<b>\").replace(\"</b>\", \"\").replace(',', '')\n",
    "print(Hometown)\n",
    "SoulGem = str(bullet_points[24]).strip(\"<li>\").strip(\"</li>\").strip(\"<b>\").replace(\"</b>\", \"\").replace(',', '')\n",
    "print(SoulGem)\n",
    "Weapon = str(bullet_points[25]).strip(\"<li>\").strip(\"</li>\").strip(\"<b>\").replace(\"</b>\", \"\").replace('</a', '').replace('<a class=\"external text\" href=\"https://en.wikipedia.org/wiki/Crossbow\" rel=\"nofollow\">', '')\n",
    "print(Weapon)\n",
    "Wish = str(bullet_points[26]).strip(\"<li>\").strip(\"</li>\").strip(\"<b>\").replace(\"</b>\", \"\").replace(',', '')\n",
    "print(Wish)\n",
    "Ability = str(bullet_points[27]).strip(\"<li>\").strip(\"</li>\").strip(\"<b>\").replace(\"</b>\", \"\").replace(',', '')\n",
    "print(Ability)\n",
    "Witch = str(bullet_points[28]).strip(\"<li>\").strip(\"</li>\").strip(\"<b>\").replace(\"</b>\", \"\").replace(',', '')\n",
    "print(Witch)\n",
    "Pronoun = str(bullet_points[29]).strip(\"<li>\").strip(\"</li>\").strip(\"<b>\").replace(\"</b>\", \"\").replace(',', '')\n",
    "print(Pronoun)\n",
    "School = str(bullet_points[30]).strip(\"<li>\").strip(\"</li>\").strip(\"<b>\").replace(\"</b>\", \"\").replace(',', '')\n",
    "print(School)"
   ]
  },
  {
   "cell_type": "code",
   "execution_count": 8,
   "metadata": {},
   "outputs": [
    {
     "name": "stdout",
     "output_type": "stream",
     "text": [
      "{'Name': 'Tsukasa Amane', 'Age': 'Age: 17', 'EyeColor': 'Eye colour: Dark Red', 'HairColor': 'Hair colour: Brown', 'Hometown': 'Origins: Kosho ward', 'SoulGem': 'Soul Gem: Red Ying-Yang (necklace)', 'Weapon': 'Weapon: <a class=\"external text\" href=\"https://en.wikipedia.org/wiki/Shinobue\" rel=\"nofollow\">Shinobue (Japanese Bamboo Flute)', 'Wish': 'Wish: \"We don\\'t want to hate each other\" (referring to her twin sister)', 'Ability': 'Ability: Sound Wave Manipulation', 'Witch': 'Witch form: Dee', 'Pronoun': 'Japanese pronoun: <i>watashi</i><span style=\"font-weight: normal\"> (<span class=\"t_nihongo_kanji\" lang=\"ja\">私</span>)</span', 'School': 'School: Kosho Academy 11th grade', 'Disks': ['Accel', 'Accel', 'Blast', 'Charge', 'Charge'], 'Stats': {'Initial': {'HP': '3714', 'ATK': '1543', 'DEF': '1197'}, 'Three_Star': {'HP': '12716', 'ATK': '5209', 'DEF': '4127'}, 'Four_Star': {'HP': '16534', 'ATK': '6769', 'DEF': '5368'}, 'Five_Star': {'HP': '21161', 'ATK': '8071', 'DEF': '6613'}, 'SE': {'HP': '22818', 'ATK': '8953', 'DEF': '8422'}}, 'Connect': {'Name': 'Connect: This is our harmony', 'Three_Star': '★3: MP Restore [IV / 20 MP] (Restore Increased MP to <a href=\"/Tsukuyo_Amane\" title=\"Tsukuyo Amane\">Tsukuyo Amane</a> / 20 MP)', 'Four_Star': '★4: MP Restore [VI / 25 MP] (Restore Increased MP to <a href=\"/Tsukuyo_Amane\" title=\"Tsukuyo Amane\">Tsukuyo Amane</a> / 25 MP)', 'Five_Star': '★5: MP Restore [VIII / 30 MP] (Restore Increased MP to <a href=\"/Tsukuyo_Amane\" title=\"Tsukuyo Amane\">Tsukuyo Amane</a> / 25 MP)'}, 'Magia': {'Name': 'Magia: Cherry Ballad', 'Three_Star': '★3: Damage All Enemies [II] &amp; Accele MP Gain UP (All / 3 T)', 'Four_Star': '★4: Damage All Enemies [IV] &amp; Accele MP Gain UP (All / 3 T)', 'Five_Star': '★5: Damage All Enemies [VI] &amp; Accele MP Gain UP (All / 3 T)'}, 'Doppel': {'Name': 'Doppel: Dee', 'Desc': 'The Doppel of disconnection. Its form is an aquarium. The master of this emotion, free from being bound by her own environment or circumstances, drowns in affection for her other half as the one person who understands her. By using this Doppel, the two of them cut themselves off from all connections except theirs. As long as they stay within this tiny half-planet, they each only believe in what the other can sense; outsiders will never get through to them, no matter how many opinions one expresses or how overbearing an attitude one takes. The use of this Doppel shuts out the diverse values held by others, thereby stabilizing one’s mind, but as a side effect, their hold on society’s ethics will dwindle as well.', 'Ability': 'Damage All Enemies [VIII] &amp; Accele MP Gain UP (All / 3 T)'}}\n"
     ]
    }
   ],
   "source": [
    "Tsukasa = {\n",
    "    \"Name\": \"Tsukasa Amane\",\n",
    "    \"Age\": Age,\n",
    "    \"EyeColor\": EyeColor,\n",
    "    \"HairColor\": HairColor,\n",
    "    \"Hometown\": Hometown,\n",
    "    \"SoulGem\": SoulGem,\n",
    "    \"Weapon\": Weapon,\n",
    "    \"Wish\": Wish,\n",
    "    \"Ability\": Ability,\n",
    "    \"Witch\": Witch,\n",
    "    \"Pronoun\": Pronoun,\n",
    "    \"School\": School,\n",
    "    \"Disks\": disks,\n",
    "    \"Stats\": {\n",
    "        \"Initial\": {\n",
    "            \"HP\": initial_hp,\n",
    "            \"ATK\": initial_atk,\n",
    "            \"DEF\": initial_def\n",
    "        },\n",
    "        \"Three_Star\": {\n",
    "            \"HP\": three_star_hp,\n",
    "            \"ATK\": three_star_atk,\n",
    "            \"DEF\": three_star_def\n",
    "        },\n",
    "        \"Four_Star\": {\n",
    "            \"HP\": four_star_hp,\n",
    "            \"ATK\": four_star_atk,\n",
    "            \"DEF\": four_star_def\n",
    "        },\n",
    "        \"Five_Star\": {\n",
    "            \"HP\": five_star_hp,\n",
    "            \"ATK\": five_star_atk,\n",
    "            \"DEF\": five_star_def        \n",
    "        },\n",
    "        \"SE\": {\n",
    "            \"HP\": se_hp,\n",
    "            \"ATK\": se_atk,\n",
    "            \"DEF\":  se_def          \n",
    "        }\n",
    "    },\n",
    "    \"Connect\": {\n",
    "        \"Name\": connect,\n",
    "        \"Three_Star\": connect_three_star,\n",
    "        \"Four_Star\": connect_four_star,\n",
    "        \"Five_Star\": connect_five_star\n",
    "    },\n",
    "    \"Magia\": {\n",
    "        \"Name\": magia,\n",
    "        \"Three_Star\": magia_three_star,\n",
    "        \"Four_Star\": magia_four_star,\n",
    "        \"Five_Star\": magia_five_star\n",
    "    },\n",
    "    \"Doppel\": {\n",
    "        \"Name\": doppel,\n",
    "        \"Desc\": para,\n",
    "        \"Ability\": doppel_info,\n",
    "    }\n",
    "}\n",
    "\n",
    "print(Tsukasa)"
   ]
  },
  {
   "cell_type": "code",
   "execution_count": 9,
   "metadata": {},
   "outputs": [
    {
     "name": "stdout",
     "output_type": "stream",
     "text": [
      "{\"Name\": \"Tsukasa Amane\", \"Age\": \"Age: 17\", \"EyeColor\": \"Eye colour: Dark Red\", \"HairColor\": \"Hair colour: Brown\", \"Hometown\": \"Origins: Kosho ward\", \"SoulGem\": \"Soul Gem: Red Ying-Yang (necklace)\", \"Weapon\": \"Weapon: <a class=\\\"external text\\\" href=\\\"https://en.wikipedia.org/wiki/Shinobue\\\" rel=\\\"nofollow\\\">Shinobue (Japanese Bamboo Flute)\", \"Wish\": \"Wish: \\\"We don't want to hate each other\\\" (referring to her twin sister)\", \"Ability\": \"Ability: Sound Wave Manipulation\", \"Witch\": \"Witch form: Dee\", \"Pronoun\": \"Japanese pronoun: <i>watashi</i><span style=\\\"font-weight: normal\\\"> (<span class=\\\"t_nihongo_kanji\\\" lang=\\\"ja\\\">\\u79c1</span>)</span\", \"School\": \"School: Kosho Academy 11th grade\", \"Disks\": [\"Accel\", \"Accel\", \"Blast\", \"Charge\", \"Charge\"], \"Stats\": {\"Initial\": {\"HP\": \"3714\", \"ATK\": \"1543\", \"DEF\": \"1197\"}, \"Three_Star\": {\"HP\": \"12716\", \"ATK\": \"5209\", \"DEF\": \"4127\"}, \"Four_Star\": {\"HP\": \"16534\", \"ATK\": \"6769\", \"DEF\": \"5368\"}, \"Five_Star\": {\"HP\": \"21161\", \"ATK\": \"8071\", \"DEF\": \"6613\"}, \"SE\": {\"HP\": \"22818\", \"ATK\": \"8953\", \"DEF\": \"8422\"}}, \"Connect\": {\"Name\": \"Connect: This is our harmony\", \"Three_Star\": \"\\u26053: MP Restore [IV / 20 MP] (Restore Increased MP to <a href=\\\"/Tsukuyo_Amane\\\" title=\\\"Tsukuyo Amane\\\">Tsukuyo Amane</a> / 20 MP)\", \"Four_Star\": \"\\u26054: MP Restore [VI / 25 MP] (Restore Increased MP to <a href=\\\"/Tsukuyo_Amane\\\" title=\\\"Tsukuyo Amane\\\">Tsukuyo Amane</a> / 25 MP)\", \"Five_Star\": \"\\u26055: MP Restore [VIII / 30 MP] (Restore Increased MP to <a href=\\\"/Tsukuyo_Amane\\\" title=\\\"Tsukuyo Amane\\\">Tsukuyo Amane</a> / 25 MP)\"}, \"Magia\": {\"Name\": \"Magia: Cherry Ballad\", \"Three_Star\": \"\\u26053: Damage All Enemies [II] &amp; Accele MP Gain UP (All / 3 T)\", \"Four_Star\": \"\\u26054: Damage All Enemies [IV] &amp; Accele MP Gain UP (All / 3 T)\", \"Five_Star\": \"\\u26055: Damage All Enemies [VI] &amp; Accele MP Gain UP (All / 3 T)\"}, \"Doppel\": {\"Name\": \"Doppel: Dee\", \"Desc\": \"The Doppel of disconnection. Its form is an aquarium. The master of this emotion, free from being bound by her own environment or circumstances, drowns in affection for her other half as the one person who understands her. By using this Doppel, the two of them cut themselves off from all connections except theirs. As long as they stay within this tiny half-planet, they each only believe in what the other can sense; outsiders will never get through to them, no matter how many opinions one expresses or how overbearing an attitude one takes. The use of this Doppel shuts out the diverse values held by others, thereby stabilizing one\\u2019s mind, but as a side effect, their hold on society\\u2019s ethics will dwindle as well.\", \"Ability\": \"Damage All Enemies [VIII] &amp; Accele MP Gain UP (All / 3 T)\"}}\n"
     ]
    }
   ],
   "source": [
    "girl_json = json.dumps(Tsukasa)\n",
    "print(girl_json)\n",
    "\n",
    "with open('tsukasa.json', 'w') as json_file:\n",
    "  json.dump(girl_json, json_file)"
   ]
  },
  {
   "cell_type": "code",
   "execution_count": 11,
   "metadata": {},
   "outputs": [
    {
     "name": "stdout",
     "output_type": "stream",
     "text": [
      "<li><b>Age:</b> 17</li>\n",
      "<li><b>School:</b> Mizuna Girls' School, 11th grade</li>\n",
      "The Doppel of isolation. Its form is a terrarium.\n",
      "The master of this Doppel isn't swayed by mood or emotion. She does, however, rely on her other half, the only person who truly understands her. Through this, the two of them are capable of completely isolating themselves from the outside. Together in their miniature world, they need only the company of the other to survive. This Doppel shuts out all physical and magical phenomena, allowing its master to perfectly protect herself and her twin. Though doing so causes their memories of anyone but each other to fade away.\n"
     ]
    }
   ],
   "source": [
    "query_url = \"https://wiki.puella-magi.net/Tsukuyo_Amane\"\n",
    "response = requests.get(query_url)\n",
    "soup = bs(response.text, 'html.parser')\n",
    "\n",
    "bullet_points = soup.find_all('li')\n",
    "# 19- 30 General Info\n",
    "print(bullet_points[19])\n",
    "print(bullet_points[30])\n",
    "\n",
    "para = soup.find_all('p')\n",
    "para = str(para[4])\n",
    "para = para.strip(\"<p>\")\n",
    "para = para.strip(\"</p>\")\n",
    "para = para.rstrip()\n",
    "print(para)"
   ]
  },
  {
   "cell_type": "code",
   "execution_count": 12,
   "metadata": {},
   "outputs": [
    {
     "name": "stdout",
     "output_type": "stream",
     "text": [
      "5811 1892 1911\n",
      "20768 6909 6929\n",
      "26146 8708 8728\n",
      "32835 11115 12786\n"
     ]
    }
   ],
   "source": [
    "table_data = soup.find_all('td')\n",
    "\n",
    "# initial 20, 21, 22, 23\n",
    "initial_hp = str(table_data[21]).replace('<td style=\"width:25%;\">', '').replace('</td>', '').rstrip()\n",
    "initial_atk = str(table_data[22]).replace('<td style=\"width:25%;\">', '').replace('</td>', '').rstrip()\n",
    "initial_def = str(table_data[23]).replace('<td style=\"width:25%;\">', '').replace('</td>', '').rstrip()\n",
    "# max at 4* 33, 34, 35\n",
    "four_star_hp = str(table_data[25]).replace('<td style=\"width:25%;\">', '').replace('</td>', '').rstrip()\n",
    "four_star_atk = str(table_data[26]).replace('<td style=\"width:25%;\">', '').replace('</td>', '').rstrip()\n",
    "four_star_def = str(table_data[27]).replace('<td style=\"width:25%;\">', '').replace('</td>', '').rstrip()\n",
    "# max at 5* 37, 38, 39\n",
    "five_star_hp = str(table_data[29]).replace('<td style=\"width:25%;\">', '').replace('</td>', '').rstrip()\n",
    "five_star_atk = str(table_data[30]).replace('<td style=\"width:25%;\">', '').replace('</td>', '').rstrip()\n",
    "five_star_def = str(table_data[31]).replace('<td style=\"width:25%;\">', '').replace('</td>', '').rstrip()\n",
    "# SE\n",
    "se_hp = str(table_data[33]).replace('<td style=\"width:25%;\">', '').replace('</td>', '').rstrip()\n",
    "se_atk = str(table_data[34]).replace('<td style=\"width:25%;\">', '').replace('</td>', '').rstrip()\n",
    "se_def = str(table_data[35]).replace('<td style=\"width:25%;\">', '').replace('</td>', '').rstrip()\n",
    "\n",
    "print(initial_hp, initial_atk, initial_def)\n",
    "print(four_star_hp, four_star_atk, four_star_def)\n",
    "print(five_star_hp, five_star_atk, five_star_def)\n",
    "print(se_hp, se_atk, se_def)"
   ]
  },
  {
   "cell_type": "code",
   "execution_count": 13,
   "metadata": {},
   "outputs": [
    {
     "name": "stdout",
     "output_type": "stream",
     "text": [
      "['Accel', 'Blast', 'Charge', 'Charge', 'Charge']\n"
     ]
    }
   ],
   "source": [
    "disk_one = str(table_data[36])\n",
    "disk_two = str(table_data[37])\n",
    "disk_three = str(table_data[38])\n",
    "disk_four = str(table_data[39])\n",
    "disk_five = str(table_data[40])\n",
    "\n",
    "if (disk_one.find(\"accel\") != -1):\n",
    "    disk_one = \"Accel\"\n",
    "elif (disk_one.find(\"blast\") != -1):\n",
    "    disk_one = \"Blast\"\n",
    "else:\n",
    "    disk_one = \"Charge\"\n",
    "    \n",
    "if (disk_two.find(\"accel\") != -1):\n",
    "    disk_two = \"Accel\"\n",
    "elif (disk_two.find(\"blast\") != -1):\n",
    "    disk_two = \"Blast\"\n",
    "else:\n",
    "    disk_two = \"Charge\"\n",
    "\n",
    "if (disk_three.find(\"accel\") != -1):\n",
    "    disk_three = \"Accel\"\n",
    "elif (disk_three.find(\"blast\") != -1):\n",
    "    disk_three = \"Blast\"\n",
    "else:\n",
    "    disk_three = \"Charge\"\n",
    "    \n",
    "if (disk_four.find(\"accel\") != -1):\n",
    "    disk_four = \"Accel\"\n",
    "elif (disk_four.find(\"blast\") != -1):\n",
    "    disk_four = \"Blast\"\n",
    "else:\n",
    "    disk_four = \"Charge\"\n",
    "    \n",
    "if (disk_five.find(\"accel\") != -1):\n",
    "    disk_five = \"Accel\"\n",
    "elif (disk_five.find(\"blast\") != -1):\n",
    "    disk_five = \"Blast\"\n",
    "else:\n",
    "    disk_five = \"Charge\"\n",
    "    \n",
    "disks = [disk_one, disk_two, disk_three, disk_four, disk_five]\n",
    "print(disks)"
   ]
  },
  {
   "cell_type": "code",
   "execution_count": 14,
   "metadata": {},
   "outputs": [
    {
     "name": "stdout",
     "output_type": "stream",
     "text": [
      "★4: Charged Damage UP [IX] &amp; Probability Critical [VII]\n",
      "★5: Charged Damage UP [XI] &amp; Probability Critical [IX]\n",
      "★4: Attribute Strengthened Damage All Enemies [V] &amp; Charged Damage UP (All / 3 T)\n",
      "★5: Attribute Strengthened Damage All Enemies [VII] &amp; Charged Damage UP (All / 5 T)\n"
     ]
    }
   ],
   "source": [
    "# table_data 49 through 52 are Connect Info\n",
    "connect_four_star = str(table_data[41])\n",
    "connect_five_star = str(table_data[42])\n",
    "\n",
    "connect_four_star = connect_four_star.replace('</td>', '')\n",
    "connect_four_star = connect_four_star.replace('<td style=\"width:100%;\">', '')\n",
    "connect_four_star = connect_four_star.rstrip()\n",
    "print(connect_four_star)\n",
    "\n",
    "connect_five_star = connect_five_star.replace('</td>', '')\n",
    "connect_five_star = connect_five_star.replace('<td style=\"width:100%;\">', '')\n",
    "connect_five_star = connect_five_star.rstrip()\n",
    "print(connect_five_star)\n",
    "\n",
    "# table_data 53 through 56 are Magia Info\n",
    "\n",
    "magia_four_star = str(table_data[43])\n",
    "magia_five_star = str(table_data[44])\n",
    "\n",
    "magia_four_star = magia_four_star.replace('</td>', '')\n",
    "magia_four_star = magia_four_star.replace('<td style=\"width:100%;\">', '')\n",
    "magia_four_star = magia_four_star.rstrip()\n",
    "print(magia_four_star)\n",
    "\n",
    "magia_five_star = magia_five_star.replace('</td>', '')\n",
    "magia_five_star = magia_five_star.replace('<td style=\"width:100%;\">', '')\n",
    "magia_five_star = magia_five_star.rstrip()\n",
    "print(magia_five_star)"
   ]
  },
  {
   "cell_type": "code",
   "execution_count": 15,
   "metadata": {},
   "outputs": [
    {
     "name": "stdout",
     "output_type": "stream",
     "text": [
      "Attribute Strengthened Damage All Enemies [IX] &amp; Charged Damage UP (All / 5 T)\n",
      "<th colspan=\"5\"><b>Magia:</b> <i>Cherry Blizzard</i>\n",
      "</th>\n",
      "<th colspan=\"5\"><b>Doppel: <i>Dum</i></b>\n",
      "</th>\n",
      "Connect: We will play this part together\n",
      "Magia: Cherry Blizzard\n",
      "Doppel: Dum\n"
     ]
    }
   ],
   "source": [
    "doppel_info = str(table_data[45])\n",
    "doppel_info = doppel_info.replace('<td style=\"width:100%;\">', '')\n",
    "doppel_info = doppel_info.replace('</td>', '')\n",
    "doppel_info = doppel_info.rstrip()\n",
    "print(doppel_info)\n",
    "\n",
    "table_head = soup.find_all('th')\n",
    "connect = str(table_head[3])\n",
    "magia = str(table_head[4])\n",
    "doppel = str(table_head[5])\n",
    "print(magia)\n",
    "print(doppel)\n",
    "\n",
    "connect = connect.strip('<th colspan=\"5\">')\n",
    "connect = connect.strip('b>')\n",
    "connect = connect.strip('<b>')\n",
    "connect = connect.replace('</b>', '')\n",
    "connect = connect.replace('<i>', '')\n",
    "connect = connect.replace('</i>', '')\n",
    "connect = connect.strip('</')\n",
    "connect = connect.rstrip()\n",
    "print(connect)\n",
    "\n",
    "magia = magia.strip('<th colspan=\"5\">')\n",
    "magia = magia.strip('b>')\n",
    "magia = magia.replace('</b>', '')\n",
    "magia = magia.replace('<i>', '')\n",
    "magia = magia.replace('</i>', '')\n",
    "magia = magia.strip('</')\n",
    "magia = magia.rstrip()\n",
    "print(magia)\n",
    "\n",
    "doppel = doppel.strip('<th colspan=\"5\">')\n",
    "doppel = doppel.strip('b>')\n",
    "doppel = doppel.replace('<b>', '')\n",
    "doppel = doppel.replace('</b>', '')\n",
    "doppel = doppel.replace('<i>', '')\n",
    "doppel = doppel.replace('</i>', '')\n",
    "doppel = doppel.strip('</')\n",
    "doppel = doppel.rstrip()\n",
    "print(doppel)"
   ]
  },
  {
   "cell_type": "code",
   "execution_count": 17,
   "metadata": {},
   "outputs": [
    {
     "name": "stdout",
     "output_type": "stream",
     "text": [
      "Age: 17\n",
      "Height: 158cm\n",
      "Eye colour: Dark Red\n",
      "Hair colour: Brown\n",
      "Origins: Mizuna ward\n",
      "Soul Gem: Red Ying-Yang (necklace)\n",
      "Weapon: <a class=\"external text\" href=\"https://en.wikipedia.org/wiki/Shinobue\" rel=\"nofollow\">Shinobue (Japanese Bamboo Flute)\n",
      "Wish: \"We don't want to hate each other\" (referring to her twin sister)\n",
      "Ability: Sound Wave Manipulation\n",
      "Witch form: Dum\n",
      "Japanese pronoun: watashi<span style=\"font-weight: normal\"> (<span class=\"t_nihongo_kanji\" lang=\"ja\">私</span>)</span\n",
      "School: Mizuna Girls' School 11th grade\n"
     ]
    }
   ],
   "source": [
    "Age = str(bullet_points[19]).strip(\"<li>\").strip(\"</li>\").strip(\"<b>\").replace(\"</b>\", \"\").replace(',', '')\n",
    "print(Age)\n",
    "Height = str(bullet_points[20]).strip(\"<li>\").strip(\"</li>\").strip(\"<b>\").replace(\"</b>\", \"\").replace(',', '')\n",
    "print(Height)\n",
    "EyeColor = str(bullet_points[21]).strip(\"<li>\").strip(\"</li>\").strip(\"<b>\").replace(\"</b>\", \"\").replace(',', '')\n",
    "print(EyeColor)\n",
    "HairColor = str(bullet_points[22]).strip(\"<li>\").strip(\"</li>\").strip(\"<b>\").replace(\"</b>\", \"\").replace(',', '')\n",
    "print(HairColor)\n",
    "Hometown = str(bullet_points[23]).strip(\"<li>\").strip(\"</li>\").strip(\"<b>\").replace(\"</b>\", \"\").replace(',', '')\n",
    "print(Hometown)\n",
    "SoulGem = str(bullet_points[24]).strip(\"<li>\").strip(\"</li>\").strip(\"<b>\").replace(\"</b>\", \"\").replace(',', '')\n",
    "print(SoulGem)\n",
    "Weapon = str(bullet_points[25]).strip(\"<li>\").strip(\"</li>\").strip(\"<b>\").replace(\"</b>\", \"\").replace('</a', '').replace('<a class=\"external text\" href=\"https://en.wikipedia.org/wiki/Crossbow\" rel=\"nofollow\">', '')\n",
    "print(Weapon)\n",
    "Wish = str(bullet_points[26]).strip(\"<li>\").strip(\"</li>\").strip(\"<b>\").replace(\"</b>\", \"\").replace(',', '')\n",
    "print(Wish)\n",
    "Ability = str(bullet_points[27]).strip(\"<li>\").strip(\"</li>\").strip(\"<b>\").replace(\"</b>\", \"\").replace(',', '')\n",
    "print(Ability)\n",
    "Witch = str(bullet_points[28]).strip(\"<li>\").strip(\"</li>\").strip(\"<b>\").replace(\"</b>\", \"\").replace(',', '')\n",
    "print(Witch)\n",
    "Pronoun = str(bullet_points[29]).strip(\"<li>\").strip(\"</li>\").strip(\"<b>\").replace(\"</b>\", \"\").replace(',', '')\n",
    "print(Pronoun)\n",
    "School = str(bullet_points[30]).strip(\"<li>\").strip(\"</li>\").strip(\"<b>\").replace(\"</b>\", \"\").replace(',', '')\n",
    "print(School)"
   ]
  },
  {
   "cell_type": "code",
   "execution_count": 19,
   "metadata": {},
   "outputs": [
    {
     "name": "stdout",
     "output_type": "stream",
     "text": [
      "{'Name': 'Tsukuyo Amane', 'Age': 'Age: 17', 'EyeColor': 'Eye colour: Dark Red', 'HairColor': 'Hair colour: Brown', 'Hometown': 'Origins: Mizuna ward', 'SoulGem': 'Soul Gem: Red Ying-Yang (necklace)', 'Weapon': 'Weapon: <a class=\"external text\" href=\"https://en.wikipedia.org/wiki/Shinobue\" rel=\"nofollow\">Shinobue (Japanese Bamboo Flute)', 'Wish': 'Wish: \"We don\\'t want to hate each other\" (referring to her twin sister)', 'Ability': 'Ability: Sound Wave Manipulation', 'Witch': 'Witch form: Dum', 'Pronoun': 'Japanese pronoun: watashi<span style=\"font-weight: normal\"> (<span class=\"t_nihongo_kanji\" lang=\"ja\">私</span>)</span', 'School': \"School: Mizuna Girls' School 11th grade\", 'Disks': ['Accel', 'Blast', 'Charge', 'Charge', 'Charge'], 'Stats': {'Initial': {'HP': '5811', 'ATK': '1892', 'DEF': '1911'}, 'Four_Star': {'HP': '20768', 'ATK': '6909', 'DEF': '6929'}, 'Five_Star': {'HP': '26146', 'ATK': '8708', 'DEF': '8728'}, 'SE': {'HP': '32835', 'ATK': '11115', 'DEF': '12786'}}, 'Connect': {'Name': 'Connect: We will play this part together', 'Four_Star': '★4: Charged Damage UP [IX] &amp; Probability Critical [VII]', 'Five_Star': '★5: Charged Damage UP [XI] &amp; Probability Critical [IX]'}, 'Magia': {'Name': 'Magia: Cherry Blizzard', 'Four_Star': '★4: Attribute Strengthened Damage All Enemies [V] &amp; Charged Damage UP (All / 3 T)', 'Five_Star': '★5: Attribute Strengthened Damage All Enemies [VII] &amp; Charged Damage UP (All / 5 T)'}, 'Doppel': {'Name': 'Doppel: Dum', 'Desc': \"The Doppel of isolation. Its form is a terrarium.\\nThe master of this Doppel isn't swayed by mood or emotion. She does, however, rely on her other half, the only person who truly understands her. Through this, the two of them are capable of completely isolating themselves from the outside. Together in their miniature world, they need only the company of the other to survive. This Doppel shuts out all physical and magical phenomena, allowing its master to perfectly protect herself and her twin. Though doing so causes their memories of anyone but each other to fade away.\", 'Ability': 'Attribute Strengthened Damage All Enemies [IX] &amp; Charged Damage UP (All / 5 T)'}}\n"
     ]
    }
   ],
   "source": [
    "Tsukuyo = {\n",
    "    \"Name\": \"Tsukuyo Amane\",\n",
    "    \"Age\": Age,\n",
    "    \"EyeColor\": EyeColor,\n",
    "    \"HairColor\": HairColor,\n",
    "    \"Hometown\": Hometown,\n",
    "    \"SoulGem\": SoulGem,\n",
    "    \"Weapon\": Weapon,\n",
    "    \"Wish\": Wish,\n",
    "    \"Ability\": Ability,\n",
    "    \"Witch\": Witch,\n",
    "    \"Pronoun\": Pronoun,\n",
    "    \"School\": School,\n",
    "    \"Disks\": disks,\n",
    "    \"Stats\": {\n",
    "        \"Initial\": {\n",
    "            \"HP\": initial_hp,\n",
    "            \"ATK\": initial_atk,\n",
    "            \"DEF\": initial_def\n",
    "        },\n",
    "        \"Four_Star\": {\n",
    "            \"HP\": four_star_hp,\n",
    "            \"ATK\": four_star_atk,\n",
    "            \"DEF\": four_star_def\n",
    "        },\n",
    "        \"Five_Star\": {\n",
    "            \"HP\": five_star_hp,\n",
    "            \"ATK\": five_star_atk,\n",
    "            \"DEF\": five_star_def        \n",
    "        },\n",
    "        \"SE\": {\n",
    "            \"HP\": se_hp,\n",
    "            \"ATK\": se_atk,\n",
    "            \"DEF\":  se_def          \n",
    "        }\n",
    "    },\n",
    "    \"Connect\": {\n",
    "        \"Name\": connect,\n",
    "        \"Four_Star\": connect_four_star,\n",
    "        \"Five_Star\": connect_five_star\n",
    "    },\n",
    "    \"Magia\": {\n",
    "        \"Name\": magia,\n",
    "        \"Four_Star\": magia_four_star,\n",
    "        \"Five_Star\": magia_five_star\n",
    "    },\n",
    "    \"Doppel\": {\n",
    "        \"Name\": doppel,\n",
    "        \"Desc\": para,\n",
    "        \"Ability\": doppel_info,\n",
    "    }\n",
    "}\n",
    "\n",
    "print(Tsukuyo)"
   ]
  },
  {
   "cell_type": "code",
   "execution_count": 20,
   "metadata": {},
   "outputs": [
    {
     "name": "stdout",
     "output_type": "stream",
     "text": [
      "{\"Name\": \"Tsukuyo Amane\", \"Age\": \"Age: 17\", \"EyeColor\": \"Eye colour: Dark Red\", \"HairColor\": \"Hair colour: Brown\", \"Hometown\": \"Origins: Mizuna ward\", \"SoulGem\": \"Soul Gem: Red Ying-Yang (necklace)\", \"Weapon\": \"Weapon: <a class=\\\"external text\\\" href=\\\"https://en.wikipedia.org/wiki/Shinobue\\\" rel=\\\"nofollow\\\">Shinobue (Japanese Bamboo Flute)\", \"Wish\": \"Wish: \\\"We don't want to hate each other\\\" (referring to her twin sister)\", \"Ability\": \"Ability: Sound Wave Manipulation\", \"Witch\": \"Witch form: Dum\", \"Pronoun\": \"Japanese pronoun: watashi<span style=\\\"font-weight: normal\\\"> (<span class=\\\"t_nihongo_kanji\\\" lang=\\\"ja\\\">\\u79c1</span>)</span\", \"School\": \"School: Mizuna Girls' School 11th grade\", \"Disks\": [\"Accel\", \"Blast\", \"Charge\", \"Charge\", \"Charge\"], \"Stats\": {\"Initial\": {\"HP\": \"5811\", \"ATK\": \"1892\", \"DEF\": \"1911\"}, \"Four_Star\": {\"HP\": \"20768\", \"ATK\": \"6909\", \"DEF\": \"6929\"}, \"Five_Star\": {\"HP\": \"26146\", \"ATK\": \"8708\", \"DEF\": \"8728\"}, \"SE\": {\"HP\": \"32835\", \"ATK\": \"11115\", \"DEF\": \"12786\"}}, \"Connect\": {\"Name\": \"Connect: We will play this part together\", \"Four_Star\": \"\\u26054: Charged Damage UP [IX] &amp; Probability Critical [VII]\", \"Five_Star\": \"\\u26055: Charged Damage UP [XI] &amp; Probability Critical [IX]\"}, \"Magia\": {\"Name\": \"Magia: Cherry Blizzard\", \"Four_Star\": \"\\u26054: Attribute Strengthened Damage All Enemies [V] &amp; Charged Damage UP (All / 3 T)\", \"Five_Star\": \"\\u26055: Attribute Strengthened Damage All Enemies [VII] &amp; Charged Damage UP (All / 5 T)\"}, \"Doppel\": {\"Name\": \"Doppel: Dum\", \"Desc\": \"The Doppel of isolation. Its form is a terrarium.\\nThe master of this Doppel isn't swayed by mood or emotion. She does, however, rely on her other half, the only person who truly understands her. Through this, the two of them are capable of completely isolating themselves from the outside. Together in their miniature world, they need only the company of the other to survive. This Doppel shuts out all physical and magical phenomena, allowing its master to perfectly protect herself and her twin. Though doing so causes their memories of anyone but each other to fade away.\", \"Ability\": \"Attribute Strengthened Damage All Enemies [IX] &amp; Charged Damage UP (All / 5 T)\"}}\n"
     ]
    }
   ],
   "source": [
    "girl_json = json.dumps(Tsukuyo)\n",
    "print(girl_json)\n",
    "\n",
    "with open('tsukuyo.json', 'w') as json_file:\n",
    "  json.dump(girl_json, json_file)"
   ]
  },
  {
   "cell_type": "code",
   "execution_count": null,
   "metadata": {},
   "outputs": [],
   "source": []
  }
 ],
 "metadata": {
  "kernelspec": {
   "display_name": "Python 3",
   "language": "python",
   "name": "python3"
  },
  "language_info": {
   "codemirror_mode": {
    "name": "ipython",
    "version": 3
   },
   "file_extension": ".py",
   "mimetype": "text/x-python",
   "name": "python",
   "nbconvert_exporter": "python",
   "pygments_lexer": "ipython3",
   "version": "3.7.3"
  }
 },
 "nbformat": 4,
 "nbformat_minor": 2
}
