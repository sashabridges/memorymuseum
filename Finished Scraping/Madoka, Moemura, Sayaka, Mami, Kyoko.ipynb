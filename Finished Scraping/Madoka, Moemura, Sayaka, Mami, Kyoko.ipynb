{
 "cells": [
  {
   "cell_type": "code",
   "execution_count": null,
   "metadata": {},
   "outputs": [],
   "source": [
    "https://wiki.puella-magi.net/Madoka_Kaname_in_Magia_Record\n",
    "https://wiki.puella-magi.net/Homura_Akemi_(Eyeglass_Ver.)_in_Magia_Record\n",
    "https://wiki.puella-magi.net/Sayaka_Miki_in_Magia_Record\n",
    "https://wiki.puella-magi.net/Mami_Tomoe_in_Magia_Record\n",
    "https://wiki.puella-magi.net/Kyoko_Sakura_in_Magia_Record"
   ]
  },
  {
   "cell_type": "code",
   "execution_count": 3,
   "metadata": {},
   "outputs": [
    {
     "name": "stdout",
     "output_type": "stream",
     "text": [
      "<li><b>Age:</b> 14</li>\n",
      "<li><b>School:</b> Mitakihara Middle School, 8th Grade</li>\n"
     ]
    }
   ],
   "source": [
    "# Dependencies\n",
    "import os\n",
    "from bs4 import BeautifulSoup as bs\n",
    "import json\n",
    "import requests\n",
    "\n",
    "query_url = \"https://wiki.puella-magi.net/Madoka_Kaname_in_Magia_Record\"\n",
    "response = requests.get(query_url)\n",
    "soup = bs(response.text, 'html.parser')\n",
    "\n",
    "bullet_points = soup.find_all('li')\n",
    "# 19- 30 General Info\n",
    "print(bullet_points[17])\n",
    "print(bullet_points[30])"
   ]
  },
  {
   "cell_type": "code",
   "execution_count": 4,
   "metadata": {},
   "outputs": [
    {
     "name": "stdout",
     "output_type": "stream",
     "text": [
      "5363 1508 2043\n",
      "19306 5428 7354\n",
      "24336 6832 9276\n",
      "30970 8625 12060\n"
     ]
    }
   ],
   "source": [
    "table_data = soup.find_all('td')\n",
    "\n",
    "initial_hp = str(table_data[21]).replace('<td style=\"width:25%;\">', '').replace('</td>', '').rstrip()\n",
    "initial_atk = str(table_data[22]).replace('<td style=\"width:25%;\">', '').replace('</td>', '').rstrip()\n",
    "initial_def = str(table_data[23]).replace('<td style=\"width:25%;\">', '').replace('</td>', '').rstrip()\n",
    "# max at 4* 33, 34, 35\n",
    "four_star_hp = str(table_data[25]).replace('<td style=\"width:25%;\">', '').replace('</td>', '').rstrip()\n",
    "four_star_atk = str(table_data[26]).replace('<td style=\"width:25%;\">', '').replace('</td>', '').rstrip()\n",
    "four_star_def = str(table_data[27]).replace('<td style=\"width:25%;\">', '').replace('</td>', '').rstrip()\n",
    "# max at 5* 37, 38, 39\n",
    "five_star_hp = str(table_data[29]).replace('<td style=\"width:25%;\">', '').replace('</td>', '').rstrip()\n",
    "five_star_atk = str(table_data[30]).replace('<td style=\"width:25%;\">', '').replace('</td>', '').rstrip()\n",
    "five_star_def = str(table_data[31]).replace('<td style=\"width:25%;\">', '').replace('</td>', '').rstrip()\n",
    "# SE\n",
    "se_hp = str(table_data[33]).replace('<td style=\"width:25%;\">', '').replace('</td>', '').rstrip()\n",
    "se_atk = str(table_data[34]).replace('<td style=\"width:25%;\">', '').replace('</td>', '').rstrip()\n",
    "se_def = str(table_data[35]).replace('<td style=\"width:25%;\">', '').replace('</td>', '').rstrip()\n",
    "\n",
    "print(initial_hp, initial_atk, initial_def)\n",
    "print(four_star_hp, four_star_atk, four_star_def)\n",
    "print(five_star_hp, five_star_atk, five_star_def)\n",
    "print(se_hp, se_atk, se_def)"
   ]
  },
  {
   "cell_type": "code",
   "execution_count": 5,
   "metadata": {},
   "outputs": [
    {
     "name": "stdout",
     "output_type": "stream",
     "text": [
      "['Accel', 'Accel', 'Blast', 'Blast', 'Charge']\n"
     ]
    }
   ],
   "source": [
    "disk_one = str(table_data[36])\n",
    "disk_two = str(table_data[37])\n",
    "disk_three = str(table_data[38])\n",
    "disk_four = str(table_data[39])\n",
    "disk_five = str(table_data[40])\n",
    "\n",
    "if (disk_one.find(\"accel\") != -1):\n",
    "    disk_one = \"Accel\"\n",
    "elif (disk_one.find(\"blast\") != -1):\n",
    "    disk_one = \"Blast\"\n",
    "else:\n",
    "    disk_one = \"Charge\"\n",
    "    \n",
    "if (disk_two.find(\"accel\") != -1):\n",
    "    disk_two = \"Accel\"\n",
    "elif (disk_two.find(\"blast\") != -1):\n",
    "    disk_two = \"Blast\"\n",
    "else:\n",
    "    disk_two = \"Charge\"\n",
    "\n",
    "if (disk_three.find(\"accel\") != -1):\n",
    "    disk_three = \"Accel\"\n",
    "elif (disk_three.find(\"blast\") != -1):\n",
    "    disk_three = \"Blast\"\n",
    "else:\n",
    "    disk_three = \"Charge\"\n",
    "    \n",
    "if (disk_four.find(\"accel\") != -1):\n",
    "    disk_four = \"Accel\"\n",
    "elif (disk_four.find(\"blast\") != -1):\n",
    "    disk_four = \"Blast\"\n",
    "else:\n",
    "    disk_four = \"Charge\"\n",
    "    \n",
    "if (disk_five.find(\"accel\") != -1):\n",
    "    disk_five = \"Accel\"\n",
    "elif (disk_five.find(\"blast\") != -1):\n",
    "    disk_five = \"Blast\"\n",
    "else:\n",
    "    disk_five = \"Charge\"\n",
    "    \n",
    "disks = [disk_one, disk_two, disk_three, disk_four, disk_five]\n",
    "print(disks)"
   ]
  },
  {
   "cell_type": "code",
   "execution_count": 6,
   "metadata": {},
   "outputs": [
    {
     "name": "stdout",
     "output_type": "stream",
     "text": [
      "★4: HP Recovery [VI] &amp; MP Recovery [VI] <b>&amp; Further MP Gain (Homura only)</b>\n",
      "★5: HP Recovery [VIII] &amp; MP Recovery [VIII] <b>&amp; Further MP Gain (Homura only)</b>\n",
      "★4: Damage All Enemies [IV] &amp; MP Restore (All)\n",
      "★5: Damage All Enemies [VI] &amp; MP Restore (All) &amp; Damage Cut (All / 3 T)\n"
     ]
    }
   ],
   "source": [
    "connect_four_star = str(table_data[41])\n",
    "connect_five_star = str(table_data[42])\n",
    "\n",
    "connect_four_star = connect_four_star.replace('</td>', '')\n",
    "connect_four_star = connect_four_star.replace('<td style=\"width:100%;\">', '')\n",
    "connect_four_star = connect_four_star.rstrip()\n",
    "print(connect_four_star)\n",
    "\n",
    "connect_five_star = connect_five_star.replace('</td>', '')\n",
    "connect_five_star = connect_five_star.replace('<td style=\"width:100%;\">', '')\n",
    "connect_five_star = connect_five_star.rstrip()\n",
    "print(connect_five_star)\n",
    "\n",
    "# table_data 53 through 56 are Magia Info\n",
    "\n",
    "magia_four_star = str(table_data[43])\n",
    "magia_five_star = str(table_data[44])\n",
    "\n",
    "magia_four_star = magia_four_star.replace('</td>', '')\n",
    "magia_four_star = magia_four_star.replace('<td style=\"width:100%;\">', '')\n",
    "magia_four_star = magia_four_star.rstrip()\n",
    "print(magia_four_star)\n",
    "\n",
    "magia_five_star = magia_five_star.replace('</td>', '')\n",
    "magia_five_star = magia_five_star.replace('<td style=\"width:100%;\">', '')\n",
    "magia_five_star = magia_five_star.rstrip()\n",
    "print(magia_five_star)"
   ]
  },
  {
   "cell_type": "code",
   "execution_count": 8,
   "metadata": {},
   "outputs": [
    {
     "name": "stdout",
     "output_type": "stream",
     "text": [
      "Damage All Enemies [VIII] &amp; MP Restore (All) &amp; Damage Cut (All / 3 T)\n",
      "<th colspan=\"5\"><b>Magia:</b> <i>Pluvia☆Magica</i><sup class=\"reference\" id=\"cite_ref-1\"><a href=\"#cite_note-1\">[1]</a></sup>\n",
      "</th>\n",
      "<th colspan=\"5\"><b>Doppel:</b> <i>Kriemhild Gretchen</i>\n",
      "</th>\n",
      "Connect: I'll Shoulder You Burden\n",
      "Magia: Pluvia☆Magica\n",
      "Doppel: Kriemhild Gretchen\n"
     ]
    }
   ],
   "source": [
    "doppel_info = str(table_data[45])\n",
    "doppel_info = doppel_info.replace('<td style=\"width:100%;\">', '')\n",
    "doppel_info = doppel_info.replace('</td>', '')\n",
    "doppel_info = doppel_info.rstrip()\n",
    "print(doppel_info)\n",
    "\n",
    "table_head = soup.find_all('th')\n",
    "connect = str(table_head[3])\n",
    "magia = str(table_head[4])\n",
    "doppel = str(table_head[5])\n",
    "print(magia)\n",
    "print(doppel)\n",
    "\n",
    "connect = connect.strip('<th colspan=\"5\">')\n",
    "connect = connect.strip('b>')\n",
    "connect = connect.strip('<b>')\n",
    "connect = connect.replace('</b>', '')\n",
    "connect = connect.replace('<i>', '')\n",
    "connect = connect.replace('</i>', '')\n",
    "connect = connect.strip('</')\n",
    "connect = connect.rstrip()\n",
    "print(connect)\n",
    "\n",
    "magia = magia.strip('<th colspan=\"5\">')\n",
    "magia = magia.strip('b>')\n",
    "magia = magia.replace('</b>', '')\n",
    "magia = magia.replace('<sup class=\"reference\" id=\"cite_ref-1\"><a href=\"#cite_note-1\">[1]</a></sup>', '')\n",
    "magia = magia.replace('<i>', '')\n",
    "magia = magia.replace('</i>', '')\n",
    "magia = magia.strip('</')\n",
    "magia = magia.rstrip()\n",
    "print(magia)\n",
    "\n",
    "doppel = doppel.strip('<th colspan=\"5\">')\n",
    "doppel = doppel.strip('b>')\n",
    "doppel = doppel.replace('<b>', '')\n",
    "doppel = doppel.replace('</b>', '')\n",
    "doppel = doppel.replace('<i>', '')\n",
    "doppel = doppel.replace('</i>', '')\n",
    "doppel = doppel.strip('</')\n",
    "doppel = doppel.rstrip()\n",
    "print(doppel)"
   ]
  },
  {
   "cell_type": "code",
   "execution_count": 14,
   "metadata": {},
   "outputs": [
    {
     "name": "stdout",
     "output_type": "stream",
     "text": [
      "Age: 14\n",
      "Birthday: October 3\n",
      "Height: Slightly less than 150cm (4'11\"). Production Note shows a height revision to 152cm (5'0\").\n",
      "Eye colour: Pink\n",
      "Hair colour: Pink\n",
      "Origins: Mitakihara City\n",
      "Soul Gem: Pink teardrop (beneath neck)\n",
      "Weapon: Bow and arrow\n",
      "Wish: See Madoka Kaname\n",
      "Ability: Unknown\n",
      "Witch form: Kriemhild Gretchen\n",
      "Japanese pronoun: <i>watashi</i><span style=\"font-weight: normal\"> (<span class=\"t_nihongo_kanji\" lang=\"ja\">わたし</span>)</span\n",
      "Known relatives: Tomohisa Kaname (Father) Junko Kaname (Mother) Tatsuya Kaname (Younger brother)\n",
      "School: Mitakihara Middle School 8th Grade\n"
     ]
    }
   ],
   "source": [
    "Age = str(bullet_points[17]).strip(\"<li>\").strip(\"</li>\").strip(\"<b>\").replace(\"</b>\", \"\").replace(',', '')\n",
    "print(Age)\n",
    "Birthday = str(bullet_points[18]).strip(\"<li>\").strip(\"</li>\").strip(\"<b>\").replace(\"</b>\", \"\").replace(',', '')\n",
    "print(Birthday)\n",
    "Height = str(bullet_points[19]).strip(\"<li>\").strip(\"</li>\").strip(\"<b>\").replace(\"</b>\", \"\").replace(',', '').replace('</a>', '').replace('<a class=\"internal\" href=\"//images.puella-magi.net/e/ec/PN_10.jpg?20111204064051\" title=\"PN 10.jpg\">', '')\n",
    "print(Height)\n",
    "EyeColor = str(bullet_points[20]).strip(\"<li>\").strip(\"</li>\").strip(\"<b>\").replace(\"</b>\", \"\").replace(',', '')\n",
    "print(EyeColor)\n",
    "HairColor = str(bullet_points[21]).strip(\"<li>\").strip(\"</li>\").strip(\"<b>\").replace(\"</b>\", \"\").replace(',', '')\n",
    "print(HairColor)\n",
    "Hometown = str(bullet_points[22]).strip(\"<li>\").strip(\"</li>\").strip(\"<b>\").replace(\"</b>\", \"\").replace(',', '')\n",
    "print(Hometown)\n",
    "SoulGem = str(bullet_points[23]).strip(\"<li>\").strip(\"</li>\").strip(\"<b>\").replace(\"</b>\", \"\").replace(',', '')\n",
    "print(SoulGem)\n",
    "Weapon = str(bullet_points[24]).strip(\"<li>\").strip(\"</li>\").strip(\"<b>\").replace(\"</b>\", \"\").replace('</a', '').replace('<a class=\"external text\" href=\"https://en.wikipedia.org/wiki/Crossbow\" rel=\"nofollow\">', '')\n",
    "print(Weapon)\n",
    "Wish = str(bullet_points[25]).strip(\"<li>\").strip(\"</li>\").strip(\"<b>\").replace(\"</b>\", \"\").replace(',', '').replace('</a', '').replace('<a href=\"/Madoka_Kaname\" title=\"Madoka Kaname\">', '')\n",
    "print(Wish)\n",
    "Ability = str(bullet_points[26]).strip(\"<li>\").strip(\"</li>\").strip(\"<b>\").replace(\"</b>\", \"\").replace(',', '')\n",
    "print(Ability)\n",
    "Witch = str(bullet_points[27]).strip(\"<li>\").strip(\"</li>\").strip(\"<b>\").replace(\"</b>\", \"\").replace(',', '').replace('<a href=\"/Kriemhild_Gretchen\" title=\"Kriemhild Gretchen\">', '').replace('</a', '')\n",
    "print(Witch)\n",
    "Pronoun = str(bullet_points[28]).strip(\"<li>\").strip(\"</li>\").strip(\"<b>\").replace(\"</b>\", \"\").replace(',', '')\n",
    "print(Pronoun)\n",
    "Relatives = str(bullet_points[29]).strip(\"<li>\").strip(\"</li>\").strip(\"<b>\").replace(\"</b>\", \"\").replace(',', '').replace('</a>', '').replace('<a href=\"/Tomohisa_Kaname\" title=\"Tomohisa Kaname\">', '').replace('<a href=\"/Junko_Kaname\" title=\"Junko Kaname\">', '').replace('<a href=\"/Tatsuya_Kaname\" title=\"Tatsuya Kaname\">', '')\n",
    "print(Relatives)\n",
    "School = str(bullet_points[30]).strip(\"<li>\").strip(\"</li>\").strip(\"<b>\").replace(\"</b>\", \"\").replace(',', '')\n",
    "print(School)"
   ]
  },
  {
   "cell_type": "code",
   "execution_count": 15,
   "metadata": {},
   "outputs": [
    {
     "name": "stdout",
     "output_type": "stream",
     "text": [
      "{'Name': 'Madoka Kaname', 'Age': 'Age: 14', 'Birthday': 'Birthday: October 3', 'EyeColor': 'Eye colour: Pink', 'HairColor': 'Hair colour: Pink', 'Hometown': 'Origins: Mitakihara City', 'SoulGem': 'Soul Gem: Pink teardrop (beneath neck)', 'Weapon': 'Weapon: Bow and arrow', 'Wish': 'Wish: See Madoka Kaname', 'Ability': 'Ability: Unknown', 'Witch': 'Witch form: Kriemhild Gretchen', 'Pronoun': 'Japanese pronoun: <i>watashi</i><span style=\"font-weight: normal\"> (<span class=\"t_nihongo_kanji\" lang=\"ja\">わたし</span>)</span', 'Relatives': 'Known relatives: Tomohisa Kaname (Father) Junko Kaname (Mother) Tatsuya Kaname (Younger brother)', 'School': 'School: Mitakihara Middle School 8th Grade', 'Disks': ['Accel', 'Accel', 'Blast', 'Blast', 'Charge'], 'Stats': {'Initial': {'HP': '5363', 'ATK': '1508', 'DEF': '2043'}, 'Four_Star': {'HP': '19306', 'ATK': '5428', 'DEF': '7354'}, 'Five_Star': {'HP': '24336', 'ATK': '6832', 'DEF': '9276'}, 'SE': {'HP': '30970', 'ATK': '8625', 'DEF': '12060'}}, 'Connect': {'Name': \"Connect: I'll Shoulder You Burden\", 'Four_Star': '★4: HP Recovery [VI] &amp; MP Recovery [VI] <b>&amp; Further MP Gain (Homura only)</b>', 'Five_Star': '★5: HP Recovery [VIII] &amp; MP Recovery [VIII] <b>&amp; Further MP Gain (Homura only)</b>'}, 'Magia': {'Name': 'Magia: Pluvia☆Magica', 'Four_Star': '★4: Damage All Enemies [IV] &amp; MP Restore (All)', 'Five_Star': '★5: Damage All Enemies [VI] &amp; MP Restore (All) &amp; Damage Cut (All / 3 T)'}, 'Doppel': {'Name': 'Doppel: Kriemhild Gretchen', 'Ability': 'Damage All Enemies [VIII] &amp; MP Restore (All) &amp; Damage Cut (All / 3 T)'}}\n"
     ]
    }
   ],
   "source": [
    "Madoka = {\n",
    "    \"Name\": \"Madoka Kaname\",\n",
    "    \"Age\": Age,\n",
    "    \"Birthday\": Birthday,\n",
    "    \"EyeColor\": EyeColor,\n",
    "    \"HairColor\": HairColor,\n",
    "    \"Hometown\": Hometown,\n",
    "    \"SoulGem\": SoulGem,\n",
    "    \"Weapon\": Weapon,\n",
    "    \"Wish\": Wish,\n",
    "    \"Ability\": Ability,\n",
    "    \"Witch\": Witch,\n",
    "    \"Pronoun\": Pronoun,\n",
    "    \"Relatives\": Relatives,\n",
    "    \"School\": School,\n",
    "    \"Disks\": disks,\n",
    "    \"Stats\": {\n",
    "        \"Initial\": {\n",
    "            \"HP\": initial_hp,\n",
    "            \"ATK\": initial_atk,\n",
    "            \"DEF\": initial_def\n",
    "        },\n",
    "        \"Four_Star\": {\n",
    "            \"HP\": four_star_hp,\n",
    "            \"ATK\": four_star_atk,\n",
    "            \"DEF\": four_star_def\n",
    "        },\n",
    "        \"Five_Star\": {\n",
    "            \"HP\": five_star_hp,\n",
    "            \"ATK\": five_star_atk,\n",
    "            \"DEF\": five_star_def        \n",
    "        },\n",
    "        \"SE\": {\n",
    "            \"HP\": se_hp,\n",
    "            \"ATK\": se_atk,\n",
    "            \"DEF\":  se_def          \n",
    "        }\n",
    "    },\n",
    "    \"Connect\": {\n",
    "        \"Name\": connect,\n",
    "        \"Four_Star\": connect_four_star,\n",
    "        \"Five_Star\": connect_five_star\n",
    "    },\n",
    "    \"Magia\": {\n",
    "        \"Name\": magia,\n",
    "        \"Four_Star\": magia_four_star,\n",
    "        \"Five_Star\": magia_five_star\n",
    "    },\n",
    "    \"Doppel\": {\n",
    "        \"Name\": doppel,\n",
    "        \"Ability\": doppel_info,\n",
    "    }\n",
    "}\n",
    "\n",
    "print(Madoka)"
   ]
  },
  {
   "cell_type": "code",
   "execution_count": 16,
   "metadata": {},
   "outputs": [
    {
     "name": "stdout",
     "output_type": "stream",
     "text": [
      "{\"Name\": \"Madoka Kaname\", \"Age\": \"Age: 14\", \"Birthday\": \"Birthday: October 3\", \"EyeColor\": \"Eye colour: Pink\", \"HairColor\": \"Hair colour: Pink\", \"Hometown\": \"Origins: Mitakihara City\", \"SoulGem\": \"Soul Gem: Pink teardrop (beneath neck)\", \"Weapon\": \"Weapon: Bow and arrow\", \"Wish\": \"Wish: See Madoka Kaname\", \"Ability\": \"Ability: Unknown\", \"Witch\": \"Witch form: Kriemhild Gretchen\", \"Pronoun\": \"Japanese pronoun: <i>watashi</i><span style=\\\"font-weight: normal\\\"> (<span class=\\\"t_nihongo_kanji\\\" lang=\\\"ja\\\">\\u308f\\u305f\\u3057</span>)</span\", \"Relatives\": \"Known relatives: Tomohisa Kaname (Father) Junko Kaname (Mother) Tatsuya Kaname (Younger brother)\", \"School\": \"School: Mitakihara Middle School 8th Grade\", \"Disks\": [\"Accel\", \"Accel\", \"Blast\", \"Blast\", \"Charge\"], \"Stats\": {\"Initial\": {\"HP\": \"5363\", \"ATK\": \"1508\", \"DEF\": \"2043\"}, \"Four_Star\": {\"HP\": \"19306\", \"ATK\": \"5428\", \"DEF\": \"7354\"}, \"Five_Star\": {\"HP\": \"24336\", \"ATK\": \"6832\", \"DEF\": \"9276\"}, \"SE\": {\"HP\": \"30970\", \"ATK\": \"8625\", \"DEF\": \"12060\"}}, \"Connect\": {\"Name\": \"Connect: I'll Shoulder You Burden\", \"Four_Star\": \"\\u26054: HP Recovery [VI] &amp; MP Recovery [VI] <b>&amp; Further MP Gain (Homura only)</b>\", \"Five_Star\": \"\\u26055: HP Recovery [VIII] &amp; MP Recovery [VIII] <b>&amp; Further MP Gain (Homura only)</b>\"}, \"Magia\": {\"Name\": \"Magia: Pluvia\\u2606Magica\", \"Four_Star\": \"\\u26054: Damage All Enemies [IV] &amp; MP Restore (All)\", \"Five_Star\": \"\\u26055: Damage All Enemies [VI] &amp; MP Restore (All) &amp; Damage Cut (All / 3 T)\"}, \"Doppel\": {\"Name\": \"Doppel: Kriemhild Gretchen\", \"Ability\": \"Damage All Enemies [VIII] &amp; MP Restore (All) &amp; Damage Cut (All / 3 T)\"}}\n"
     ]
    }
   ],
   "source": [
    "girl_json = json.dumps(Madoka)\n",
    "print(girl_json)\n",
    "\n",
    "with open('madoka.json', 'w') as json_file:\n",
    "  json.dump(girl_json, json_file)"
   ]
  },
  {
   "cell_type": "code",
   "execution_count": 18,
   "metadata": {},
   "outputs": [
    {
     "name": "stdout",
     "output_type": "stream",
     "text": [
      "<li><b>Age:</b> 13-14 (estimated)</li>\n",
      "<li><b>School:</b> Attended a Christian/Catholic school in Tokyo before transferring to Mitakihara Middle School, 8th grade</li>\n"
     ]
    }
   ],
   "source": [
    "query_url = \"https://wiki.puella-magi.net/Homura_Akemi_(Eyeglass_Ver.)_in_Magia_Record\"\n",
    "response = requests.get(query_url)\n",
    "soup = bs(response.text, 'html.parser')\n",
    "\n",
    "bullet_points = soup.find_all('li')\n",
    "# 19- 30 General Info\n",
    "print(bullet_points[17])\n",
    "print(bullet_points[28])"
   ]
  },
  {
   "cell_type": "code",
   "execution_count": 19,
   "metadata": {},
   "outputs": [
    {
     "name": "stdout",
     "output_type": "stream",
     "text": [
      "6335 1735 1716\n",
      "23464 6110 6088\n",
      "29025 7554 7529\n",
      "34857 8480 9670\n"
     ]
    }
   ],
   "source": [
    "table_data = soup.find_all('td')\n",
    "\n",
    "initial_hp = str(table_data[21]).replace('<td style=\"width:25%;\">', '').replace('</td>', '').rstrip()\n",
    "initial_atk = str(table_data[22]).replace('<td style=\"width:25%;\">', '').replace('</td>', '').rstrip()\n",
    "initial_def = str(table_data[23]).replace('<td style=\"width:25%;\">', '').replace('</td>', '').rstrip()\n",
    "# max at 4* 33, 34, 35\n",
    "four_star_hp = str(table_data[25]).replace('<td style=\"width:25%;\">', '').replace('</td>', '').rstrip()\n",
    "four_star_atk = str(table_data[26]).replace('<td style=\"width:25%;\">', '').replace('</td>', '').rstrip()\n",
    "four_star_def = str(table_data[27]).replace('<td style=\"width:25%;\">', '').replace('</td>', '').rstrip()\n",
    "# max at 5* 37, 38, 39\n",
    "five_star_hp = str(table_data[29]).replace('<td style=\"width:25%;\">', '').replace('</td>', '').rstrip()\n",
    "five_star_atk = str(table_data[30]).replace('<td style=\"width:25%;\">', '').replace('</td>', '').rstrip()\n",
    "five_star_def = str(table_data[31]).replace('<td style=\"width:25%;\">', '').replace('</td>', '').rstrip()\n",
    "# SE\n",
    "se_hp = str(table_data[33]).replace('<td style=\"width:25%;\">', '').replace('</td>', '').rstrip()\n",
    "se_atk = str(table_data[34]).replace('<td style=\"width:25%;\">', '').replace('</td>', '').rstrip()\n",
    "se_def = str(table_data[35]).replace('<td style=\"width:25%;\">', '').replace('</td>', '').rstrip()\n",
    "\n",
    "print(initial_hp, initial_atk, initial_def)\n",
    "print(four_star_hp, four_star_atk, four_star_def)\n",
    "print(five_star_hp, five_star_atk, five_star_def)\n",
    "print(se_hp, se_atk, se_def)"
   ]
  },
  {
   "cell_type": "code",
   "execution_count": 20,
   "metadata": {},
   "outputs": [
    {
     "name": "stdout",
     "output_type": "stream",
     "text": [
      "['Accel', 'Blast', 'Blast', 'Charge', 'Charge']\n"
     ]
    }
   ],
   "source": [
    "disk_one = str(table_data[36])\n",
    "disk_two = str(table_data[37])\n",
    "disk_three = str(table_data[38])\n",
    "disk_four = str(table_data[39])\n",
    "disk_five = str(table_data[40])\n",
    "\n",
    "if (disk_one.find(\"accel\") != -1):\n",
    "    disk_one = \"Accel\"\n",
    "elif (disk_one.find(\"blast\") != -1):\n",
    "    disk_one = \"Blast\"\n",
    "else:\n",
    "    disk_one = \"Charge\"\n",
    "    \n",
    "if (disk_two.find(\"accel\") != -1):\n",
    "    disk_two = \"Accel\"\n",
    "elif (disk_two.find(\"blast\") != -1):\n",
    "    disk_two = \"Blast\"\n",
    "else:\n",
    "    disk_two = \"Charge\"\n",
    "\n",
    "if (disk_three.find(\"accel\") != -1):\n",
    "    disk_three = \"Accel\"\n",
    "elif (disk_three.find(\"blast\") != -1):\n",
    "    disk_three = \"Blast\"\n",
    "else:\n",
    "    disk_three = \"Charge\"\n",
    "    \n",
    "if (disk_four.find(\"accel\") != -1):\n",
    "    disk_four = \"Accel\"\n",
    "elif (disk_four.find(\"blast\") != -1):\n",
    "    disk_four = \"Blast\"\n",
    "else:\n",
    "    disk_four = \"Charge\"\n",
    "    \n",
    "if (disk_five.find(\"accel\") != -1):\n",
    "    disk_five = \"Accel\"\n",
    "elif (disk_five.find(\"blast\") != -1):\n",
    "    disk_five = \"Blast\"\n",
    "else:\n",
    "    disk_five = \"Charge\"\n",
    "    \n",
    "disks = [disk_one, disk_two, disk_three, disk_four, disk_five]\n",
    "print(disks)"
   ]
  },
  {
   "cell_type": "code",
   "execution_count": 21,
   "metadata": {},
   "outputs": [
    {
     "name": "stdout",
     "output_type": "stream",
     "text": [
      "★4: Guaranteed Evade\n",
      "★5: Guaranteed Evade &amp; Magia Damage UP [III] &amp; Further Magia Damage UP <i>(Madoka, Sayaka, Mami, and Kyoko only)</i><sup class=\"reference\" id=\"cite_ref-1\"><a href=\"#cite_note-1\">[1]</a></sup>\n",
      "★4: Damage All Enemies [V] &amp; Reduce Cooldowns (All / 3 T)\n",
      "★5: Damage All Enemies [VII] &amp; Reduce Cooldowns (All / 3 T)\n"
     ]
    }
   ],
   "source": [
    "# table_data 49 through 52 are Connect Info\n",
    "connect_four_star = str(table_data[41])\n",
    "connect_five_star = str(table_data[42])\n",
    "\n",
    "connect_four_star = connect_four_star.replace('</td>', '')\n",
    "connect_four_star = connect_four_star.replace('<td style=\"width:100%;\">', '')\n",
    "connect_four_star = connect_four_star.rstrip()\n",
    "print(connect_four_star)\n",
    "\n",
    "connect_five_star = connect_five_star.replace('</td>', '')\n",
    "connect_five_star = connect_five_star.replace('<td style=\"width:100%;\">', '')\n",
    "connect_five_star = connect_five_star.rstrip()\n",
    "print(connect_five_star)\n",
    "\n",
    "# table_data 53 through 56 are Magia Info\n",
    "\n",
    "magia_four_star = str(table_data[43])\n",
    "magia_five_star = str(table_data[44])\n",
    "\n",
    "magia_four_star = magia_four_star.replace('</td>', '')\n",
    "magia_four_star = magia_four_star.replace('<td style=\"width:100%;\">', '')\n",
    "magia_four_star = magia_four_star.rstrip()\n",
    "print(magia_four_star)\n",
    "\n",
    "magia_five_star = magia_five_star.replace('</td>', '')\n",
    "magia_five_star = magia_five_star.replace('<td style=\"width:100%;\">', '')\n",
    "magia_five_star = magia_five_star.rstrip()\n",
    "print(magia_five_star)"
   ]
  },
  {
   "cell_type": "code",
   "execution_count": 22,
   "metadata": {},
   "outputs": [
    {
     "name": "stdout",
     "output_type": "stream",
     "text": [
      "Damage All Enemies [IX] &amp; Reduce Cooldowns (All / 3 T) &amp; MP Recovery (All)\n",
      "<th colspan=\"5\"><b>Magia:</b> <i>Time Stop Special</i>\n",
      "</th>\n",
      "<th colspan=\"5\"><b>Doppel:</b> <i>Homulilly</i>\n",
      "</th>\n",
      "Connect: Everybody Do Your Best!\n",
      "Magia: Time Stop Special\n",
      "Doppel: Homulilly\n"
     ]
    }
   ],
   "source": [
    "doppel_info = str(table_data[45])\n",
    "doppel_info = doppel_info.replace('<td style=\"width:100%;\">', '')\n",
    "doppel_info = doppel_info.replace('</td>', '')\n",
    "doppel_info = doppel_info.rstrip()\n",
    "print(doppel_info)\n",
    "\n",
    "table_head = soup.find_all('th')\n",
    "connect = str(table_head[3])\n",
    "magia = str(table_head[4])\n",
    "doppel = str(table_head[5])\n",
    "print(magia)\n",
    "print(doppel)\n",
    "\n",
    "connect = connect.strip('<th colspan=\"5\">')\n",
    "connect = connect.strip('b>')\n",
    "connect = connect.strip('<b>')\n",
    "connect = connect.replace('</b>', '')\n",
    "connect = connect.replace('<i>', '')\n",
    "connect = connect.replace('</i>', '')\n",
    "connect = connect.strip('</')\n",
    "connect = connect.rstrip()\n",
    "print(connect)\n",
    "\n",
    "magia = magia.strip('<th colspan=\"5\">')\n",
    "magia = magia.strip('b>')\n",
    "magia = magia.replace('</b>', '')\n",
    "magia = magia.replace('<i>', '')\n",
    "magia = magia.replace('</i>', '')\n",
    "magia = magia.strip('</')\n",
    "magia = magia.rstrip()\n",
    "print(magia)\n",
    "\n",
    "doppel = doppel.strip('<th colspan=\"5\">')\n",
    "doppel = doppel.strip('b>')\n",
    "doppel = doppel.replace('<b>', '')\n",
    "doppel = doppel.replace('</b>', '')\n",
    "doppel = doppel.replace('<i>', '')\n",
    "doppel = doppel.replace('</i>', '')\n",
    "doppel = doppel.strip('</')\n",
    "doppel = doppel.rstrip()\n",
    "print(doppel)"
   ]
  },
  {
   "cell_type": "code",
   "execution_count": 24,
   "metadata": {},
   "outputs": [
    {
     "name": "stdout",
     "output_type": "stream",
     "text": [
      "Age: 13-14 (estimated)\n",
      "Height: 155-159cm\n",
      "Eye colour: Purple\n",
      "Hair colour: Black\n",
      "Origins: Mitakihara City\n",
      "Soul Gem: Purple Diamond (back of left hand)\n",
      "Weapon: Round Shield (storage and timejump device). Homura has been shown using golf club, pipe bombs, IMI Desert Eagle, FN Minimi, Beretta 92FS, Remington 870, Howa Type 89, M26 frag grenades, flashbang grenades, RPG-7, AT-4, C-4 explosives\n",
      "Wish:  \"I want to redo my first encounter with Kaname-san. But this time instead of her protecting me I want to become strong enough to protect her!\"\n",
      "Ability: Time manipulation\n",
      "Witch form: Homulilly\n",
      "Japanese pronoun: <i>watashi</i><span style=\"font-weight: normal\"> (<span class=\"t_nihongo_kanji\" lang=\"ja\">私</span>)</span\n",
      "School: Attended a Christian/Catholic school in Tokyo before transferring to Mitakihara Middle School 8th grade\n"
     ]
    }
   ],
   "source": [
    "Age = str(bullet_points[17]).strip(\"<li>\").strip(\"</li>\").strip(\"<b>\").replace(\"</b>\", \"\").replace(',', '')\n",
    "print(Age)\n",
    "Height = str(bullet_points[18]).strip(\"<li>\").strip(\"</li>\").strip(\"<b>\").replace(\"</b>\", \"\").replace(',', '').replace('</a', '').replace('<a class=\"internal\" href=\"//images.puella-magi.net/e/ec/PN_10.jpg?20111204064051\" title=\"PN 10.jpg\">', '')\n",
    "print(Height)\n",
    "EyeColor = str(bullet_points[19]).strip(\"<li>\").strip(\"</li>\").strip(\"<b>\").replace(\"</b>\", \"\").replace(',', '')\n",
    "print(EyeColor)\n",
    "HairColor = str(bullet_points[20]).strip(\"<li>\").strip(\"</li>\").strip(\"<b>\").replace(\"</b>\", \"\").replace(',', '')\n",
    "print(HairColor)\n",
    "Hometown = str(bullet_points[21]).strip(\"<li>\").strip(\"</li>\").strip(\"<b>\").replace(\"</b>\", \"\").replace(',', '')\n",
    "print(Hometown)\n",
    "SoulGem = str(bullet_points[22]).strip(\"<li>\").strip(\"</li>\").strip(\"<b>\").replace(\"</b>\", \"\").replace(',', '')\n",
    "print(SoulGem)\n",
    "Weapon = str(bullet_points[23]).strip(\"<li>\").strip(\"</li>\").strip(\"<b>\").replace(\"</b>\", \"\").replace('</a', '').replace('<a class=\"external text\" href=\"https://en.wikipedia.org/wiki/Crossbow\" rel=\"nofollow\">', '')\n",
    "print(Weapon)\n",
    "Wish = str(bullet_points[24]).strip(\"<li>\").strip(\"</li>\").strip(\"<b>\").replace(\"</b>\", \"\").replace(',', '').replace('</span', '').replace('<span class=\"inline-spoilers\">', '')\n",
    "print(Wish)\n",
    "Ability = str(bullet_points[25]).strip(\"<li>\").strip(\"</li>\").strip(\"<b>\").replace(\"</b>\", \"\").replace(',', '')\n",
    "print(Ability)\n",
    "Witch = str(bullet_points[26]).strip(\"<li>\").strip(\"</li>\").strip(\"<b>\").replace(\"</b>\", \"\").replace(',', '').replace('</a', '').replace('<a href=\"/Homulilly\" title=\"Homulilly\">', '')\n",
    "print(Witch)\n",
    "Pronoun = str(bullet_points[27]).strip(\"<li>\").strip(\"</li>\").strip(\"<b>\").replace(\"</b>\", \"\").replace(',', '')\n",
    "print(Pronoun)\n",
    "School = str(bullet_points[28]).strip(\"<li>\").strip(\"</li>\").strip(\"<b>\").replace(\"</b>\", \"\").replace(',', '')\n",
    "print(School)"
   ]
  },
  {
   "cell_type": "code",
   "execution_count": 27,
   "metadata": {},
   "outputs": [
    {
     "name": "stdout",
     "output_type": "stream",
     "text": [
      "{'Name': 'Homura Akemi (Eyeglass Ver.)', 'Age': 'Age: 13-14 (estimated)', 'EyeColor': 'Eye colour: Purple', 'HairColor': 'Hair colour: Black', 'Hometown': 'Origins: Mitakihara City', 'SoulGem': 'Soul Gem: Purple Diamond (back of left hand)', 'Weapon': 'Weapon: Round Shield (storage and timejump device). Homura has been shown using golf club, pipe bombs, IMI Desert Eagle, FN Minimi, Beretta 92FS, Remington 870, Howa Type 89, M26 frag grenades, flashbang grenades, RPG-7, AT-4, C-4 explosives', 'Wish': 'Wish:  \"I want to redo my first encounter with Kaname-san. But this time instead of her protecting me I want to become strong enough to protect her!\"', 'Ability': 'Ability: Time manipulation', 'Witch': 'Witch form: Homulilly', 'Pronoun': 'Japanese pronoun: <i>watashi</i><span style=\"font-weight: normal\"> (<span class=\"t_nihongo_kanji\" lang=\"ja\">私</span>)</span', 'School': 'School: Attended a Christian/Catholic school in Tokyo before transferring to Mitakihara Middle School 8th grade', 'Disks': ['Accel', 'Blast', 'Blast', 'Charge', 'Charge'], 'Stats': {'Initial': {'HP': '6335', 'ATK': '1735', 'DEF': '1716'}, 'Four_Star': {'HP': '23464', 'ATK': '6110', 'DEF': '6088'}, 'Five_Star': {'HP': '29025', 'ATK': '7554', 'DEF': '7529'}, 'SE': {'HP': '34857', 'ATK': '8480', 'DEF': '9670'}}, 'Connect': {'Name': 'Connect: Everybody Do Your Best!', 'Four_Star': '★4: Guaranteed Evade', 'Five_Star': '★5: Guaranteed Evade &amp; Magia Damage UP [III] &amp; Further Magia Damage UP <i>(Madoka, Sayaka, Mami, and Kyoko only)</i><sup class=\"reference\" id=\"cite_ref-1\"><a href=\"#cite_note-1\">[1]</a></sup>'}, 'Magia': {'Name': 'Magia: Time Stop Special', 'Four_Star': '★4: Damage All Enemies [V] &amp; Reduce Cooldowns (All / 3 T)', 'Five_Star': '★5: Damage All Enemies [VII] &amp; Reduce Cooldowns (All / 3 T)'}, 'Doppel': {'Name': 'Doppel: Homulilly', 'Ability': 'Damage All Enemies [IX] &amp; Reduce Cooldowns (All / 3 T) &amp; MP Recovery (All)'}}\n"
     ]
    }
   ],
   "source": [
    "Homura = {\n",
    "    \"Name\": \"Homura Akemi (Eyeglass Ver.)\",\n",
    "    \"Age\": Age,\n",
    "    \"EyeColor\": EyeColor,\n",
    "    \"HairColor\": HairColor,\n",
    "    \"Hometown\": Hometown,\n",
    "    \"SoulGem\": SoulGem,\n",
    "    \"Weapon\": Weapon,\n",
    "    \"Wish\": Wish,\n",
    "    \"Ability\": Ability,\n",
    "    \"Witch\": Witch,\n",
    "    \"Pronoun\": Pronoun,\n",
    "    \"School\": School,\n",
    "    \"Disks\": disks,\n",
    "    \"Stats\": {\n",
    "        \"Initial\": {\n",
    "            \"HP\": initial_hp,\n",
    "            \"ATK\": initial_atk,\n",
    "            \"DEF\": initial_def\n",
    "        },\n",
    "        \"Four_Star\": {\n",
    "            \"HP\": four_star_hp,\n",
    "            \"ATK\": four_star_atk,\n",
    "            \"DEF\": four_star_def\n",
    "        },\n",
    "        \"Five_Star\": {\n",
    "            \"HP\": five_star_hp,\n",
    "            \"ATK\": five_star_atk,\n",
    "            \"DEF\": five_star_def        \n",
    "        },\n",
    "        \"SE\": {\n",
    "            \"HP\": se_hp,\n",
    "            \"ATK\": se_atk,\n",
    "            \"DEF\":  se_def          \n",
    "        }\n",
    "    },\n",
    "    \"Connect\": {\n",
    "        \"Name\": connect,\n",
    "        \"Four_Star\": connect_four_star,\n",
    "        \"Five_Star\": connect_five_star\n",
    "    },\n",
    "    \"Magia\": {\n",
    "        \"Name\": magia,\n",
    "        \"Four_Star\": magia_four_star,\n",
    "        \"Five_Star\": magia_five_star\n",
    "    },\n",
    "    \"Doppel\": {\n",
    "        \"Name\": doppel,\n",
    "        \"Ability\": doppel_info,\n",
    "    }\n",
    "}\n",
    "\n",
    "print(Homura)"
   ]
  },
  {
   "cell_type": "code",
   "execution_count": 28,
   "metadata": {},
   "outputs": [
    {
     "name": "stdout",
     "output_type": "stream",
     "text": [
      "{\"Name\": \"Homura Akemi (Eyeglass Ver.)\", \"Age\": \"Age: 13-14 (estimated)\", \"EyeColor\": \"Eye colour: Purple\", \"HairColor\": \"Hair colour: Black\", \"Hometown\": \"Origins: Mitakihara City\", \"SoulGem\": \"Soul Gem: Purple Diamond (back of left hand)\", \"Weapon\": \"Weapon: Round Shield (storage and timejump device). Homura has been shown using golf club, pipe bombs, IMI Desert Eagle, FN Minimi, Beretta 92FS, Remington 870, Howa Type 89, M26 frag grenades, flashbang grenades, RPG-7, AT-4, C-4 explosives\", \"Wish\": \"Wish:  \\\"I want to redo my first encounter with Kaname-san. But this time instead of her protecting me I want to become strong enough to protect her!\\\"\", \"Ability\": \"Ability: Time manipulation\", \"Witch\": \"Witch form: Homulilly\", \"Pronoun\": \"Japanese pronoun: <i>watashi</i><span style=\\\"font-weight: normal\\\"> (<span class=\\\"t_nihongo_kanji\\\" lang=\\\"ja\\\">\\u79c1</span>)</span\", \"School\": \"School: Attended a Christian/Catholic school in Tokyo before transferring to Mitakihara Middle School 8th grade\", \"Disks\": [\"Accel\", \"Blast\", \"Blast\", \"Charge\", \"Charge\"], \"Stats\": {\"Initial\": {\"HP\": \"6335\", \"ATK\": \"1735\", \"DEF\": \"1716\"}, \"Four_Star\": {\"HP\": \"23464\", \"ATK\": \"6110\", \"DEF\": \"6088\"}, \"Five_Star\": {\"HP\": \"29025\", \"ATK\": \"7554\", \"DEF\": \"7529\"}, \"SE\": {\"HP\": \"34857\", \"ATK\": \"8480\", \"DEF\": \"9670\"}}, \"Connect\": {\"Name\": \"Connect: Everybody Do Your Best!\", \"Four_Star\": \"\\u26054: Guaranteed Evade\", \"Five_Star\": \"\\u26055: Guaranteed Evade &amp; Magia Damage UP [III] &amp; Further Magia Damage UP <i>(Madoka, Sayaka, Mami, and Kyoko only)</i><sup class=\\\"reference\\\" id=\\\"cite_ref-1\\\"><a href=\\\"#cite_note-1\\\">[1]</a></sup>\"}, \"Magia\": {\"Name\": \"Magia: Time Stop Special\", \"Four_Star\": \"\\u26054: Damage All Enemies [V] &amp; Reduce Cooldowns (All / 3 T)\", \"Five_Star\": \"\\u26055: Damage All Enemies [VII] &amp; Reduce Cooldowns (All / 3 T)\"}, \"Doppel\": {\"Name\": \"Doppel: Homulilly\", \"Ability\": \"Damage All Enemies [IX] &amp; Reduce Cooldowns (All / 3 T) &amp; MP Recovery (All)\"}}\n"
     ]
    }
   ],
   "source": [
    "girl_json = json.dumps(Homura)\n",
    "print(girl_json)\n",
    "\n",
    "with open('moemura.json', 'w') as json_file:\n",
    "  json.dump(girl_json, json_file)"
   ]
  },
  {
   "cell_type": "code",
   "execution_count": 30,
   "metadata": {},
   "outputs": [
    {
     "name": "stdout",
     "output_type": "stream",
     "text": [
      "<li><b>Age:</b> 14</li>\n",
      "<li><b>School:</b> Mitakihara Middle School, Second Year</li>\n"
     ]
    }
   ],
   "source": [
    "query_url = \"https://wiki.puella-magi.net/Sayaka_Miki_in_Magia_Record\"\n",
    "response = requests.get(query_url)\n",
    "soup = bs(response.text, 'html.parser')\n",
    "\n",
    "bullet_points = soup.find_all('li')\n",
    "# 19- 30 General Info\n",
    "print(bullet_points[17])\n",
    "print(bullet_points[28])"
   ]
  },
  {
   "cell_type": "code",
   "execution_count": 31,
   "metadata": {},
   "outputs": [
    {
     "name": "stdout",
     "output_type": "stream",
     "text": [
      "6545 1640 2138\n",
      "23221 6031 7530\n",
      "29266 7595 9493\n",
      "36525 9947 13145\n"
     ]
    }
   ],
   "source": [
    "table_data = soup.find_all('td')\n",
    "\n",
    "initial_hp = str(table_data[21]).replace('<td style=\"width:25%;\">', '').replace('</td>', '').rstrip()\n",
    "initial_atk = str(table_data[22]).replace('<td style=\"width:25%;\">', '').replace('</td>', '').rstrip()\n",
    "initial_def = str(table_data[23]).replace('<td style=\"width:25%;\">', '').replace('</td>', '').rstrip()\n",
    "# max at 4* 33, 34, 35\n",
    "four_star_hp = str(table_data[25]).replace('<td style=\"width:25%;\">', '').replace('</td>', '').rstrip()\n",
    "four_star_atk = str(table_data[26]).replace('<td style=\"width:25%;\">', '').replace('</td>', '').rstrip()\n",
    "four_star_def = str(table_data[27]).replace('<td style=\"width:25%;\">', '').replace('</td>', '').rstrip()\n",
    "# max at 5* 37, 38, 39\n",
    "five_star_hp = str(table_data[29]).replace('<td style=\"width:25%;\">', '').replace('</td>', '').rstrip()\n",
    "five_star_atk = str(table_data[30]).replace('<td style=\"width:25%;\">', '').replace('</td>', '').rstrip()\n",
    "five_star_def = str(table_data[31]).replace('<td style=\"width:25%;\">', '').replace('</td>', '').rstrip()\n",
    "# SE\n",
    "se_hp = str(table_data[33]).replace('<td style=\"width:25%;\">', '').replace('</td>', '').rstrip()\n",
    "se_atk = str(table_data[34]).replace('<td style=\"width:25%;\">', '').replace('</td>', '').rstrip()\n",
    "se_def = str(table_data[35]).replace('<td style=\"width:25%;\">', '').replace('</td>', '').rstrip()\n",
    "\n",
    "print(initial_hp, initial_atk, initial_def)\n",
    "print(four_star_hp, four_star_atk, four_star_def)\n",
    "print(five_star_hp, five_star_atk, five_star_def)\n",
    "print(se_hp, se_atk, se_def)"
   ]
  },
  {
   "cell_type": "code",
   "execution_count": 32,
   "metadata": {},
   "outputs": [
    {
     "name": "stdout",
     "output_type": "stream",
     "text": [
      "['Accel', 'Accel', 'Blast', 'Charge', 'Charge']\n"
     ]
    }
   ],
   "source": [
    "disk_one = str(table_data[36])\n",
    "disk_two = str(table_data[37])\n",
    "disk_three = str(table_data[38])\n",
    "disk_four = str(table_data[39])\n",
    "disk_five = str(table_data[40])\n",
    "\n",
    "if (disk_one.find(\"accel\") != -1):\n",
    "    disk_one = \"Accel\"\n",
    "elif (disk_one.find(\"blast\") != -1):\n",
    "    disk_one = \"Blast\"\n",
    "else:\n",
    "    disk_one = \"Charge\"\n",
    "    \n",
    "if (disk_two.find(\"accel\") != -1):\n",
    "    disk_two = \"Accel\"\n",
    "elif (disk_two.find(\"blast\") != -1):\n",
    "    disk_two = \"Blast\"\n",
    "else:\n",
    "    disk_two = \"Charge\"\n",
    "\n",
    "if (disk_three.find(\"accel\") != -1):\n",
    "    disk_three = \"Accel\"\n",
    "elif (disk_three.find(\"blast\") != -1):\n",
    "    disk_three = \"Blast\"\n",
    "else:\n",
    "    disk_three = \"Charge\"\n",
    "    \n",
    "if (disk_four.find(\"accel\") != -1):\n",
    "    disk_four = \"Accel\"\n",
    "elif (disk_four.find(\"blast\") != -1):\n",
    "    disk_four = \"Blast\"\n",
    "else:\n",
    "    disk_four = \"Charge\"\n",
    "    \n",
    "if (disk_five.find(\"accel\") != -1):\n",
    "    disk_five = \"Accel\"\n",
    "elif (disk_five.find(\"blast\") != -1):\n",
    "    disk_five = \"Blast\"\n",
    "else:\n",
    "    disk_five = \"Charge\"\n",
    "    \n",
    "disks = [disk_one, disk_two, disk_three, disk_four, disk_five]\n",
    "print(disks)"
   ]
  },
  {
   "cell_type": "code",
   "execution_count": 33,
   "metadata": {},
   "outputs": [
    {
     "name": "stdout",
     "output_type": "stream",
     "text": [
      "★4: HP Regeneration [VII] (3 T) &amp; Attack UP [VII]\n",
      "★5: HP Regeneration [IX] (3 T) &amp; Attack UP [IX]\n",
      "★4: Damage One Enemy [V] &amp; Survive (Self /3 T) &amp; Guaranteed Critical (Self / 2 T)\n",
      "★5: Damage One Enemy [VII] &amp; Survive (Self /3 T) &amp; Guaranteed Critical (Self / 2 T) &amp; Guaranteed Counter (Self / 2 T)\n"
     ]
    }
   ],
   "source": [
    "# table_data 49 through 52 are Connect Info\n",
    "connect_four_star = str(table_data[41])\n",
    "connect_five_star = str(table_data[42])\n",
    "\n",
    "connect_four_star = connect_four_star.replace('</td>', '')\n",
    "connect_four_star = connect_four_star.replace('<td style=\"width:100%;\">', '')\n",
    "connect_four_star = connect_four_star.rstrip()\n",
    "print(connect_four_star)\n",
    "\n",
    "connect_five_star = connect_five_star.replace('</td>', '')\n",
    "connect_five_star = connect_five_star.replace('<td style=\"width:100%;\">', '')\n",
    "connect_five_star = connect_five_star.rstrip()\n",
    "print(connect_five_star)\n",
    "\n",
    "# table_data 53 through 56 are Magia Info\n",
    "\n",
    "magia_four_star = str(table_data[43])\n",
    "magia_five_star = str(table_data[44])\n",
    "\n",
    "magia_four_star = magia_four_star.replace('</td>', '')\n",
    "magia_four_star = magia_four_star.replace('<td style=\"width:100%;\">', '')\n",
    "magia_four_star = magia_four_star.rstrip()\n",
    "print(magia_four_star)\n",
    "\n",
    "magia_five_star = magia_five_star.replace('</td>', '')\n",
    "magia_five_star = magia_five_star.replace('<td style=\"width:100%;\">', '')\n",
    "magia_five_star = magia_five_star.rstrip()\n",
    "print(magia_five_star)"
   ]
  },
  {
   "cell_type": "code",
   "execution_count": 34,
   "metadata": {},
   "outputs": [
    {
     "name": "stdout",
     "output_type": "stream",
     "text": [
      "Damage to a single enemy [IX] &amp; Survive (Self / 3 T) &amp; Guaranteed Critical (Self / 2 T) &amp; Counter (Self / 2 T)\n",
      "<th colspan=\"5\"><b>Magia:</b> <i>Prestissimo Agitato</i>\n",
      "</th>\n",
      "<th colspan=\"5\"><b>Doppel:</b> <i>Oktavia von Seckendorff</i>\n",
      "</th>\n",
      "Connect: This is where I come in!\n",
      "Magia: Prestissimo Agitato\n",
      "Doppel: Oktavia von Seckendorff\n"
     ]
    }
   ],
   "source": [
    "doppel_info = str(table_data[45])\n",
    "doppel_info = doppel_info.replace('<td style=\"width:100%;\">', '')\n",
    "doppel_info = doppel_info.replace('</td>', '')\n",
    "doppel_info = doppel_info.rstrip()\n",
    "print(doppel_info)\n",
    "\n",
    "table_head = soup.find_all('th')\n",
    "connect = str(table_head[3])\n",
    "magia = str(table_head[4])\n",
    "doppel = str(table_head[5])\n",
    "print(magia)\n",
    "print(doppel)\n",
    "\n",
    "connect = connect.strip('<th colspan=\"5\">')\n",
    "connect = connect.strip('b>')\n",
    "connect = connect.strip('<b>')\n",
    "connect = connect.replace('</b>', '')\n",
    "connect = connect.replace('<i>', '')\n",
    "connect = connect.replace('</i>', '')\n",
    "connect = connect.strip('</')\n",
    "connect = connect.rstrip()\n",
    "print(connect)\n",
    "\n",
    "magia = magia.strip('<th colspan=\"5\">')\n",
    "magia = magia.strip('b>')\n",
    "magia = magia.replace('</b>', '')\n",
    "magia = magia.replace('<i>', '')\n",
    "magia = magia.replace('</i>', '')\n",
    "magia = magia.strip('</')\n",
    "magia = magia.rstrip()\n",
    "print(magia)\n",
    "\n",
    "doppel = doppel.strip('<th colspan=\"5\">')\n",
    "doppel = doppel.strip('b>')\n",
    "doppel = doppel.replace('<b>', '')\n",
    "doppel = doppel.replace('</b>', '')\n",
    "doppel = doppel.replace('<i>', '')\n",
    "doppel = doppel.replace('</i>', '')\n",
    "doppel = doppel.strip('</')\n",
    "doppel = doppel.rstrip()\n",
    "print(doppel)"
   ]
  },
  {
   "cell_type": "code",
   "execution_count": 36,
   "metadata": {},
   "outputs": [
    {
     "name": "stdout",
     "output_type": "stream",
     "text": [
      "Age: 14\n",
      "Height: 158-160 cm\n",
      "Eye colour: Blue\n",
      "Hair colour: Blue\n",
      "Origins: Mitakihara City\n",
      "Soul Gem: C-shape similar to a cresent moon or a mermaid's tail (stomach)\n",
      "Weapon: Cutlass\n",
      "Wish: To heal the arm of Kyosuke Kamijo (exact wording unknown)\n",
      "Ability: Healing\n",
      "Witch form: Oktavia von Seckendorff\n",
      "Japanese Pronoun: <i>atashi</i><span style=\"font-weight: normal\"> (<span class=\"t_nihongo_kanji\" lang=\"ja\">あたし</span>)</span\n",
      "School: Mitakihara Middle School Second Year\n"
     ]
    }
   ],
   "source": [
    "Age = str(bullet_points[17]).strip(\"<li>\").strip(\"</li>\").strip(\"<b>\").replace(\"</b>\", \"\").replace(',', '')\n",
    "print(Age)\n",
    "Height = str(bullet_points[18]).strip(\"<li>\").strip(\"</li>\").strip(\"<b>\").replace(\"</b>\", \"\").replace(',', '').replace('</a', '').replace('<a class=\"internal\" href=\"//images.puella-magi.net/e/ec/PN_10.jpg?20111204064051\" title=\"PN 10.jpg\">', '')\n",
    "print(Height)\n",
    "EyeColor = str(bullet_points[19]).strip(\"<li>\").strip(\"</li>\").strip(\"<b>\").replace(\"</b>\", \"\").replace(',', '')\n",
    "print(EyeColor)\n",
    "HairColor = str(bullet_points[20]).strip(\"<li>\").strip(\"</li>\").strip(\"<b>\").replace(\"</b>\", \"\").replace(',', '')\n",
    "print(HairColor)\n",
    "Hometown = str(bullet_points[21]).strip(\"<li>\").strip(\"</li>\").strip(\"<b>\").replace(\"</b>\", \"\").replace(',', '')\n",
    "print(Hometown)\n",
    "SoulGem = str(bullet_points[22]).strip(\"<li>\").strip(\"</li>\").strip(\"<b>\").replace(\"</b>\", \"\").replace(',', '').replace('</span>', '').replace('<span class=\"inline-spoilers\">', '')\n",
    "print(SoulGem)\n",
    "Weapon = str(bullet_points[23]).strip(\"<li>\").strip(\"</li>\").strip(\"<b>\").replace(\"</b>\", \"\").replace('</a', '').replace('<a class=\"external text\" href=\"https://en.wikipedia.org/wiki/Crossbow\" rel=\"nofollow\">', '')\n",
    "print(Weapon)\n",
    "Wish = str(bullet_points[24]).strip(\"<li>\").strip(\"</li>\").strip(\"<b>\").replace(\"</b>\", \"\").replace(',', '').replace('</a>', '').replace('<a href=\"/Kyosuke_Kamijo\" title=\"Kyosuke Kamijo\">', '')\n",
    "print(Wish)\n",
    "Ability = str(bullet_points[25]).strip(\"<li>\").strip(\"</li>\").strip(\"<b>\").replace(\"</b>\", \"\").replace(',', '')\n",
    "print(Ability)\n",
    "Witch = str(bullet_points[26]).strip(\"<li>\").strip(\"</li>\").strip(\"<b>\").replace(\"</b>\", \"\").replace(',', '').replace('</a', '').replace('<a href=\"/Oktavia_von_Seckendorff\" title=\"Oktavia von Seckendorff\">', '')\n",
    "print(Witch)\n",
    "Pronoun = str(bullet_points[27]).strip(\"<li>\").strip(\"</li>\").strip(\"<b>\").replace(\"</b>\", \"\").replace(',', '')\n",
    "print(Pronoun)\n",
    "School = str(bullet_points[28]).strip(\"<li>\").strip(\"</li>\").strip(\"<b>\").replace(\"</b>\", \"\").replace(',', '')\n",
    "print(School)"
   ]
  },
  {
   "cell_type": "code",
   "execution_count": 37,
   "metadata": {},
   "outputs": [
    {
     "name": "stdout",
     "output_type": "stream",
     "text": [
      "{'Name': 'Sayaka Miki', 'Age': 'Age: 14', 'EyeColor': 'Eye colour: Blue', 'HairColor': 'Hair colour: Blue', 'Hometown': 'Origins: Mitakihara City', 'SoulGem': \"Soul Gem: C-shape similar to a cresent moon or a mermaid's tail (stomach)\", 'Weapon': 'Weapon: Cutlass', 'Wish': 'Wish: To heal the arm of Kyosuke Kamijo (exact wording unknown)', 'Ability': 'Ability: Healing', 'Witch': 'Witch form: Oktavia von Seckendorff', 'Pronoun': 'Japanese Pronoun: <i>atashi</i><span style=\"font-weight: normal\"> (<span class=\"t_nihongo_kanji\" lang=\"ja\">あたし</span>)</span', 'School': 'School: Mitakihara Middle School Second Year', 'Disks': ['Accel', 'Accel', 'Blast', 'Charge', 'Charge'], 'Stats': {'Initial': {'HP': '6545', 'ATK': '1640', 'DEF': '2138'}, 'Four_Star': {'HP': '23221', 'ATK': '6031', 'DEF': '7530'}, 'Five_Star': {'HP': '29266', 'ATK': '7595', 'DEF': '9493'}, 'SE': {'HP': '36525', 'ATK': '9947', 'DEF': '13145'}}, 'Connect': {'Name': 'Connect: This is where I come in!', 'Four_Star': '★4: HP Regeneration [VII] (3 T) &amp; Attack UP [VII]', 'Five_Star': '★5: HP Regeneration [IX] (3 T) &amp; Attack UP [IX]'}, 'Magia': {'Name': 'Magia: Prestissimo Agitato', 'Four_Star': '★4: Damage One Enemy [V] &amp; Survive (Self /3 T) &amp; Guaranteed Critical (Self / 2 T)', 'Five_Star': '★5: Damage One Enemy [VII] &amp; Survive (Self /3 T) &amp; Guaranteed Critical (Self / 2 T) &amp; Guaranteed Counter (Self / 2 T)'}, 'Doppel': {'Name': 'Doppel: Oktavia von Seckendorff', 'Ability': 'Damage to a single enemy [IX] &amp; Survive (Self / 3 T) &amp; Guaranteed Critical (Self / 2 T) &amp; Counter (Self / 2 T)'}}\n"
     ]
    }
   ],
   "source": [
    "Sayaka = {\n",
    "    \"Name\": \"Sayaka Miki\",\n",
    "    \"Age\": Age,\n",
    "    \"EyeColor\": EyeColor,\n",
    "    \"HairColor\": HairColor,\n",
    "    \"Hometown\": Hometown,\n",
    "    \"SoulGem\": SoulGem,\n",
    "    \"Weapon\": Weapon,\n",
    "    \"Wish\": Wish,\n",
    "    \"Ability\": Ability,\n",
    "    \"Witch\": Witch,\n",
    "    \"Pronoun\": Pronoun,\n",
    "    \"School\": School,\n",
    "    \"Disks\": disks,\n",
    "    \"Stats\": {\n",
    "        \"Initial\": {\n",
    "            \"HP\": initial_hp,\n",
    "            \"ATK\": initial_atk,\n",
    "            \"DEF\": initial_def\n",
    "        },\n",
    "        \"Four_Star\": {\n",
    "            \"HP\": four_star_hp,\n",
    "            \"ATK\": four_star_atk,\n",
    "            \"DEF\": four_star_def\n",
    "        },\n",
    "        \"Five_Star\": {\n",
    "            \"HP\": five_star_hp,\n",
    "            \"ATK\": five_star_atk,\n",
    "            \"DEF\": five_star_def        \n",
    "        },\n",
    "        \"SE\": {\n",
    "            \"HP\": se_hp,\n",
    "            \"ATK\": se_atk,\n",
    "            \"DEF\":  se_def          \n",
    "        }\n",
    "    },\n",
    "    \"Connect\": {\n",
    "        \"Name\": connect,\n",
    "        \"Four_Star\": connect_four_star,\n",
    "        \"Five_Star\": connect_five_star\n",
    "    },\n",
    "    \"Magia\": {\n",
    "        \"Name\": magia,\n",
    "        \"Four_Star\": magia_four_star,\n",
    "        \"Five_Star\": magia_five_star\n",
    "    },\n",
    "    \"Doppel\": {\n",
    "        \"Name\": doppel,\n",
    "        \"Ability\": doppel_info,\n",
    "    }\n",
    "}\n",
    "\n",
    "print(Sayaka)"
   ]
  },
  {
   "cell_type": "code",
   "execution_count": 38,
   "metadata": {},
   "outputs": [
    {
     "name": "stdout",
     "output_type": "stream",
     "text": [
      "{\"Name\": \"Sayaka Miki\", \"Age\": \"Age: 14\", \"EyeColor\": \"Eye colour: Blue\", \"HairColor\": \"Hair colour: Blue\", \"Hometown\": \"Origins: Mitakihara City\", \"SoulGem\": \"Soul Gem: C-shape similar to a cresent moon or a mermaid's tail (stomach)\", \"Weapon\": \"Weapon: Cutlass\", \"Wish\": \"Wish: To heal the arm of Kyosuke Kamijo (exact wording unknown)\", \"Ability\": \"Ability: Healing\", \"Witch\": \"Witch form: Oktavia von Seckendorff\", \"Pronoun\": \"Japanese Pronoun: <i>atashi</i><span style=\\\"font-weight: normal\\\"> (<span class=\\\"t_nihongo_kanji\\\" lang=\\\"ja\\\">\\u3042\\u305f\\u3057</span>)</span\", \"School\": \"School: Mitakihara Middle School Second Year\", \"Disks\": [\"Accel\", \"Accel\", \"Blast\", \"Charge\", \"Charge\"], \"Stats\": {\"Initial\": {\"HP\": \"6545\", \"ATK\": \"1640\", \"DEF\": \"2138\"}, \"Four_Star\": {\"HP\": \"23221\", \"ATK\": \"6031\", \"DEF\": \"7530\"}, \"Five_Star\": {\"HP\": \"29266\", \"ATK\": \"7595\", \"DEF\": \"9493\"}, \"SE\": {\"HP\": \"36525\", \"ATK\": \"9947\", \"DEF\": \"13145\"}}, \"Connect\": {\"Name\": \"Connect: This is where I come in!\", \"Four_Star\": \"\\u26054: HP Regeneration [VII] (3 T) &amp; Attack UP [VII]\", \"Five_Star\": \"\\u26055: HP Regeneration [IX] (3 T) &amp; Attack UP [IX]\"}, \"Magia\": {\"Name\": \"Magia: Prestissimo Agitato\", \"Four_Star\": \"\\u26054: Damage One Enemy [V] &amp; Survive (Self /3 T) &amp; Guaranteed Critical (Self / 2 T)\", \"Five_Star\": \"\\u26055: Damage One Enemy [VII] &amp; Survive (Self /3 T) &amp; Guaranteed Critical (Self / 2 T) &amp; Guaranteed Counter (Self / 2 T)\"}, \"Doppel\": {\"Name\": \"Doppel: Oktavia von Seckendorff\", \"Ability\": \"Damage to a single enemy [IX] &amp; Survive (Self / 3 T) &amp; Guaranteed Critical (Self / 2 T) &amp; Counter (Self / 2 T)\"}}\n"
     ]
    }
   ],
   "source": [
    "girl_json = json.dumps(Sayaka)\n",
    "print(girl_json)\n",
    "\n",
    "with open('sayaka.json', 'w') as json_file:\n",
    "  json.dump(girl_json, json_file)"
   ]
  },
  {
   "cell_type": "code",
   "execution_count": 41,
   "metadata": {},
   "outputs": [
    {
     "name": "stdout",
     "output_type": "stream",
     "text": [
      "<li><b>Age:</b> 15</li>\n",
      "<li><b>School:</b> Mitakihara Middle School (9th Grade)</li>\n"
     ]
    }
   ],
   "source": [
    "query_url = \"https://wiki.puella-magi.net/Mami_Tomoe_in_Magia_Record\"\n",
    "response = requests.get(query_url)\n",
    "soup = bs(response.text, 'html.parser')\n",
    "\n",
    "bullet_points = soup.find_all('li')\n",
    "# 19- 30 General Info\n",
    "print(bullet_points[18])\n",
    "print(bullet_points[30])"
   ]
  },
  {
   "cell_type": "code",
   "execution_count": 42,
   "metadata": {},
   "outputs": [
    {
     "name": "stdout",
     "output_type": "stream",
     "text": [
      "4687 2079 1480\n",
      "16629 7646 5212\n",
      "20941 9652 6553\n",
      "26135 12034 8892\n"
     ]
    }
   ],
   "source": [
    "table_data = soup.find_all('td')\n",
    "\n",
    "initial_hp = str(table_data[21]).replace('<td style=\"width:25%;\">', '').replace('</td>', '').rstrip()\n",
    "initial_atk = str(table_data[22]).replace('<td style=\"width:25%;\">', '').replace('</td>', '').rstrip()\n",
    "initial_def = str(table_data[23]).replace('<td style=\"width:25%;\">', '').replace('</td>', '').rstrip()\n",
    "# max at 4* 33, 34, 35\n",
    "four_star_hp = str(table_data[25]).replace('<td style=\"width:25%;\">', '').replace('</td>', '').rstrip()\n",
    "four_star_atk = str(table_data[26]).replace('<td style=\"width:25%;\">', '').replace('</td>', '').rstrip()\n",
    "four_star_def = str(table_data[27]).replace('<td style=\"width:25%;\">', '').replace('</td>', '').rstrip()\n",
    "# max at 5* 37, 38, 39\n",
    "five_star_hp = str(table_data[29]).replace('<td style=\"width:25%;\">', '').replace('</td>', '').rstrip()\n",
    "five_star_atk = str(table_data[30]).replace('<td style=\"width:25%;\">', '').replace('</td>', '').rstrip()\n",
    "five_star_def = str(table_data[31]).replace('<td style=\"width:25%;\">', '').replace('</td>', '').rstrip()\n",
    "# SE\n",
    "se_hp = str(table_data[33]).replace('<td style=\"width:25%;\">', '').replace('</td>', '').rstrip()\n",
    "se_atk = str(table_data[34]).replace('<td style=\"width:25%;\">', '').replace('</td>', '').rstrip()\n",
    "se_def = str(table_data[35]).replace('<td style=\"width:25%;\">', '').replace('</td>', '').rstrip()\n",
    "\n",
    "print(initial_hp, initial_atk, initial_def)\n",
    "print(four_star_hp, four_star_atk, four_star_def)\n",
    "print(five_star_hp, five_star_atk, five_star_def)\n",
    "print(se_hp, se_atk, se_def)"
   ]
  },
  {
   "cell_type": "code",
   "execution_count": 43,
   "metadata": {},
   "outputs": [
    {
     "name": "stdout",
     "output_type": "stream",
     "text": [
      "['Accel', 'Accel', 'Blast', 'Charge', 'Charge']\n"
     ]
    }
   ],
   "source": [
    "disk_one = str(table_data[36])\n",
    "disk_two = str(table_data[37])\n",
    "disk_three = str(table_data[38])\n",
    "disk_four = str(table_data[39])\n",
    "disk_five = str(table_data[40])\n",
    "\n",
    "if (disk_one.find(\"accel\") != -1):\n",
    "    disk_one = \"Accel\"\n",
    "elif (disk_one.find(\"blast\") != -1):\n",
    "    disk_one = \"Blast\"\n",
    "else:\n",
    "    disk_one = \"Charge\"\n",
    "    \n",
    "if (disk_two.find(\"accel\") != -1):\n",
    "    disk_two = \"Accel\"\n",
    "elif (disk_two.find(\"blast\") != -1):\n",
    "    disk_two = \"Blast\"\n",
    "else:\n",
    "    disk_two = \"Charge\"\n",
    "\n",
    "if (disk_three.find(\"accel\") != -1):\n",
    "    disk_three = \"Accel\"\n",
    "elif (disk_three.find(\"blast\") != -1):\n",
    "    disk_three = \"Blast\"\n",
    "else:\n",
    "    disk_three = \"Charge\"\n",
    "    \n",
    "if (disk_four.find(\"accel\") != -1):\n",
    "    disk_four = \"Accel\"\n",
    "elif (disk_four.find(\"blast\") != -1):\n",
    "    disk_four = \"Blast\"\n",
    "else:\n",
    "    disk_four = \"Charge\"\n",
    "    \n",
    "if (disk_five.find(\"accel\") != -1):\n",
    "    disk_five = \"Accel\"\n",
    "elif (disk_five.find(\"blast\") != -1):\n",
    "    disk_five = \"Blast\"\n",
    "else:\n",
    "    disk_five = \"Charge\"\n",
    "    \n",
    "disks = [disk_one, disk_two, disk_three, disk_four, disk_five]\n",
    "print(disks)"
   ]
  },
  {
   "cell_type": "code",
   "execution_count": 45,
   "metadata": {},
   "outputs": [
    {
     "name": "stdout",
     "output_type": "stream",
     "text": [
      "★4: Damage UP [VII] &amp; Guaranteed Bind Edge &amp; Guaranteed Burn Edge\n",
      "★5: Damage UP [IX] &amp; Guaranteed Bind Edge &amp; Guaranteed Burn Edge\n",
      "★4: Damage All Enemies [VI] &amp; Bind (All / 1 T) &amp; Defense DOWN (Self / 1 T) <i>&amp; Skill Quicken (All / 1 T)\n",
      "★5: Damage All Enemies [VIII] &amp; Bind (All / 1 T) &amp; Burn (All / 3 T) &amp; Defense DOWN (Self / 1 T) <i>&amp; Skill Quicken (All / 1 T)\n"
     ]
    }
   ],
   "source": [
    "# table_data 49 through 52 are Connect Info\n",
    "connect_four_star = str(table_data[41])\n",
    "connect_five_star = str(table_data[42])\n",
    "\n",
    "connect_four_star = connect_four_star.replace('</td>', '')\n",
    "connect_four_star = connect_four_star.replace('<td style=\"width:100%;\">', '')\n",
    "connect_four_star = connect_four_star.rstrip()\n",
    "print(connect_four_star)\n",
    "\n",
    "connect_five_star = connect_five_star.replace('</td>', '')\n",
    "connect_five_star = connect_five_star.replace('<td style=\"width:100%;\">', '')\n",
    "connect_five_star = connect_five_star.rstrip()\n",
    "print(connect_five_star)\n",
    "\n",
    "# table_data 53 through 56 are Magia Info\n",
    "\n",
    "magia_four_star = str(table_data[43])\n",
    "magia_five_star = str(table_data[44])\n",
    "\n",
    "magia_four_star = magia_four_star.replace('</td>', '').replace('<sup class=\"reference\" id=\"cite_ref-1\"><a href=\"#cite_note-1\">[1]</a></sup></i>', '')\n",
    "magia_four_star = magia_four_star.replace('<td style=\"width:100%;\">', '')\n",
    "magia_four_star = magia_four_star.rstrip()\n",
    "print(magia_four_star)\n",
    "\n",
    "magia_five_star = magia_five_star.replace('</td>', '').replace('<sup class=\"reference\" id=\"cite_ref-2\"><a href=\"#cite_note-2\">[2]</a></sup></i>', '')\n",
    "magia_five_star = magia_five_star.replace('<td style=\"width:100%;\">', '')\n",
    "magia_five_star = magia_five_star.rstrip()\n",
    "print(magia_five_star)"
   ]
  },
  {
   "cell_type": "code",
   "execution_count": 46,
   "metadata": {},
   "outputs": [
    {
     "name": "stdout",
     "output_type": "stream",
     "text": [
      "Damage All Enemies [X] &amp; Bind (All / 1 T) &amp; Burn (All / 3 T)\n",
      "<th colspan=\"5\"><b>Magia:</b> <i>Tiro Finale</i>\n",
      "</th>\n",
      "<th colspan=\"5\"><b>Doppel:</b> <i>Candeloro</i>\n",
      "</th>\n",
      "Connect: Tiro Duet!\n",
      "Magia: Tiro Finale\n",
      "Doppel: Candeloro\n"
     ]
    }
   ],
   "source": [
    "doppel_info = str(table_data[45])\n",
    "doppel_info = doppel_info.replace('<td style=\"width:100%;\">', '')\n",
    "doppel_info = doppel_info.replace('</td>', '')\n",
    "doppel_info = doppel_info.rstrip()\n",
    "print(doppel_info)\n",
    "\n",
    "table_head = soup.find_all('th')\n",
    "connect = str(table_head[3])\n",
    "magia = str(table_head[4])\n",
    "doppel = str(table_head[5])\n",
    "print(magia)\n",
    "print(doppel)\n",
    "\n",
    "connect = connect.strip('<th colspan=\"5\">')\n",
    "connect = connect.strip('b>')\n",
    "connect = connect.strip('<b>')\n",
    "connect = connect.replace('</b>', '')\n",
    "connect = connect.replace('<i>', '')\n",
    "connect = connect.replace('</i>', '')\n",
    "connect = connect.strip('</')\n",
    "connect = connect.rstrip()\n",
    "print(connect)\n",
    "\n",
    "magia = magia.strip('<th colspan=\"5\">')\n",
    "magia = magia.strip('b>')\n",
    "magia = magia.replace('</b>', '')\n",
    "magia = magia.replace('<i>', '')\n",
    "magia = magia.replace('</i>', '')\n",
    "magia = magia.strip('</')\n",
    "magia = magia.rstrip()\n",
    "print(magia)\n",
    "\n",
    "doppel = doppel.strip('<th colspan=\"5\">')\n",
    "doppel = doppel.strip('b>')\n",
    "doppel = doppel.replace('<b>', '')\n",
    "doppel = doppel.replace('</b>', '')\n",
    "doppel = doppel.replace('<i>', '')\n",
    "doppel = doppel.replace('</i>', '')\n",
    "doppel = doppel.strip('</')\n",
    "doppel = doppel.rstrip()\n",
    "print(doppel)"
   ]
  },
  {
   "cell_type": "code",
   "execution_count": 48,
   "metadata": {},
   "outputs": [
    {
     "name": "stdout",
     "output_type": "stream",
     "text": [
      "Age: 15\n",
      "Height: 156-159 cm\n",
      "Eye colour: Yellow\n",
      "Hair colour: Yellow\n",
      "Origins: Mitakihara City\n",
      "Soul Gem: Yellow flower (hair ornament)\n",
      "Weapon: Ribbons (Turned into Percussion-lock rifled muskets)\n",
      "Wish: To connect to life / save herself (exact wording unknown)\n",
      "Ability: Restraint magic\n",
      "Witch form: Candeloro\n",
      "Japanese pronoun: <i>watashi</i><span style=\"font-weight: normal\"> (<span class=\"t_nihongo_kanji\" lang=\"ja\">私</span>)</span\n",
      "Known relatives: Father and/or Mother (deceased)\n",
      "School: Mitakihara Middle School (9th Grade)\n"
     ]
    }
   ],
   "source": [
    "Age = str(bullet_points[18]).strip(\"<li>\").strip(\"</li>\").strip(\"<b>\").replace(\"</b>\", \"\").replace(',', '')\n",
    "print(Age)\n",
    "Height = str(bullet_points[19]).strip(\"<li>\").strip(\"</li>\").strip(\"<b>\").replace(\"</b>\", \"\").replace(',', '').replace('</a', '').replace('<a class=\"internal\" href=\"//images.puella-magi.net/e/ec/PN_10.jpg?20111204064051\" title=\"PN 10.jpg\">', '')\n",
    "print(Height)\n",
    "EyeColor = str(bullet_points[20]).strip(\"<li>\").strip(\"</li>\").strip(\"<b>\").replace(\"</b>\", \"\").replace(',', '')\n",
    "print(EyeColor)\n",
    "HairColor = str(bullet_points[21]).strip(\"<li>\").strip(\"</li>\").strip(\"<b>\").replace(\"</b>\", \"\").replace(',', '')\n",
    "print(HairColor)\n",
    "Hometown = str(bullet_points[22]).strip(\"<li>\").strip(\"</li>\").strip(\"<b>\").replace(\"</b>\", \"\").replace(',', '')\n",
    "print(Hometown)\n",
    "SoulGem = str(bullet_points[23]).strip(\"<li>\").strip(\"</li>\").strip(\"<b>\").replace(\"</b>\", \"\").replace(',', '')\n",
    "print(SoulGem)\n",
    "Weapon = str(bullet_points[24]).strip(\"<li>\").strip(\"</li>\").strip(\"<b>\").replace(\"</b>\", \"\").replace('</a', '').replace('<a class=\"external text\" href=\"https://en.wikipedia.org/wiki/Crossbow\" rel=\"nofollow\">', '')\n",
    "print(Weapon)\n",
    "Wish = str(bullet_points[25]).strip(\"<li>\").strip(\"</li>\").strip(\"<b>\").replace(\"</b>\", \"\").replace(',', '').replace('</a>', '').replace('<a href=\"/Megami_Magazine_2011-07\" title=\"Megami Magazine 2011-07\">', '')\n",
    "print(Wish)\n",
    "Ability = str(bullet_points[26]).strip(\"<li>\").strip(\"</li>\").strip(\"<b>\").replace(\"</b>\", \"\").replace(',', '')\n",
    "print(Ability)\n",
    "Witch = str(bullet_points[27]).strip(\"<li>\").strip(\"</li>\").strip(\"<b>\").replace(\"</b>\", \"\").replace(',', '').replace('</a', '').replace('<a href=\"/Candeloro\" title=\"Candeloro\">', '')\n",
    "print(Witch)\n",
    "Pronoun = str(bullet_points[28]).strip(\"<li>\").strip(\"</li>\").strip(\"<b>\").replace(\"</b>\", \"\").replace(',', '')\n",
    "print(Pronoun)\n",
    "Relatives = str(bullet_points[29]).strip(\"<li>\").strip(\"</li>\").strip(\"<b>\").replace(\"</b>\", \"\").replace(',', '')\n",
    "print(Relatives)\n",
    "School = str(bullet_points[30]).strip(\"<li>\").strip(\"</li>\").strip(\"<b>\").replace(\"</b>\", \"\").replace(',', '')\n",
    "print(School)"
   ]
  },
  {
   "cell_type": "code",
   "execution_count": 51,
   "metadata": {},
   "outputs": [
    {
     "name": "stdout",
     "output_type": "stream",
     "text": [
      "{'Name': 'Mami Tomoe', 'Age': 'Age: 15', 'EyeColor': 'Eye colour: Yellow', 'HairColor': 'Hair colour: Yellow', 'Hometown': 'Origins: Mitakihara City', 'SoulGem': 'Soul Gem: Yellow flower (hair ornament)', 'Weapon': 'Weapon: Ribbons (Turned into Percussion-lock rifled muskets)', 'Wish': 'Wish: To connect to life / save herself (exact wording unknown)', 'Ability': 'Ability: Restraint magic', 'Witch': 'Witch form: Candeloro', 'Pronoun': 'Japanese pronoun: <i>watashi</i><span style=\"font-weight: normal\"> (<span class=\"t_nihongo_kanji\" lang=\"ja\">私</span>)</span', 'Relatives': 'Known relatives: Father and/or Mother (deceased)', 'School': 'School: Mitakihara Middle School (9th Grade)', 'Disks': ['Accel', 'Accel', 'Blast', 'Charge', 'Charge'], 'Stats': {'Initial': {'HP': '4687', 'ATK': '2079', 'DEF': '1480'}, 'Four_Star': {'HP': '16629', 'ATK': '7646', 'DEF': '5212'}, 'Five_Star': {'HP': '20941', 'ATK': '9652', 'DEF': '6553'}, 'SE': {'HP': '26135', 'ATK': '12034', 'DEF': '8892'}}, 'Connect': {'Name': 'Connect: Tiro Duet!', 'Four_Star': '★4: Damage UP [VII] &amp; Guaranteed Bind Edge &amp; Guaranteed Burn Edge', 'Five_Star': '★5: Damage UP [IX] &amp; Guaranteed Bind Edge &amp; Guaranteed Burn Edge'}, 'Magia': {'Name': 'Magia: Tiro Finale', 'Four_Star': '★4: Damage All Enemies [VI] &amp; Bind (All / 1 T) &amp; Defense DOWN (Self / 1 T) <i>&amp; Skill Quicken (All / 1 T)', 'Five_Star': '★5: Damage All Enemies [VIII] &amp; Bind (All / 1 T) &amp; Burn (All / 3 T) &amp; Defense DOWN (Self / 1 T) <i>&amp; Skill Quicken (All / 1 T)'}, 'Doppel': {'Name': 'Doppel: Candeloro', 'Ability': 'Damage All Enemies [X] &amp; Bind (All / 1 T) &amp; Burn (All / 3 T)'}}\n"
     ]
    }
   ],
   "source": [
    "Mami = {\n",
    "    \"Name\": \"Mami Tomoe\",\n",
    "    \"Age\": Age,\n",
    "    \"EyeColor\": EyeColor,\n",
    "    \"HairColor\": HairColor,\n",
    "    \"Hometown\": Hometown,\n",
    "    \"SoulGem\": SoulGem,\n",
    "    \"Weapon\": Weapon,\n",
    "    \"Wish\": Wish,\n",
    "    \"Ability\": Ability,\n",
    "    \"Witch\": Witch,\n",
    "    \"Pronoun\": Pronoun,\n",
    "    \"Relatives\": Relatives,\n",
    "    \"School\": School,\n",
    "    \"Disks\": disks,\n",
    "    \"Stats\": {\n",
    "        \"Initial\": {\n",
    "            \"HP\": initial_hp,\n",
    "            \"ATK\": initial_atk,\n",
    "            \"DEF\": initial_def\n",
    "        },\n",
    "        \"Four_Star\": {\n",
    "            \"HP\": four_star_hp,\n",
    "            \"ATK\": four_star_atk,\n",
    "            \"DEF\": four_star_def\n",
    "        },\n",
    "        \"Five_Star\": {\n",
    "            \"HP\": five_star_hp,\n",
    "            \"ATK\": five_star_atk,\n",
    "            \"DEF\": five_star_def        \n",
    "        },\n",
    "        \"SE\": {\n",
    "            \"HP\": se_hp,\n",
    "            \"ATK\": se_atk,\n",
    "            \"DEF\":  se_def          \n",
    "        }\n",
    "    },\n",
    "    \"Connect\": {\n",
    "        \"Name\": connect,\n",
    "        \"Four_Star\": connect_four_star,\n",
    "        \"Five_Star\": connect_five_star\n",
    "    },\n",
    "    \"Magia\": {\n",
    "        \"Name\": magia,\n",
    "        \"Four_Star\": magia_four_star,\n",
    "        \"Five_Star\": magia_five_star\n",
    "    },\n",
    "    \"Doppel\": {\n",
    "        \"Name\": doppel,\n",
    "        \"Ability\": doppel_info,\n",
    "    }\n",
    "}\n",
    "\n",
    "print(Mami)"
   ]
  },
  {
   "cell_type": "code",
   "execution_count": 52,
   "metadata": {},
   "outputs": [
    {
     "name": "stdout",
     "output_type": "stream",
     "text": [
      "{\"Name\": \"Mami Tomoe\", \"Age\": \"Age: 15\", \"EyeColor\": \"Eye colour: Yellow\", \"HairColor\": \"Hair colour: Yellow\", \"Hometown\": \"Origins: Mitakihara City\", \"SoulGem\": \"Soul Gem: Yellow flower (hair ornament)\", \"Weapon\": \"Weapon: Ribbons (Turned into Percussion-lock rifled muskets)\", \"Wish\": \"Wish: To connect to life / save herself (exact wording unknown)\", \"Ability\": \"Ability: Restraint magic\", \"Witch\": \"Witch form: Candeloro\", \"Pronoun\": \"Japanese pronoun: <i>watashi</i><span style=\\\"font-weight: normal\\\"> (<span class=\\\"t_nihongo_kanji\\\" lang=\\\"ja\\\">\\u79c1</span>)</span\", \"Relatives\": \"Known relatives: Father and/or Mother (deceased)\", \"School\": \"School: Mitakihara Middle School (9th Grade)\", \"Disks\": [\"Accel\", \"Accel\", \"Blast\", \"Charge\", \"Charge\"], \"Stats\": {\"Initial\": {\"HP\": \"4687\", \"ATK\": \"2079\", \"DEF\": \"1480\"}, \"Four_Star\": {\"HP\": \"16629\", \"ATK\": \"7646\", \"DEF\": \"5212\"}, \"Five_Star\": {\"HP\": \"20941\", \"ATK\": \"9652\", \"DEF\": \"6553\"}, \"SE\": {\"HP\": \"26135\", \"ATK\": \"12034\", \"DEF\": \"8892\"}}, \"Connect\": {\"Name\": \"Connect: Tiro Duet!\", \"Four_Star\": \"\\u26054: Damage UP [VII] &amp; Guaranteed Bind Edge &amp; Guaranteed Burn Edge\", \"Five_Star\": \"\\u26055: Damage UP [IX] &amp; Guaranteed Bind Edge &amp; Guaranteed Burn Edge\"}, \"Magia\": {\"Name\": \"Magia: Tiro Finale\", \"Four_Star\": \"\\u26054: Damage All Enemies [VI] &amp; Bind (All / 1 T) &amp; Defense DOWN (Self / 1 T) <i>&amp; Skill Quicken (All / 1 T)\", \"Five_Star\": \"\\u26055: Damage All Enemies [VIII] &amp; Bind (All / 1 T) &amp; Burn (All / 3 T) &amp; Defense DOWN (Self / 1 T) <i>&amp; Skill Quicken (All / 1 T)\"}, \"Doppel\": {\"Name\": \"Doppel: Candeloro\", \"Ability\": \"Damage All Enemies [X] &amp; Bind (All / 1 T) &amp; Burn (All / 3 T)\"}}\n"
     ]
    }
   ],
   "source": [
    "girl_json = json.dumps(Mami)\n",
    "print(girl_json)\n",
    "\n",
    "with open('mami.json', 'w') as json_file:\n",
    "  json.dump(girl_json, json_file)"
   ]
  },
  {
   "cell_type": "code",
   "execution_count": 55,
   "metadata": {},
   "outputs": [
    {
     "name": "stdout",
     "output_type": "stream",
     "text": [
      "<li><b>Age:</b> 14 - 16 (estimated)</li>\n",
      "<li><b>School:</b> Unknown</li>\n"
     ]
    }
   ],
   "source": [
    "query_url = \"https://wiki.puella-magi.net/Kyoko_Sakura_in_Magia_Record\"\n",
    "response = requests.get(query_url)\n",
    "soup = bs(response.text, 'html.parser')\n",
    "\n",
    "bullet_points = soup.find_all('li')\n",
    "# 19- 30 General Info\n",
    "print(bullet_points[18])\n",
    "print(bullet_points[30])"
   ]
  },
  {
   "cell_type": "code",
   "execution_count": 56,
   "metadata": {},
   "outputs": [
    {
     "name": "stdout",
     "output_type": "stream",
     "text": [
      "4981 2114 1603\n",
      "17931 7610 5770\n",
      "22580 9592 7268\n",
      "29278 11880 9266\n"
     ]
    }
   ],
   "source": [
    "table_data = soup.find_all('td')\n",
    "\n",
    "initial_hp = str(table_data[21]).replace('<td style=\"width:25%;\">', '').replace('</td>', '').rstrip()\n",
    "initial_atk = str(table_data[22]).replace('<td style=\"width:25%;\">', '').replace('</td>', '').rstrip()\n",
    "initial_def = str(table_data[23]).replace('<td style=\"width:25%;\">', '').replace('</td>', '').rstrip()\n",
    "# max at 4* 33, 34, 35\n",
    "four_star_hp = str(table_data[25]).replace('<td style=\"width:25%;\">', '').replace('</td>', '').rstrip()\n",
    "four_star_atk = str(table_data[26]).replace('<td style=\"width:25%;\">', '').replace('</td>', '').rstrip()\n",
    "four_star_def = str(table_data[27]).replace('<td style=\"width:25%;\">', '').replace('</td>', '').rstrip()\n",
    "# max at 5* 37, 38, 39\n",
    "five_star_hp = str(table_data[29]).replace('<td style=\"width:25%;\">', '').replace('</td>', '').rstrip()\n",
    "five_star_atk = str(table_data[30]).replace('<td style=\"width:25%;\">', '').replace('</td>', '').rstrip()\n",
    "five_star_def = str(table_data[31]).replace('<td style=\"width:25%;\">', '').replace('</td>', '').rstrip()\n",
    "# SE\n",
    "se_hp = str(table_data[33]).replace('<td style=\"width:25%;\">', '').replace('</td>', '').rstrip()\n",
    "se_atk = str(table_data[34]).replace('<td style=\"width:25%;\">', '').replace('</td>', '').rstrip()\n",
    "se_def = str(table_data[35]).replace('<td style=\"width:25%;\">', '').replace('</td>', '').rstrip()\n",
    "\n",
    "print(initial_hp, initial_atk, initial_def)\n",
    "print(four_star_hp, four_star_atk, four_star_def)\n",
    "print(five_star_hp, five_star_atk, five_star_def)\n",
    "print(se_hp, se_atk, se_def)"
   ]
  },
  {
   "cell_type": "code",
   "execution_count": 57,
   "metadata": {},
   "outputs": [
    {
     "name": "stdout",
     "output_type": "stream",
     "text": [
      "['Accel', 'Blast', 'Blast', 'Blast', 'Charge']\n"
     ]
    }
   ],
   "source": [
    "disk_one = str(table_data[36])\n",
    "disk_two = str(table_data[37])\n",
    "disk_three = str(table_data[38])\n",
    "disk_four = str(table_data[39])\n",
    "disk_five = str(table_data[40])\n",
    "\n",
    "if (disk_one.find(\"accel\") != -1):\n",
    "    disk_one = \"Accel\"\n",
    "elif (disk_one.find(\"blast\") != -1):\n",
    "    disk_one = \"Blast\"\n",
    "else:\n",
    "    disk_one = \"Charge\"\n",
    "    \n",
    "if (disk_two.find(\"accel\") != -1):\n",
    "    disk_two = \"Accel\"\n",
    "elif (disk_two.find(\"blast\") != -1):\n",
    "    disk_two = \"Blast\"\n",
    "else:\n",
    "    disk_two = \"Charge\"\n",
    "\n",
    "if (disk_three.find(\"accel\") != -1):\n",
    "    disk_three = \"Accel\"\n",
    "elif (disk_three.find(\"blast\") != -1):\n",
    "    disk_three = \"Blast\"\n",
    "else:\n",
    "    disk_three = \"Charge\"\n",
    "    \n",
    "if (disk_four.find(\"accel\") != -1):\n",
    "    disk_four = \"Accel\"\n",
    "elif (disk_four.find(\"blast\") != -1):\n",
    "    disk_four = \"Blast\"\n",
    "else:\n",
    "    disk_four = \"Charge\"\n",
    "    \n",
    "if (disk_five.find(\"accel\") != -1):\n",
    "    disk_five = \"Accel\"\n",
    "elif (disk_five.find(\"blast\") != -1):\n",
    "    disk_five = \"Blast\"\n",
    "else:\n",
    "    disk_five = \"Charge\"\n",
    "    \n",
    "disks = [disk_one, disk_two, disk_three, disk_four, disk_five]\n",
    "print(disks)"
   ]
  },
  {
   "cell_type": "code",
   "execution_count": 58,
   "metadata": {},
   "outputs": [
    {
     "name": "stdout",
     "output_type": "stream",
     "text": [
      "['Accel', 'Blast', 'Blast', 'Blast', 'Charge']\n"
     ]
    }
   ],
   "source": [
    "disk_one = str(table_data[36])\n",
    "disk_two = str(table_data[37])\n",
    "disk_three = str(table_data[38])\n",
    "disk_four = str(table_data[39])\n",
    "disk_five = str(table_data[40])\n",
    "\n",
    "if (disk_one.find(\"accel\") != -1):\n",
    "    disk_one = \"Accel\"\n",
    "elif (disk_one.find(\"blast\") != -1):\n",
    "    disk_one = \"Blast\"\n",
    "else:\n",
    "    disk_one = \"Charge\"\n",
    "    \n",
    "if (disk_two.find(\"accel\") != -1):\n",
    "    disk_two = \"Accel\"\n",
    "elif (disk_two.find(\"blast\") != -1):\n",
    "    disk_two = \"Blast\"\n",
    "else:\n",
    "    disk_two = \"Charge\"\n",
    "\n",
    "if (disk_three.find(\"accel\") != -1):\n",
    "    disk_three = \"Accel\"\n",
    "elif (disk_three.find(\"blast\") != -1):\n",
    "    disk_three = \"Blast\"\n",
    "else:\n",
    "    disk_three = \"Charge\"\n",
    "    \n",
    "if (disk_four.find(\"accel\") != -1):\n",
    "    disk_four = \"Accel\"\n",
    "elif (disk_four.find(\"blast\") != -1):\n",
    "    disk_four = \"Blast\"\n",
    "else:\n",
    "    disk_four = \"Charge\"\n",
    "    \n",
    "if (disk_five.find(\"accel\") != -1):\n",
    "    disk_five = \"Accel\"\n",
    "elif (disk_five.find(\"blast\") != -1):\n",
    "    disk_five = \"Blast\"\n",
    "else:\n",
    "    disk_five = \"Charge\"\n",
    "    \n",
    "disks = [disk_one, disk_two, disk_three, disk_four, disk_five]\n",
    "print(disks)"
   ]
  },
  {
   "cell_type": "code",
   "execution_count": 59,
   "metadata": {},
   "outputs": [
    {
     "name": "stdout",
     "output_type": "stream",
     "text": [
      "Attribute Strengthened Damage All Enemies [IX] &amp; Attack UP (Self / 3 T) &amp; Blast Damage UP (All / 3 T)\n",
      "<th colspan=\"5\"><b>Magia:</b> <i>Kugatachi</i>\n",
      "</th>\n",
      "<th colspan=\"5\"><b>Doppel:</b> <i>Ophelia</i>\n",
      "</th>\n",
      "Connect: Just Can't Sit 'n' Watch\n",
      "Magia: Kugatachi\n",
      "Doppel: Ophelia\n"
     ]
    }
   ],
   "source": [
    "doppel_info = str(table_data[45])\n",
    "doppel_info = doppel_info.replace('<td style=\"width:100%;\">', '')\n",
    "doppel_info = doppel_info.replace('</td>', '')\n",
    "doppel_info = doppel_info.rstrip()\n",
    "print(doppel_info)\n",
    "\n",
    "table_head = soup.find_all('th')\n",
    "connect = str(table_head[3])\n",
    "magia = str(table_head[4])\n",
    "doppel = str(table_head[5])\n",
    "print(magia)\n",
    "print(doppel)\n",
    "\n",
    "connect = connect.strip('<th colspan=\"5\">')\n",
    "connect = connect.strip('b>')\n",
    "connect = connect.strip('<b>')\n",
    "connect = connect.replace('</b>', '')\n",
    "connect = connect.replace('<i>', '')\n",
    "connect = connect.replace('</i>', '')\n",
    "connect = connect.strip('</')\n",
    "connect = connect.rstrip()\n",
    "print(connect)\n",
    "\n",
    "magia = magia.strip('<th colspan=\"5\">')\n",
    "magia = magia.strip('b>')\n",
    "magia = magia.replace('</b>', '')\n",
    "magia = magia.replace('<i>', '')\n",
    "magia = magia.replace('</i>', '')\n",
    "magia = magia.strip('</')\n",
    "magia = magia.rstrip()\n",
    "print(magia)\n",
    "\n",
    "doppel = doppel.strip('<th colspan=\"5\">')\n",
    "doppel = doppel.strip('b>')\n",
    "doppel = doppel.replace('<b>', '')\n",
    "doppel = doppel.replace('</b>', '')\n",
    "doppel = doppel.replace('<i>', '')\n",
    "doppel = doppel.replace('</i>', '')\n",
    "doppel = doppel.strip('</')\n",
    "doppel = doppel.rstrip()\n",
    "print(doppel)"
   ]
  },
  {
   "cell_type": "code",
   "execution_count": 61,
   "metadata": {},
   "outputs": [
    {
     "name": "stdout",
     "output_type": "stream",
     "text": [
      "Age: 14 - 16 (estimated)\n",
      "Height: 156-158 cm\n",
      "Eye colour: Red\n",
      "Hair colour: Red\n",
      "Origins: Kazamino City\n",
      "Soul Gem: Red eye (chest)\n",
      "Weapon: Spear\n",
      "Wish: \"I wish that everyone would listen to what Father has to say.\"\n",
      "Ability: Illusions\n",
      "Witch form: Ophelia\n",
      "Japanese pronoun: <i>atashi</i><span style=\"font-weight: normal\"> (<span class=\"t_nihongo_kanji\" lang=\"ja\">あたし</span>)</span\n",
      "Known relatives: Father (Deceased) Mother (Deceased) Momo Sakura (Younger Sister Deceased)\n",
      "School: Unknown\n"
     ]
    }
   ],
   "source": [
    "Age = str(bullet_points[18]).strip(\"<li>\").strip(\"</li>\").strip(\"<b>\").replace(\"</b>\", \"\").replace(',', '')\n",
    "print(Age)\n",
    "Height = str(bullet_points[19]).strip(\"<li>\").strip(\"</li>\").strip(\"<b>\").replace(\"</b>\", \"\").replace(',', '').replace('</a', '').replace('<a class=\"internal\" href=\"//images.puella-magi.net/e/ec/PN_10.jpg?20111204064051\" title=\"PN 10.jpg\">', '')\n",
    "print(Height)\n",
    "EyeColor = str(bullet_points[20]).strip(\"<li>\").strip(\"</li>\").strip(\"<b>\").replace(\"</b>\", \"\").replace(',', '')\n",
    "print(EyeColor)\n",
    "HairColor = str(bullet_points[21]).strip(\"<li>\").strip(\"</li>\").strip(\"<b>\").replace(\"</b>\", \"\").replace(',', '')\n",
    "print(HairColor)\n",
    "Hometown = str(bullet_points[22]).strip(\"<li>\").strip(\"</li>\").strip(\"<b>\").replace(\"</b>\", \"\").replace(',', '')\n",
    "print(Hometown)\n",
    "SoulGem = str(bullet_points[23]).strip(\"<li>\").strip(\"</li>\").strip(\"<b>\").replace(\"</b>\", \"\").replace(',', '')\n",
    "print(SoulGem)\n",
    "Weapon = str(bullet_points[24]).strip(\"<li>\").strip(\"</li>\").strip(\"<b>\").replace(\"</b>\", \"\").replace('</a', '').replace('<a class=\"external text\" href=\"https://en.wikipedia.org/wiki/Crossbow\" rel=\"nofollow\">', '')\n",
    "print(Weapon)\n",
    "Wish = str(bullet_points[25]).strip(\"<li>\").strip(\"</li>\").strip(\"<b>\").replace(\"</b>\", \"\").replace(',', '')\n",
    "print(Wish)\n",
    "Ability = str(bullet_points[26]).strip(\"<li>\").strip(\"</li>\").strip(\"<b>\").replace(\"</b>\", \"\").replace(',', '')\n",
    "print(Ability)\n",
    "Witch = str(bullet_points[27]).strip(\"<li>\").strip(\"</li>\").strip(\"<b>\").replace(\"</b>\", \"\").replace(',', '').replace('</a', '').replace('<a href=\"/Ophelia\" title=\"Ophelia\">', '')\n",
    "print(Witch)\n",
    "Pronoun = str(bullet_points[28]).strip(\"<li>\").strip(\"</li>\").strip(\"<b>\").replace(\"</b>\", \"\").replace(',', '')\n",
    "print(Pronoun)\n",
    "Relatives = str(bullet_points[29]).strip(\"<li>\").strip(\"</li>\").strip(\"<b>\").replace(\"</b>\", \"\").replace(',', '').replace('</a>', '').replace('<a href=\"/Sakura_Family\" title=\"Sakura Family\">', '').replace('<a href=\"/Momo_Sakura\" title=\"Momo Sakura\">', '')\n",
    "print(Relatives)\n",
    "School = str(bullet_points[30]).strip(\"<li>\").strip(\"</li>\").strip(\"<b>\").replace(\"</b>\", \"\").replace(',', '')\n",
    "print(School)"
   ]
  },
  {
   "cell_type": "code",
   "execution_count": 63,
   "metadata": {},
   "outputs": [
    {
     "name": "stdout",
     "output_type": "stream",
     "text": [
      "{'Name': 'Kyoko Sakura', 'Age': 'Age: 14 - 16 (estimated)', 'EyeColor': 'Eye colour: Red', 'HairColor': 'Hair colour: Red', 'Hometown': 'Origins: Kazamino City', 'SoulGem': 'Soul Gem: Red eye (chest)', 'Weapon': 'Weapon: Spear', 'Wish': 'Wish: \"I wish that everyone would listen to what Father has to say.\"', 'Ability': 'Ability: Illusions', 'Witch': 'Witch form: Ophelia', 'Pronoun': 'Japanese pronoun: <i>atashi</i><span style=\"font-weight: normal\"> (<span class=\"t_nihongo_kanji\" lang=\"ja\">あたし</span>)</span', 'Relatives': 'Known relatives: Father (Deceased) Mother (Deceased) Momo Sakura (Younger Sister Deceased)', 'School': 'School: Unknown', 'Disks': ['Accel', 'Blast', 'Blast', 'Blast', 'Charge'], 'Stats': {'Initial': {'HP': '4981', 'ATK': '2114', 'DEF': '1603'}, 'Four_Star': {'HP': '17931', 'ATK': '7610', 'DEF': '5770'}, 'Five_Star': {'HP': '22580', 'ATK': '9592', 'DEF': '7268'}, 'SE': {'HP': '29278', 'ATK': '11880', 'DEF': '9266'}}, 'Connect': {'Name': \"Connect: Just Can't Sit 'n' Watch\", 'Four_Star': '★4: Damage UP [VII] &amp; Guaranteed Bind Edge &amp; Guaranteed Burn Edge', 'Five_Star': '★5: Damage UP [IX] &amp; Guaranteed Bind Edge &amp; Guaranteed Burn Edge'}, 'Magia': {'Name': 'Magia: Kugatachi', 'Four_Star': '★4: Damage All Enemies [VI] &amp; Bind (All / 1 T) &amp; Defense DOWN (Self / 1 T) <i>&amp; Skill Quicken (All / 1 T)', 'Five_Star': '★5: Damage All Enemies [VIII] &amp; Bind (All / 1 T) &amp; Burn (All / 3 T) &amp; Defense DOWN (Self / 1 T) <i>&amp; Skill Quicken (All / 1 T)'}, 'Doppel': {'Name': 'Doppel: Ophelia', 'Ability': 'Attribute Strengthened Damage All Enemies [IX] &amp; Attack UP (Self / 3 T) &amp; Blast Damage UP (All / 3 T)'}}\n"
     ]
    }
   ],
   "source": [
    "Kyoko = {\n",
    "    \"Name\": \"Kyoko Sakura\",\n",
    "    \"Age\": Age,\n",
    "    \"EyeColor\": EyeColor,\n",
    "    \"HairColor\": HairColor,\n",
    "    \"Hometown\": Hometown,\n",
    "    \"SoulGem\": SoulGem,\n",
    "    \"Weapon\": Weapon,\n",
    "    \"Wish\": Wish,\n",
    "    \"Ability\": Ability,\n",
    "    \"Witch\": Witch,\n",
    "    \"Pronoun\": Pronoun,\n",
    "    \"Relatives\": Relatives,\n",
    "    \"School\": School,\n",
    "    \"Disks\": disks,\n",
    "    \"Stats\": {\n",
    "        \"Initial\": {\n",
    "            \"HP\": initial_hp,\n",
    "            \"ATK\": initial_atk,\n",
    "            \"DEF\": initial_def\n",
    "        },\n",
    "        \"Four_Star\": {\n",
    "            \"HP\": four_star_hp,\n",
    "            \"ATK\": four_star_atk,\n",
    "            \"DEF\": four_star_def\n",
    "        },\n",
    "        \"Five_Star\": {\n",
    "            \"HP\": five_star_hp,\n",
    "            \"ATK\": five_star_atk,\n",
    "            \"DEF\": five_star_def        \n",
    "        },\n",
    "        \"SE\": {\n",
    "            \"HP\": se_hp,\n",
    "            \"ATK\": se_atk,\n",
    "            \"DEF\":  se_def          \n",
    "        }\n",
    "    },\n",
    "    \"Connect\": {\n",
    "        \"Name\": connect,\n",
    "        \"Four_Star\": connect_four_star,\n",
    "        \"Five_Star\": connect_five_star\n",
    "    },\n",
    "    \"Magia\": {\n",
    "        \"Name\": magia,\n",
    "        \"Four_Star\": magia_four_star,\n",
    "        \"Five_Star\": magia_five_star\n",
    "    },\n",
    "    \"Doppel\": {\n",
    "        \"Name\": doppel,\n",
    "        \"Ability\": doppel_info,\n",
    "    }\n",
    "}\n",
    "\n",
    "print(Kyoko)"
   ]
  },
  {
   "cell_type": "code",
   "execution_count": 64,
   "metadata": {},
   "outputs": [
    {
     "name": "stdout",
     "output_type": "stream",
     "text": [
      "{\"Name\": \"Kyoko Sakura\", \"Age\": \"Age: 14 - 16 (estimated)\", \"EyeColor\": \"Eye colour: Red\", \"HairColor\": \"Hair colour: Red\", \"Hometown\": \"Origins: Kazamino City\", \"SoulGem\": \"Soul Gem: Red eye (chest)\", \"Weapon\": \"Weapon: Spear\", \"Wish\": \"Wish: \\\"I wish that everyone would listen to what Father has to say.\\\"\", \"Ability\": \"Ability: Illusions\", \"Witch\": \"Witch form: Ophelia\", \"Pronoun\": \"Japanese pronoun: <i>atashi</i><span style=\\\"font-weight: normal\\\"> (<span class=\\\"t_nihongo_kanji\\\" lang=\\\"ja\\\">\\u3042\\u305f\\u3057</span>)</span\", \"Relatives\": \"Known relatives: Father (Deceased) Mother (Deceased) Momo Sakura (Younger Sister Deceased)\", \"School\": \"School: Unknown\", \"Disks\": [\"Accel\", \"Blast\", \"Blast\", \"Blast\", \"Charge\"], \"Stats\": {\"Initial\": {\"HP\": \"4981\", \"ATK\": \"2114\", \"DEF\": \"1603\"}, \"Four_Star\": {\"HP\": \"17931\", \"ATK\": \"7610\", \"DEF\": \"5770\"}, \"Five_Star\": {\"HP\": \"22580\", \"ATK\": \"9592\", \"DEF\": \"7268\"}, \"SE\": {\"HP\": \"29278\", \"ATK\": \"11880\", \"DEF\": \"9266\"}}, \"Connect\": {\"Name\": \"Connect: Just Can't Sit 'n' Watch\", \"Four_Star\": \"\\u26054: Damage UP [VII] &amp; Guaranteed Bind Edge &amp; Guaranteed Burn Edge\", \"Five_Star\": \"\\u26055: Damage UP [IX] &amp; Guaranteed Bind Edge &amp; Guaranteed Burn Edge\"}, \"Magia\": {\"Name\": \"Magia: Kugatachi\", \"Four_Star\": \"\\u26054: Damage All Enemies [VI] &amp; Bind (All / 1 T) &amp; Defense DOWN (Self / 1 T) <i>&amp; Skill Quicken (All / 1 T)\", \"Five_Star\": \"\\u26055: Damage All Enemies [VIII] &amp; Bind (All / 1 T) &amp; Burn (All / 3 T) &amp; Defense DOWN (Self / 1 T) <i>&amp; Skill Quicken (All / 1 T)\"}, \"Doppel\": {\"Name\": \"Doppel: Ophelia\", \"Ability\": \"Attribute Strengthened Damage All Enemies [IX] &amp; Attack UP (Self / 3 T) &amp; Blast Damage UP (All / 3 T)\"}}\n"
     ]
    }
   ],
   "source": [
    "girl_json = json.dumps(Kyoko)\n",
    "print(girl_json)\n",
    "\n",
    "with open('kyoko.json', 'w') as json_file:\n",
    "  json.dump(girl_json, json_file)"
   ]
  },
  {
   "cell_type": "code",
   "execution_count": null,
   "metadata": {},
   "outputs": [],
   "source": []
  }
 ],
 "metadata": {
  "kernelspec": {
   "display_name": "Python 3",
   "language": "python",
   "name": "python3"
  },
  "language_info": {
   "codemirror_mode": {
    "name": "ipython",
    "version": 3
   },
   "file_extension": ".py",
   "mimetype": "text/x-python",
   "name": "python",
   "nbconvert_exporter": "python",
   "pygments_lexer": "ipython3",
   "version": "3.7.3"
  }
 },
 "nbformat": 4,
 "nbformat_minor": 2
}
