{
 "cells": [
  {
   "cell_type": "code",
   "execution_count": 12,
   "metadata": {},
   "outputs": [
    {
     "name": "stdout",
     "output_type": "stream",
     "text": [
      "<li><b>Age:</b> 14</li>\n",
      "<li><b>School:</b> Sakae General School, Eighth Grade</li>\n",
      "The Doppel of larceny. Its form is a mortsafe.\n",
      "The master of this Doppel is cowardly by nature, which is why she gave birth to this stubborn Doppel. It fears losing anything and is fixated on obtaining more. It shares it's proclivity for thievery with its master, and will pilfer anything it can get its hands on, even if those items belong to an ally. This Doppel is extremely greedy and refuses to give up on anything once it has it in its possession.\n"
     ]
    }
   ],
   "source": [
    "# Dependencies\n",
    "import os\n",
    "from bs4 import BeautifulSoup as bs\n",
    "import json\n",
    "import requests\n",
    "\n",
    "query_url = \"https://wiki.puella-magi.net/Karin_Misono\"\n",
    "response = requests.get(query_url)\n",
    "soup = bs(response.text, 'html.parser')\n",
    "\n",
    "bullet_points = soup.find_all('li')\n",
    "# 19- 30 General Info\n",
    "print(bullet_points[19])\n",
    "print(bullet_points[30])\n",
    "\n",
    "para = soup.find_all('p')\n",
    "para = str(para[3])\n",
    "para = para.replace('<sup class=\"reference\" id=\"cite_ref-2\"><a href=\"#cite_note-2\">[1]</a></sup>', '')\n",
    "para = para.replace('<a class=\"external text\" href=\"https://en.wikipedia.org/wiki/Mortsafe\" rel=\"nofollow\">', '')\n",
    "para = para.replace('</a>', '')\n",
    "para = para.strip(\"<p>\")\n",
    "para = para.strip(\"</p>\")\n",
    "para = para.rstrip()\n",
    "print(para)"
   ]
  },
  {
   "cell_type": "code",
   "execution_count": 3,
   "metadata": {},
   "outputs": [
    {
     "name": "stdout",
     "output_type": "stream",
     "text": [
      "22602 6251 5993\n",
      "22602 6251 5993\n",
      "28476 7874 7543\n",
      "34951 9811 10374\n"
     ]
    }
   ],
   "source": [
    "table_data = soup.find_all('td')\n",
    "\n",
    "# table_data[8] through\n",
    "# Headers no1 8, 9,10, 11\n",
    "# Data 12, 13, 14, 15 - 15 is a Link Picture\n",
    "# Headers no2 16, 17, 18, 19\n",
    "# initial 20, 21, 22, 23\n",
    "initial_hp = str(table_data[21]).replace('<td style=\"width:25%;\">', '').replace('</td>', '').rstrip()\n",
    "initial_atk = str(table_data[22]).replace('<td style=\"width:25%;\">', '').replace('</td>', '').rstrip()\n",
    "initial_def = str(table_data[23]).replace('<td style=\"width:25%;\">', '').replace('</td>', '').rstrip()\n",
    "# max at 4* 33, 34, 35\n",
    "four_star_hp = str(table_data[25]).replace('<td style=\"width:25%;\">', '').replace('</td>', '').rstrip()\n",
    "four_star_atk = str(table_data[26]).replace('<td style=\"width:25%;\">', '').replace('</td>', '').rstrip()\n",
    "four_star_def = str(table_data[27]).replace('<td style=\"width:25%;\">', '').replace('</td>', '').rstrip()\n",
    "# max at 5* 37, 38, 39\n",
    "five_star_hp = str(table_data[29]).replace('<td style=\"width:25%;\">', '').replace('</td>', '').rstrip()\n",
    "five_star_atk = str(table_data[30]).replace('<td style=\"width:25%;\">', '').replace('</td>', '').rstrip()\n",
    "five_star_def = str(table_data[31]).replace('<td style=\"width:25%;\">', '').replace('</td>', '').rstrip()\n",
    "# SE\n",
    "se_hp = str(table_data[33]).replace('<td style=\"width:25%;\">', '').replace('</td>', '').rstrip()\n",
    "se_atk = str(table_data[34]).replace('<td style=\"width:25%;\">', '').replace('</td>', '').rstrip()\n",
    "se_def = str(table_data[35]).replace('<td style=\"width:25%;\">', '').replace('</td>', '').rstrip()\n",
    "\n",
    "print(initial_hp, initial_atk, initial_def)\n",
    "print(four_star_hp, four_star_atk, four_star_def)\n",
    "print(five_star_hp, five_star_atk, five_star_def)\n",
    "print(se_hp, se_atk, se_def)"
   ]
  },
  {
   "cell_type": "code",
   "execution_count": 4,
   "metadata": {},
   "outputs": [
    {
     "name": "stdout",
     "output_type": "stream",
     "text": [
      "['Accel', 'Accel', 'Accel', 'Blast', 'Charge']\n"
     ]
    }
   ],
   "source": [
    "disk_one = str(table_data[36])\n",
    "disk_two = str(table_data[37])\n",
    "disk_three = str(table_data[38])\n",
    "disk_four = str(table_data[39])\n",
    "disk_five = str(table_data[40])\n",
    "\n",
    "if (disk_one.find(\"accel\") != -1):\n",
    "    disk_one = \"Accel\"\n",
    "elif (disk_one.find(\"blast\") != -1):\n",
    "    disk_one = \"Blast\"\n",
    "else:\n",
    "    disk_one = \"Charge\"\n",
    "    \n",
    "if (disk_two.find(\"accel\") != -1):\n",
    "    disk_two = \"Accel\"\n",
    "elif (disk_two.find(\"blast\") != -1):\n",
    "    disk_two = \"Blast\"\n",
    "else:\n",
    "    disk_two = \"Charge\"\n",
    "\n",
    "if (disk_three.find(\"accel\") != -1):\n",
    "    disk_three = \"Accel\"\n",
    "elif (disk_three.find(\"blast\") != -1):\n",
    "    disk_three = \"Blast\"\n",
    "else:\n",
    "    disk_three = \"Charge\"\n",
    "    \n",
    "if (disk_four.find(\"accel\") != -1):\n",
    "    disk_four = \"Accel\"\n",
    "elif (disk_four.find(\"blast\") != -1):\n",
    "    disk_four = \"Blast\"\n",
    "else:\n",
    "    disk_four = \"Charge\"\n",
    "    \n",
    "if (disk_five.find(\"accel\") != -1):\n",
    "    disk_five = \"Accel\"\n",
    "elif (disk_five.find(\"blast\") != -1):\n",
    "    disk_five = \"Blast\"\n",
    "else:\n",
    "    disk_five = \"Charge\"\n",
    "    \n",
    "disks = [disk_one, disk_two, disk_three, disk_four, disk_five]\n",
    "print(disks)"
   ]
  },
  {
   "cell_type": "code",
   "execution_count": 5,
   "metadata": {},
   "outputs": [
    {
     "name": "stdout",
     "output_type": "stream",
     "text": [
      "★4: Attack UP [VII] &amp; Guaranteed Dazzle Edge &amp; Chance to Magia Seal\n",
      "★5: Attack UP [IX] &amp; Guaranteed Dazzle Edge &amp; Chance to Magia Seal\n",
      "★4: Damage One Enemy [V] &amp; Defense Down (3 T) &amp; Accele MP Gain Up (All / 3 T)\n",
      "★5: Damage One Enemy [VII] &amp; Defense Down (3 T) &amp; Accele MP Gain Up (All / 3 T) &amp; Damage UP (All / 3 T)\n"
     ]
    }
   ],
   "source": [
    "# table_data 49 through 52 are Connect Info\n",
    "connect_four_star = str(table_data[41])\n",
    "connect_five_star = str(table_data[42])\n",
    "\n",
    "connect_four_star = connect_four_star.replace('</td>', '')\n",
    "connect_four_star = connect_four_star.replace('<td style=\"width:100%;\">', '')\n",
    "connect_four_star = connect_four_star.rstrip()\n",
    "print(connect_four_star)\n",
    "\n",
    "connect_five_star = connect_five_star.replace('</td>', '')\n",
    "connect_five_star = connect_five_star.replace('<td style=\"width:100%;\">', '')\n",
    "connect_five_star = connect_five_star.rstrip()\n",
    "print(connect_five_star)\n",
    "\n",
    "# table_data 53 through 56 are Magia Info\n",
    "\n",
    "magia_four_star = str(table_data[43])\n",
    "magia_five_star = str(table_data[44])\n",
    "\n",
    "magia_four_star = magia_four_star.replace('</td>', '')\n",
    "magia_four_star = magia_four_star.replace('<td style=\"width:100%;\">', '')\n",
    "magia_four_star = magia_four_star.rstrip()\n",
    "print(magia_four_star)\n",
    "\n",
    "magia_five_star = magia_five_star.replace('</td>', '')\n",
    "magia_five_star = magia_five_star.replace('<td style=\"width:100%;\">', '')\n",
    "magia_five_star = magia_five_star.rstrip()\n",
    "print(magia_five_star)"
   ]
  },
  {
   "cell_type": "code",
   "execution_count": 7,
   "metadata": {},
   "outputs": [
    {
     "name": "stdout",
     "output_type": "stream",
     "text": [
      "Damage One Enemy [IX] &amp; Defense Down (3 T) &amp; Accele MP Gain UP (All / 3 T) &amp; Damage UP (All / 3 T)\n",
      "<th colspan=\"5\"><b>Magia:</b> <i>Candy Death Squall</i>\n",
      "</th>\n",
      "<th colspan=\"5\"><b>Doppel: <i>McDougal</i></b>\n",
      "</th>\n",
      "Connect: I'll help you only for tonight!\n",
      "Magia: Candy Death Squall\n",
      "Doppel: McDougal\n"
     ]
    }
   ],
   "source": [
    "doppel_info = str(table_data[45])\n",
    "doppel_info = doppel_info.replace('<td style=\"width:100%;\">', '')\n",
    "doppel_info = doppel_info.replace('</td>', '')\n",
    "doppel_info = doppel_info.rstrip()\n",
    "print(doppel_info)\n",
    "\n",
    "table_head = soup.find_all('th')\n",
    "connect = str(table_head[3])\n",
    "magia = str(table_head[4])\n",
    "doppel = str(table_head[5])\n",
    "print(magia)\n",
    "print(doppel)\n",
    "\n",
    "connect = connect.strip('<th colspan=\"5\">')\n",
    "connect = connect.strip('b>')\n",
    "connect = connect.strip('<b>')\n",
    "connect = connect.replace('</b>', '')\n",
    "connect = connect.replace('<i>', '')\n",
    "connect = connect.replace('</i>', '')\n",
    "connect = connect.replace('<sup class=\"reference\" id=\"cite_ref-1\"><a href=\"#cite_note-1\">[1]</a></sup>', '')\n",
    "connect = connect.strip('</')\n",
    "connect = connect.rstrip()\n",
    "print(connect)\n",
    "\n",
    "magia = magia.strip('<th colspan=\"5\">')\n",
    "magia = magia.strip('b>')\n",
    "magia = magia.replace('</b>', '')\n",
    "magia = magia.replace('<i>', '')\n",
    "magia = magia.replace('</i>', '')\n",
    "magia = magia.strip('</')\n",
    "magia = magia.rstrip()\n",
    "print(magia)\n",
    "\n",
    "doppel = doppel.strip('<th colspan=\"5\">')\n",
    "doppel = doppel.strip('b>')\n",
    "doppel = doppel.replace('<b>', '')\n",
    "doppel = doppel.replace('</b>', '')\n",
    "doppel = doppel.replace('<i>', '')\n",
    "doppel = doppel.replace('</i>', '')\n",
    "doppel = doppel.strip('</')\n",
    "doppel = doppel.rstrip()\n",
    "print(doppel)"
   ]
  },
  {
   "cell_type": "code",
   "execution_count": 8,
   "metadata": {},
   "outputs": [
    {
     "name": "stdout",
     "output_type": "stream",
     "text": [
      "Age: 14\n",
      "Height: 154cm\n",
      "Eye colour: Purple\n",
      "Hair colour: Purple\n",
      "Origins: Sakae Ward\n",
      "Soul Gem: Yellow stars (hat)\n",
      "Weapon: <a class=\"external text\" href=\"https://en.wikipedia.org/wiki/Scythe\" rel=\"nofollow\">Scythe\n",
      "Wish: \"Cure Grandmother!\" (in regards to her grandmother's kleptomania)\n",
      "Ability: Stea\n",
      "Witch form: McDouga\n",
      "Japanese pronoun: <i>watashi</i><span style=\"font-weight: normal\"> (<span class=\"t_nihongo_kanji\" lang=\"ja\">わたし</span>)</span\n",
      "School: Sakae General School Eighth Grade\n"
     ]
    }
   ],
   "source": [
    "Age = str(bullet_points[19]).strip(\"<li>\").strip(\"</li>\").strip(\"<b>\").replace(\"</b>\", \"\").replace(',', '')\n",
    "print(Age)\n",
    "Height = str(bullet_points[20]).strip(\"<li>\").strip(\"</li>\").strip(\"<b>\").replace(\"</b>\", \"\").replace(',', '')\n",
    "print(Height)\n",
    "EyeColor = str(bullet_points[21]).strip(\"<li>\").strip(\"</li>\").strip(\"<b>\").replace(\"</b>\", \"\").replace(',', '')\n",
    "print(EyeColor)\n",
    "HairColor = str(bullet_points[22]).strip(\"<li>\").strip(\"</li>\").strip(\"<b>\").replace(\"</b>\", \"\").replace(',', '')\n",
    "print(HairColor)\n",
    "Hometown = str(bullet_points[23]).strip(\"<li>\").strip(\"</li>\").strip(\"<b>\").replace(\"</b>\", \"\").replace(',', '')\n",
    "print(Hometown)\n",
    "SoulGem = str(bullet_points[24]).strip(\"<li>\").strip(\"</li>\").strip(\"<b>\").replace(\"</b>\", \"\").replace(',', '')\n",
    "print(SoulGem)\n",
    "Weapon = str(bullet_points[25]).strip(\"<li>\").strip(\"</li>\").strip(\"<b>\").replace(\"</b>\", \"\").replace('</a', '').replace('<a class=\"external text\" href=\"https://en.wikipedia.org/wiki/Crossbow\" rel=\"nofollow\">', '')\n",
    "print(Weapon)\n",
    "Wish = str(bullet_points[26]).strip(\"<li>\").strip(\"</li>\").strip(\"<b>\").replace(\"</b>\", \"\").replace(',', '')\n",
    "print(Wish)\n",
    "Ability = str(bullet_points[27]).strip(\"<li>\").strip(\"</li>\").strip(\"<b>\").replace(\"</b>\", \"\").replace(',', '')\n",
    "print(Ability)\n",
    "Witch = str(bullet_points[28]).strip(\"<li>\").strip(\"</li>\").strip(\"<b>\").replace(\"</b>\", \"\").replace(',', '')\n",
    "print(Witch)\n",
    "Pronoun = str(bullet_points[29]).strip(\"<li>\").strip(\"</li>\").strip(\"<b>\").replace(\"</b>\", \"\").replace(',', '')\n",
    "print(Pronoun)\n",
    "School = str(bullet_points[30]).strip(\"<li>\").strip(\"</li>\").strip(\"<b>\").replace(\"</b>\", \"\").replace(',', '')\n",
    "print(School)"
   ]
  },
  {
   "cell_type": "code",
   "execution_count": 13,
   "metadata": {},
   "outputs": [
    {
     "name": "stdout",
     "output_type": "stream",
     "text": [
      "{'Name': 'Karin Misono', 'Age': 'Age: 14', 'EyeColor': 'Eye colour: Purple', 'HairColor': 'Hair colour: Purple', 'Hometown': 'Origins: Sakae Ward', 'SoulGem': 'Soul Gem: Yellow stars (hat)', 'Weapon': 'Weapon: <a class=\"external text\" href=\"https://en.wikipedia.org/wiki/Scythe\" rel=\"nofollow\">Scythe', 'Wish': 'Wish: \"Cure Grandmother!\" (in regards to her grandmother\\'s kleptomania)', 'Ability': 'Ability: Stea', 'Witch': 'Witch form: McDouga', 'Pronoun': 'Japanese pronoun: <i>watashi</i><span style=\"font-weight: normal\"> (<span class=\"t_nihongo_kanji\" lang=\"ja\">わたし</span>)</span', 'School': 'School: Sakae General School Eighth Grade', 'Disks': ['Accel', 'Accel', 'Accel', 'Blast', 'Charge'], 'Stats': {'Initial': {'HP': '22602', 'ATK': '6251', 'DEF': '5993'}, 'Four_Star': {'HP': '22602', 'ATK': '6251', 'DEF': '5993'}, 'Five_Star': {'HP': '28476', 'ATK': '7874', 'DEF': '7543'}, 'SE': {'HP': '34951', 'ATK': '9811', 'DEF': '10374'}}, 'Connect': {'Name': \"Connect: I'll help you only for tonight!\", 'Four_Star': '★4: Attack UP [VII] &amp; Guaranteed Dazzle Edge &amp; Chance to Magia Seal', 'Five_Star': '★5: Attack UP [IX] &amp; Guaranteed Dazzle Edge &amp; Chance to Magia Seal'}, 'Magia': {'Name': 'Magia: Candy Death Squall', 'Four_Star': '★4: Damage One Enemy [V] &amp; Defense Down (3 T) &amp; Accele MP Gain Up (All / 3 T)', 'Five_Star': '★5: Damage One Enemy [VII] &amp; Defense Down (3 T) &amp; Accele MP Gain Up (All / 3 T) &amp; Damage UP (All / 3 T)'}, 'Doppel': {'Name': 'Doppel: McDougal', 'Desc': \"The Doppel of larceny. Its form is a mortsafe.\\nThe master of this Doppel is cowardly by nature, which is why she gave birth to this stubborn Doppel. It fears losing anything and is fixated on obtaining more. It shares it's proclivity for thievery with its master, and will pilfer anything it can get its hands on, even if those items belong to an ally. This Doppel is extremely greedy and refuses to give up on anything once it has it in its possession.\", 'Ability': 'Damage One Enemy [IX] &amp; Defense Down (3 T) &amp; Accele MP Gain UP (All / 3 T) &amp; Damage UP (All / 3 T)'}}\n"
     ]
    }
   ],
   "source": [
    "Karin = {\n",
    "    \"Name\": \"Karin Misono\",\n",
    "    \"Age\": Age,\n",
    "    \"EyeColor\": EyeColor,\n",
    "    \"HairColor\": HairColor,\n",
    "    \"Hometown\": Hometown,\n",
    "    \"SoulGem\": SoulGem,\n",
    "    \"Weapon\": Weapon,\n",
    "    \"Wish\": Wish,\n",
    "    \"Ability\": Ability,\n",
    "    \"Witch\": Witch,\n",
    "    \"Pronoun\": Pronoun,\n",
    "    \"School\": School,\n",
    "    \"Disks\": disks,\n",
    "    \"Stats\": {\n",
    "        \"Initial\": {\n",
    "            \"HP\": initial_hp,\n",
    "            \"ATK\": initial_atk,\n",
    "            \"DEF\": initial_def\n",
    "        },\n",
    "        \"Four_Star\": {\n",
    "            \"HP\": four_star_hp,\n",
    "            \"ATK\": four_star_atk,\n",
    "            \"DEF\": four_star_def\n",
    "        },\n",
    "        \"Five_Star\": {\n",
    "            \"HP\": five_star_hp,\n",
    "            \"ATK\": five_star_atk,\n",
    "            \"DEF\": five_star_def        \n",
    "        },\n",
    "        \"SE\": {\n",
    "            \"HP\": se_hp,\n",
    "            \"ATK\": se_atk,\n",
    "            \"DEF\":  se_def          \n",
    "        }\n",
    "    },\n",
    "    \"Connect\": {\n",
    "        \"Name\": connect,\n",
    "        \"Four_Star\": connect_four_star,\n",
    "        \"Five_Star\": connect_five_star\n",
    "    },\n",
    "    \"Magia\": {\n",
    "        \"Name\": magia,\n",
    "        \"Four_Star\": magia_four_star,\n",
    "        \"Five_Star\": magia_five_star\n",
    "    },\n",
    "    \"Doppel\": {\n",
    "        \"Name\": doppel,\n",
    "        \"Desc\": para,\n",
    "        \"Ability\": doppel_info,\n",
    "    }\n",
    "}\n",
    "\n",
    "print(Karin)"
   ]
  },
  {
   "cell_type": "code",
   "execution_count": 14,
   "metadata": {},
   "outputs": [
    {
     "name": "stdout",
     "output_type": "stream",
     "text": [
      "{\"Name\": \"Karin Misono\", \"Age\": \"Age: 14\", \"EyeColor\": \"Eye colour: Purple\", \"HairColor\": \"Hair colour: Purple\", \"Hometown\": \"Origins: Sakae Ward\", \"SoulGem\": \"Soul Gem: Yellow stars (hat)\", \"Weapon\": \"Weapon: <a class=\\\"external text\\\" href=\\\"https://en.wikipedia.org/wiki/Scythe\\\" rel=\\\"nofollow\\\">Scythe\", \"Wish\": \"Wish: \\\"Cure Grandmother!\\\" (in regards to her grandmother's kleptomania)\", \"Ability\": \"Ability: Stea\", \"Witch\": \"Witch form: McDouga\", \"Pronoun\": \"Japanese pronoun: <i>watashi</i><span style=\\\"font-weight: normal\\\"> (<span class=\\\"t_nihongo_kanji\\\" lang=\\\"ja\\\">\\u308f\\u305f\\u3057</span>)</span\", \"School\": \"School: Sakae General School Eighth Grade\", \"Disks\": [\"Accel\", \"Accel\", \"Accel\", \"Blast\", \"Charge\"], \"Stats\": {\"Initial\": {\"HP\": \"22602\", \"ATK\": \"6251\", \"DEF\": \"5993\"}, \"Four_Star\": {\"HP\": \"22602\", \"ATK\": \"6251\", \"DEF\": \"5993\"}, \"Five_Star\": {\"HP\": \"28476\", \"ATK\": \"7874\", \"DEF\": \"7543\"}, \"SE\": {\"HP\": \"34951\", \"ATK\": \"9811\", \"DEF\": \"10374\"}}, \"Connect\": {\"Name\": \"Connect: I'll help you only for tonight!\", \"Four_Star\": \"\\u26054: Attack UP [VII] &amp; Guaranteed Dazzle Edge &amp; Chance to Magia Seal\", \"Five_Star\": \"\\u26055: Attack UP [IX] &amp; Guaranteed Dazzle Edge &amp; Chance to Magia Seal\"}, \"Magia\": {\"Name\": \"Magia: Candy Death Squall\", \"Four_Star\": \"\\u26054: Damage One Enemy [V] &amp; Defense Down (3 T) &amp; Accele MP Gain Up (All / 3 T)\", \"Five_Star\": \"\\u26055: Damage One Enemy [VII] &amp; Defense Down (3 T) &amp; Accele MP Gain Up (All / 3 T) &amp; Damage UP (All / 3 T)\"}, \"Doppel\": {\"Name\": \"Doppel: McDougal\", \"Desc\": \"The Doppel of larceny. Its form is a mortsafe.\\nThe master of this Doppel is cowardly by nature, which is why she gave birth to this stubborn Doppel. It fears losing anything and is fixated on obtaining more. It shares it's proclivity for thievery with its master, and will pilfer anything it can get its hands on, even if those items belong to an ally. This Doppel is extremely greedy and refuses to give up on anything once it has it in its possession.\", \"Ability\": \"Damage One Enemy [IX] &amp; Defense Down (3 T) &amp; Accele MP Gain UP (All / 3 T) &amp; Damage UP (All / 3 T)\"}}\n"
     ]
    }
   ],
   "source": [
    "girl_json = json.dumps(Karin)\n",
    "print(girl_json)\n",
    "\n",
    "with open('karin.json', 'w') as json_file:\n",
    "  json.dump(girl_json, json_file)"
   ]
  },
  {
   "cell_type": "code",
   "execution_count": 16,
   "metadata": {},
   "outputs": [
    {
     "name": "stdout",
     "output_type": "stream",
     "text": [
      "<li><b>Age:</b> 18</li>\n",
      "<li><b>School:</b> Daito Academy, 12th grade</li>\n",
      "The Doppel of demolition. Its form is a hearth lion.\n",
      "The master of this emotion is coolheaded, but her Doppel is burning with endless rage. Its form is a rampaging lion that rends all around it to pieces with its gnashing teeth. It refuses to forgive the smallest of injustices and demolishes anything it deems irrational. Strictness incarnate, it may target others simply for living in Kamihama, so its master must take care when summoning it, lest it hurt her allies. If she continues to use this Doppel, she may become similarly unforgiving. It may be uncontrollable, but its master half agrees with its judgement.\n"
     ]
    }
   ],
   "source": [
    "# Dependencies\n",
    "import os\n",
    "from bs4 import BeautifulSoup as bs\n",
    "import json\n",
    "import requests\n",
    "\n",
    "query_url = \"https://wiki.puella-magi.net/Kanagi_Izumi\"\n",
    "response = requests.get(query_url)\n",
    "soup = bs(response.text, 'html.parser')\n",
    "\n",
    "bullet_points = soup.find_all('li')\n",
    "# 19- 30 General Info\n",
    "print(bullet_points[21])\n",
    "print(bullet_points[33])\n",
    "\n",
    "para = soup.find_all('p')\n",
    "para = str(para[4])\n",
    "para = para.strip(\"<p>\")\n",
    "para = para.strip(\"</p>\")\n",
    "para = para.rstrip()\n",
    "print(para)"
   ]
  },
  {
   "cell_type": "code",
   "execution_count": 17,
   "metadata": {},
   "outputs": [
    {
     "name": "stdout",
     "output_type": "stream",
     "text": [
      "4754 2106 1616\n",
      "16990 7691 5859\n",
      "21406 9695 7386\n",
      "27739 12331 9632\n"
     ]
    }
   ],
   "source": [
    "table_data = soup.find_all('td')\n",
    "\n",
    "# table_data[8] through\n",
    "# Headers no1 8, 9,10, 11\n",
    "# Data 12, 13, 14, 15 - 15 is a Link Picture\n",
    "# Headers no2 16, 17, 18, 19\n",
    "# initial 20, 21, 22, 23\n",
    "initial_hp = str(table_data[21]).replace('<td style=\"width:25%;\">', '').replace('</td>', '').rstrip()\n",
    "initial_atk = str(table_data[22]).replace('<td style=\"width:25%;\">', '').replace('</td>', '').rstrip()\n",
    "initial_def = str(table_data[23]).replace('<td style=\"width:25%;\">', '').replace('</td>', '').rstrip()\n",
    "# max at 4* 33, 34, 35\n",
    "four_star_hp = str(table_data[25]).replace('<td style=\"width:25%;\">', '').replace('</td>', '').rstrip()\n",
    "four_star_atk = str(table_data[26]).replace('<td style=\"width:25%;\">', '').replace('</td>', '').rstrip()\n",
    "four_star_def = str(table_data[27]).replace('<td style=\"width:25%;\">', '').replace('</td>', '').rstrip()\n",
    "# max at 5* 37, 38, 39\n",
    "five_star_hp = str(table_data[29]).replace('<td style=\"width:25%;\">', '').replace('</td>', '').rstrip()\n",
    "five_star_atk = str(table_data[30]).replace('<td style=\"width:25%;\">', '').replace('</td>', '').rstrip()\n",
    "five_star_def = str(table_data[31]).replace('<td style=\"width:25%;\">', '').replace('</td>', '').rstrip()\n",
    "# SE\n",
    "se_hp = str(table_data[33]).replace('<td style=\"width:25%;\">', '').replace('</td>', '').rstrip()\n",
    "se_atk = str(table_data[34]).replace('<td style=\"width:25%;\">', '').replace('</td>', '').rstrip()\n",
    "se_def = str(table_data[35]).replace('<td style=\"width:25%;\">', '').replace('</td>', '').rstrip()\n",
    "\n",
    "print(initial_hp, initial_atk, initial_def)\n",
    "print(four_star_hp, four_star_atk, four_star_def)\n",
    "print(five_star_hp, five_star_atk, five_star_def)\n",
    "print(se_hp, se_atk, se_def)"
   ]
  },
  {
   "cell_type": "code",
   "execution_count": 18,
   "metadata": {},
   "outputs": [
    {
     "name": "stdout",
     "output_type": "stream",
     "text": [
      "['Accel', 'Accel', 'Blast', 'Blast', 'Charge']\n"
     ]
    }
   ],
   "source": [
    "disk_one = str(table_data[36])\n",
    "disk_two = str(table_data[37])\n",
    "disk_three = str(table_data[38])\n",
    "disk_four = str(table_data[39])\n",
    "disk_five = str(table_data[40])\n",
    "\n",
    "if (disk_one.find(\"accel\") != -1):\n",
    "    disk_one = \"Accel\"\n",
    "elif (disk_one.find(\"blast\") != -1):\n",
    "    disk_one = \"Blast\"\n",
    "else:\n",
    "    disk_one = \"Charge\"\n",
    "    \n",
    "if (disk_two.find(\"accel\") != -1):\n",
    "    disk_two = \"Accel\"\n",
    "elif (disk_two.find(\"blast\") != -1):\n",
    "    disk_two = \"Blast\"\n",
    "else:\n",
    "    disk_two = \"Charge\"\n",
    "\n",
    "if (disk_three.find(\"accel\") != -1):\n",
    "    disk_three = \"Accel\"\n",
    "elif (disk_three.find(\"blast\") != -1):\n",
    "    disk_three = \"Blast\"\n",
    "else:\n",
    "    disk_three = \"Charge\"\n",
    "    \n",
    "if (disk_four.find(\"accel\") != -1):\n",
    "    disk_four = \"Accel\"\n",
    "elif (disk_four.find(\"blast\") != -1):\n",
    "    disk_four = \"Blast\"\n",
    "else:\n",
    "    disk_four = \"Charge\"\n",
    "    \n",
    "if (disk_five.find(\"accel\") != -1):\n",
    "    disk_five = \"Accel\"\n",
    "elif (disk_five.find(\"blast\") != -1):\n",
    "    disk_five = \"Blast\"\n",
    "else:\n",
    "    disk_five = \"Charge\"\n",
    "    \n",
    "disks = [disk_one, disk_two, disk_three, disk_four, disk_five]\n",
    "print(disks)"
   ]
  },
  {
   "cell_type": "code",
   "execution_count": 19,
   "metadata": {},
   "outputs": [
    {
     "name": "stdout",
     "output_type": "stream",
     "text": [
      "★4: Attack UP [VII] &amp; Ignore Evasion\n",
      "★5: Attack UP [IX] &amp; Ignore Evasion\n",
      "★4: Damage to Random Enemies [V] (5 times distributed across 5 targets picked with replacement) &amp; Chance to Ignore Evasion (All / 1T) &amp; Chance of Damage Cut (Self / 1T)\n",
      "★5: Damage to Random Enemies [VII] (5 times distributed across 5 targets picked with replacement) &amp; Guaranteed to Ignore Evasion (All / 1T) &amp; Chance of Damage Cut (Self / 1T)\n"
     ]
    }
   ],
   "source": [
    "# table_data 49 through 52 are Connect Info\n",
    "connect_four_star = str(table_data[41])\n",
    "connect_five_star = str(table_data[42])\n",
    "\n",
    "connect_four_star = connect_four_star.replace('</td>', '')\n",
    "connect_four_star = connect_four_star.replace('<td style=\"width:100%;\">', '')\n",
    "connect_four_star = connect_four_star.rstrip()\n",
    "print(connect_four_star)\n",
    "\n",
    "connect_five_star = connect_five_star.replace('</td>', '')\n",
    "connect_five_star = connect_five_star.replace('<td style=\"width:100%;\">', '')\n",
    "connect_five_star = connect_five_star.rstrip()\n",
    "print(connect_five_star)\n",
    "\n",
    "# table_data 53 through 56 are Magia Info\n",
    "\n",
    "magia_four_star = str(table_data[43])\n",
    "magia_five_star = str(table_data[44])\n",
    "\n",
    "magia_four_star = magia_four_star.replace('</td>', '')\n",
    "magia_four_star = magia_four_star.replace('<td style=\"width:100%;\">', '')\n",
    "magia_four_star = magia_four_star.rstrip()\n",
    "print(magia_four_star)\n",
    "\n",
    "magia_five_star = magia_five_star.replace('</td>', '')\n",
    "magia_five_star = magia_five_star.replace('<td style=\"width:100%;\">', '')\n",
    "magia_five_star = magia_five_star.rstrip()\n",
    "print(magia_five_star)"
   ]
  },
  {
   "cell_type": "code",
   "execution_count": 20,
   "metadata": {},
   "outputs": [
    {
     "name": "stdout",
     "output_type": "stream",
     "text": [
      "Damage to Random Enemies [IX] (5 times distributed across 5 targets picked with replacement) &amp; Defense UP (All / 3T) &amp; Ignore Evasion (All / 1T) &amp; Damage DOWN [100%] (Self / 1T)\n",
      "<th colspan=\"5\"><b>Magia:</b> <i>Light of Conviction</i>\n",
      "</th>\n",
      "<th colspan=\"5\"><b>Doppel: <i>Catacombe</i></b>\n",
      "</th>\n",
      "Connect: It's not a loan so rest easy\n",
      "Magia: Light of Conviction\n",
      "Doppel: Catacombe\n"
     ]
    }
   ],
   "source": [
    "doppel_info = str(table_data[45])\n",
    "doppel_info = doppel_info.replace('<td style=\"width:100%;\">', '')\n",
    "doppel_info = doppel_info.replace('</td>', '')\n",
    "doppel_info = doppel_info.rstrip()\n",
    "print(doppel_info)\n",
    "\n",
    "table_head = soup.find_all('th')\n",
    "connect = str(table_head[3])\n",
    "magia = str(table_head[4])\n",
    "doppel = str(table_head[5])\n",
    "print(magia)\n",
    "print(doppel)\n",
    "\n",
    "connect = connect.strip('<th colspan=\"5\">')\n",
    "connect = connect.strip('b>')\n",
    "connect = connect.strip('<b>')\n",
    "connect = connect.replace('</b>', '')\n",
    "connect = connect.replace('<i>', '')\n",
    "connect = connect.replace('</i>', '')\n",
    "connect = connect.strip('</')\n",
    "connect = connect.rstrip()\n",
    "print(connect)\n",
    "\n",
    "magia = magia.strip('<th colspan=\"5\">')\n",
    "magia = magia.strip('b>')\n",
    "magia = magia.replace('</b>', '')\n",
    "magia = magia.replace('<i>', '')\n",
    "magia = magia.replace('</i>', '')\n",
    "magia = magia.strip('</')\n",
    "magia = magia.rstrip()\n",
    "print(magia)\n",
    "\n",
    "doppel = doppel.strip('<th colspan=\"5\">')\n",
    "doppel = doppel.strip('b>')\n",
    "doppel = doppel.replace('<b>', '')\n",
    "doppel = doppel.replace('</b>', '')\n",
    "doppel = doppel.replace('<i>', '')\n",
    "doppel = doppel.replace('</i>', '')\n",
    "doppel = doppel.strip('</')\n",
    "doppel = doppel.rstrip()\n",
    "print(doppel)"
   ]
  },
  {
   "cell_type": "code",
   "execution_count": 21,
   "metadata": {},
   "outputs": [
    {
     "name": "stdout",
     "output_type": "stream",
     "text": [
      "Age: 18\n",
      "Height: 155cm\n",
      "Eye colour: Gray\n",
      "Hair colour: White\n",
      "Origins: Daito ward\n",
      "Soul Gem: Gray oval (right eye monocle)\n",
      "Weapon: Horse whip (<a class=\"external text\" href=\"https://en.wikipedia.org/wiki/Crop_(implement)\" rel=\"nofollow\">riding crop>)\n",
      "Wish: \"I wish to know the reason why everyone hates Daitou\"\n",
      "Ability: Mind reading\n",
      "Witch form: Catacombe\n",
      "Japanese Pronoun: <i>jibun</i><span style=\"font-weight: normal\"> (<span class=\"t_nihongo_kanji\" lang=\"ja\">自分</span>)</span\n",
      "Known Relatives: Unnamed mother father and brother\n",
      "School: Daito Academy 12th grade\n"
     ]
    }
   ],
   "source": [
    "Age = str(bullet_points[21]).strip(\"<li>\").strip(\"</li>\").strip(\"<b>\").replace(\"</b>\", \"\").replace(',', '')\n",
    "print(Age)\n",
    "Height = str(bullet_points[22]).strip(\"<li>\").strip(\"</li>\").strip(\"<b>\").replace(\"</b>\", \"\").replace(',', '')\n",
    "print(Height)\n",
    "EyeColor = str(bullet_points[23]).strip(\"<li>\").strip(\"</li>\").strip(\"<b>\").replace(\"</b>\", \"\").replace(',', '')\n",
    "print(EyeColor)\n",
    "HairColor = str(bullet_points[24]).strip(\"<li>\").strip(\"</li>\").strip(\"<b>\").replace(\"</b>\", \"\").replace(',', '')\n",
    "print(HairColor)\n",
    "Hometown = str(bullet_points[25]).strip(\"<li>\").strip(\"</li>\").strip(\"<b>\").replace(\"</b>\", \"\").replace(',', '')\n",
    "print(Hometown)\n",
    "SoulGem = str(bullet_points[26]).strip(\"<li>\").strip(\"</li>\").strip(\"<b>\").replace(\"</b>\", \"\").replace(',', '')\n",
    "print(SoulGem)\n",
    "Weapon = str(bullet_points[27]).strip(\"<li>\").strip(\"</li>\").strip(\"<b>\").replace(\"</b>\", \"\").replace('</a', '').replace('<a class=\"external text\" href=\"https://en.wikipedia.org/wiki/Crossbow\" rel=\"nofollow\">', '')\n",
    "print(Weapon)\n",
    "Wish = str(bullet_points[28]).strip(\"<li>\").strip(\"</li>\").strip(\"<b>\").replace(\"</b>\", \"\").replace(',', '')\n",
    "print(Wish)\n",
    "Ability = str(bullet_points[29]).strip(\"<li>\").strip(\"</li>\").strip(\"<b>\").replace(\"</b>\", \"\").replace(',', '')\n",
    "print(Ability)\n",
    "Witch = str(bullet_points[30]).strip(\"<li>\").strip(\"</li>\").strip(\"<b>\").replace(\"</b>\", \"\").replace(',', '')\n",
    "print(Witch)\n",
    "Pronoun = str(bullet_points[31]).strip(\"<li>\").strip(\"</li>\").strip(\"<b>\").replace(\"</b>\", \"\").replace(',', '')\n",
    "print(Pronoun)\n",
    "Relatives = str(bullet_points[32]).strip(\"<li>\").strip(\"</li>\").strip(\"<b>\").replace(\"</b>\", \"\").replace(',', '')\n",
    "print(Relatives)\n",
    "School = str(bullet_points[33]).strip(\"<li>\").strip(\"</li>\").strip(\"<b>\").replace(\"</b>\", \"\").replace(',', '')\n",
    "print(School)"
   ]
  },
  {
   "cell_type": "code",
   "execution_count": 23,
   "metadata": {},
   "outputs": [
    {
     "name": "stdout",
     "output_type": "stream",
     "text": [
      "{'Name': 'Kanagi Izumi', 'Age': 'Age: 18', 'EyeColor': 'Eye colour: Gray', 'HairColor': 'Hair colour: White', 'Hometown': 'Origins: Daito ward', 'SoulGem': 'Soul Gem: Gray oval (right eye monocle)', 'Weapon': 'Weapon: Horse whip (<a class=\"external text\" href=\"https://en.wikipedia.org/wiki/Crop_(implement)\" rel=\"nofollow\">riding crop>)', 'Wish': 'Wish: \"I wish to know the reason why everyone hates Daitou\"', 'Ability': 'Ability: Mind reading', 'Witch': 'Witch form: Catacombe', 'Pronoun': 'Japanese Pronoun: <i>jibun</i><span style=\"font-weight: normal\"> (<span class=\"t_nihongo_kanji\" lang=\"ja\">自分</span>)</span', 'Relatives': 'Known Relatives: Unnamed mother father and brother', 'School': 'School: Daito Academy 12th grade', 'Disks': ['Accel', 'Accel', 'Blast', 'Blast', 'Charge'], 'Stats': {'Initial': {'HP': '4754', 'ATK': '2106', 'DEF': '1616'}, 'Four_Star': {'HP': '16990', 'ATK': '7691', 'DEF': '5859'}, 'Five_Star': {'HP': '21406', 'ATK': '9695', 'DEF': '7386'}, 'SE': {'HP': '27739', 'ATK': '12331', 'DEF': '9632'}}, 'Connect': {'Name': \"Connect: It's not a loan so rest easy\", 'Four_Star': '★4: Attack UP [VII] &amp; Ignore Evasion', 'Five_Star': '★5: Attack UP [IX] &amp; Ignore Evasion'}, 'Magia': {'Name': 'Magia: Light of Conviction', 'Four_Star': '★4: Damage to Random Enemies [V] (5 times distributed across 5 targets picked with replacement) &amp; Chance to Ignore Evasion (All / 1T) &amp; Chance of Damage Cut (Self / 1T)', 'Five_Star': '★5: Damage to Random Enemies [VII] (5 times distributed across 5 targets picked with replacement) &amp; Guaranteed to Ignore Evasion (All / 1T) &amp; Chance of Damage Cut (Self / 1T)'}, 'Doppel': {'Name': 'Doppel: Catacombe', 'Desc': 'The Doppel of demolition. Its form is a hearth lion.\\nThe master of this emotion is coolheaded, but her Doppel is burning with endless rage. Its form is a rampaging lion that rends all around it to pieces with its gnashing teeth. It refuses to forgive the smallest of injustices and demolishes anything it deems irrational. Strictness incarnate, it may target others simply for living in Kamihama, so its master must take care when summoning it, lest it hurt her allies. If she continues to use this Doppel, she may become similarly unforgiving. It may be uncontrollable, but its master half agrees with its judgement.', 'Ability': 'Damage to Random Enemies [IX] (5 times distributed across 5 targets picked with replacement) &amp; Defense UP (All / 3T) &amp; Ignore Evasion (All / 1T) &amp; Damage DOWN [100%] (Self / 1T)'}}\n"
     ]
    }
   ],
   "source": [
    "Kanagi = {\n",
    "    \"Name\": \"Kanagi Izumi\",\n",
    "    \"Age\": Age,\n",
    "    \"EyeColor\": EyeColor,\n",
    "    \"HairColor\": HairColor,\n",
    "    \"Hometown\": Hometown,\n",
    "    \"SoulGem\": SoulGem,\n",
    "    \"Weapon\": Weapon,\n",
    "    \"Wish\": Wish,\n",
    "    \"Ability\": Ability,\n",
    "    \"Witch\": Witch,\n",
    "    \"Pronoun\": Pronoun,\n",
    "    \"Relatives\": Relatives,\n",
    "    \"School\": School,\n",
    "    \"Disks\": disks,\n",
    "    \"Stats\": {\n",
    "        \"Initial\": {\n",
    "            \"HP\": initial_hp,\n",
    "            \"ATK\": initial_atk,\n",
    "            \"DEF\": initial_def\n",
    "        },\n",
    "        \"Four_Star\": {\n",
    "            \"HP\": four_star_hp,\n",
    "            \"ATK\": four_star_atk,\n",
    "            \"DEF\": four_star_def\n",
    "        },\n",
    "        \"Five_Star\": {\n",
    "            \"HP\": five_star_hp,\n",
    "            \"ATK\": five_star_atk,\n",
    "            \"DEF\": five_star_def        \n",
    "        },\n",
    "        \"SE\": {\n",
    "            \"HP\": se_hp,\n",
    "            \"ATK\": se_atk,\n",
    "            \"DEF\":  se_def          \n",
    "        }\n",
    "    },\n",
    "    \"Connect\": {\n",
    "        \"Name\": connect,\n",
    "        \"Four_Star\": connect_four_star,\n",
    "        \"Five_Star\": connect_five_star\n",
    "    },\n",
    "    \"Magia\": {\n",
    "        \"Name\": magia,\n",
    "        \"Four_Star\": magia_four_star,\n",
    "        \"Five_Star\": magia_five_star\n",
    "    },\n",
    "    \"Doppel\": {\n",
    "        \"Name\": doppel,\n",
    "        \"Desc\": para,\n",
    "        \"Ability\": doppel_info,\n",
    "    }\n",
    "}\n",
    "\n",
    "print(Kanagi)"
   ]
  },
  {
   "cell_type": "code",
   "execution_count": 24,
   "metadata": {},
   "outputs": [
    {
     "name": "stdout",
     "output_type": "stream",
     "text": [
      "{\"Name\": \"Kanagi Izumi\", \"Age\": \"Age: 18\", \"EyeColor\": \"Eye colour: Gray\", \"HairColor\": \"Hair colour: White\", \"Hometown\": \"Origins: Daito ward\", \"SoulGem\": \"Soul Gem: Gray oval (right eye monocle)\", \"Weapon\": \"Weapon: Horse whip (<a class=\\\"external text\\\" href=\\\"https://en.wikipedia.org/wiki/Crop_(implement)\\\" rel=\\\"nofollow\\\">riding crop>)\", \"Wish\": \"Wish: \\\"I wish to know the reason why everyone hates Daitou\\\"\", \"Ability\": \"Ability: Mind reading\", \"Witch\": \"Witch form: Catacombe\", \"Pronoun\": \"Japanese Pronoun: <i>jibun</i><span style=\\\"font-weight: normal\\\"> (<span class=\\\"t_nihongo_kanji\\\" lang=\\\"ja\\\">\\u81ea\\u5206</span>)</span\", \"Relatives\": \"Known Relatives: Unnamed mother father and brother\", \"School\": \"School: Daito Academy 12th grade\", \"Disks\": [\"Accel\", \"Accel\", \"Blast\", \"Blast\", \"Charge\"], \"Stats\": {\"Initial\": {\"HP\": \"4754\", \"ATK\": \"2106\", \"DEF\": \"1616\"}, \"Four_Star\": {\"HP\": \"16990\", \"ATK\": \"7691\", \"DEF\": \"5859\"}, \"Five_Star\": {\"HP\": \"21406\", \"ATK\": \"9695\", \"DEF\": \"7386\"}, \"SE\": {\"HP\": \"27739\", \"ATK\": \"12331\", \"DEF\": \"9632\"}}, \"Connect\": {\"Name\": \"Connect: It's not a loan so rest easy\", \"Four_Star\": \"\\u26054: Attack UP [VII] &amp; Ignore Evasion\", \"Five_Star\": \"\\u26055: Attack UP [IX] &amp; Ignore Evasion\"}, \"Magia\": {\"Name\": \"Magia: Light of Conviction\", \"Four_Star\": \"\\u26054: Damage to Random Enemies [V] (5 times distributed across 5 targets picked with replacement) &amp; Chance to Ignore Evasion (All / 1T) &amp; Chance of Damage Cut (Self / 1T)\", \"Five_Star\": \"\\u26055: Damage to Random Enemies [VII] (5 times distributed across 5 targets picked with replacement) &amp; Guaranteed to Ignore Evasion (All / 1T) &amp; Chance of Damage Cut (Self / 1T)\"}, \"Doppel\": {\"Name\": \"Doppel: Catacombe\", \"Desc\": \"The Doppel of demolition. Its form is a hearth lion.\\nThe master of this emotion is coolheaded, but her Doppel is burning with endless rage. Its form is a rampaging lion that rends all around it to pieces with its gnashing teeth. It refuses to forgive the smallest of injustices and demolishes anything it deems irrational. Strictness incarnate, it may target others simply for living in Kamihama, so its master must take care when summoning it, lest it hurt her allies. If she continues to use this Doppel, she may become similarly unforgiving. It may be uncontrollable, but its master half agrees with its judgement.\", \"Ability\": \"Damage to Random Enemies [IX] (5 times distributed across 5 targets picked with replacement) &amp; Defense UP (All / 3T) &amp; Ignore Evasion (All / 1T) &amp; Damage DOWN [100%] (Self / 1T)\"}}\n"
     ]
    }
   ],
   "source": [
    "girl_json = json.dumps(Kanagi)\n",
    "print(girl_json)\n",
    "\n",
    "with open('kanagi.json', 'w') as json_file:\n",
    "  json.dump(girl_json, json_file)"
   ]
  },
  {
   "cell_type": "code",
   "execution_count": null,
   "metadata": {},
   "outputs": [],
   "source": []
  },
  {
   "cell_type": "code",
   "execution_count": null,
   "metadata": {},
   "outputs": [],
   "source": []
  },
  {
   "cell_type": "code",
   "execution_count": null,
   "metadata": {},
   "outputs": [],
   "source": []
  },
  {
   "cell_type": "code",
   "execution_count": 27,
   "metadata": {},
   "outputs": [
    {
     "name": "stdout",
     "output_type": "stream",
     "text": [
      "<li><b>Age:</b> 17</li>\n",
      "<li><b>School:</b> Daito Academy (Formerly Mizuna Girls' School), 11th grade</li>\n",
      "The Doppel of memento mori (Forewarning). Its form is flower petals.\n",
      "The master of this Doppel resents her environment and wishes to destroy everything. Her Doppel never forgets that death comes to all things equally. It covers everything with dancing flower petals and escorts girls elegantly with its white gloves. Like its master, it isn't able to attack directly, but its power, which is connected to the end of all things, is utterly terrifying - the magic of anything hidden under its flower petals rots away to nothing. The more the master relies on this Doppel, the closer her left arm will get to becoming completely one with it.\n"
     ]
    }
   ],
   "source": [
    "# Dependencies\n",
    "import os\n",
    "from bs4 import BeautifulSoup as bs\n",
    "import json\n",
    "import requests\n",
    "\n",
    "query_url = \"https://wiki.puella-magi.net/Mitama_Yakumo\"\n",
    "response = requests.get(query_url)\n",
    "soup = bs(response.text, 'html.parser')\n",
    "\n",
    "bullet_points = soup.find_all('li')\n",
    "# 19- 30 General Info\n",
    "print(bullet_points[20])\n",
    "print(bullet_points[32])\n",
    "\n",
    "para = soup.find_all('p')\n",
    "para = str(para[5])\n",
    "para = para.strip(\"<p>\")\n",
    "para = para.strip(\"</p>\")\n",
    "para = para.rstrip()\n",
    "print(para)"
   ]
  },
  {
   "cell_type": "code",
   "execution_count": 28,
   "metadata": {},
   "outputs": [
    {
     "name": "stdout",
     "output_type": "stream",
     "text": [
      "6435 1715 1865\n",
      "23166 6174 6714\n",
      "29120 7776 8460\n",
      "34363 9413 10514\n"
     ]
    }
   ],
   "source": [
    "table_data = soup.find_all('td')\n",
    "\n",
    "# table_data[8] through\n",
    "# Headers no1 8, 9,10, 11\n",
    "# Data 12, 13, 14, 15 - 15 is a Link Picture\n",
    "# Headers no2 16, 17, 18, 19\n",
    "# initial 20, 21, 22, 23\n",
    "initial_hp = str(table_data[21]).replace('<td style=\"width:25%;\">', '').replace('</td>', '').rstrip()\n",
    "initial_atk = str(table_data[22]).replace('<td style=\"width:25%;\">', '').replace('</td>', '').rstrip()\n",
    "initial_def = str(table_data[23]).replace('<td style=\"width:25%;\">', '').replace('</td>', '').rstrip()\n",
    "# max at 4* 33, 34, 35\n",
    "four_star_hp = str(table_data[25]).replace('<td style=\"width:25%;\">', '').replace('</td>', '').rstrip()\n",
    "four_star_atk = str(table_data[26]).replace('<td style=\"width:25%;\">', '').replace('</td>', '').rstrip()\n",
    "four_star_def = str(table_data[27]).replace('<td style=\"width:25%;\">', '').replace('</td>', '').rstrip()\n",
    "# max at 5* 37, 38, 39\n",
    "five_star_hp = str(table_data[29]).replace('<td style=\"width:25%;\">', '').replace('</td>', '').rstrip()\n",
    "five_star_atk = str(table_data[30]).replace('<td style=\"width:25%;\">', '').replace('</td>', '').rstrip()\n",
    "five_star_def = str(table_data[31]).replace('<td style=\"width:25%;\">', '').replace('</td>', '').rstrip()\n",
    "# SE\n",
    "se_hp = str(table_data[33]).replace('<td style=\"width:25%;\">', '').replace('</td>', '').rstrip()\n",
    "se_atk = str(table_data[34]).replace('<td style=\"width:25%;\">', '').replace('</td>', '').rstrip()\n",
    "se_def = str(table_data[35]).replace('<td style=\"width:25%;\">', '').replace('</td>', '').rstrip()\n",
    "\n",
    "print(initial_hp, initial_atk, initial_def)\n",
    "print(four_star_hp, four_star_atk, four_star_def)\n",
    "print(five_star_hp, five_star_atk, five_star_def)\n",
    "print(se_hp, se_atk, se_def)"
   ]
  },
  {
   "cell_type": "code",
   "execution_count": 29,
   "metadata": {},
   "outputs": [
    {
     "name": "stdout",
     "output_type": "stream",
     "text": [
      "['Accel', 'Accel', 'Accel', 'Blast', 'Charge']\n"
     ]
    }
   ],
   "source": [
    "disk_one = str(table_data[36])\n",
    "disk_two = str(table_data[37])\n",
    "disk_three = str(table_data[38])\n",
    "disk_four = str(table_data[39])\n",
    "disk_five = str(table_data[40])\n",
    "\n",
    "if (disk_one.find(\"accel\") != -1):\n",
    "    disk_one = \"Accel\"\n",
    "elif (disk_one.find(\"blast\") != -1):\n",
    "    disk_one = \"Blast\"\n",
    "else:\n",
    "    disk_one = \"Charge\"\n",
    "    \n",
    "if (disk_two.find(\"accel\") != -1):\n",
    "    disk_two = \"Accel\"\n",
    "elif (disk_two.find(\"blast\") != -1):\n",
    "    disk_two = \"Blast\"\n",
    "else:\n",
    "    disk_two = \"Charge\"\n",
    "\n",
    "if (disk_three.find(\"accel\") != -1):\n",
    "    disk_three = \"Accel\"\n",
    "elif (disk_three.find(\"blast\") != -1):\n",
    "    disk_three = \"Blast\"\n",
    "else:\n",
    "    disk_three = \"Charge\"\n",
    "    \n",
    "if (disk_four.find(\"accel\") != -1):\n",
    "    disk_four = \"Accel\"\n",
    "elif (disk_four.find(\"blast\") != -1):\n",
    "    disk_four = \"Blast\"\n",
    "else:\n",
    "    disk_four = \"Charge\"\n",
    "    \n",
    "if (disk_five.find(\"accel\") != -1):\n",
    "    disk_five = \"Accel\"\n",
    "elif (disk_five.find(\"blast\") != -1):\n",
    "    disk_five = \"Blast\"\n",
    "else:\n",
    "    disk_five = \"Charge\"\n",
    "    \n",
    "disks = [disk_one, disk_two, disk_three, disk_four, disk_five]\n",
    "print(disks)"
   ]
  },
  {
   "cell_type": "code",
   "execution_count": 30,
   "metadata": {},
   "outputs": [
    {
     "name": "stdout",
     "output_type": "stream",
     "text": [
      "★4: HP Restore [VII] &amp; Damage UP versus enemies affected with negative effects [VII] &amp; Defense down [V]\n",
      "★5: HP Restore [IX] &amp; Damage UP versus enemies affected with negative effects [IX] &amp; Defense down [V]\n",
      "★4: Guaranteed Curse &amp; Guaranteed Poison &amp; Guaranteed Magia Seal &amp; Attack Up (All / 1 Turn) &amp; Curse (Self / 1 T)\n",
      "★5: Guaranteed Curse &amp; Guaranteed Poison &amp; Guaranteed Magia Seal &amp; Attack Up (All / 3 T) &amp; Curse (Self / 1 T)\n"
     ]
    }
   ],
   "source": [
    "# table_data 49 through 52 are Connect Info\n",
    "connect_four_star = str(table_data[41])\n",
    "connect_five_star = str(table_data[42])\n",
    "\n",
    "connect_four_star = connect_four_star.replace('</td>', '')\n",
    "connect_four_star = connect_four_star.replace('<td style=\"width:100%;\">', '')\n",
    "connect_four_star = connect_four_star.rstrip()\n",
    "print(connect_four_star)\n",
    "\n",
    "connect_five_star = connect_five_star.replace('</td>', '')\n",
    "connect_five_star = connect_five_star.replace('<td style=\"width:100%;\">', '')\n",
    "connect_five_star = connect_five_star.rstrip()\n",
    "print(connect_five_star)\n",
    "\n",
    "# table_data 53 through 56 are Magia Info\n",
    "\n",
    "magia_four_star = str(table_data[43])\n",
    "magia_five_star = str(table_data[44])\n",
    "\n",
    "magia_four_star = magia_four_star.replace('</td>', '')\n",
    "magia_four_star = magia_four_star.replace('<td style=\"width:100%;\">', '')\n",
    "magia_four_star = magia_four_star.rstrip()\n",
    "print(magia_four_star)\n",
    "\n",
    "magia_five_star = magia_five_star.replace('</td>', '')\n",
    "magia_five_star = magia_five_star.replace('<td style=\"width:100%;\">', '')\n",
    "magia_five_star = magia_five_star.rstrip()\n",
    "print(magia_five_star)"
   ]
  },
  {
   "cell_type": "code",
   "execution_count": 31,
   "metadata": {},
   "outputs": [
    {
     "name": "stdout",
     "output_type": "stream",
     "text": [
      "Guaranteed Strengthened Curse &amp; Guaranteed Strengthened Poison &amp; Guaranteed Magia Seal (All / 3 ) &amp; Attack UP (All / 3 T) &amp; Curse (Self / 1 T)\n",
      "<th colspan=\"5\"><b>Magia:</b> <i>Structure Destruction</i>\n",
      "</th>\n",
      "<th colspan=\"5\"><b>Doppel: <i>Totentanz</i></b>\n",
      "</th>\n",
      "Connect: It might cost you, you know♪\n",
      "Magia: Structure Destruction\n",
      "Doppel: Totentanz\n"
     ]
    }
   ],
   "source": [
    "doppel_info = str(table_data[45])\n",
    "doppel_info = doppel_info.replace('<td style=\"width:100%;\">', '')\n",
    "doppel_info = doppel_info.replace('</td>', '')\n",
    "doppel_info = doppel_info.rstrip()\n",
    "print(doppel_info)\n",
    "\n",
    "table_head = soup.find_all('th')\n",
    "connect = str(table_head[3])\n",
    "magia = str(table_head[4])\n",
    "doppel = str(table_head[5])\n",
    "print(magia)\n",
    "print(doppel)\n",
    "\n",
    "connect = connect.strip('<th colspan=\"5\">')\n",
    "connect = connect.strip('b>')\n",
    "connect = connect.strip('<b>')\n",
    "connect = connect.replace('</b>', '')\n",
    "connect = connect.replace('<i>', '')\n",
    "connect = connect.replace('</i>', '')\n",
    "connect = connect.strip('</')\n",
    "connect = connect.rstrip()\n",
    "print(connect)\n",
    "\n",
    "magia = magia.strip('<th colspan=\"5\">')\n",
    "magia = magia.strip('b>')\n",
    "magia = magia.replace('</b>', '')\n",
    "magia = magia.replace('<i>', '')\n",
    "magia = magia.replace('</i>', '')\n",
    "magia = magia.strip('</')\n",
    "magia = magia.rstrip()\n",
    "print(magia)\n",
    "\n",
    "doppel = doppel.strip('<th colspan=\"5\">')\n",
    "doppel = doppel.strip('b>')\n",
    "doppel = doppel.replace('<b>', '')\n",
    "doppel = doppel.replace('</b>', '')\n",
    "doppel = doppel.replace('<i>', '')\n",
    "doppel = doppel.replace('</i>', '')\n",
    "doppel = doppel.strip('</')\n",
    "doppel = doppel.rstrip()\n",
    "print(doppel)"
   ]
  },
  {
   "cell_type": "code",
   "execution_count": 32,
   "metadata": {},
   "outputs": [
    {
     "name": "stdout",
     "output_type": "stream",
     "text": [
      "Age: 17\n",
      "Height: 166cm\n",
      "Eye colour: Blue\n",
      "Hair colour: Silver\n",
      "Origins: Daito ward\n",
      "Soul Gem: Blue X-shaped gem (hair ribbon)\n",
      "Weapon: Gloves\n",
      "Wish: \"I want to become the existence that destroys Kamihama.\"\n",
      "Ability: Magical Power Adjustment\n",
      "Witch form: Totentanz\n",
      "Japanese pronoun: <i>watashi</i><span style=\"font-weight: normal\"> (<span class=\"t_nihongo_kanji\" lang=\"ja\">わたし</span>)</span\n",
      "Known relatives: Younger sister\n",
      "School: Daito Academy (Formerly Mizuna Girls' School) 11th grade\n"
     ]
    }
   ],
   "source": [
    "Age = str(bullet_points[20]).strip(\"<li>\").strip(\"</li>\").strip(\"<b>\").replace(\"</b>\", \"\").replace(',', '')\n",
    "print(Age)\n",
    "Height = str(bullet_points[21]).strip(\"<li>\").strip(\"</li>\").strip(\"<b>\").replace(\"</b>\", \"\").replace(',', '')\n",
    "print(Height)\n",
    "EyeColor = str(bullet_points[22]).strip(\"<li>\").strip(\"</li>\").strip(\"<b>\").replace(\"</b>\", \"\").replace(',', '')\n",
    "print(EyeColor)\n",
    "HairColor = str(bullet_points[23]).strip(\"<li>\").strip(\"</li>\").strip(\"<b>\").replace(\"</b>\", \"\").replace(',', '')\n",
    "print(HairColor)\n",
    "Hometown = str(bullet_points[24]).strip(\"<li>\").strip(\"</li>\").strip(\"<b>\").replace(\"</b>\", \"\").replace(',', '')\n",
    "print(Hometown)\n",
    "SoulGem = str(bullet_points[25]).strip(\"<li>\").strip(\"</li>\").strip(\"<b>\").replace(\"</b>\", \"\").replace(',', '')\n",
    "print(SoulGem)\n",
    "Weapon = str(bullet_points[26]).strip(\"<li>\").strip(\"</li>\").strip(\"<b>\").replace(\"</b>\", \"\").replace('</a', '').replace('<a class=\"external text\" href=\"https://en.wikipedia.org/wiki/Crossbow\" rel=\"nofollow\">', '')\n",
    "print(Weapon)\n",
    "Wish = str(bullet_points[27]).strip(\"<li>\").strip(\"</li>\").strip(\"<b>\").replace(\"</b>\", \"\").replace(',', '')\n",
    "print(Wish)\n",
    "Ability = str(bullet_points[28]).strip(\"<li>\").strip(\"</li>\").strip(\"<b>\").replace(\"</b>\", \"\").replace(',', '')\n",
    "print(Ability)\n",
    "Witch = str(bullet_points[29]).strip(\"<li>\").strip(\"</li>\").strip(\"<b>\").replace(\"</b>\", \"\").replace(',', '')\n",
    "print(Witch)\n",
    "Pronoun = str(bullet_points[30]).strip(\"<li>\").strip(\"</li>\").strip(\"<b>\").replace(\"</b>\", \"\").replace(',', '')\n",
    "print(Pronoun)\n",
    "Relatives = str(bullet_points[31]).strip(\"<li>\").strip(\"</li>\").strip(\"<b>\").replace(\"</b>\", \"\").replace(',', '')\n",
    "print(Relatives)\n",
    "School = str(bullet_points[32]).strip(\"<li>\").strip(\"</li>\").strip(\"<b>\").replace(\"</b>\", \"\").replace(',', '')\n",
    "print(School)"
   ]
  },
  {
   "cell_type": "code",
   "execution_count": 33,
   "metadata": {},
   "outputs": [
    {
     "name": "stdout",
     "output_type": "stream",
     "text": [
      "{'Name': 'Mitama Yakumo', 'Age': 'Age: 17', 'EyeColor': 'Eye colour: Blue', 'HairColor': 'Hair colour: Silver', 'Hometown': 'Origins: Daito ward', 'SoulGem': 'Soul Gem: Blue X-shaped gem (hair ribbon)', 'Weapon': 'Weapon: Gloves', 'Wish': 'Wish: \"I want to become the existence that destroys Kamihama.\"', 'Ability': 'Ability: Magical Power Adjustment', 'Witch': 'Witch form: Totentanz', 'Pronoun': 'Japanese pronoun: <i>watashi</i><span style=\"font-weight: normal\"> (<span class=\"t_nihongo_kanji\" lang=\"ja\">わたし</span>)</span', 'Relatives': 'Known relatives: Younger sister', 'School': \"School: Daito Academy (Formerly Mizuna Girls' School) 11th grade\", 'Disks': ['Accel', 'Accel', 'Accel', 'Blast', 'Charge'], 'Stats': {'Initial': {'HP': '6435', 'ATK': '1715', 'DEF': '1865'}, 'Four_Star': {'HP': '23166', 'ATK': '6174', 'DEF': '6714'}, 'Five_Star': {'HP': '29120', 'ATK': '7776', 'DEF': '8460'}, 'SE': {'HP': '34363', 'ATK': '9413', 'DEF': '10514'}}, 'Connect': {'Name': 'Connect: It might cost you, you know♪', 'Four_Star': '★4: HP Restore [VII] &amp; Damage UP versus enemies affected with negative effects [VII] &amp; Defense down [V]', 'Five_Star': '★5: HP Restore [IX] &amp; Damage UP versus enemies affected with negative effects [IX] &amp; Defense down [V]'}, 'Magia': {'Name': 'Magia: Structure Destruction', 'Four_Star': '★4: Guaranteed Curse &amp; Guaranteed Poison &amp; Guaranteed Magia Seal &amp; Attack Up (All / 1 Turn) &amp; Curse (Self / 1 T)', 'Five_Star': '★5: Guaranteed Curse &amp; Guaranteed Poison &amp; Guaranteed Magia Seal &amp; Attack Up (All / 3 T) &amp; Curse (Self / 1 T)'}, 'Doppel': {'Name': 'Doppel: Totentanz', 'Desc': \"The Doppel of\\xa0memento mori (Forewarning). Its form is\\xa0flower petals.\\nThe master of this Doppel resents her environment and wishes to destroy everything. Her Doppel never forgets that death comes to all things equally. It covers everything with dancing flower petals and escorts girls elegantly with its white gloves. Like its master, it isn't able to attack directly, but its power, which is connected to the end of all things, is utterly terrifying - the magic of anything hidden under its flower petals rots away to nothing. The more the master relies on this Doppel, the closer her left arm will get to becoming completely one with it.\", 'Ability': 'Guaranteed Strengthened Curse &amp; Guaranteed Strengthened Poison &amp; Guaranteed Magia Seal (All / 3 ) &amp; Attack UP (All / 3 T) &amp; Curse (Self / 1 T)'}}\n"
     ]
    }
   ],
   "source": [
    "Mitama = {\n",
    "    \"Name\": \"Mitama Yakumo\",\n",
    "    \"Age\": Age,\n",
    "    \"EyeColor\": EyeColor,\n",
    "    \"HairColor\": HairColor,\n",
    "    \"Hometown\": Hometown,\n",
    "    \"SoulGem\": SoulGem,\n",
    "    \"Weapon\": Weapon,\n",
    "    \"Wish\": Wish,\n",
    "    \"Ability\": Ability,\n",
    "    \"Witch\": Witch,\n",
    "    \"Pronoun\": Pronoun,\n",
    "    \"Relatives\": Relatives,\n",
    "    \"School\": School,\n",
    "    \"Disks\": disks,\n",
    "    \"Stats\": {\n",
    "        \"Initial\": {\n",
    "            \"HP\": initial_hp,\n",
    "            \"ATK\": initial_atk,\n",
    "            \"DEF\": initial_def\n",
    "        },\n",
    "        \"Four_Star\": {\n",
    "            \"HP\": four_star_hp,\n",
    "            \"ATK\": four_star_atk,\n",
    "            \"DEF\": four_star_def\n",
    "        },\n",
    "        \"Five_Star\": {\n",
    "            \"HP\": five_star_hp,\n",
    "            \"ATK\": five_star_atk,\n",
    "            \"DEF\": five_star_def        \n",
    "        },\n",
    "        \"SE\": {\n",
    "            \"HP\": se_hp,\n",
    "            \"ATK\": se_atk,\n",
    "            \"DEF\":  se_def          \n",
    "        }\n",
    "    },\n",
    "    \"Connect\": {\n",
    "        \"Name\": connect,\n",
    "        \"Four_Star\": connect_four_star,\n",
    "        \"Five_Star\": connect_five_star\n",
    "    },\n",
    "    \"Magia\": {\n",
    "        \"Name\": magia,\n",
    "        \"Four_Star\": magia_four_star,\n",
    "        \"Five_Star\": magia_five_star\n",
    "    },\n",
    "    \"Doppel\": {\n",
    "        \"Name\": doppel,\n",
    "        \"Desc\": para,\n",
    "        \"Ability\": doppel_info,\n",
    "    }\n",
    "}\n",
    "\n",
    "print(Mitama)"
   ]
  },
  {
   "cell_type": "code",
   "execution_count": 34,
   "metadata": {},
   "outputs": [
    {
     "name": "stdout",
     "output_type": "stream",
     "text": [
      "{\"Name\": \"Mitama Yakumo\", \"Age\": \"Age: 17\", \"EyeColor\": \"Eye colour: Blue\", \"HairColor\": \"Hair colour: Silver\", \"Hometown\": \"Origins: Daito ward\", \"SoulGem\": \"Soul Gem: Blue X-shaped gem (hair ribbon)\", \"Weapon\": \"Weapon: Gloves\", \"Wish\": \"Wish: \\\"I want to become the existence that destroys Kamihama.\\\"\", \"Ability\": \"Ability: Magical Power Adjustment\", \"Witch\": \"Witch form: Totentanz\", \"Pronoun\": \"Japanese pronoun: <i>watashi</i><span style=\\\"font-weight: normal\\\"> (<span class=\\\"t_nihongo_kanji\\\" lang=\\\"ja\\\">\\u308f\\u305f\\u3057</span>)</span\", \"Relatives\": \"Known relatives: Younger sister\", \"School\": \"School: Daito Academy (Formerly Mizuna Girls' School) 11th grade\", \"Disks\": [\"Accel\", \"Accel\", \"Accel\", \"Blast\", \"Charge\"], \"Stats\": {\"Initial\": {\"HP\": \"6435\", \"ATK\": \"1715\", \"DEF\": \"1865\"}, \"Four_Star\": {\"HP\": \"23166\", \"ATK\": \"6174\", \"DEF\": \"6714\"}, \"Five_Star\": {\"HP\": \"29120\", \"ATK\": \"7776\", \"DEF\": \"8460\"}, \"SE\": {\"HP\": \"34363\", \"ATK\": \"9413\", \"DEF\": \"10514\"}}, \"Connect\": {\"Name\": \"Connect: It might cost you, you know\\u266a\", \"Four_Star\": \"\\u26054: HP Restore [VII] &amp; Damage UP versus enemies affected with negative effects [VII] &amp; Defense down [V]\", \"Five_Star\": \"\\u26055: HP Restore [IX] &amp; Damage UP versus enemies affected with negative effects [IX] &amp; Defense down [V]\"}, \"Magia\": {\"Name\": \"Magia: Structure Destruction\", \"Four_Star\": \"\\u26054: Guaranteed Curse &amp; Guaranteed Poison &amp; Guaranteed Magia Seal &amp; Attack Up (All / 1 Turn) &amp; Curse (Self / 1 T)\", \"Five_Star\": \"\\u26055: Guaranteed Curse &amp; Guaranteed Poison &amp; Guaranteed Magia Seal &amp; Attack Up (All / 3 T) &amp; Curse (Self / 1 T)\"}, \"Doppel\": {\"Name\": \"Doppel: Totentanz\", \"Desc\": \"The Doppel of\\u00a0memento mori (Forewarning). Its form is\\u00a0flower petals.\\nThe master of this Doppel resents her environment and wishes to destroy everything. Her Doppel never forgets that death comes to all things equally. It covers everything with dancing flower petals and escorts girls elegantly with its white gloves. Like its master, it isn't able to attack directly, but its power, which is connected to the end of all things, is utterly terrifying - the magic of anything hidden under its flower petals rots away to nothing. The more the master relies on this Doppel, the closer her left arm will get to becoming completely one with it.\", \"Ability\": \"Guaranteed Strengthened Curse &amp; Guaranteed Strengthened Poison &amp; Guaranteed Magia Seal (All / 3 ) &amp; Attack UP (All / 3 T) &amp; Curse (Self / 1 T)\"}}\n"
     ]
    }
   ],
   "source": [
    "girl_json = json.dumps(Mitama)\n",
    "print(girl_json)\n",
    "\n",
    "with open('mitama.json', 'w') as json_file:\n",
    "  json.dump(girl_json, json_file)"
   ]
  },
  {
   "cell_type": "code",
   "execution_count": null,
   "metadata": {},
   "outputs": [],
   "source": []
  }
 ],
 "metadata": {
  "kernelspec": {
   "display_name": "Python 3",
   "language": "python",
   "name": "python3"
  },
  "language_info": {
   "codemirror_mode": {
    "name": "ipython",
    "version": 3
   },
   "file_extension": ".py",
   "mimetype": "text/x-python",
   "name": "python",
   "nbconvert_exporter": "python",
   "pygments_lexer": "ipython3",
   "version": "3.7.3"
  }
 },
 "nbformat": 4,
 "nbformat_minor": 2
}
