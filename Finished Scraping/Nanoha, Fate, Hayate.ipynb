{
 "cells": [
  {
   "cell_type": "code",
   "execution_count": null,
   "metadata": {},
   "outputs": [],
   "source": [
    "https://wiki.puella-magi.net/Nanoha_Takamachi\n",
    "https://wiki.puella-magi.net/Fate_T._Harlaown\n",
    "https://wiki.puella-magi.net/Hayate_Yagami"
   ]
  },
  {
   "cell_type": "code",
   "execution_count": 1,
   "metadata": {},
   "outputs": [],
   "source": [
    "# Dependencies\n",
    "import os\n",
    "from bs4 import BeautifulSoup as bs\n",
    "import json\n",
    "import requests"
   ]
  },
  {
   "cell_type": "code",
   "execution_count": 3,
   "metadata": {},
   "outputs": [
    {
     "name": "stdout",
     "output_type": "stream",
     "text": [
      "<li><b>Age:</b> 9</li>\n",
      "<li><b>School: </b>Private Seishou University-affiliated Elementary School</li>\n"
     ]
    }
   ],
   "source": [
    "query_url = \"https://wiki.puella-magi.net/Nanoha_Takamachi\"\n",
    "response = requests.get(query_url)\n",
    "soup = bs(response.text, 'html.parser')\n",
    "\n",
    "bullet_points = soup.find_all('li')\n",
    "# 19- 30 General Info\n",
    "print(bullet_points[13])\n",
    "print(bullet_points[19])"
   ]
  },
  {
   "cell_type": "code",
   "execution_count": 8,
   "metadata": {},
   "outputs": [
    {
     "name": "stdout",
     "output_type": "stream",
     "text": [
      "5988 1953 1972\n",
      "21401 7132 7150\n",
      "26988 9005 9023\n",
      "33501 11479 13039\n"
     ]
    }
   ],
   "source": [
    "table_data = soup.find_all('td')\n",
    "\n",
    "# initial 20, 21, 22, 23\n",
    "initial_hp = str(table_data[19]).replace('<td style=\"width:25%;\">', '').replace('</td>', '').rstrip()\n",
    "initial_atk = str(table_data[20]).replace('<td style=\"width:25%;\">', '').replace('</td>', '').rstrip()\n",
    "initial_def = str(table_data[21]).replace('<td style=\"width:25%;\">', '').replace('</td>', '').rstrip()\n",
    "# max at 4* 33, 34, 35\n",
    "four_star_hp = str(table_data[23]).replace('<td style=\"width:25%;\">', '').replace('</td>', '').rstrip()\n",
    "four_star_atk = str(table_data[24]).replace('<td style=\"width:25%;\">', '').replace('</td>', '').rstrip()\n",
    "four_star_def = str(table_data[25]).replace('<td style=\"width:25%;\">', '').replace('</td>', '').rstrip()\n",
    "# max at 5* 37, 38, 39\n",
    "five_star_hp = str(table_data[27]).replace('<td style=\"width:25%;\">', '').replace('</td>', '').rstrip()\n",
    "five_star_atk = str(table_data[28]).replace('<td style=\"width:25%;\">', '').replace('</td>', '').rstrip()\n",
    "five_star_def = str(table_data[29]).replace('<td style=\"width:25%;\">', '').replace('</td>', '').rstrip()\n",
    "# SE\n",
    "se_hp = str(table_data[31]).replace('<td style=\"width:25%;\">', '').replace('</td>', '').rstrip()\n",
    "se_atk = str(table_data[32]).replace('<td style=\"width:25%;\">', '').replace('</td>', '').rstrip()\n",
    "se_def = str(table_data[33]).replace('<td style=\"width:25%;\">', '').replace('</td>', '').rstrip()\n",
    "\n",
    "print(initial_hp, initial_atk, initial_def)\n",
    "print(four_star_hp, four_star_atk, four_star_def)\n",
    "print(five_star_hp, five_star_atk, five_star_def)\n",
    "print(se_hp, se_atk, se_def)"
   ]
  },
  {
   "cell_type": "code",
   "execution_count": 10,
   "metadata": {},
   "outputs": [
    {
     "name": "stdout",
     "output_type": "stream",
     "text": [
      "['Accel', 'Accel', 'Blast', 'Blast', 'Charge']\n"
     ]
    }
   ],
   "source": [
    "disk_one = str(table_data[34])\n",
    "disk_two = str(table_data[35])\n",
    "disk_three = str(table_data[36])\n",
    "disk_four = str(table_data[37])\n",
    "disk_five = str(table_data[38])\n",
    "\n",
    "if (disk_one.find(\"accel\") != -1):\n",
    "    disk_one = \"Accel\"\n",
    "elif (disk_one.find(\"blast\") != -1):\n",
    "    disk_one = \"Blast\"\n",
    "else:\n",
    "    disk_one = \"Charge\"\n",
    "    \n",
    "if (disk_two.find(\"accel\") != -1):\n",
    "    disk_two = \"Accel\"\n",
    "elif (disk_two.find(\"blast\") != -1):\n",
    "    disk_two = \"Blast\"\n",
    "else:\n",
    "    disk_two = \"Charge\"\n",
    "\n",
    "if (disk_three.find(\"accel\") != -1):\n",
    "    disk_three = \"Accel\"\n",
    "elif (disk_three.find(\"blast\") != -1):\n",
    "    disk_three = \"Blast\"\n",
    "else:\n",
    "    disk_three = \"Charge\"\n",
    "    \n",
    "if (disk_four.find(\"accel\") != -1):\n",
    "    disk_four = \"Accel\"\n",
    "elif (disk_four.find(\"blast\") != -1):\n",
    "    disk_four = \"Blast\"\n",
    "else:\n",
    "    disk_four = \"Charge\"\n",
    "    \n",
    "if (disk_five.find(\"accel\") != -1):\n",
    "    disk_five = \"Accel\"\n",
    "elif (disk_five.find(\"blast\") != -1):\n",
    "    disk_five = \"Blast\"\n",
    "else:\n",
    "    disk_five = \"Charge\"\n",
    "    \n",
    "disks = [disk_one, disk_two, disk_three, disk_four, disk_five]\n",
    "print(disks)"
   ]
  },
  {
   "cell_type": "code",
   "execution_count": 14,
   "metadata": {},
   "outputs": [
    {
     "name": "stdout",
     "output_type": "stream",
     "text": [
      "★4: Attack Up [VII] and Damage Cut [VII]\n",
      "★5: Attack Up [IX] and Damage Cut [IX]\n",
      "★4: Attribute Strengthened Damage All Enemies [VII] &amp; Accele MPUP (Self / 3 T)\n",
      "★5: Attribute Strengthened Damage All Enemies [IX] &amp; Accele MPUP (Self / 3 T)\n",
      "Attribute Strengthened Damage to All Enemies [XI] &amp; Accele MPUP (Self / 3 T)\n",
      "<th colspan=\"5\"><b>Magia:</b> <i>Exceed Breaker</i>\n",
      "</th>\n",
      "<th colspan=\"5\"><b>Magia 2:</b> <i>Accelerator</i><sup class=\"reference\" id=\"cite_ref-1\"><a href=\"#cite_note-1\">[1]</a></sup>\n",
      "</th>\n",
      "i>\n",
      "Magia: Exceed Breaker\n",
      "Magia 2: Accelerator\n"
     ]
    }
   ],
   "source": [
    "# table_data 49 through 52 are Connect Info\n",
    "connect_four_star = str(table_data[39])\n",
    "connect_five_star = str(table_data[40])\n",
    "\n",
    "connect_four_star = connect_four_star.replace('</td>', '')\n",
    "connect_four_star = connect_four_star.replace('<td style=\"width:100%;\">', '')\n",
    "connect_four_star = connect_four_star.rstrip()\n",
    "print(connect_four_star)\n",
    "\n",
    "connect_five_star = connect_five_star.replace('</td>', '')\n",
    "connect_five_star = connect_five_star.replace('<td style=\"width:100%;\">', '')\n",
    "connect_five_star = connect_five_star.rstrip()\n",
    "print(connect_five_star)\n",
    "\n",
    "# table_data 53 through 56 are Magia Info\n",
    "\n",
    "magia_four_star = str(table_data[41])\n",
    "magia_five_star = str(table_data[42])\n",
    "\n",
    "magia_four_star = magia_four_star.replace('</td>', '')\n",
    "magia_four_star = magia_four_star.replace('<td style=\"width:100%;\">', '')\n",
    "magia_four_star = magia_four_star.rstrip()\n",
    "print(magia_four_star)\n",
    "\n",
    "magia_five_star = magia_five_star.replace('</td>', '')\n",
    "magia_five_star = magia_five_star.replace('<td style=\"width:100%;\">', '')\n",
    "magia_five_star = magia_five_star.rstrip()\n",
    "print(magia_five_star)\n",
    "\n",
    "doppel_info = str(table_data[43])\n",
    "doppel_info = doppel_info.replace('<td style=\"width:100%;\">', '')\n",
    "doppel_info = doppel_info.replace('</td>', '')\n",
    "doppel_info = doppel_info.rstrip()\n",
    "print(doppel_info)\n",
    "\n",
    "table_head = soup.find_all('th')\n",
    "connect = str(table_head[4])\n",
    "magia = str(table_head[5])\n",
    "doppel = str(table_head[6])\n",
    "print(magia)\n",
    "print(doppel)\n",
    "\n",
    "connect = connect.strip('<th colspan=\"5\">')\n",
    "connect = connect.strip('b>')\n",
    "connect = connect.strip('<b>')\n",
    "connect = connect.replace('</b>', '')\n",
    "connect = connect.replace('<i>', '')\n",
    "connect = connect.replace('</i>', '')\n",
    "connect = connect.strip('</')\n",
    "connect = connect.rstrip()\n",
    "print(connect)\n",
    "\n",
    "magia = magia.strip('<th colspan=\"5\">')\n",
    "magia = magia.strip('b>')\n",
    "magia = magia.replace('</b>', '')\n",
    "magia = magia.replace('<i>', '')\n",
    "magia = magia.replace('</i>', '')\n",
    "magia = magia.strip('</')\n",
    "magia = magia.rstrip()\n",
    "print(magia)\n",
    "\n",
    "doppel = doppel.strip('<th colspan=\"5\">')\n",
    "doppel = doppel.strip('b>')\n",
    "doppel = doppel.replace('<b>', '')\n",
    "doppel = doppel.replace('</b>', '')\n",
    "doppel = doppel.replace('<i>', '')\n",
    "doppel = doppel.replace('</i>', '')\n",
    "doppel = doppel.replace('<sup class=\"reference\" id=\"cite_ref-1\"><a href=\"#cite_note-1\">[1]</a></sup>', '')\n",
    "doppel = doppel.strip('</')\n",
    "doppel = doppel.rstrip()\n",
    "print(doppel)"
   ]
  },
  {
   "cell_type": "code",
   "execution_count": 16,
   "metadata": {},
   "outputs": [
    {
     "name": "stdout",
     "output_type": "stream",
     "text": [
      "Age: 9\n",
      "Eye colour: Purple\n",
      "Hair colour: Light Brown / Orange\n",
      "Soul Gem: None as she isn't a Puella Mag\n",
      "Weapon: Her device Raising Heart that takes the form of a Lance.\n",
      "Japanese pronoun: <i>watashi</i><span style=\"font-weight: normal\"> (<span class=\"t_nihongo_kanji\" lang=\"ja\">わたし</span>)</span\n",
      "School: Private Seishou University-affiliated Elementary Schoo\n",
      "{'Name': 'Nanoha Takamachi', 'Age': 'Age: 9', 'EyeColor': 'Eye colour: Purple', 'HairColor': 'Hair colour: Light Brown / Orange', 'SoulGem': \"Soul Gem: None as she isn't a Puella Mag\", 'Weapon': 'Weapon: Her device Raising Heart that takes the form of a Lance.', 'Pronoun': 'Japanese pronoun: <i>watashi</i><span style=\"font-weight: normal\"> (<span class=\"t_nihongo_kanji\" lang=\"ja\">わたし</span>)</span', 'School': 'School: Private Seishou University-affiliated Elementary Schoo', 'Disks': ['Accel', 'Accel', 'Blast', 'Blast', 'Charge'], 'Stats': {'Initial': {'HP': '5988', 'ATK': '1953', 'DEF': '1972'}, 'Four_Star': {'HP': '21401', 'ATK': '7132', 'DEF': '7150'}, 'Five_Star': {'HP': '26988', 'ATK': '9005', 'DEF': '9023'}, 'SE': {'HP': '33501', 'ATK': '11479', 'DEF': '13039'}}, 'Connect': {'Name': 'i>', 'Four_Star': '★4: Attack Up [VII] and Damage Cut [VII]', 'Five_Star': '★5: Attack Up [IX] and Damage Cut [IX]'}, 'Magia': {'Name': 'Magia: Exceed Breaker', 'Four_Star': '★4: Attribute Strengthened Damage All Enemies [VII] &amp; Accele MPUP (Self / 3 T)', 'Five_Star': '★5: Attribute Strengthened Damage All Enemies [IX] &amp; Accele MPUP (Self / 3 T)'}, 'Doppel': {'Name': 'Magia 2: Accelerator', 'Ability': 'Attribute Strengthened Damage to All Enemies [XI] &amp; Accele MPUP (Self / 3 T)'}}\n"
     ]
    }
   ],
   "source": [
    "Age = str(bullet_points[13]).strip(\"<li>\").strip(\"</li>\").strip(\"<b>\").replace(\"</b>\", \"\").replace(',', '')\n",
    "print(Age)\n",
    "EyeColor = str(bullet_points[14]).strip(\"<li>\").strip(\"</li>\").strip(\"<b>\").replace(\"</b>\", \"\").replace(',', '')\n",
    "print(EyeColor)\n",
    "HairColor = str(bullet_points[15]).strip(\"<li>\").strip(\"</li>\").strip(\"<b>\").replace(\"</b>\", \"\").replace(',', '')\n",
    "print(HairColor)\n",
    "SoulGem = str(bullet_points[16]).strip(\"<li>\").strip(\"</li>\").strip(\"<b>\").replace(\"</b>\", \"\").replace(',', '')\n",
    "print(SoulGem)\n",
    "Weapon = str(bullet_points[17]).strip(\"<li>\").strip(\"</li>\").strip(\"<b>\").replace(\"</b>\", \"\").replace('</a', '').replace('<a class=\"external text\" href=\"https://en.wikipedia.org/wiki/Crossbow\" rel=\"nofollow\">', '')\n",
    "print(Weapon)\n",
    "Pronoun = str(bullet_points[18]).strip(\"<li>\").strip(\"</li>\").strip(\"<b>\").replace(\"</b>\", \"\").replace(',', '')\n",
    "print(Pronoun)\n",
    "School = str(bullet_points[19]).strip(\"<li>\").strip(\"</li>\").strip(\"<b>\").replace(\"</b>\", \"\").replace(',', '')\n",
    "print(School)\n",
    "\n",
    "Nanoha = {\n",
    "    \"Name\": \"Nanoha Takamachi\",\n",
    "    \"Age\": Age,\n",
    "    \"EyeColor\": EyeColor,\n",
    "    \"HairColor\": HairColor,\n",
    "    \"SoulGem\": SoulGem,\n",
    "    \"Weapon\": Weapon,\n",
    "    \"Pronoun\": Pronoun,\n",
    "    \"School\": School,\n",
    "    \"Disks\": disks,\n",
    "    \"Stats\": {\n",
    "        \"Initial\": {\n",
    "            \"HP\": initial_hp,\n",
    "            \"ATK\": initial_atk,\n",
    "            \"DEF\": initial_def\n",
    "        },\n",
    "        \"Four_Star\": {\n",
    "            \"HP\": four_star_hp,\n",
    "            \"ATK\": four_star_atk,\n",
    "            \"DEF\": four_star_def\n",
    "        },\n",
    "        \"Five_Star\": {\n",
    "            \"HP\": five_star_hp,\n",
    "            \"ATK\": five_star_atk,\n",
    "            \"DEF\": five_star_def        \n",
    "        },\n",
    "        \"SE\": {\n",
    "            \"HP\": se_hp,\n",
    "            \"ATK\": se_atk,\n",
    "            \"DEF\":  se_def          \n",
    "        }\n",
    "    },\n",
    "    \"Connect\": {\n",
    "        \"Name\": connect,\n",
    "        \"Four_Star\": connect_four_star,\n",
    "        \"Five_Star\": connect_five_star\n",
    "    },\n",
    "    \"Magia\": {\n",
    "        \"Name\": magia,\n",
    "        \"Four_Star\": magia_four_star,\n",
    "        \"Five_Star\": magia_five_star\n",
    "    },\n",
    "    \"Doppel\": {\n",
    "        \"Name\": doppel,\n",
    "        \"Ability\": doppel_info,\n",
    "    }\n",
    "}\n",
    "\n",
    "print(Nanoha)"
   ]
  },
  {
   "cell_type": "code",
   "execution_count": 18,
   "metadata": {},
   "outputs": [
    {
     "name": "stdout",
     "output_type": "stream",
     "text": [
      "{\"Name\": \"Nanoha Takamachi\", \"Age\": \"Age: 9\", \"EyeColor\": \"Eye colour: Purple\", \"HairColor\": \"Hair colour: Light Brown / Orange\", \"SoulGem\": \"Soul Gem: None as she isn't a Puella Mag\", \"Weapon\": \"Weapon: Her device Raising Heart that takes the form of a Lance.\", \"Pronoun\": \"Japanese pronoun: <i>watashi</i><span style=\\\"font-weight: normal\\\"> (<span class=\\\"t_nihongo_kanji\\\" lang=\\\"ja\\\">\\u308f\\u305f\\u3057</span>)</span\", \"School\": \"School: Private Seishou University-affiliated Elementary Schoo\", \"Disks\": [\"Accel\", \"Accel\", \"Blast\", \"Blast\", \"Charge\"], \"Stats\": {\"Initial\": {\"HP\": \"5988\", \"ATK\": \"1953\", \"DEF\": \"1972\"}, \"Four_Star\": {\"HP\": \"21401\", \"ATK\": \"7132\", \"DEF\": \"7150\"}, \"Five_Star\": {\"HP\": \"26988\", \"ATK\": \"9005\", \"DEF\": \"9023\"}, \"SE\": {\"HP\": \"33501\", \"ATK\": \"11479\", \"DEF\": \"13039\"}}, \"Connect\": {\"Name\": \"i>\", \"Four_Star\": \"\\u26054: Attack Up [VII] and Damage Cut [VII]\", \"Five_Star\": \"\\u26055: Attack Up [IX] and Damage Cut [IX]\"}, \"Magia\": {\"Name\": \"Magia: Exceed Breaker\", \"Four_Star\": \"\\u26054: Attribute Strengthened Damage All Enemies [VII] &amp; Accele MPUP (Self / 3 T)\", \"Five_Star\": \"\\u26055: Attribute Strengthened Damage All Enemies [IX] &amp; Accele MPUP (Self / 3 T)\"}, \"Doppel\": {\"Name\": \"Magia 2: Accelerator\", \"Ability\": \"Attribute Strengthened Damage to All Enemies [XI] &amp; Accele MPUP (Self / 3 T)\"}}\n"
     ]
    }
   ],
   "source": [
    "girl_json = json.dumps(Nanoha)\n",
    "print(girl_json)\n",
    "\n",
    "with open('nanoha.json', 'w') as json_file:\n",
    "  json.dump(girl_json, json_file)"
   ]
  },
  {
   "cell_type": "code",
   "execution_count": 20,
   "metadata": {},
   "outputs": [
    {
     "name": "stdout",
     "output_type": "stream",
     "text": [
      "<li><b>Age:</b> 9</li>\n",
      "<li><b>School: </b>Private Seishou University-affiliated Elementary School</li>\n"
     ]
    }
   ],
   "source": [
    "query_url = \"https://wiki.puella-magi.net/Fate_T._Harlaown\"\n",
    "response = requests.get(query_url)\n",
    "soup = bs(response.text, 'html.parser')\n",
    "\n",
    "bullet_points = soup.find_all('li')\n",
    "# 19- 30 General Info\n",
    "print(bullet_points[12])\n",
    "print(bullet_points[18])"
   ]
  },
  {
   "cell_type": "code",
   "execution_count": 23,
   "metadata": {},
   "outputs": [
    {
     "name": "stdout",
     "output_type": "stream",
     "text": [
      "4950 2219 1577\n",
      "17948 7132 5759\n",
      "22596 10028 7255\n",
      "30798 12567 9168\n"
     ]
    }
   ],
   "source": [
    "table_data = soup.find_all('td')\n",
    "\n",
    "# initial 20, 21, 22, 23\n",
    "initial_hp = str(table_data[21]).replace('<td style=\"width:25%;\">', '').replace('</td>', '').rstrip()\n",
    "initial_atk = str(table_data[22]).replace('<td style=\"width:25%;\">', '').replace('</td>', '').rstrip()\n",
    "initial_def = str(table_data[23]).replace('<td style=\"width:25%;\">', '').replace('</td>', '').rstrip()\n",
    "# max at 4* 33, 34, 35\n",
    "four_star_hp = str(table_data[25]).replace('<td style=\"width:25%;\">', '').replace('</td>', '').rstrip()\n",
    "four_star_atk = str(table_data[26]).replace('<td style=\"width:25%;\">', '').replace('</td>', '').rstrip()\n",
    "four_star_def = str(table_data[27]).replace('<td style=\"width:25%;\">', '').replace('</td>', '').rstrip()\n",
    "# max at 5* 37, 38, 39\n",
    "five_star_hp = str(table_data[29]).replace('<td style=\"width:25%;\">', '').replace('</td>', '').rstrip()\n",
    "five_star_atk = str(table_data[30]).replace('<td style=\"width:25%;\">', '').replace('</td>', '').rstrip()\n",
    "five_star_def = str(table_data[31]).replace('<td style=\"width:25%;\">', '').replace('</td>', '').rstrip()\n",
    "# SE\n",
    "se_hp = str(table_data[33]).replace('<td style=\"width:25%;\">', '').replace('</td>', '').rstrip()\n",
    "se_atk = str(table_data[34]).replace('<td style=\"width:25%;\">', '').replace('</td>', '').rstrip()\n",
    "se_def = str(table_data[35]).replace('<td style=\"width:25%;\">', '').replace('</td>', '').rstrip()\n",
    "\n",
    "print(initial_hp, initial_atk, initial_def)\n",
    "print(four_star_hp, four_star_atk, four_star_def)\n",
    "print(five_star_hp, five_star_atk, five_star_def)\n",
    "print(se_hp, se_atk, se_def)"
   ]
  },
  {
   "cell_type": "code",
   "execution_count": 24,
   "metadata": {},
   "outputs": [
    {
     "name": "stdout",
     "output_type": "stream",
     "text": [
      "['Accel', 'Blast', 'Blast', 'Charge', 'Charge']\n"
     ]
    }
   ],
   "source": [
    "disk_one = str(table_data[36])\n",
    "disk_two = str(table_data[37])\n",
    "disk_three = str(table_data[38])\n",
    "disk_four = str(table_data[39])\n",
    "disk_five = str(table_data[40])\n",
    "\n",
    "if (disk_one.find(\"accel\") != -1):\n",
    "    disk_one = \"Accel\"\n",
    "elif (disk_one.find(\"blast\") != -1):\n",
    "    disk_one = \"Blast\"\n",
    "else:\n",
    "    disk_one = \"Charge\"\n",
    "    \n",
    "if (disk_two.find(\"accel\") != -1):\n",
    "    disk_two = \"Accel\"\n",
    "elif (disk_two.find(\"blast\") != -1):\n",
    "    disk_two = \"Blast\"\n",
    "else:\n",
    "    disk_two = \"Charge\"\n",
    "\n",
    "if (disk_three.find(\"accel\") != -1):\n",
    "    disk_three = \"Accel\"\n",
    "elif (disk_three.find(\"blast\") != -1):\n",
    "    disk_three = \"Blast\"\n",
    "else:\n",
    "    disk_three = \"Charge\"\n",
    "    \n",
    "if (disk_four.find(\"accel\") != -1):\n",
    "    disk_four = \"Accel\"\n",
    "elif (disk_four.find(\"blast\") != -1):\n",
    "    disk_four = \"Blast\"\n",
    "else:\n",
    "    disk_four = \"Charge\"\n",
    "    \n",
    "if (disk_five.find(\"accel\") != -1):\n",
    "    disk_five = \"Accel\"\n",
    "elif (disk_five.find(\"blast\") != -1):\n",
    "    disk_five = \"Blast\"\n",
    "else:\n",
    "    disk_five = \"Charge\"\n",
    "    \n",
    "disks = [disk_one, disk_two, disk_three, disk_four, disk_five]\n",
    "print(disks)"
   ]
  },
  {
   "cell_type": "code",
   "execution_count": 26,
   "metadata": {},
   "outputs": [
    {
     "name": "stdout",
     "output_type": "stream",
     "text": [
      "★4: Damage UP [VII] &amp; Chance to Critical [VII] &amp; Chance to Anti-Evade\n",
      "★5: Damage UP [IX] &amp; Chance to Critical [IX] &amp; Chance to Anti-Evade\n",
      "★4: Attribute Strengthened Damage All Enemies [VII] &amp; Blast UP\n",
      "★5: Attribute Strengthened Damage All Enemies [VII] &amp; Blast UP &amp; Guaranteed Evade\n",
      "Attribute Strengthened Damage to All Enemies [IX] &amp; Damage UP (Self / 3 T) &amp; Guaranteed Evade (Self / 1 T)\n",
      "<th colspan=\"5\"><b>Magia 1:</b> <i>Blitz Stride</i>\n",
      "</th>\n",
      "<th colspan=\"5\"><b>Magia 2:</b> <i>Hornet Javelin</i><sup class=\"reference\" id=\"cite_ref-1\"><a href=\"#cite_note-1\">[1]</a></sup>\n",
      "</th>\n",
      "Connect: ...Though, if it's the Two of Us\n",
      "Magia 1: Blitz Stride\n",
      "Magia 2: Hornet Javelin\n"
     ]
    }
   ],
   "source": [
    "# table_data 49 through 52 are Connect Info\n",
    "connect_four_star = str(table_data[41])\n",
    "connect_five_star = str(table_data[42])\n",
    "\n",
    "connect_four_star = connect_four_star.replace('</td>', '')\n",
    "connect_four_star = connect_four_star.replace('<td style=\"width:100%;\">', '')\n",
    "connect_four_star = connect_four_star.rstrip()\n",
    "print(connect_four_star)\n",
    "\n",
    "connect_five_star = connect_five_star.replace('</td>', '')\n",
    "connect_five_star = connect_five_star.replace('<td style=\"width:100%;\">', '')\n",
    "connect_five_star = connect_five_star.rstrip()\n",
    "print(connect_five_star)\n",
    "\n",
    "# table_data 53 through 56 are Magia Info\n",
    "\n",
    "magia_four_star = str(table_data[43])\n",
    "magia_five_star = str(table_data[44])\n",
    "\n",
    "magia_four_star = magia_four_star.replace('</td>', '')\n",
    "magia_four_star = magia_four_star.replace('<td style=\"width:100%;\">', '')\n",
    "magia_four_star = magia_four_star.rstrip()\n",
    "print(magia_four_star)\n",
    "\n",
    "magia_five_star = magia_five_star.replace('</td>', '')\n",
    "magia_five_star = magia_five_star.replace('<td style=\"width:100%;\">', '')\n",
    "magia_five_star = magia_five_star.rstrip()\n",
    "print(magia_five_star)\n",
    "\n",
    "doppel_info = str(table_data[45])\n",
    "doppel_info = doppel_info.replace('<td style=\"width:100%;\">', '')\n",
    "doppel_info = doppel_info.replace('</td>', '')\n",
    "doppel_info = doppel_info.rstrip()\n",
    "print(doppel_info)\n",
    "\n",
    "table_head = soup.find_all('th')\n",
    "connect = str(table_head[3])\n",
    "magia = str(table_head[4])\n",
    "doppel = str(table_head[5])\n",
    "print(magia)\n",
    "print(doppel)\n",
    "\n",
    "connect = connect.strip('<th colspan=\"5\">')\n",
    "connect = connect.strip('b>')\n",
    "connect = connect.strip('<b>')\n",
    "connect = connect.replace('</b>', '')\n",
    "connect = connect.replace('<i>', '')\n",
    "connect = connect.replace('</i>', '')\n",
    "connect = connect.strip('</')\n",
    "connect = connect.rstrip()\n",
    "print(connect)\n",
    "\n",
    "magia = magia.strip('<th colspan=\"5\">')\n",
    "magia = magia.strip('b>')\n",
    "magia = magia.replace('</b>', '')\n",
    "magia = magia.replace('<i>', '')\n",
    "magia = magia.replace('</i>', '')\n",
    "magia = magia.strip('</')\n",
    "magia = magia.rstrip()\n",
    "print(magia)\n",
    "\n",
    "doppel = doppel.strip('<th colspan=\"5\">')\n",
    "doppel = doppel.strip('b>')\n",
    "doppel = doppel.replace('<b>', '')\n",
    "doppel = doppel.replace('</b>', '')\n",
    "doppel = doppel.replace('<i>', '')\n",
    "doppel = doppel.replace('</i>', '')\n",
    "doppel = doppel.replace('<sup class=\"reference\" id=\"cite_ref-1\"><a href=\"#cite_note-1\">[1]</a></sup>', '')\n",
    "doppel = doppel.strip('</')\n",
    "doppel = doppel.rstrip()\n",
    "print(doppel)"
   ]
  },
  {
   "cell_type": "code",
   "execution_count": 27,
   "metadata": {},
   "outputs": [
    {
     "name": "stdout",
     "output_type": "stream",
     "text": [
      "Age: 9\n",
      "Eye colour: Red\n",
      "Hair colour: Yellow\n",
      "Soul Gem: None as she isn't a Puella Magi.\n",
      "Weapon: Her device Bardiche that takes the form of a Sword.\n",
      "Japanese pronoun: <i>watashi</i><span style=\"font-weight: normal\"> (<span class=\"t_nihongo_kanji\" lang=\"ja\">わたし</span>)</span\n",
      "School: Private Seishou University-affiliated Elementary Schoo\n",
      "{'Name': 'Fate T. Harlaown', 'Age': 'Age: 9', 'EyeColor': 'Eye colour: Red', 'HairColor': 'Hair colour: Yellow', 'SoulGem': \"Soul Gem: None as she isn't a Puella Magi.\", 'Weapon': 'Weapon: Her device Bardiche that takes the form of a Sword.', 'Pronoun': 'Japanese pronoun: <i>watashi</i><span style=\"font-weight: normal\"> (<span class=\"t_nihongo_kanji\" lang=\"ja\">わたし</span>)</span', 'School': 'School: Private Seishou University-affiliated Elementary Schoo', 'Disks': ['Accel', 'Blast', 'Blast', 'Charge', 'Charge'], 'Stats': {'Initial': {'HP': '4950', 'ATK': '2219', 'DEF': '1577'}, 'Four_Star': {'HP': '17948', 'ATK': '7132', 'DEF': '5759'}, 'Five_Star': {'HP': '22596', 'ATK': '10028', 'DEF': '7255'}, 'SE': {'HP': '30798', 'ATK': '12567', 'DEF': '9168'}}, 'Connect': {'Name': \"Connect: ...Though, if it's the Two of Us\", 'Four_Star': '★4: Damage UP [VII] &amp; Chance to Critical [VII] &amp; Chance to Anti-Evade', 'Five_Star': '★5: Damage UP [IX] &amp; Chance to Critical [IX] &amp; Chance to Anti-Evade'}, 'Magia': {'Name': 'Magia 1: Blitz Stride', 'Four_Star': '★4: Attribute Strengthened Damage All Enemies [VII] &amp; Blast UP', 'Five_Star': '★5: Attribute Strengthened Damage All Enemies [VII] &amp; Blast UP &amp; Guaranteed Evade'}, 'Doppel': {'Name': 'Magia 2: Hornet Javelin', 'Ability': 'Attribute Strengthened Damage to All Enemies [IX] &amp; Damage UP (Self / 3 T) &amp; Guaranteed Evade (Self / 1 T)'}}\n"
     ]
    }
   ],
   "source": [
    "Age = str(bullet_points[12]).strip(\"<li>\").strip(\"</li>\").strip(\"<b>\").replace(\"</b>\", \"\").replace(',', '')\n",
    "print(Age)\n",
    "EyeColor = str(bullet_points[13]).strip(\"<li>\").strip(\"</li>\").strip(\"<b>\").replace(\"</b>\", \"\").replace(',', '')\n",
    "print(EyeColor)\n",
    "HairColor = str(bullet_points[14]).strip(\"<li>\").strip(\"</li>\").strip(\"<b>\").replace(\"</b>\", \"\").replace(',', '')\n",
    "print(HairColor)\n",
    "SoulGem = str(bullet_points[15]).strip(\"<li>\").strip(\"</li>\").strip(\"<b>\").replace(\"</b>\", \"\").replace(',', '')\n",
    "print(SoulGem)\n",
    "Weapon = str(bullet_points[16]).strip(\"<li>\").strip(\"</li>\").strip(\"<b>\").replace(\"</b>\", \"\").replace('</a', '').replace('<a class=\"external text\" href=\"https://en.wikipedia.org/wiki/Crossbow\" rel=\"nofollow\">', '')\n",
    "print(Weapon)\n",
    "Pronoun = str(bullet_points[17]).strip(\"<li>\").strip(\"</li>\").strip(\"<b>\").replace(\"</b>\", \"\").replace(',', '')\n",
    "print(Pronoun)\n",
    "School = str(bullet_points[18]).strip(\"<li>\").strip(\"</li>\").strip(\"<b>\").replace(\"</b>\", \"\").replace(',', '')\n",
    "print(School)\n",
    "\n",
    "Fate = {\n",
    "    \"Name\": \"Fate T. Harlaown\",\n",
    "    \"Age\": Age,\n",
    "    \"EyeColor\": EyeColor,\n",
    "    \"HairColor\": HairColor,\n",
    "    \"SoulGem\": SoulGem,\n",
    "    \"Weapon\": Weapon,\n",
    "    \"Pronoun\": Pronoun,\n",
    "    \"School\": School,\n",
    "    \"Disks\": disks,\n",
    "    \"Stats\": {\n",
    "        \"Initial\": {\n",
    "            \"HP\": initial_hp,\n",
    "            \"ATK\": initial_atk,\n",
    "            \"DEF\": initial_def\n",
    "        },\n",
    "        \"Four_Star\": {\n",
    "            \"HP\": four_star_hp,\n",
    "            \"ATK\": four_star_atk,\n",
    "            \"DEF\": four_star_def\n",
    "        },\n",
    "        \"Five_Star\": {\n",
    "            \"HP\": five_star_hp,\n",
    "            \"ATK\": five_star_atk,\n",
    "            \"DEF\": five_star_def        \n",
    "        },\n",
    "        \"SE\": {\n",
    "            \"HP\": se_hp,\n",
    "            \"ATK\": se_atk,\n",
    "            \"DEF\":  se_def          \n",
    "        }\n",
    "    },\n",
    "    \"Connect\": {\n",
    "        \"Name\": connect,\n",
    "        \"Four_Star\": connect_four_star,\n",
    "        \"Five_Star\": connect_five_star\n",
    "    },\n",
    "    \"Magia\": {\n",
    "        \"Name\": magia,\n",
    "        \"Four_Star\": magia_four_star,\n",
    "        \"Five_Star\": magia_five_star\n",
    "    },\n",
    "    \"Doppel\": {\n",
    "        \"Name\": doppel,\n",
    "        \"Ability\": doppel_info,\n",
    "    }\n",
    "}\n",
    "\n",
    "print(Fate)"
   ]
  },
  {
   "cell_type": "code",
   "execution_count": 28,
   "metadata": {},
   "outputs": [
    {
     "name": "stdout",
     "output_type": "stream",
     "text": [
      "{\"Name\": \"Fate T. Harlaown\", \"Age\": \"Age: 9\", \"EyeColor\": \"Eye colour: Red\", \"HairColor\": \"Hair colour: Yellow\", \"SoulGem\": \"Soul Gem: None as she isn't a Puella Magi.\", \"Weapon\": \"Weapon: Her device Bardiche that takes the form of a Sword.\", \"Pronoun\": \"Japanese pronoun: <i>watashi</i><span style=\\\"font-weight: normal\\\"> (<span class=\\\"t_nihongo_kanji\\\" lang=\\\"ja\\\">\\u308f\\u305f\\u3057</span>)</span\", \"School\": \"School: Private Seishou University-affiliated Elementary Schoo\", \"Disks\": [\"Accel\", \"Blast\", \"Blast\", \"Charge\", \"Charge\"], \"Stats\": {\"Initial\": {\"HP\": \"4950\", \"ATK\": \"2219\", \"DEF\": \"1577\"}, \"Four_Star\": {\"HP\": \"17948\", \"ATK\": \"7132\", \"DEF\": \"5759\"}, \"Five_Star\": {\"HP\": \"22596\", \"ATK\": \"10028\", \"DEF\": \"7255\"}, \"SE\": {\"HP\": \"30798\", \"ATK\": \"12567\", \"DEF\": \"9168\"}}, \"Connect\": {\"Name\": \"Connect: ...Though, if it's the Two of Us\", \"Four_Star\": \"\\u26054: Damage UP [VII] &amp; Chance to Critical [VII] &amp; Chance to Anti-Evade\", \"Five_Star\": \"\\u26055: Damage UP [IX] &amp; Chance to Critical [IX] &amp; Chance to Anti-Evade\"}, \"Magia\": {\"Name\": \"Magia 1: Blitz Stride\", \"Four_Star\": \"\\u26054: Attribute Strengthened Damage All Enemies [VII] &amp; Blast UP\", \"Five_Star\": \"\\u26055: Attribute Strengthened Damage All Enemies [VII] &amp; Blast UP &amp; Guaranteed Evade\"}, \"Doppel\": {\"Name\": \"Magia 2: Hornet Javelin\", \"Ability\": \"Attribute Strengthened Damage to All Enemies [IX] &amp; Damage UP (Self / 3 T) &amp; Guaranteed Evade (Self / 1 T)\"}}\n"
     ]
    }
   ],
   "source": [
    "girl_json = json.dumps(Fate)\n",
    "print(girl_json)\n",
    "\n",
    "with open('fate.json', 'w') as json_file:\n",
    "  json.dump(girl_json, json_file)"
   ]
  },
  {
   "cell_type": "code",
   "execution_count": 3,
   "metadata": {},
   "outputs": [
    {
     "name": "stdout",
     "output_type": "stream",
     "text": [
      "<li><b>Age:</b> 9</li>\n",
      "<li><b>School:</b></li>\n"
     ]
    }
   ],
   "source": [
    "query_url = \"https://wiki.puella-magi.net/Hayate_Yagami\"\n",
    "response = requests.get(query_url)\n",
    "soup = bs(response.text, 'html.parser')\n",
    "\n",
    "bullet_points = soup.find_all('li')\n",
    "# 19- 30 General Info\n",
    "print(bullet_points[13])\n",
    "print(bullet_points[19])"
   ]
  },
  {
   "cell_type": "code",
   "execution_count": 4,
   "metadata": {},
   "outputs": [
    {
     "name": "stdout",
     "output_type": "stream",
     "text": [
      "3463 1465 1158\n",
      "11524 15158 4910\n",
      "15158 6460 5367\n",
      "18783 8010 6669\n",
      "20647 9024 8999\n"
     ]
    }
   ],
   "source": [
    "table_data = soup.find_all('td')\n",
    "\n",
    "initial_hp = str(table_data[21]).replace('<td style=\"width:25%;\">', '').replace('</td>', '').rstrip()\n",
    "initial_atk = str(table_data[22]).replace('<td style=\"width:25%;\">', '').replace('</td>', '').rstrip()\n",
    "initial_def = str(table_data[23]).replace('<td style=\"width:25%;\">', '').replace('</td>', '').rstrip()\n",
    "\n",
    "# max at 3* 32, 33, 34, 35\n",
    "three_star_hp = str(table_data[25]).replace('<td style=\"width:25%;\">', '').replace('</td>', '').rstrip()\n",
    "three_star_atk = str(table_data[26]).replace('<td style=\"width:25%;\">', '').replace('</td>', '').rstrip()\n",
    "three_star_def = str(table_data[27]).replace('<td style=\"width:25%;\">', '').replace('</td>', '').rstrip()\n",
    "# max at 4* 36, 37, 38, 39\n",
    "four_star_hp = str(table_data[29]).replace('<td style=\"width:25%;\">', '').replace('</td>', '').rstrip()\n",
    "four_star_atk = str(table_data[30]).replace('<td style=\"width:25%;\">', '').replace('</td>', '').rstrip()\n",
    "four_star_def = str(table_data[31]).replace('<td style=\"width:25%;\">', '').replace('</td>', '').rstrip()\n",
    "# max at 5* [40], [41], [42], [43]\n",
    "five_star_hp = str(table_data[33]).replace('<td style=\"width:25%;\">', '').replace('</td>', '').rstrip()\n",
    "five_star_atk = str(table_data[34]).replace('<td style=\"width:25%;\">', '').replace('</td>', '').rstrip()\n",
    "five_star_def = str(table_data[35]).replace('<td style=\"width:25%;\">', '').replace('</td>', '').rstrip()\n",
    "# Max SE 44, 45, 46, 47\n",
    "se_hp = str(table_data[37]).replace('<td style=\"width:25%;\">', '').replace('</td>', '').rstrip()\n",
    "se_atk = str(table_data[38]).replace('<td style=\"width:25%;\">', '').replace('</td>', '').rstrip()\n",
    "se_def = str(table_data[39]).replace('<td style=\"width:25%;\">', '').replace('</td>', '').rstrip()\n",
    "\n",
    "print(initial_hp, initial_atk, initial_def)\n",
    "print(three_star_hp, three_star_atk, three_star_def)\n",
    "print(four_star_hp, four_star_atk, four_star_def)\n",
    "print(five_star_hp, five_star_atk, five_star_def)\n",
    "print(se_hp, se_atk, se_def)"
   ]
  },
  {
   "cell_type": "code",
   "execution_count": 5,
   "metadata": {},
   "outputs": [
    {
     "name": "stdout",
     "output_type": "stream",
     "text": [
      "['Accel', 'Accel', 'Blast', 'Charge', 'Charge']\n"
     ]
    }
   ],
   "source": [
    "disk_one = str(table_data[40])\n",
    "disk_two = str(table_data[41])\n",
    "disk_three = str(table_data[42])\n",
    "disk_four = str(table_data[43])\n",
    "disk_five = str(table_data[44])\n",
    "\n",
    "if (disk_one.find(\"accel\") != -1):\n",
    "    disk_one = \"Accel\"\n",
    "elif (disk_one.find(\"blast\") != -1):\n",
    "    disk_one = \"Blast\"\n",
    "else:\n",
    "    disk_one = \"Charge\"\n",
    "    \n",
    "if (disk_two.find(\"accel\") != -1):\n",
    "    disk_two = \"Accel\"\n",
    "elif (disk_two.find(\"blast\") != -1):\n",
    "    disk_two = \"Blast\"\n",
    "else:\n",
    "    disk_two = \"Charge\"\n",
    "\n",
    "if (disk_three.find(\"accel\") != -1):\n",
    "    disk_three = \"Accel\"\n",
    "elif (disk_three.find(\"blast\") != -1):\n",
    "    disk_three = \"Blast\"\n",
    "else:\n",
    "    disk_three = \"Charge\"\n",
    "    \n",
    "if (disk_four.find(\"accel\") != -1):\n",
    "    disk_four = \"Accel\"\n",
    "elif (disk_four.find(\"blast\") != -1):\n",
    "    disk_four = \"Blast\"\n",
    "else:\n",
    "    disk_four = \"Charge\"\n",
    "    \n",
    "if (disk_five.find(\"accel\") != -1):\n",
    "    disk_five = \"Accel\"\n",
    "elif (disk_five.find(\"blast\") != -1):\n",
    "    disk_five = \"Blast\"\n",
    "else:\n",
    "    disk_five = \"Charge\"\n",
    "    \n",
    "disks = [disk_one, disk_two, disk_three, disk_four, disk_five]\n",
    "print(disks)"
   ]
  },
  {
   "cell_type": "code",
   "execution_count": 6,
   "metadata": {},
   "outputs": [
    {
     "name": "stdout",
     "output_type": "stream",
     "text": [
      "★3: Attack Up [V] and Chance to Bind\n",
      "★4: Attack Up [VII] and Chance to Bind\n",
      "★5: Attack Up [IX] and Chance to Bind\n",
      "★3: Damage All Enemies [IV] &amp; Defense Down (All/3T)\n",
      "★4: Damage All Enemies [VI] &amp; Defense Down (All/3T)\n",
      "★5: Damage All Enemies [VIII] &amp; Defense Down (All/3T)\n"
     ]
    }
   ],
   "source": [
    "# table_data 49 through 52 are Connect Info\n",
    "connect_three_star = str(table_data[45])\n",
    "connect_four_star = str(table_data[46])\n",
    "connect_five_star = str(table_data[47])\n",
    "\n",
    "connect_three_star = connect_three_star.replace('</td>', '')\n",
    "connect_three_star = connect_three_star.replace('<td style=\"width:100%;\">', '')\n",
    "connect_three_star = connect_three_star.rstrip()\n",
    "print(connect_three_star)\n",
    "\n",
    "connect_four_star = connect_four_star.replace('</td>', '')\n",
    "connect_four_star = connect_four_star.replace('<td style=\"width:100%;\">', '')\n",
    "connect_four_star = connect_four_star.rstrip()\n",
    "print(connect_four_star)\n",
    "\n",
    "connect_five_star = connect_five_star.replace('</td>', '')\n",
    "connect_five_star = connect_five_star.replace('<td style=\"width:100%;\">', '')\n",
    "connect_five_star = connect_five_star.rstrip()\n",
    "print(connect_five_star)\n",
    "\n",
    "# table_data 53 through 56 are Magia Info\n",
    "\n",
    "magia_three_star = str(table_data[48])\n",
    "magia_four_star = str(table_data[49])\n",
    "magia_five_star = str(table_data[50])\n",
    "\n",
    "magia_three_star = magia_three_star.replace('</td>', '')\n",
    "magia_three_star = magia_three_star.replace('<td style=\"width:100%;\">', '')\n",
    "magia_three_star = magia_three_star.rstrip()\n",
    "print(magia_three_star)\n",
    "\n",
    "magia_four_star = magia_four_star.replace('</td>', '')\n",
    "magia_four_star = magia_four_star.replace('<td style=\"width:100%;\">', '')\n",
    "magia_four_star = magia_four_star.rstrip()\n",
    "print(magia_four_star)\n",
    "\n",
    "magia_five_star = magia_five_star.replace('</td>', '')\n",
    "magia_five_star = magia_five_star.replace('<td style=\"width:100%;\">', '')\n",
    "magia_five_star = magia_five_star.rstrip()\n",
    "print(magia_five_star)"
   ]
  },
  {
   "cell_type": "code",
   "execution_count": 8,
   "metadata": {},
   "outputs": [
    {
     "name": "stdout",
     "output_type": "stream",
     "text": [
      "Damage All Enemies [X] &amp; Defense Down (All/3T)\n",
      "<th colspan=\"5\"><b>Magia:</b> <i>Claíomh Solais</i>\n",
      "</th>\n",
      "<th colspan=\"5\"><b>Magia 2:</b> <i>Ouroborus</i><sup class=\"reference\" id=\"cite_ref-1\"><a href=\"#cite_note-1\">[1]</a></sup>\n",
      "</th>\n",
      "Connect: Just Staying at My Side\n",
      "Magia: Claíomh Solais\n",
      "Magia 2: Ouroborus\n"
     ]
    }
   ],
   "source": [
    "doppel_info = str(table_data[51])\n",
    "doppel_info = doppel_info.replace('<td style=\"width:100%;\">', '')\n",
    "doppel_info = doppel_info.replace('</td>', '')\n",
    "doppel_info = doppel_info.rstrip()\n",
    "print(doppel_info)\n",
    "\n",
    "table_head = soup.find_all('th')\n",
    "connect = str(table_head[3])\n",
    "magia = str(table_head[4])\n",
    "doppel = str(table_head[5])\n",
    "print(magia)\n",
    "print(doppel)\n",
    "\n",
    "connect = connect.strip('<th colspan=\"5\">')\n",
    "connect = connect.strip('b>')\n",
    "connect = connect.strip('<b>')\n",
    "connect = connect.replace('</b>', '')\n",
    "connect = connect.replace('<i>', '')\n",
    "connect = connect.replace('</i>', '')\n",
    "connect = connect.strip('</')\n",
    "connect = connect.rstrip()\n",
    "print(connect)\n",
    "\n",
    "magia = magia.strip('<th colspan=\"5\">')\n",
    "magia = magia.strip('b>')\n",
    "magia = magia.replace('</b>', '')\n",
    "magia = magia.replace('<i>', '')\n",
    "magia = magia.replace('</i>', '')\n",
    "magia = magia.strip('</')\n",
    "magia = magia.rstrip()\n",
    "print(magia)\n",
    "\n",
    "doppel = doppel.strip('<th colspan=\"5\">')\n",
    "doppel = doppel.strip('b>')\n",
    "doppel = doppel.replace('<b>', '')\n",
    "doppel = doppel.replace('</b>', '')\n",
    "doppel = doppel.replace('<i>', '')\n",
    "doppel = doppel.replace('</i>', '')\n",
    "doppel = doppel.replace('<sup class=\"reference\" id=\"cite_ref-1\"><a href=\"#cite_note-1\">[1]</a></sup>', '')\n",
    "doppel = doppel.strip('</')\n",
    "doppel = doppel.rstrip()\n",
    "print(doppel)"
   ]
  },
  {
   "cell_type": "code",
   "execution_count": 10,
   "metadata": {},
   "outputs": [
    {
     "name": "stdout",
     "output_type": "stream",
     "text": [
      "Age: 9\n",
      "Eye colour: Blue\n",
      "Hair colour: Light Brown\n",
      "Soul Gem: None as she isn't a Puella Mag\n",
      "Weapon: Book of Darkness\n",
      "Japanese pronoun: <i>watashi</i><span style=\"font-weight: normal\"> (<span class=\"t_nihongo_kanji\" lang=\"ja\">わたし</span>)</span\n",
      "School:\n"
     ]
    }
   ],
   "source": [
    "Age = str(bullet_points[13]).strip(\"<li>\").strip(\"</li>\").strip(\"<b>\").replace(\"</b>\", \"\").replace(',', '')\n",
    "print(Age)\n",
    "EyeColor = str(bullet_points[14]).strip(\"<li>\").strip(\"</li>\").strip(\"<b>\").replace(\"</b>\", \"\").replace(',', '')\n",
    "print(EyeColor)\n",
    "HairColor = str(bullet_points[15]).strip(\"<li>\").strip(\"</li>\").strip(\"<b>\").replace(\"</b>\", \"\").replace(',', '')\n",
    "print(HairColor)\n",
    "SoulGem = str(bullet_points[16]).strip(\"<li>\").strip(\"</li>\").strip(\"<b>\").replace(\"</b>\", \"\").replace(',', '')\n",
    "print(SoulGem)\n",
    "Weapon = str(bullet_points[17]).strip(\"<li>\").strip(\"</li>\").strip(\"<b>\").replace(\"</b>\", \"\").replace('</a', '').replace('<a class=\"external text\" href=\"https://en.wikipedia.org/wiki/Crossbow\" rel=\"nofollow\">', '')\n",
    "print(Weapon)\n",
    "Pronoun = str(bullet_points[18]).strip(\"<li>\").strip(\"</li>\").strip(\"<b>\").replace(\"</b>\", \"\").replace(',', '')\n",
    "print(Pronoun)\n",
    "School = str(bullet_points[19]).strip(\"<li>\").strip(\"</li>\").strip(\"<b>\").replace(\"</b>\", \"\").replace(',', '').replace('</', '')\n",
    "print(School)"
   ]
  },
  {
   "cell_type": "code",
   "execution_count": 12,
   "metadata": {},
   "outputs": [
    {
     "name": "stdout",
     "output_type": "stream",
     "text": [
      "{'Name': 'Hayate Yagami', 'Age': 'Age: 9', 'EyeColor': 'Eye colour: Blue', 'HairColor': 'Hair colour: Light Brown', 'SoulGem': \"Soul Gem: None as she isn't a Puella Mag\", 'Weapon': 'Weapon: Book of Darkness', 'Pronoun': 'Japanese pronoun: <i>watashi</i><span style=\"font-weight: normal\"> (<span class=\"t_nihongo_kanji\" lang=\"ja\">わたし</span>)</span', 'School': 'School:', 'Disks': ['Accel', 'Accel', 'Blast', 'Charge', 'Charge'], 'Stats': {'Initial': {'HP': '3463', 'ATK': '1465', 'DEF': '1158'}, 'Three_Star': {'HP': '11524', 'ATK': '15158', 'DEF': '4910'}, 'Four_Star': {'HP': '15158', 'ATK': '6460', 'DEF': '5367'}, 'Five_Star': {'HP': '18783', 'ATK': '8010', 'DEF': '6669'}, 'SE': {'HP': '20647', 'ATK': '9024', 'DEF': '8999'}}, 'Connect': {'Name': 'Connect: Just Staying at My Side', 'Three_Star': '★3: Attack Up [V] and Chance to Bind', 'Four_Star': '★4: Attack Up [VII] and Chance to Bind', 'Five_Star': '★5: Attack Up [IX] and Chance to Bind'}, 'Magia': {'Name': 'Magia: Claíomh Solais', 'Three_Star': '★3: Damage All Enemies [IV] &amp; Defense Down (All/3T)', 'Four_Star': '★4: Damage All Enemies [VI] &amp; Defense Down (All/3T)', 'Five_Star': '★5: Damage All Enemies [VIII] &amp; Defense Down (All/3T)'}, 'Doppel': {'Name': 'Magia 2: Ouroborus', 'Ability': 'Damage All Enemies [X] &amp; Defense Down (All/3T)'}}\n"
     ]
    }
   ],
   "source": [
    "Hayate = {\n",
    "    \"Name\": \"Hayate Yagami\",\n",
    "    \"Age\": Age,\n",
    "    \"EyeColor\": EyeColor,\n",
    "    \"HairColor\": HairColor,\n",
    "    \"SoulGem\": SoulGem,\n",
    "    \"Weapon\": Weapon,\n",
    "    \"Pronoun\": Pronoun,\n",
    "    \"School\": School,\n",
    "    \"Disks\": disks,\n",
    "    \"Stats\": {\n",
    "        \"Initial\": {\n",
    "            \"HP\": initial_hp,\n",
    "            \"ATK\": initial_atk,\n",
    "            \"DEF\": initial_def\n",
    "        },\n",
    "        \"Three_Star\": {\n",
    "            \"HP\": three_star_hp,\n",
    "            \"ATK\": three_star_atk,\n",
    "            \"DEF\": three_star_def\n",
    "        },\n",
    "        \"Four_Star\": {\n",
    "            \"HP\": four_star_hp,\n",
    "            \"ATK\": four_star_atk,\n",
    "            \"DEF\": four_star_def\n",
    "        },\n",
    "        \"Five_Star\": {\n",
    "            \"HP\": five_star_hp,\n",
    "            \"ATK\": five_star_atk,\n",
    "            \"DEF\": five_star_def        \n",
    "        },\n",
    "        \"SE\": {\n",
    "            \"HP\": se_hp,\n",
    "            \"ATK\": se_atk,\n",
    "            \"DEF\":  se_def          \n",
    "        }\n",
    "    },\n",
    "    \"Connect\": {\n",
    "        \"Name\": connect,\n",
    "        \"Three_Star\": connect_three_star,\n",
    "        \"Four_Star\": connect_four_star,\n",
    "        \"Five_Star\": connect_five_star\n",
    "    },\n",
    "    \"Magia\": {\n",
    "        \"Name\": magia,\n",
    "        \"Three_Star\": magia_three_star,\n",
    "        \"Four_Star\": magia_four_star,\n",
    "        \"Five_Star\": magia_five_star\n",
    "    },\n",
    "    \"Doppel\": {\n",
    "        \"Name\": doppel,\n",
    "        \"Ability\": doppel_info,\n",
    "    }\n",
    "}\n",
    "\n",
    "print(Hayate)"
   ]
  },
  {
   "cell_type": "code",
   "execution_count": 13,
   "metadata": {},
   "outputs": [
    {
     "name": "stdout",
     "output_type": "stream",
     "text": [
      "{\"Name\": \"Hayate Yagami\", \"Age\": \"Age: 9\", \"EyeColor\": \"Eye colour: Blue\", \"HairColor\": \"Hair colour: Light Brown\", \"SoulGem\": \"Soul Gem: None as she isn't a Puella Mag\", \"Weapon\": \"Weapon: Book of Darkness\", \"Pronoun\": \"Japanese pronoun: <i>watashi</i><span style=\\\"font-weight: normal\\\"> (<span class=\\\"t_nihongo_kanji\\\" lang=\\\"ja\\\">\\u308f\\u305f\\u3057</span>)</span\", \"School\": \"School:\", \"Disks\": [\"Accel\", \"Accel\", \"Blast\", \"Charge\", \"Charge\"], \"Stats\": {\"Initial\": {\"HP\": \"3463\", \"ATK\": \"1465\", \"DEF\": \"1158\"}, \"Three_Star\": {\"HP\": \"11524\", \"ATK\": \"15158\", \"DEF\": \"4910\"}, \"Four_Star\": {\"HP\": \"15158\", \"ATK\": \"6460\", \"DEF\": \"5367\"}, \"Five_Star\": {\"HP\": \"18783\", \"ATK\": \"8010\", \"DEF\": \"6669\"}, \"SE\": {\"HP\": \"20647\", \"ATK\": \"9024\", \"DEF\": \"8999\"}}, \"Connect\": {\"Name\": \"Connect: Just Staying at My Side\", \"Three_Star\": \"\\u26053: Attack Up [V] and Chance to Bind\", \"Four_Star\": \"\\u26054: Attack Up [VII] and Chance to Bind\", \"Five_Star\": \"\\u26055: Attack Up [IX] and Chance to Bind\"}, \"Magia\": {\"Name\": \"Magia: Cla\\u00edomh Solais\", \"Three_Star\": \"\\u26053: Damage All Enemies [IV] &amp; Defense Down (All/3T)\", \"Four_Star\": \"\\u26054: Damage All Enemies [VI] &amp; Defense Down (All/3T)\", \"Five_Star\": \"\\u26055: Damage All Enemies [VIII] &amp; Defense Down (All/3T)\"}, \"Doppel\": {\"Name\": \"Magia 2: Ouroborus\", \"Ability\": \"Damage All Enemies [X] &amp; Defense Down (All/3T)\"}}\n"
     ]
    }
   ],
   "source": [
    "girl_json = json.dumps(Hayate)\n",
    "print(girl_json)\n",
    "\n",
    "with open('hayate.json', 'w') as json_file:\n",
    "  json.dump(girl_json, json_file)"
   ]
  },
  {
   "cell_type": "code",
   "execution_count": null,
   "metadata": {},
   "outputs": [],
   "source": []
  }
 ],
 "metadata": {
  "kernelspec": {
   "display_name": "Python 3",
   "language": "python",
   "name": "python3"
  },
  "language_info": {
   "codemirror_mode": {
    "name": "ipython",
    "version": 3
   },
   "file_extension": ".py",
   "mimetype": "text/x-python",
   "name": "python",
   "nbconvert_exporter": "python",
   "pygments_lexer": "ipython3",
   "version": "3.7.3"
  }
 },
 "nbformat": 4,
 "nbformat_minor": 2
}
