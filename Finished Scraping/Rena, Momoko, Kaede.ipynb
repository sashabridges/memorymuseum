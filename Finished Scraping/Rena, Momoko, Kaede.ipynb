{
 "cells": [
  {
   "cell_type": "code",
   "execution_count": 2,
   "metadata": {},
   "outputs": [
    {
     "name": "stdout",
     "output_type": "stream",
     "text": [
      "<li><b>Age:</b> 15</li>\n",
      "<li><b>School:</b> Kamihama City University Affiliated School, Ninth grade</li>\n",
      "The Doppel of transformation. Its form is a glass slipper. The master of this emotion uses its power to their utmost content. This Doppel enhances the transforming ability of its possessor manyfold, allowing her to transform into someone else for a certain amount of time. The result of this transformation is truer to the ideal image of the person than the actual person it is based on. However, because the transformation is so perfect, if it is used too much, the user is likely to lose track of their own identity. It turns the user into the ideal state of its target, so it sometimes appears slightly different from the original.\n"
     ]
    }
   ],
   "source": [
    "# Dependencies\n",
    "# import os\n",
    "# from bs4 import BeautifulSoup as bs\n",
    "# import json\n",
    "# import requests\n",
    "\n",
    "# query_url = \"https://wiki.puella-magi.net/Rena_Minami\"\n",
    "# response = requests.get(query_url)\n",
    "# soup = bs(response.text, 'html.parser')\n",
    "\n",
    "bullet_points = soup.find_all('li')\n",
    "# 19- 30 General Info\n",
    "print(bullet_points[21])\n",
    "print(bullet_points[32])\n",
    "\n",
    "para = soup.find_all('p')\n",
    "para = str(para[4])\n",
    "para = para.strip(\"<p>\")\n",
    "para = para.strip(\"</p>\")\n",
    "para = para.rstrip()\n",
    "print(para)"
   ]
  },
  {
   "cell_type": "code",
   "execution_count": 3,
   "metadata": {},
   "outputs": [
    {
     "name": "stdout",
     "output_type": "stream",
     "text": [
      "4923 2122 1612\n",
      "17594 7749 5845\n",
      "22144 9776 7366\n",
      "28348 12463 9564\n"
     ]
    }
   ],
   "source": [
    "table_data = soup.find_all('td')\n",
    "\n",
    "# initial 20, 21, 22, 23\n",
    "initial_hp = str(table_data[21]).replace('<td style=\"width:25%;\">', '').replace('</td>', '').rstrip()\n",
    "initial_atk = str(table_data[22]).replace('<td style=\"width:25%;\">', '').replace('</td>', '').rstrip()\n",
    "initial_def = str(table_data[23]).replace('<td style=\"width:25%;\">', '').replace('</td>', '').rstrip()\n",
    "# max at 4* 33, 34, 35\n",
    "four_star_hp = str(table_data[25]).replace('<td style=\"width:25%;\">', '').replace('</td>', '').rstrip()\n",
    "four_star_atk = str(table_data[26]).replace('<td style=\"width:25%;\">', '').replace('</td>', '').rstrip()\n",
    "four_star_def = str(table_data[27]).replace('<td style=\"width:25%;\">', '').replace('</td>', '').rstrip()\n",
    "# max at 5* 37, 38, 39\n",
    "five_star_hp = str(table_data[29]).replace('<td style=\"width:25%;\">', '').replace('</td>', '').rstrip()\n",
    "five_star_atk = str(table_data[30]).replace('<td style=\"width:25%;\">', '').replace('</td>', '').rstrip()\n",
    "five_star_def = str(table_data[31]).replace('<td style=\"width:25%;\">', '').replace('</td>', '').rstrip()\n",
    "# SE\n",
    "se_hp = str(table_data[33]).replace('<td style=\"width:25%;\">', '').replace('</td>', '').rstrip()\n",
    "se_atk = str(table_data[34]).replace('<td style=\"width:25%;\">', '').replace('</td>', '').rstrip()\n",
    "se_def = str(table_data[35]).replace('<td style=\"width:25%;\">', '').replace('</td>', '').rstrip()\n",
    "\n",
    "print(initial_hp, initial_atk, initial_def)\n",
    "print(four_star_hp, four_star_atk, four_star_def)\n",
    "print(five_star_hp, five_star_atk, five_star_def)\n",
    "print(se_hp, se_atk, se_def)"
   ]
  },
  {
   "cell_type": "code",
   "execution_count": 4,
   "metadata": {},
   "outputs": [
    {
     "name": "stdout",
     "output_type": "stream",
     "text": [
      "['Accel', 'Accel', 'Accel', 'Blast', 'Charge']\n"
     ]
    }
   ],
   "source": [
    "disk_one = str(table_data[36])\n",
    "disk_two = str(table_data[37])\n",
    "disk_three = str(table_data[38])\n",
    "disk_four = str(table_data[39])\n",
    "disk_five = str(table_data[40])\n",
    "\n",
    "if (disk_one.find(\"accel\") != -1):\n",
    "    disk_one = \"Accel\"\n",
    "elif (disk_one.find(\"blast\") != -1):\n",
    "    disk_one = \"Blast\"\n",
    "else:\n",
    "    disk_one = \"Charge\"\n",
    "    \n",
    "if (disk_two.find(\"accel\") != -1):\n",
    "    disk_two = \"Accel\"\n",
    "elif (disk_two.find(\"blast\") != -1):\n",
    "    disk_two = \"Blast\"\n",
    "else:\n",
    "    disk_two = \"Charge\"\n",
    "\n",
    "if (disk_three.find(\"accel\") != -1):\n",
    "    disk_three = \"Accel\"\n",
    "elif (disk_three.find(\"blast\") != -1):\n",
    "    disk_three = \"Blast\"\n",
    "else:\n",
    "    disk_three = \"Charge\"\n",
    "    \n",
    "if (disk_four.find(\"accel\") != -1):\n",
    "    disk_four = \"Accel\"\n",
    "elif (disk_four.find(\"blast\") != -1):\n",
    "    disk_four = \"Blast\"\n",
    "else:\n",
    "    disk_four = \"Charge\"\n",
    "    \n",
    "if (disk_five.find(\"accel\") != -1):\n",
    "    disk_five = \"Accel\"\n",
    "elif (disk_five.find(\"blast\") != -1):\n",
    "    disk_five = \"Blast\"\n",
    "else:\n",
    "    disk_five = \"Charge\"\n",
    "    \n",
    "disks = [disk_one, disk_two, disk_three, disk_four, disk_five]\n",
    "print(disks)"
   ]
  },
  {
   "cell_type": "code",
   "execution_count": 5,
   "metadata": {},
   "outputs": [
    {
     "name": "stdout",
     "output_type": "stream",
     "text": [
      "★4: Attack UP [VII] &amp; Accele MP Gain UP [VII] &amp; Probability Critical [VII]\n",
      "★5: Attack UP [IX] &amp; Accele MP Gain UP [IX] &amp; Probability Critical [IX]\n",
      "★4: Damage One Enemy [V] &amp; MP Restore (Self / 30 MP)\n",
      "★5: Damage One Enemy [VII] &amp; MP Restore (Self / 40 MP) &amp; Accele MP Gain UP (Self / 3 T)\n"
     ]
    }
   ],
   "source": [
    "# table_data 49 through 52 are Connect Info\n",
    "connect_four_star = str(table_data[41])\n",
    "connect_five_star = str(table_data[42])\n",
    "\n",
    "connect_four_star = connect_four_star.replace('</td>', '')\n",
    "connect_four_star = connect_four_star.replace('<td style=\"width:100%;\">', '')\n",
    "connect_four_star = connect_four_star.rstrip()\n",
    "print(connect_four_star)\n",
    "\n",
    "connect_five_star = connect_five_star.replace('</td>', '')\n",
    "connect_five_star = connect_five_star.replace('<td style=\"width:100%;\">', '')\n",
    "connect_five_star = connect_five_star.rstrip()\n",
    "print(connect_five_star)\n",
    "\n",
    "# table_data 53 through 56 are Magia Info\n",
    "\n",
    "magia_four_star = str(table_data[43])\n",
    "magia_five_star = str(table_data[44])\n",
    "\n",
    "magia_four_star = magia_four_star.replace('</td>', '')\n",
    "magia_four_star = magia_four_star.replace('<td style=\"width:100%;\">', '')\n",
    "magia_four_star = magia_four_star.rstrip()\n",
    "print(magia_four_star)\n",
    "\n",
    "magia_five_star = magia_five_star.replace('</td>', '')\n",
    "magia_five_star = magia_five_star.replace('<td style=\"width:100%;\">', '')\n",
    "magia_five_star = magia_five_star.rstrip()\n",
    "print(magia_five_star)"
   ]
  },
  {
   "cell_type": "code",
   "execution_count": 6,
   "metadata": {},
   "outputs": [
    {
     "name": "stdout",
     "output_type": "stream",
     "text": [
      "Damage One Enemy [IX] &amp; MP Restore (Self) &amp; Accele MP Gain UP (Self / 3 T)\n",
      "<th colspan=\"5\"><b>Magia:</b> <i>Infinite Poseidon</i>\n",
      "</th>\n",
      "<th colspan=\"5\"><b>Doppel:</b> <i>Cendrillon</i>\n",
      "</th>\n",
      "Connect: Here I Am Again to Help You\n",
      "Magia: Infinite Poseidon\n",
      "Doppel: Cendrillon\n"
     ]
    }
   ],
   "source": [
    "doppel_info = str(table_data[45])\n",
    "doppel_info = doppel_info.replace('<td style=\"width:100%;\">', '')\n",
    "doppel_info = doppel_info.replace('</td>', '')\n",
    "doppel_info = doppel_info.rstrip()\n",
    "print(doppel_info)\n",
    "\n",
    "table_head = soup.find_all('th')\n",
    "connect = str(table_head[3])\n",
    "magia = str(table_head[4])\n",
    "doppel = str(table_head[5])\n",
    "print(magia)\n",
    "print(doppel)\n",
    "\n",
    "connect = connect.strip('<th colspan=\"5\">')\n",
    "connect = connect.strip('b>')\n",
    "connect = connect.strip('<b>')\n",
    "connect = connect.replace('</b>', '')\n",
    "connect = connect.replace('<i>', '')\n",
    "connect = connect.replace('</i>', '')\n",
    "connect = connect.strip('</')\n",
    "connect = connect.rstrip()\n",
    "print(connect)\n",
    "\n",
    "magia = magia.strip('<th colspan=\"5\">')\n",
    "magia = magia.strip('b>')\n",
    "magia = magia.replace('</b>', '')\n",
    "magia = magia.replace('<i>', '')\n",
    "magia = magia.replace('</i>', '')\n",
    "magia = magia.strip('</')\n",
    "magia = magia.rstrip()\n",
    "print(magia)\n",
    "\n",
    "doppel = doppel.strip('<th colspan=\"5\">')\n",
    "doppel = doppel.strip('b>')\n",
    "doppel = doppel.replace('<b>', '')\n",
    "doppel = doppel.replace('</b>', '')\n",
    "doppel = doppel.replace('<i>', '')\n",
    "doppel = doppel.replace('</i>', '')\n",
    "doppel = doppel.strip('</')\n",
    "doppel = doppel.rstrip()\n",
    "print(doppel)"
   ]
  },
  {
   "cell_type": "code",
   "execution_count": 7,
   "metadata": {},
   "outputs": [
    {
     "name": "stdout",
     "output_type": "stream",
     "text": [
      "Age: 15\n",
      "Height: 149cm\n",
      "Eye colour: Blue\n",
      "Hair colour: Light Blue\n",
      "Origins: Shinsei Ward\n",
      "Soul Gem: Blue music note specifically an eighth note (waist broach)\n",
      "Weapon: <a class=\"external text\" href=\"https://en.wikipedia.org/wiki/Trident\" rel=\"nofollow\">Trident\n",
      "Wish: \"I want to become someone else. Give Rena the power to...become someone else\"\n",
      "Ability: Transform\n",
      "Witch form: Cendrillon\n",
      "Japanese pronoun: <i>Rena</i><span style=\"font-weight: normal\"> (<span class=\"t_nihongo_kanji\" lang=\"ja\">レナ</span>)</span\n",
      "School: Kamihama City University Affiliated School Ninth grade\n"
     ]
    }
   ],
   "source": [
    "Age = str(bullet_points[21]).strip(\"<li>\").strip(\"</li>\").strip(\"<b>\").replace(\"</b>\", \"\").replace(',', '')\n",
    "print(Age)\n",
    "Height = str(bullet_points[22]).strip(\"<li>\").strip(\"</li>\").strip(\"<b>\").replace(\"</b>\", \"\").replace(',', '')\n",
    "print(Height)\n",
    "EyeColor = str(bullet_points[23]).strip(\"<li>\").strip(\"</li>\").strip(\"<b>\").replace(\"</b>\", \"\").replace(',', '')\n",
    "print(EyeColor)\n",
    "HairColor = str(bullet_points[24]).strip(\"<li>\").strip(\"</li>\").strip(\"<b>\").replace(\"</b>\", \"\").replace(',', '')\n",
    "print(HairColor)\n",
    "Hometown = str(bullet_points[25]).strip(\"<li>\").strip(\"</li>\").strip(\"<b>\").replace(\"</b>\", \"\").replace(',', '')\n",
    "print(Hometown)\n",
    "SoulGem = str(bullet_points[26]).strip(\"<li>\").strip(\"</li>\").strip(\"<b>\").replace(\"</b>\", \"\").replace(',', '')\n",
    "print(SoulGem)\n",
    "Weapon = str(bullet_points[27]).strip(\"<li>\").strip(\"</li>\").strip(\"<b>\").replace(\"</b>\", \"\").replace('</a', '').replace('<a class=\"external text\" href=\"https://en.wikipedia.org/wiki/Crossbow\" rel=\"nofollow\">', '')\n",
    "print(Weapon)\n",
    "Wish = str(bullet_points[28]).strip(\"<li>\").strip(\"</li>\").strip(\"<b>\").replace(\"</b>\", \"\").replace(',', '')\n",
    "print(Wish)\n",
    "Ability = str(bullet_points[29]).strip(\"<li>\").strip(\"</li>\").strip(\"<b>\").replace(\"</b>\", \"\").replace(',', '')\n",
    "print(Ability)\n",
    "Witch = str(bullet_points[30]).strip(\"<li>\").strip(\"</li>\").strip(\"<b>\").replace(\"</b>\", \"\").replace(',', '')\n",
    "print(Witch)\n",
    "Pronoun = str(bullet_points[31]).strip(\"<li>\").strip(\"</li>\").strip(\"<b>\").replace(\"</b>\", \"\").replace(',', '')\n",
    "print(Pronoun)\n",
    "School = str(bullet_points[32]).strip(\"<li>\").strip(\"</li>\").strip(\"<b>\").replace(\"</b>\", \"\").replace(',', '')\n",
    "print(School)"
   ]
  },
  {
   "cell_type": "code",
   "execution_count": 8,
   "metadata": {},
   "outputs": [
    {
     "name": "stdout",
     "output_type": "stream",
     "text": [
      "{'Name': 'Rena Minami', 'Age': 'Age: 15', 'EyeColor': 'Eye colour: Blue', 'HairColor': 'Hair colour: Light Blue', 'Hometown': 'Origins: Shinsei Ward', 'SoulGem': 'Soul Gem: Blue music note specifically an eighth note (waist broach)', 'Weapon': 'Weapon: <a class=\"external text\" href=\"https://en.wikipedia.org/wiki/Trident\" rel=\"nofollow\">Trident', 'Wish': 'Wish: \"I want to become someone else. Give Rena the power to...become someone else\"', 'Ability': 'Ability: Transform', 'Witch': 'Witch form: Cendrillon', 'Pronoun': 'Japanese pronoun: <i>Rena</i><span style=\"font-weight: normal\"> (<span class=\"t_nihongo_kanji\" lang=\"ja\">レナ</span>)</span', 'School': 'School: Kamihama City University Affiliated School Ninth grade', 'Disks': ['Accel', 'Accel', 'Accel', 'Blast', 'Charge'], 'Stats': {'Initial': {'HP': '4923', 'ATK': '2122', 'DEF': '1612'}, 'Four_Star': {'HP': '17594', 'ATK': '7749', 'DEF': '5845'}, 'Five_Star': {'HP': '22144', 'ATK': '9776', 'DEF': '7366'}, 'SE': {'HP': '28348', 'ATK': '12463', 'DEF': '9564'}}, 'Connect': {'Name': 'Connect: Here I Am Again to Help You', 'Four_Star': '★4: Attack UP [VII] &amp; Accele MP Gain UP [VII] &amp; Probability Critical [VII]', 'Five_Star': '★5: Attack UP [IX] &amp; Accele MP Gain UP [IX] &amp; Probability Critical [IX]'}, 'Magia': {'Name': 'Magia: Infinite Poseidon', 'Four_Star': '★4: Damage One Enemy [V] &amp; MP Restore (Self / 30 MP)', 'Five_Star': '★5: Damage One Enemy [VII] &amp; MP Restore (Self / 40 MP) &amp; Accele MP Gain UP (Self / 3 T)'}, 'Doppel': {'Name': 'Doppel: Cendrillon', 'Desc': 'The Doppel of transformation. Its form is a glass slipper. The master of this emotion uses its power to their utmost content. This Doppel enhances the transforming ability of its possessor manyfold, allowing her to transform into someone else for a certain amount of time. The result of this transformation is truer to the ideal image of the person than the actual person it is based on. However, because the transformation is so perfect, if it is used too much, the user is likely to lose track of their own identity. It turns the user into the ideal state of its target, so it sometimes appears slightly different from the original.', 'Ability': 'Damage One Enemy [IX] &amp; MP Restore (Self) &amp; Accele MP Gain UP (Self / 3 T)'}}\n"
     ]
    }
   ],
   "source": [
    "Rena = {\n",
    "    \"Name\": \"Rena Minami\",\n",
    "    \"Age\": Age,\n",
    "    \"EyeColor\": EyeColor,\n",
    "    \"HairColor\": HairColor,\n",
    "    \"Hometown\": Hometown,\n",
    "    \"SoulGem\": SoulGem,\n",
    "    \"Weapon\": Weapon,\n",
    "    \"Wish\": Wish,\n",
    "    \"Ability\": Ability,\n",
    "    \"Witch\": Witch,\n",
    "    \"Pronoun\": Pronoun,\n",
    "    \"School\": School,\n",
    "    \"Disks\": disks,\n",
    "    \"Stats\": {\n",
    "        \"Initial\": {\n",
    "            \"HP\": initial_hp,\n",
    "            \"ATK\": initial_atk,\n",
    "            \"DEF\": initial_def\n",
    "        },\n",
    "        \"Four_Star\": {\n",
    "            \"HP\": four_star_hp,\n",
    "            \"ATK\": four_star_atk,\n",
    "            \"DEF\": four_star_def\n",
    "        },\n",
    "        \"Five_Star\": {\n",
    "            \"HP\": five_star_hp,\n",
    "            \"ATK\": five_star_atk,\n",
    "            \"DEF\": five_star_def        \n",
    "        },\n",
    "        \"SE\": {\n",
    "            \"HP\": se_hp,\n",
    "            \"ATK\": se_atk,\n",
    "            \"DEF\":  se_def          \n",
    "        }\n",
    "    },\n",
    "    \"Connect\": {\n",
    "        \"Name\": connect,\n",
    "        \"Four_Star\": connect_four_star,\n",
    "        \"Five_Star\": connect_five_star\n",
    "    },\n",
    "    \"Magia\": {\n",
    "        \"Name\": magia,\n",
    "        \"Four_Star\": magia_four_star,\n",
    "        \"Five_Star\": magia_five_star\n",
    "    },\n",
    "    \"Doppel\": {\n",
    "        \"Name\": doppel,\n",
    "        \"Desc\": para,\n",
    "        \"Ability\": doppel_info,\n",
    "    }\n",
    "}\n",
    "\n",
    "print(Rena)"
   ]
  },
  {
   "cell_type": "code",
   "execution_count": 9,
   "metadata": {},
   "outputs": [
    {
     "name": "stdout",
     "output_type": "stream",
     "text": [
      "{\"Name\": \"Rena Minami\", \"Age\": \"Age: 15\", \"EyeColor\": \"Eye colour: Blue\", \"HairColor\": \"Hair colour: Light Blue\", \"Hometown\": \"Origins: Shinsei Ward\", \"SoulGem\": \"Soul Gem: Blue music note specifically an eighth note (waist broach)\", \"Weapon\": \"Weapon: <a class=\\\"external text\\\" href=\\\"https://en.wikipedia.org/wiki/Trident\\\" rel=\\\"nofollow\\\">Trident\", \"Wish\": \"Wish: \\\"I want to become someone else. Give Rena the power to...become someone else\\\"\", \"Ability\": \"Ability: Transform\", \"Witch\": \"Witch form: Cendrillon\", \"Pronoun\": \"Japanese pronoun: <i>Rena</i><span style=\\\"font-weight: normal\\\"> (<span class=\\\"t_nihongo_kanji\\\" lang=\\\"ja\\\">\\u30ec\\u30ca</span>)</span\", \"School\": \"School: Kamihama City University Affiliated School Ninth grade\", \"Disks\": [\"Accel\", \"Accel\", \"Accel\", \"Blast\", \"Charge\"], \"Stats\": {\"Initial\": {\"HP\": \"4923\", \"ATK\": \"2122\", \"DEF\": \"1612\"}, \"Four_Star\": {\"HP\": \"17594\", \"ATK\": \"7749\", \"DEF\": \"5845\"}, \"Five_Star\": {\"HP\": \"22144\", \"ATK\": \"9776\", \"DEF\": \"7366\"}, \"SE\": {\"HP\": \"28348\", \"ATK\": \"12463\", \"DEF\": \"9564\"}}, \"Connect\": {\"Name\": \"Connect: Here I Am Again to Help You\", \"Four_Star\": \"\\u26054: Attack UP [VII] &amp; Accele MP Gain UP [VII] &amp; Probability Critical [VII]\", \"Five_Star\": \"\\u26055: Attack UP [IX] &amp; Accele MP Gain UP [IX] &amp; Probability Critical [IX]\"}, \"Magia\": {\"Name\": \"Magia: Infinite Poseidon\", \"Four_Star\": \"\\u26054: Damage One Enemy [V] &amp; MP Restore (Self / 30 MP)\", \"Five_Star\": \"\\u26055: Damage One Enemy [VII] &amp; MP Restore (Self / 40 MP) &amp; Accele MP Gain UP (Self / 3 T)\"}, \"Doppel\": {\"Name\": \"Doppel: Cendrillon\", \"Desc\": \"The Doppel of transformation. Its form is a glass slipper. The master of this emotion uses its power to their utmost content. This Doppel enhances the transforming ability of its possessor manyfold, allowing her to transform into someone else for a certain amount of time. The result of this transformation is truer to the ideal image of the person than the actual person it is based on. However, because the transformation is so perfect, if it is used too much, the user is likely to lose track of their own identity. It turns the user into the ideal state of its target, so it sometimes appears slightly different from the original.\", \"Ability\": \"Damage One Enemy [IX] &amp; MP Restore (Self) &amp; Accele MP Gain UP (Self / 3 T)\"}}\n"
     ]
    }
   ],
   "source": [
    "girl_json = json.dumps(Rena)\n",
    "print(girl_json)\n",
    "\n",
    "with open('rena.json', 'w') as json_file:\n",
    "  json.dump(girl_json, json_file)"
   ]
  },
  {
   "cell_type": "code",
   "execution_count": 11,
   "metadata": {},
   "outputs": [
    {
     "name": "stdout",
     "output_type": "stream",
     "text": [
      "<li><b>Age:</b> 16</li>\n",
      "<li><b>School:</b> Kamihama City University Affiliated School, Tenth grade</li>\n",
      "The Doppel of Self Discipline. Its form is manicured nails.\n",
      "The master of this emotion cares not where its power fly. This Doppel attacks with its huge fingers, along with the many fingers that fly around it. All the nails on the fingers are polished and decorated. It cares very much about its nails. When someone praises them, it becomes quite happy, but when someone says something bad about them, it gets discouraged and depressed. It is quite troublesome to deal with when this happens, so it is a good idea to let it attack the enemy as soon as you summon it.\n"
     ]
    }
   ],
   "source": [
    "# Dependencies\n",
    "# import os\n",
    "# from bs4 import BeautifulSoup as bs\n",
    "# import json\n",
    "# import requests\n",
    "\n",
    "# query_url = \"https://wiki.puella-magi.net/Momoko_Togame\"\n",
    "# response = requests.get(query_url)\n",
    "# soup = bs(response.text, 'html.parser')\n",
    "\n",
    "bullet_points = soup.find_all('li')\n",
    "# 19- 30 General Info\n",
    "print(bullet_points[20])\n",
    "print(bullet_points[31])\n",
    "\n",
    "para = soup.find_all('p')\n",
    "para = str(para[4])\n",
    "para = para.strip(\"<p>\")\n",
    "para = para.strip(\"</p>\")\n",
    "para = para.rstrip()\n",
    "print(para)"
   ]
  },
  {
   "cell_type": "code",
   "execution_count": 12,
   "metadata": {},
   "outputs": [
    {
     "name": "stdout",
     "output_type": "stream",
     "text": [
      "3866 1059 1065\n",
      "21505 6694 7011\n",
      "27101 8428 8834\n",
      "34410 10823 12966\n"
     ]
    }
   ],
   "source": [
    "table_data = soup.find_all('td')\n",
    "\n",
    "initial_hp = str(table_data[21]).replace('<td style=\"width:25%;\">', '').replace('</td>', '').rstrip()\n",
    "initial_atk = str(table_data[22]).replace('<td style=\"width:25%;\">', '').replace('</td>', '').rstrip()\n",
    "initial_def = str(table_data[23]).replace('<td style=\"width:25%;\">', '').replace('</td>', '').rstrip()\n",
    "# max at 4* 33, 34, 35\n",
    "four_star_hp = str(table_data[25]).replace('<td style=\"width:25%;\">', '').replace('</td>', '').rstrip()\n",
    "four_star_atk = str(table_data[26]).replace('<td style=\"width:25%;\">', '').replace('</td>', '').rstrip()\n",
    "four_star_def = str(table_data[27]).replace('<td style=\"width:25%;\">', '').replace('</td>', '').rstrip()\n",
    "# max at 5* 37, 38, 39\n",
    "five_star_hp = str(table_data[29]).replace('<td style=\"width:25%;\">', '').replace('</td>', '').rstrip()\n",
    "five_star_atk = str(table_data[30]).replace('<td style=\"width:25%;\">', '').replace('</td>', '').rstrip()\n",
    "five_star_def = str(table_data[31]).replace('<td style=\"width:25%;\">', '').replace('</td>', '').rstrip()\n",
    "# SE\n",
    "se_hp = str(table_data[33]).replace('<td style=\"width:25%;\">', '').replace('</td>', '').rstrip()\n",
    "se_atk = str(table_data[34]).replace('<td style=\"width:25%;\">', '').replace('</td>', '').rstrip()\n",
    "se_def = str(table_data[35]).replace('<td style=\"width:25%;\">', '').replace('</td>', '').rstrip()\n",
    "\n",
    "print(initial_hp, initial_atk, initial_def)\n",
    "print(four_star_hp, four_star_atk, four_star_def)\n",
    "print(five_star_hp, five_star_atk, five_star_def)\n",
    "print(se_hp, se_atk, se_def)"
   ]
  },
  {
   "cell_type": "code",
   "execution_count": 13,
   "metadata": {},
   "outputs": [
    {
     "name": "stdout",
     "output_type": "stream",
     "text": [
      "['Accel', 'Blast', 'Charge', 'Charge', 'Charge']\n"
     ]
    }
   ],
   "source": [
    "disk_one = str(table_data[36])\n",
    "disk_two = str(table_data[37])\n",
    "disk_three = str(table_data[38])\n",
    "disk_four = str(table_data[39])\n",
    "disk_five = str(table_data[40])\n",
    "\n",
    "if (disk_one.find(\"accel\") != -1):\n",
    "    disk_one = \"Accel\"\n",
    "elif (disk_one.find(\"blast\") != -1):\n",
    "    disk_one = \"Blast\"\n",
    "else:\n",
    "    disk_one = \"Charge\"\n",
    "    \n",
    "if (disk_two.find(\"accel\") != -1):\n",
    "    disk_two = \"Accel\"\n",
    "elif (disk_two.find(\"blast\") != -1):\n",
    "    disk_two = \"Blast\"\n",
    "else:\n",
    "    disk_two = \"Charge\"\n",
    "\n",
    "if (disk_three.find(\"accel\") != -1):\n",
    "    disk_three = \"Accel\"\n",
    "elif (disk_three.find(\"blast\") != -1):\n",
    "    disk_three = \"Blast\"\n",
    "else:\n",
    "    disk_three = \"Charge\"\n",
    "    \n",
    "if (disk_four.find(\"accel\") != -1):\n",
    "    disk_four = \"Accel\"\n",
    "elif (disk_four.find(\"blast\") != -1):\n",
    "    disk_four = \"Blast\"\n",
    "else:\n",
    "    disk_four = \"Charge\"\n",
    "    \n",
    "if (disk_five.find(\"accel\") != -1):\n",
    "    disk_five = \"Accel\"\n",
    "elif (disk_five.find(\"blast\") != -1):\n",
    "    disk_five = \"Blast\"\n",
    "else:\n",
    "    disk_five = \"Charge\"\n",
    "    \n",
    "disks = [disk_one, disk_two, disk_three, disk_four, disk_five]\n",
    "print(disks)"
   ]
  },
  {
   "cell_type": "code",
   "execution_count": 14,
   "metadata": {},
   "outputs": [
    {
     "name": "stdout",
     "output_type": "stream",
     "text": [
      "★4: Attack UP [VII] &amp; Charge Damage UP [VII] &amp; Defense Pierce\n",
      "★5: Attack UP [IX] &amp; Charge Damage UP [IX] &amp; Defense Pierce\n",
      "★4: Damage One Enemy [V] &amp; Charge Damage UP (All / 3 T) &amp; Blast Damage UP (All / 3 T)\n",
      "★5: Damage One Enemy [VII] &amp; Charge Damage UP (All / 3 T) &amp; Blast Damage UP (All / 3 T)\n"
     ]
    }
   ],
   "source": [
    "# table_data 49 through 52 are Connect Info\n",
    "connect_four_star = str(table_data[41])\n",
    "connect_five_star = str(table_data[42])\n",
    "\n",
    "connect_four_star = connect_four_star.replace('</td>', '')\n",
    "connect_four_star = connect_four_star.replace('<td style=\"width:100%;\">', '')\n",
    "connect_four_star = connect_four_star.rstrip()\n",
    "print(connect_four_star)\n",
    "\n",
    "connect_five_star = connect_five_star.replace('</td>', '')\n",
    "connect_five_star = connect_five_star.replace('<td style=\"width:100%;\">', '')\n",
    "connect_five_star = connect_five_star.rstrip()\n",
    "print(connect_five_star)\n",
    "\n",
    "# table_data 53 through 56 are Magia Info\n",
    "\n",
    "magia_four_star = str(table_data[43])\n",
    "magia_five_star = str(table_data[44])\n",
    "\n",
    "magia_four_star = magia_four_star.replace('</td>', '')\n",
    "magia_four_star = magia_four_star.replace('<td style=\"width:100%;\">', '')\n",
    "magia_four_star = magia_four_star.rstrip()\n",
    "print(magia_four_star)\n",
    "\n",
    "magia_five_star = magia_five_star.replace('</td>', '')\n",
    "magia_five_star = magia_five_star.replace('<td style=\"width:100%;\">', '')\n",
    "magia_five_star = magia_five_star.rstrip()\n",
    "print(magia_five_star)"
   ]
  },
  {
   "cell_type": "code",
   "execution_count": 15,
   "metadata": {},
   "outputs": [
    {
     "name": "stdout",
     "output_type": "stream",
     "text": [
      "Damage One Enemy [IX] &amp; Charge Damage UP (All / 3 T) &amp; Blast Damage UP (All / 3 T)\n",
      "<th colspan=\"5\"><b>Magia:</b> <i>Edge of Universe</i>\n",
      "</th>\n",
      "<th colspan=\"5\"><b>Doppel:</b> <i>Elfriede</i>\n",
      "</th>\n",
      "Connect: So What If I'm Overbearing!?\n",
      "Magia: Edge of Universe\n",
      "Doppel: Elfriede\n"
     ]
    }
   ],
   "source": [
    "doppel_info = str(table_data[45])\n",
    "doppel_info = doppel_info.replace('<td style=\"width:100%;\">', '')\n",
    "doppel_info = doppel_info.replace('</td>', '')\n",
    "doppel_info = doppel_info.rstrip()\n",
    "print(doppel_info)\n",
    "\n",
    "table_head = soup.find_all('th')\n",
    "connect = str(table_head[3])\n",
    "magia = str(table_head[4])\n",
    "doppel = str(table_head[5])\n",
    "print(magia)\n",
    "print(doppel)\n",
    "\n",
    "connect = connect.strip('<th colspan=\"5\">')\n",
    "connect = connect.strip('b>')\n",
    "connect = connect.strip('<b>')\n",
    "connect = connect.replace('</b>', '')\n",
    "connect = connect.replace('<i>', '')\n",
    "connect = connect.replace('</i>', '')\n",
    "connect = connect.strip('</')\n",
    "connect = connect.rstrip()\n",
    "print(connect)\n",
    "\n",
    "magia = magia.strip('<th colspan=\"5\">')\n",
    "magia = magia.strip('b>')\n",
    "magia = magia.replace('</b>', '')\n",
    "magia = magia.replace('<i>', '')\n",
    "magia = magia.replace('</i>', '')\n",
    "magia = magia.strip('</')\n",
    "magia = magia.rstrip()\n",
    "print(magia)\n",
    "\n",
    "doppel = doppel.strip('<th colspan=\"5\">')\n",
    "doppel = doppel.strip('b>')\n",
    "doppel = doppel.replace('<b>', '')\n",
    "doppel = doppel.replace('</b>', '')\n",
    "doppel = doppel.replace('<i>', '')\n",
    "doppel = doppel.replace('</i>', '')\n",
    "doppel = doppel.strip('</')\n",
    "doppel = doppel.rstrip()\n",
    "print(doppel)"
   ]
  },
  {
   "cell_type": "code",
   "execution_count": 16,
   "metadata": {},
   "outputs": [
    {
     "name": "stdout",
     "output_type": "stream",
     "text": [
      "Age: 16\n",
      "Height: 161cm\n",
      "Eye colour: Reddish Brown\n",
      "Hair colour: Blonde\n",
      "Origins: Shinsei Ward\n",
      "Soul Gem: Reddish brown shield (chest)\n",
      "Weapon: <a class=\"external text\" href=\"https://en.wikipedia.org/wiki/Machete\" rel=\"nofollow\">Machete\n",
      "Wish: \"I want the courage to confess my feelings.\"\n",
      "Ability: Encouragement\n",
      "Witch form: Elfriede\n",
      "Japanese pronoun: <i>atashi</i><span style=\"font-weight: normal\"> (<span class=\"t_nihongo_kanji\" lang=\"ja\">アタシ</span>)</span\n",
      "School: Kamihama City University Affiliated School Tenth grade\n"
     ]
    }
   ],
   "source": [
    "Age = str(bullet_points[20]).strip(\"<li>\").strip(\"</li>\").strip(\"<b>\").replace(\"</b>\", \"\").replace(',', '')\n",
    "print(Age)\n",
    "Height = str(bullet_points[21]).strip(\"<li>\").strip(\"</li>\").strip(\"<b>\").replace(\"</b>\", \"\").replace(',', '')\n",
    "print(Height)\n",
    "EyeColor = str(bullet_points[22]).strip(\"<li>\").strip(\"</li>\").strip(\"<b>\").replace(\"</b>\", \"\").replace(',', '')\n",
    "print(EyeColor)\n",
    "HairColor = str(bullet_points[23]).strip(\"<li>\").strip(\"</li>\").strip(\"<b>\").replace(\"</b>\", \"\").replace(',', '')\n",
    "print(HairColor)\n",
    "Hometown = str(bullet_points[24]).strip(\"<li>\").strip(\"</li>\").strip(\"<b>\").replace(\"</b>\", \"\").replace(',', '')\n",
    "print(Hometown)\n",
    "SoulGem = str(bullet_points[25]).strip(\"<li>\").strip(\"</li>\").strip(\"<b>\").replace(\"</b>\", \"\").replace(',', '')\n",
    "print(SoulGem)\n",
    "Weapon = str(bullet_points[26]).strip(\"<li>\").strip(\"</li>\").strip(\"<b>\").replace(\"</b>\", \"\").replace('</a', '').replace('<a class=\"external text\" href=\"https://en.wikipedia.org/wiki/Crossbow\" rel=\"nofollow\">', '')\n",
    "print(Weapon)\n",
    "Wish = str(bullet_points[27]).strip(\"<li>\").strip(\"</li>\").strip(\"<b>\").replace(\"</b>\", \"\").replace(',', '')\n",
    "print(Wish)\n",
    "Ability = str(bullet_points[28]).strip(\"<li>\").strip(\"</li>\").strip(\"<b>\").replace(\"</b>\", \"\").replace(',', '')\n",
    "print(Ability)\n",
    "Witch = str(bullet_points[29]).strip(\"<li>\").strip(\"</li>\").strip(\"<b>\").replace(\"</b>\", \"\").replace(',', '')\n",
    "print(Witch)\n",
    "Pronoun = str(bullet_points[30]).strip(\"<li>\").strip(\"</li>\").strip(\"<b>\").replace(\"</b>\", \"\").replace(',', '')\n",
    "print(Pronoun)\n",
    "School = str(bullet_points[31]).strip(\"<li>\").strip(\"</li>\").strip(\"<b>\").replace(\"</b>\", \"\").replace(',', '')\n",
    "print(School)"
   ]
  },
  {
   "cell_type": "code",
   "execution_count": 17,
   "metadata": {},
   "outputs": [
    {
     "name": "stdout",
     "output_type": "stream",
     "text": [
      "{'Name': 'Momoko Togame', 'Age': 'Age: 16', 'EyeColor': 'Eye colour: Reddish Brown', 'HairColor': 'Hair colour: Blonde', 'Hometown': 'Origins: Shinsei Ward', 'SoulGem': 'Soul Gem: Reddish brown shield (chest)', 'Weapon': 'Weapon: <a class=\"external text\" href=\"https://en.wikipedia.org/wiki/Machete\" rel=\"nofollow\">Machete', 'Wish': 'Wish: \"I want the courage to confess my feelings.\"', 'Ability': 'Ability: Encouragement', 'Witch': 'Witch form: Elfriede', 'Pronoun': 'Japanese pronoun: <i>atashi</i><span style=\"font-weight: normal\"> (<span class=\"t_nihongo_kanji\" lang=\"ja\">アタシ</span>)</span', 'School': 'School: Kamihama City University Affiliated School Tenth grade', 'Disks': ['Accel', 'Blast', 'Charge', 'Charge', 'Charge'], 'Stats': {'Initial': {'HP': '3866', 'ATK': '1059', 'DEF': '1065'}, 'Four_Star': {'HP': '21505', 'ATK': '6694', 'DEF': '7011'}, 'Five_Star': {'HP': '27101', 'ATK': '8428', 'DEF': '8834'}, 'SE': {'HP': '34410', 'ATK': '10823', 'DEF': '12966'}}, 'Connect': {'Name': \"Connect: So What If I'm Overbearing!?\", 'Four_Star': '★4: Attack UP [VII] &amp; Charge Damage UP [VII] &amp; Defense Pierce', 'Five_Star': '★5: Attack UP [IX] &amp; Charge Damage UP [IX] &amp; Defense Pierce'}, 'Magia': {'Name': 'Magia: Edge of Universe', 'Four_Star': '★4: Damage One Enemy [V] &amp; Charge Damage UP (All / 3 T) &amp; Blast Damage UP (All / 3 T)', 'Five_Star': '★5: Damage One Enemy [VII] &amp; Charge Damage UP (All / 3 T) &amp; Blast Damage UP (All / 3 T)'}, 'Doppel': {'Name': 'Doppel: Elfriede', 'Desc': 'The Doppel of Self Discipline. Its form is manicured nails.\\nThe master of this emotion cares not where its power fly. This Doppel attacks with its huge fingers, along with the many fingers that fly around it. All the nails on the fingers are polished and decorated. It cares very much about its nails. When someone praises them, it becomes quite happy, but when someone says something bad about them, it gets discouraged and depressed. It is quite troublesome to deal with when this happens, so it is a good idea to let it attack the enemy as soon as you summon it.', 'Ability': 'Damage One Enemy [IX] &amp; Charge Damage UP (All / 3 T) &amp; Blast Damage UP (All / 3 T)'}}\n"
     ]
    }
   ],
   "source": [
    "Momoko = {\n",
    "    \"Name\": \"Momoko Togame\",\n",
    "    \"Age\": Age,\n",
    "    \"EyeColor\": EyeColor,\n",
    "    \"HairColor\": HairColor,\n",
    "    \"Hometown\": Hometown,\n",
    "    \"SoulGem\": SoulGem,\n",
    "    \"Weapon\": Weapon,\n",
    "    \"Wish\": Wish,\n",
    "    \"Ability\": Ability,\n",
    "    \"Witch\": Witch,\n",
    "    \"Pronoun\": Pronoun,\n",
    "    \"School\": School,\n",
    "    \"Disks\": disks,\n",
    "    \"Stats\": {\n",
    "        \"Initial\": {\n",
    "            \"HP\": initial_hp,\n",
    "            \"ATK\": initial_atk,\n",
    "            \"DEF\": initial_def\n",
    "        },\n",
    "        \"Four_Star\": {\n",
    "            \"HP\": four_star_hp,\n",
    "            \"ATK\": four_star_atk,\n",
    "            \"DEF\": four_star_def\n",
    "        },\n",
    "        \"Five_Star\": {\n",
    "            \"HP\": five_star_hp,\n",
    "            \"ATK\": five_star_atk,\n",
    "            \"DEF\": five_star_def        \n",
    "        },\n",
    "        \"SE\": {\n",
    "            \"HP\": se_hp,\n",
    "            \"ATK\": se_atk,\n",
    "            \"DEF\":  se_def          \n",
    "        }\n",
    "    },\n",
    "    \"Connect\": {\n",
    "        \"Name\": connect,\n",
    "        \"Four_Star\": connect_four_star,\n",
    "        \"Five_Star\": connect_five_star\n",
    "    },\n",
    "    \"Magia\": {\n",
    "        \"Name\": magia,\n",
    "        \"Four_Star\": magia_four_star,\n",
    "        \"Five_Star\": magia_five_star\n",
    "    },\n",
    "    \"Doppel\": {\n",
    "        \"Name\": doppel,\n",
    "        \"Desc\": para,\n",
    "        \"Ability\": doppel_info,\n",
    "    }\n",
    "}\n",
    "\n",
    "print(Momoko)"
   ]
  },
  {
   "cell_type": "code",
   "execution_count": 18,
   "metadata": {},
   "outputs": [
    {
     "name": "stdout",
     "output_type": "stream",
     "text": [
      "{\"Name\": \"Momoko Togame\", \"Age\": \"Age: 16\", \"EyeColor\": \"Eye colour: Reddish Brown\", \"HairColor\": \"Hair colour: Blonde\", \"Hometown\": \"Origins: Shinsei Ward\", \"SoulGem\": \"Soul Gem: Reddish brown shield (chest)\", \"Weapon\": \"Weapon: <a class=\\\"external text\\\" href=\\\"https://en.wikipedia.org/wiki/Machete\\\" rel=\\\"nofollow\\\">Machete\", \"Wish\": \"Wish: \\\"I want the courage to confess my feelings.\\\"\", \"Ability\": \"Ability: Encouragement\", \"Witch\": \"Witch form: Elfriede\", \"Pronoun\": \"Japanese pronoun: <i>atashi</i><span style=\\\"font-weight: normal\\\"> (<span class=\\\"t_nihongo_kanji\\\" lang=\\\"ja\\\">\\u30a2\\u30bf\\u30b7</span>)</span\", \"School\": \"School: Kamihama City University Affiliated School Tenth grade\", \"Disks\": [\"Accel\", \"Blast\", \"Charge\", \"Charge\", \"Charge\"], \"Stats\": {\"Initial\": {\"HP\": \"3866\", \"ATK\": \"1059\", \"DEF\": \"1065\"}, \"Four_Star\": {\"HP\": \"21505\", \"ATK\": \"6694\", \"DEF\": \"7011\"}, \"Five_Star\": {\"HP\": \"27101\", \"ATK\": \"8428\", \"DEF\": \"8834\"}, \"SE\": {\"HP\": \"34410\", \"ATK\": \"10823\", \"DEF\": \"12966\"}}, \"Connect\": {\"Name\": \"Connect: So What If I'm Overbearing!?\", \"Four_Star\": \"\\u26054: Attack UP [VII] &amp; Charge Damage UP [VII] &amp; Defense Pierce\", \"Five_Star\": \"\\u26055: Attack UP [IX] &amp; Charge Damage UP [IX] &amp; Defense Pierce\"}, \"Magia\": {\"Name\": \"Magia: Edge of Universe\", \"Four_Star\": \"\\u26054: Damage One Enemy [V] &amp; Charge Damage UP (All / 3 T) &amp; Blast Damage UP (All / 3 T)\", \"Five_Star\": \"\\u26055: Damage One Enemy [VII] &amp; Charge Damage UP (All / 3 T) &amp; Blast Damage UP (All / 3 T)\"}, \"Doppel\": {\"Name\": \"Doppel: Elfriede\", \"Desc\": \"The Doppel of Self Discipline. Its form is manicured nails.\\nThe master of this emotion cares not where its power fly. This Doppel attacks with its huge fingers, along with the many fingers that fly around it. All the nails on the fingers are polished and decorated. It cares very much about its nails. When someone praises them, it becomes quite happy, but when someone says something bad about them, it gets discouraged and depressed. It is quite troublesome to deal with when this happens, so it is a good idea to let it attack the enemy as soon as you summon it.\", \"Ability\": \"Damage One Enemy [IX] &amp; Charge Damage UP (All / 3 T) &amp; Blast Damage UP (All / 3 T)\"}}\n"
     ]
    }
   ],
   "source": [
    "girl_json = json.dumps(Momoko)\n",
    "print(girl_json)\n",
    "\n",
    "with open('momoko.json', 'w') as json_file:\n",
    "  json.dump(girl_json, json_file)"
   ]
  },
  {
   "cell_type": "code",
   "execution_count": null,
   "metadata": {},
   "outputs": [],
   "source": []
  },
  {
   "cell_type": "code",
   "execution_count": 20,
   "metadata": {},
   "outputs": [
    {
     "name": "stdout",
     "output_type": "stream",
     "text": [
      "<li><b>Age:</b> 14</li>\n",
      "<li><b>School:</b> Kamihama City University Affiliated School, Eighth grade</li>\n",
      "The Doppel of Conquest. Its form is a plot of land.\n",
      "The master of this emotion fears that it will eat away at their everyday life and carefully chooses when to summon it, for the instant this Doppel is summoned, regardless of its master's intentions, it will cover its surroundings with rotten moss to conquer the land, with its only goal being to expand its territory. Summoning this Doppel accidentally, even in a beloved area, will destroy its surroundings by covering everything in its moss. Within the confines of its territory, it can unleash tremendous power.\n"
     ]
    }
   ],
   "source": [
    "# Dependencies\n",
    "import os\n",
    "from bs4 import BeautifulSoup as bs\n",
    "import json\n",
    "import requests\n",
    "\n",
    "query_url = \"https://wiki.puella-magi.net/Kaede_Akino\"\n",
    "response = requests.get(query_url)\n",
    "soup = bs(response.text, 'html.parser')\n",
    "\n",
    "bullet_points = soup.find_all('li')\n",
    "# 19- 30 General Info\n",
    "print(bullet_points[20])\n",
    "print(bullet_points[31])\n",
    "\n",
    "para = soup.find_all('p')\n",
    "para = str(para[4])\n",
    "para = para.strip(\"<p>\")\n",
    "para = para.strip(\"</p>\")\n",
    "para = para.rstrip()\n",
    "print(para)"
   ]
  },
  {
   "cell_type": "code",
   "execution_count": 21,
   "metadata": {},
   "outputs": [
    {
     "name": "stdout",
     "output_type": "stream",
     "text": [
      "3714 1565 1175\n",
      "12805 5358 3966\n",
      "16653 6965 5157\n",
      "20511 8579 6352\n",
      "25635 9952 8176\n"
     ]
    }
   ],
   "source": [
    "table_data = soup.find_all('td')\n",
    "\n",
    "initial_hp = str(table_data[21]).replace('<td style=\"width:25%;\">', '').replace('</td>', '').rstrip()\n",
    "initial_atk = str(table_data[22]).replace('<td style=\"width:25%;\">', '').replace('</td>', '').rstrip()\n",
    "initial_def = str(table_data[23]).replace('<td style=\"width:25%;\">', '').replace('</td>', '').rstrip()\n",
    "\n",
    "# max at 3* 32, 33, 34, 35\n",
    "three_star_hp = str(table_data[25]).replace('<td style=\"width:25%;\">', '').replace('</td>', '').rstrip()\n",
    "three_star_atk = str(table_data[26]).replace('<td style=\"width:25%;\">', '').replace('</td>', '').rstrip()\n",
    "three_star_def = str(table_data[27]).replace('<td style=\"width:25%;\">', '').replace('</td>', '').rstrip()\n",
    "# max at 4* 36, 37, 38, 39\n",
    "four_star_hp = str(table_data[29]).replace('<td style=\"width:25%;\">', '').replace('</td>', '').rstrip()\n",
    "four_star_atk = str(table_data[30]).replace('<td style=\"width:25%;\">', '').replace('</td>', '').rstrip()\n",
    "four_star_def = str(table_data[31]).replace('<td style=\"width:25%;\">', '').replace('</td>', '').rstrip()\n",
    "# max at 5* [40], [41], [42], [43]\n",
    "five_star_hp = str(table_data[33]).replace('<td style=\"width:25%;\">', '').replace('</td>', '').rstrip()\n",
    "five_star_atk = str(table_data[34]).replace('<td style=\"width:25%;\">', '').replace('</td>', '').rstrip()\n",
    "five_star_def = str(table_data[35]).replace('<td style=\"width:25%;\">', '').replace('</td>', '').rstrip()\n",
    "# Max SE 44, 45, 46, 47\n",
    "se_hp = str(table_data[37]).replace('<td style=\"width:25%;\">', '').replace('</td>', '').rstrip()\n",
    "se_atk = str(table_data[38]).replace('<td style=\"width:25%;\">', '').replace('</td>', '').rstrip()\n",
    "se_def = str(table_data[39]).replace('<td style=\"width:25%;\">', '').replace('</td>', '').rstrip()\n",
    "\n",
    "print(initial_hp, initial_atk, initial_def)\n",
    "print(three_star_hp, three_star_atk, three_star_def)\n",
    "print(four_star_hp, four_star_atk, four_star_def)\n",
    "print(five_star_hp, five_star_atk, five_star_def)\n",
    "print(se_hp, se_atk, se_def)"
   ]
  },
  {
   "cell_type": "code",
   "execution_count": 22,
   "metadata": {},
   "outputs": [
    {
     "name": "stdout",
     "output_type": "stream",
     "text": [
      "['Accel', 'Accel', 'Blast', 'Blast', 'Charge']\n"
     ]
    }
   ],
   "source": [
    "disk_one = str(table_data[40])\n",
    "disk_two = str(table_data[41])\n",
    "disk_three = str(table_data[42])\n",
    "disk_four = str(table_data[43])\n",
    "disk_five = str(table_data[44])\n",
    "\n",
    "if (disk_one.find(\"accel\") != -1):\n",
    "    disk_one = \"Accel\"\n",
    "elif (disk_one.find(\"blast\") != -1):\n",
    "    disk_one = \"Blast\"\n",
    "else:\n",
    "    disk_one = \"Charge\"\n",
    "    \n",
    "if (disk_two.find(\"accel\") != -1):\n",
    "    disk_two = \"Accel\"\n",
    "elif (disk_two.find(\"blast\") != -1):\n",
    "    disk_two = \"Blast\"\n",
    "else:\n",
    "    disk_two = \"Charge\"\n",
    "\n",
    "if (disk_three.find(\"accel\") != -1):\n",
    "    disk_three = \"Accel\"\n",
    "elif (disk_three.find(\"blast\") != -1):\n",
    "    disk_three = \"Blast\"\n",
    "else:\n",
    "    disk_three = \"Charge\"\n",
    "    \n",
    "if (disk_four.find(\"accel\") != -1):\n",
    "    disk_four = \"Accel\"\n",
    "elif (disk_four.find(\"blast\") != -1):\n",
    "    disk_four = \"Blast\"\n",
    "else:\n",
    "    disk_four = \"Charge\"\n",
    "    \n",
    "if (disk_five.find(\"accel\") != -1):\n",
    "    disk_five = \"Accel\"\n",
    "elif (disk_five.find(\"blast\") != -1):\n",
    "    disk_five = \"Blast\"\n",
    "else:\n",
    "    disk_five = \"Charge\"\n",
    "    \n",
    "disks = [disk_one, disk_two, disk_three, disk_four, disk_five]\n",
    "print(disks)"
   ]
  },
  {
   "cell_type": "code",
   "execution_count": 26,
   "metadata": {},
   "outputs": [
    {
     "name": "stdout",
     "output_type": "stream",
     "text": [
      "★3: Damage UP [V] &amp; MP Gain UP [V]\n",
      "★4: Damage UP [VII] &amp; MP Gain UP [VII]\n",
      "★5: Damage UP [VIII] &amp; MP Gain UP [VIII] &amp; HP Regen [VI] (3 T)\n",
      "★3: Attribute Strengthened Damage All Enemies [IV]\n",
      "★4: Attribute Strengthened Damage All Enemies [IV] &amp; Fog (All / 3 T)\n",
      "★5: Attribute Strengthened Damage All Enemies [VII] &amp; Fog (All / 3 T) &amp; Charge Damage UP (All / 3 T) &amp; Accele MP UP (All / 3 T)\n"
     ]
    }
   ],
   "source": [
    "# table_data 49 through 52 are Connect Info\n",
    "connect_three_star = str(table_data[45])\n",
    "connect_four_star = str(table_data[46])\n",
    "connect_five_star = str(table_data[47])\n",
    "\n",
    "connect_three_star = connect_three_star.replace('</td>', '')\n",
    "connect_three_star = connect_three_star.replace('<td style=\"width:100%;\">', '')\n",
    "connect_three_star = connect_three_star.rstrip()\n",
    "print(connect_three_star)\n",
    "\n",
    "connect_four_star = connect_four_star.replace('</td>', '')\n",
    "connect_four_star = connect_four_star.replace('<td style=\"width:100%;\">', '')\n",
    "connect_four_star = connect_four_star.rstrip()\n",
    "print(connect_four_star)\n",
    "\n",
    "connect_five_star = connect_five_star.replace('</td>', '')\n",
    "connect_five_star = connect_five_star.replace('<td style=\"width:100%;\">', '')\n",
    "connect_five_star = connect_five_star.rstrip()\n",
    "print(connect_five_star)\n",
    "\n",
    "# table_data 53 through 56 are Magia Info\n",
    "\n",
    "magia_three_star = str(table_data[48])\n",
    "magia_four_star = str(table_data[49])\n",
    "magia_five_star = str(table_data[50])\n",
    "\n",
    "magia_three_star = magia_three_star.replace('</td>', '')\n",
    "magia_three_star = magia_three_star.replace('<td style=\"width:100%;\">', '')\n",
    "magia_three_star = magia_three_star.rstrip()\n",
    "print(magia_three_star)\n",
    "\n",
    "magia_four_star = magia_four_star.replace('</td>', '')\n",
    "magia_four_star = magia_four_star.replace('<td style=\"width:100%;\">', '')\n",
    "magia_four_star = magia_four_star.rstrip()\n",
    "print(magia_four_star)\n",
    "\n",
    "magia_five_star = magia_five_star.replace('</td>', '')\n",
    "magia_five_star = magia_five_star.replace('<td style=\"width:100%;\">', '')\n",
    "magia_five_star = magia_five_star.rstrip()\n",
    "print(magia_five_star)"
   ]
  },
  {
   "cell_type": "code",
   "execution_count": 27,
   "metadata": {},
   "outputs": [
    {
     "name": "stdout",
     "output_type": "stream",
     "text": [
      "Attribute Strengthened Damage All Enemies [IX] &amp; Guaranteed Fog (All) &amp; Charge Damage UP (All / 3 T) &amp; Accele MP UP (All / 3 T)\n",
      "<th colspan=\"5\"><b>Magia:</b> <i>Judgement Earth</i>\n",
      "</th>\n",
      "<th colspan=\"5\"><b>Doppel:</b> <i>Zola</i>\n",
      "</th>\n",
      "Connect: I-I'll Help with What I Can!\n",
      "Magia: Judgement Earth\n",
      "Doppel: Zola\n"
     ]
    }
   ],
   "source": [
    "doppel_info = str(table_data[51])\n",
    "doppel_info = doppel_info.replace('<td style=\"width:100%;\">', '')\n",
    "doppel_info = doppel_info.replace('</td>', '')\n",
    "doppel_info = doppel_info.rstrip()\n",
    "print(doppel_info)\n",
    "\n",
    "table_head = soup.find_all('th')\n",
    "connect = str(table_head[3])\n",
    "magia = str(table_head[4])\n",
    "doppel = str(table_head[5])\n",
    "print(magia)\n",
    "print(doppel)\n",
    "\n",
    "connect = connect.strip('<th colspan=\"5\">')\n",
    "connect = connect.strip('b>')\n",
    "connect = connect.strip('<b>')\n",
    "connect = connect.replace('</b>', '')\n",
    "connect = connect.replace('<i>', '')\n",
    "connect = connect.replace('</i>', '')\n",
    "connect = connect.strip('</')\n",
    "connect = connect.rstrip()\n",
    "print(connect)\n",
    "\n",
    "magia = magia.strip('<th colspan=\"5\">')\n",
    "magia = magia.strip('b>')\n",
    "magia = magia.replace('</b>', '')\n",
    "magia = magia.replace('<i>', '')\n",
    "magia = magia.replace('</i>', '')\n",
    "magia = magia.strip('</')\n",
    "magia = magia.rstrip()\n",
    "print(magia)\n",
    "\n",
    "doppel = doppel.strip('<th colspan=\"5\">')\n",
    "doppel = doppel.strip('b>')\n",
    "doppel = doppel.replace('<b>', '')\n",
    "doppel = doppel.replace('</b>', '')\n",
    "doppel = doppel.replace('<i>', '')\n",
    "doppel = doppel.replace('</i>', '')\n",
    "doppel = doppel.strip('</')\n",
    "doppel = doppel.rstrip()\n",
    "print(doppel)"
   ]
  },
  {
   "cell_type": "code",
   "execution_count": 28,
   "metadata": {},
   "outputs": [
    {
     "name": "stdout",
     "output_type": "stream",
     "text": [
      "Age: 14\n",
      "Height: 150cm\n",
      "Eye colour: Golden Brown\n",
      "Hair colour: Reddish Brown\n",
      "Origins: Shinsei Ward\n",
      "Soul Gem: Reddish brown circle (hat tip)\n",
      "Weapon: Wooden Cane\n",
      "Wish: \"The construction of those apartments...I wish they never started!\"\n",
      "Ability: Temporary deletion (Can delete obstacles for a certain period of time)\n",
      "Witch form: Zola\n",
      "Japanese pronoun: <i>watashi</i><span style=\"font-weight: normal\"> (<span class=\"t_nihongo_kanji\" lang=\"ja\">私</span>)</span\n",
      "School: Kamihama City University Affiliated School Eighth grade\n"
     ]
    }
   ],
   "source": [
    "Age = str(bullet_points[20]).strip(\"<li>\").strip(\"</li>\").strip(\"<b>\").replace(\"</b>\", \"\").replace(',', '')\n",
    "print(Age)\n",
    "Height = str(bullet_points[21]).strip(\"<li>\").strip(\"</li>\").strip(\"<b>\").replace(\"</b>\", \"\").replace(',', '')\n",
    "print(Height)\n",
    "EyeColor = str(bullet_points[22]).strip(\"<li>\").strip(\"</li>\").strip(\"<b>\").replace(\"</b>\", \"\").replace(',', '')\n",
    "print(EyeColor)\n",
    "HairColor = str(bullet_points[23]).strip(\"<li>\").strip(\"</li>\").strip(\"<b>\").replace(\"</b>\", \"\").replace(',', '')\n",
    "print(HairColor)\n",
    "Hometown = str(bullet_points[24]).strip(\"<li>\").strip(\"</li>\").strip(\"<b>\").replace(\"</b>\", \"\").replace(',', '')\n",
    "print(Hometown)\n",
    "SoulGem = str(bullet_points[25]).strip(\"<li>\").strip(\"</li>\").strip(\"<b>\").replace(\"</b>\", \"\").replace(',', '')\n",
    "print(SoulGem)\n",
    "Weapon = str(bullet_points[26]).strip(\"<li>\").strip(\"</li>\").strip(\"<b>\").replace(\"</b>\", \"\").replace('</a', '').replace('<a class=\"external text\" href=\"https://en.wikipedia.org/wiki/Crossbow\" rel=\"nofollow\">', '')\n",
    "print(Weapon)\n",
    "Wish = str(bullet_points[27]).strip(\"<li>\").strip(\"</li>\").strip(\"<b>\").replace(\"</b>\", \"\").replace(',', '')\n",
    "print(Wish)\n",
    "Ability = str(bullet_points[28]).strip(\"<li>\").strip(\"</li>\").strip(\"<b>\").replace(\"</b>\", \"\").replace(',', '')\n",
    "print(Ability)\n",
    "Witch = str(bullet_points[29]).strip(\"<li>\").strip(\"</li>\").strip(\"<b>\").replace(\"</b>\", \"\").replace(',', '')\n",
    "print(Witch)\n",
    "Pronoun = str(bullet_points[30]).strip(\"<li>\").strip(\"</li>\").strip(\"<b>\").replace(\"</b>\", \"\").replace(',', '')\n",
    "print(Pronoun)\n",
    "School = str(bullet_points[31]).strip(\"<li>\").strip(\"</li>\").strip(\"<b>\").replace(\"</b>\", \"\").replace(',', '')\n",
    "print(School)"
   ]
  },
  {
   "cell_type": "code",
   "execution_count": 30,
   "metadata": {},
   "outputs": [
    {
     "name": "stdout",
     "output_type": "stream",
     "text": [
      "{'Name': 'Kaede Akino', 'Age': 'Age: 14', 'EyeColor': 'Eye colour: Golden Brown', 'HairColor': 'Hair colour: Reddish Brown', 'Hometown': 'Origins: Shinsei Ward', 'SoulGem': 'Soul Gem: Reddish brown circle (hat tip)', 'Weapon': 'Weapon: Wooden Cane', 'Wish': 'Wish: \"The construction of those apartments...I wish they never started!\"', 'Ability': 'Ability: Temporary deletion (Can delete obstacles for a certain period of time)', 'Witch': 'Witch form: Zola', 'Pronoun': 'Japanese pronoun: <i>watashi</i><span style=\"font-weight: normal\"> (<span class=\"t_nihongo_kanji\" lang=\"ja\">私</span>)</span', 'School': 'School: Kamihama City University Affiliated School Eighth grade', 'Disks': ['Accel', 'Accel', 'Blast', 'Blast', 'Charge'], 'Stats': {'Initial': {'HP': '3714', 'ATK': '1565', 'DEF': '1175'}, 'Three_Star': {'HP': '12805', 'ATK': '5358', 'DEF': '3966'}, 'Four_Star': {'HP': '16653', 'ATK': '6965', 'DEF': '5157'}, 'Five_Star': {'HP': '20511', 'ATK': '8579', 'DEF': '6352'}, 'SE': {'HP': '25635', 'ATK': '9952', 'DEF': '8176'}}, 'Connect': {'Name': \"Connect: I-I'll Help with What I Can!\", 'Three_Star': '★3: Damage UP [V] &amp; MP Gain UP [V]', 'Four_Star': '★4: Damage UP [VII] &amp; MP Gain UP [VII]', 'Five_Star': '★5: Damage UP [VIII] &amp; MP Gain UP [VIII] &amp; HP Regen [VI] (3 T)'}, 'Magia': {'Name': 'Magia: Judgement Earth', 'Three_Star': '★3: Attribute Strengthened Damage All Enemies [IV]', 'Four_Star': '★4: Attribute Strengthened Damage All Enemies [IV] &amp; Fog (All / 3 T)', 'Five_Star': '★5: Attribute Strengthened Damage All Enemies [VII] &amp; Fog (All / 3 T) &amp; Charge Damage UP (All / 3 T) &amp; Accele MP UP (All / 3 T)'}, 'Doppel': {'Name': 'Doppel: Zola', 'Desc': \"The Doppel of Conquest. Its form is a plot of land.\\nThe master of this emotion fears that it will eat away at their everyday life and carefully chooses when to summon it, for the instant this Doppel is summoned, regardless of its master's intentions, it will cover its surroundings with rotten moss to conquer the land, with its only goal being to expand its territory. Summoning this Doppel accidentally, even in a beloved area, will destroy its surroundings by covering everything in its moss. Within the confines of its territory, it can unleash tremendous power.\", 'Ability': 'Attribute Strengthened Damage All Enemies [IX] &amp; Guaranteed Fog (All) &amp; Charge Damage UP (All / 3 T) &amp; Accele MP UP (All / 3 T)'}}\n"
     ]
    }
   ],
   "source": [
    "Kaede = {\n",
    "    \"Name\": \"Kaede Akino\",\n",
    "    \"Age\": Age,\n",
    "    \"EyeColor\": EyeColor,\n",
    "    \"HairColor\": HairColor,\n",
    "    \"Hometown\": Hometown,\n",
    "    \"SoulGem\": SoulGem,\n",
    "    \"Weapon\": Weapon,\n",
    "    \"Wish\": Wish,\n",
    "    \"Ability\": Ability,\n",
    "    \"Witch\": Witch,\n",
    "    \"Pronoun\": Pronoun,\n",
    "    \"School\": School,\n",
    "    \"Disks\": disks,\n",
    "    \"Stats\": {\n",
    "        \"Initial\": {\n",
    "            \"HP\": initial_hp,\n",
    "            \"ATK\": initial_atk,\n",
    "            \"DEF\": initial_def\n",
    "        },\n",
    "        \"Three_Star\": {\n",
    "            \"HP\": three_star_hp,\n",
    "            \"ATK\": three_star_atk,\n",
    "            \"DEF\": three_star_def\n",
    "        },\n",
    "        \"Four_Star\": {\n",
    "            \"HP\": four_star_hp,\n",
    "            \"ATK\": four_star_atk,\n",
    "            \"DEF\": four_star_def\n",
    "        },\n",
    "        \"Five_Star\": {\n",
    "            \"HP\": five_star_hp,\n",
    "            \"ATK\": five_star_atk,\n",
    "            \"DEF\": five_star_def        \n",
    "        },\n",
    "        \"SE\": {\n",
    "            \"HP\": se_hp,\n",
    "            \"ATK\": se_atk,\n",
    "            \"DEF\":  se_def          \n",
    "        }\n",
    "    },\n",
    "    \"Connect\": {\n",
    "        \"Name\": connect,\n",
    "        \"Three_Star\": connect_three_star,\n",
    "        \"Four_Star\": connect_four_star,\n",
    "        \"Five_Star\": connect_five_star\n",
    "    },\n",
    "    \"Magia\": {\n",
    "        \"Name\": magia,\n",
    "        \"Three_Star\": magia_three_star,\n",
    "        \"Four_Star\": magia_four_star,\n",
    "        \"Five_Star\": magia_five_star\n",
    "    },\n",
    "    \"Doppel\": {\n",
    "        \"Name\": doppel,\n",
    "        \"Desc\": para,\n",
    "        \"Ability\": doppel_info,\n",
    "    }\n",
    "}\n",
    "\n",
    "print(Kaede)"
   ]
  },
  {
   "cell_type": "code",
   "execution_count": 31,
   "metadata": {},
   "outputs": [
    {
     "name": "stdout",
     "output_type": "stream",
     "text": [
      "{\"Name\": \"Kaede Akino\", \"Age\": \"Age: 14\", \"EyeColor\": \"Eye colour: Golden Brown\", \"HairColor\": \"Hair colour: Reddish Brown\", \"Hometown\": \"Origins: Shinsei Ward\", \"SoulGem\": \"Soul Gem: Reddish brown circle (hat tip)\", \"Weapon\": \"Weapon: Wooden Cane\", \"Wish\": \"Wish: \\\"The construction of those apartments...I wish they never started!\\\"\", \"Ability\": \"Ability: Temporary deletion (Can delete obstacles for a certain period of time)\", \"Witch\": \"Witch form: Zola\", \"Pronoun\": \"Japanese pronoun: <i>watashi</i><span style=\\\"font-weight: normal\\\"> (<span class=\\\"t_nihongo_kanji\\\" lang=\\\"ja\\\">\\u79c1</span>)</span\", \"School\": \"School: Kamihama City University Affiliated School Eighth grade\", \"Disks\": [\"Accel\", \"Accel\", \"Blast\", \"Blast\", \"Charge\"], \"Stats\": {\"Initial\": {\"HP\": \"3714\", \"ATK\": \"1565\", \"DEF\": \"1175\"}, \"Three_Star\": {\"HP\": \"12805\", \"ATK\": \"5358\", \"DEF\": \"3966\"}, \"Four_Star\": {\"HP\": \"16653\", \"ATK\": \"6965\", \"DEF\": \"5157\"}, \"Five_Star\": {\"HP\": \"20511\", \"ATK\": \"8579\", \"DEF\": \"6352\"}, \"SE\": {\"HP\": \"25635\", \"ATK\": \"9952\", \"DEF\": \"8176\"}}, \"Connect\": {\"Name\": \"Connect: I-I'll Help with What I Can!\", \"Three_Star\": \"\\u26053: Damage UP [V] &amp; MP Gain UP [V]\", \"Four_Star\": \"\\u26054: Damage UP [VII] &amp; MP Gain UP [VII]\", \"Five_Star\": \"\\u26055: Damage UP [VIII] &amp; MP Gain UP [VIII] &amp; HP Regen [VI] (3 T)\"}, \"Magia\": {\"Name\": \"Magia: Judgement Earth\", \"Three_Star\": \"\\u26053: Attribute Strengthened Damage All Enemies [IV]\", \"Four_Star\": \"\\u26054: Attribute Strengthened Damage All Enemies [IV] &amp; Fog (All / 3 T)\", \"Five_Star\": \"\\u26055: Attribute Strengthened Damage All Enemies [VII] &amp; Fog (All / 3 T) &amp; Charge Damage UP (All / 3 T) &amp; Accele MP UP (All / 3 T)\"}, \"Doppel\": {\"Name\": \"Doppel: Zola\", \"Desc\": \"The Doppel of Conquest. Its form is a plot of land.\\nThe master of this emotion fears that it will eat away at their everyday life and carefully chooses when to summon it, for the instant this Doppel is summoned, regardless of its master's intentions, it will cover its surroundings with rotten moss to conquer the land, with its only goal being to expand its territory. Summoning this Doppel accidentally, even in a beloved area, will destroy its surroundings by covering everything in its moss. Within the confines of its territory, it can unleash tremendous power.\", \"Ability\": \"Attribute Strengthened Damage All Enemies [IX] &amp; Guaranteed Fog (All) &amp; Charge Damage UP (All / 3 T) &amp; Accele MP UP (All / 3 T)\"}}\n"
     ]
    }
   ],
   "source": [
    "girl_json = json.dumps(Kaede)\n",
    "print(girl_json)\n",
    "\n",
    "with open('kaede.json', 'w') as json_file:\n",
    "  json.dump(girl_json, json_file)"
   ]
  },
  {
   "cell_type": "code",
   "execution_count": null,
   "metadata": {},
   "outputs": [],
   "source": []
  }
 ],
 "metadata": {
  "kernelspec": {
   "display_name": "Python 3",
   "language": "python",
   "name": "python3"
  },
  "language_info": {
   "codemirror_mode": {
    "name": "ipython",
    "version": 3
   },
   "file_extension": ".py",
   "mimetype": "text/x-python",
   "name": "python",
   "nbconvert_exporter": "python",
   "pygments_lexer": "ipython3",
   "version": "3.7.3"
  }
 },
 "nbformat": 4,
 "nbformat_minor": 2
}
