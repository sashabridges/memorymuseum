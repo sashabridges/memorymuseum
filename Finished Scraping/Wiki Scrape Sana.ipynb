{
 "cells": [
  {
   "cell_type": "code",
   "execution_count": 2,
   "metadata": {},
   "outputs": [],
   "source": [
    "# Dependencies\n",
    "import os\n",
    "from bs4 import BeautifulSoup as bs\n",
    "import json\n",
    "import requests\n",
    "\n",
    "query_url = \"https://wiki.puella-magi.net/Sana_Futaba\"\n",
    "response = requests.get(query_url)\n",
    "soup = bs(response.text, 'html.parser')"
   ]
  },
  {
   "cell_type": "code",
   "execution_count": 3,
   "metadata": {},
   "outputs": [
    {
     "name": "stdout",
     "output_type": "stream",
     "text": [
      "<li><b>Age:</b> 14</li>\n",
      "<li><b>School:</b> Mizuna Girls' School, Eighth grade</li>\n"
     ]
    }
   ],
   "source": [
    "bullet_points = soup.find_all('li')\n",
    "# 25- 33 General Info\n",
    "print(bullet_points[22])\n",
    "print(bullet_points[33])"
   ]
  },
  {
   "cell_type": "code",
   "execution_count": 4,
   "metadata": {},
   "outputs": [
    {
     "name": "stdout",
     "output_type": "stream",
     "text": [
      "The Doppel of invisibility. Its form is an inquisition chair.\n",
      "The master of this emotion is pained at the sight of its materialized form, but feels some sense of fulfillment as well.\n",
      "This Doppel’s main body isn’t the chair, but rather an invisible form that sits above the chair in a continual state of torment. The invisible Doppel uses the blood flowing from itself to attack its enemies.\n",
      "However, this Doppel also proves rather difficult to control. Apart from the invisible Doppel that’s normally created from its master’s left ear, a visible one may sometimes appear from her right ear instead. In these cases, the Doppel will make no distinction between enemy and ally, wildly swinging its pendulum guillotine in a violent, shrieking rampage.\n"
     ]
    }
   ],
   "source": [
    "para = soup.find_all('p')\n",
    "para = str(para[4])\n",
    "para = para.strip(\"<p>\")\n",
    "para = para.strip(\"</p>\")\n",
    "para = para.rstrip()\n",
    "print(para)"
   ]
  },
  {
   "cell_type": "code",
   "execution_count": 5,
   "metadata": {},
   "outputs": [
    {
     "name": "stdout",
     "output_type": "stream",
     "text": [
      "12514 3156 4375\n",
      "12514 3156 4375\n",
      "15847 3998 5551\n",
      "20843 5261 7310\n",
      "25825 6520 9080\n",
      "28031 7535 12322\n"
     ]
    }
   ],
   "source": [
    "table_data = soup.find_all('td')\n",
    "\n",
    "# table_data[8] through\n",
    "# Headers no1 8, 9,10, 11\n",
    "# Data 12, 13, 14, 15 - 15 is a Link Picture\n",
    "# Headers no2 16, 17, 18, 19\n",
    "# initial 20, 21, 22, 23\n",
    "initial_hp = str(table_data[21]).replace('<td style=\"width:25%;\">', '').replace('</td>', '').rstrip()\n",
    "initial_atk = str(table_data[22]).replace('<td style=\"width:25%;\">', '').replace('</td>', '').rstrip()\n",
    "initial_def = str(table_data[23]).replace('<td style=\"width:25%;\">', '').replace('</td>', '').rstrip()\n",
    "# max at 2* 25, 26, 27\n",
    "two_star_hp = str(table_data[25]).replace('<td style=\"width:25%;\">', '').replace('</td>', '').rstrip()\n",
    "two_star_atk = str(table_data[26]).replace('<td style=\"width:25%;\">', '').replace('</td>', '').rstrip()\n",
    "two_star_def = str(table_data[27]).replace('<td style=\"width:25%;\">', '').replace('</td>', '').rstrip()\n",
    "# max at 3* 29, 30, 31\n",
    "three_star_hp = str(table_data[29]).replace('<td style=\"width:25%;\">', '').replace('</td>', '').rstrip()\n",
    "three_star_atk = str(table_data[30]).replace('<td style=\"width:25%;\">', '').replace('</td>', '').rstrip()\n",
    "three_star_def = str(table_data[31]).replace('<td style=\"width:25%;\">', '').replace('</td>', '').rstrip()\n",
    "# max at 4* 33, 34, 35\n",
    "four_star_hp = str(table_data[33]).replace('<td style=\"width:25%;\">', '').replace('</td>', '').rstrip()\n",
    "four_star_atk = str(table_data[34]).replace('<td style=\"width:25%;\">', '').replace('</td>', '').rstrip()\n",
    "four_star_def = str(table_data[35]).replace('<td style=\"width:25%;\">', '').replace('</td>', '').rstrip()\n",
    "# max at 5* 37, 38, 39\n",
    "five_star_hp = str(table_data[37]).replace('<td style=\"width:25%;\">', '').replace('</td>', '').rstrip()\n",
    "five_star_atk = str(table_data[38]).replace('<td style=\"width:25%;\">', '').replace('</td>', '').rstrip()\n",
    "five_star_def = str(table_data[39]).replace('<td style=\"width:25%;\">', '').replace('</td>', '').rstrip()\n",
    "# Max SE 41, 42, 43\n",
    "se_hp = str(table_data[41]).replace('<td style=\"width:25%;\">', '').replace('</td>', '').rstrip()\n",
    "se_atk = str(table_data[42]).replace('<td style=\"width:25%;\">', '').replace('</td>', '').rstrip()\n",
    "se_def = str(table_data[43]).replace('<td style=\"width:25%;\">', '').replace('</td>', '').rstrip()\n",
    "print(initial_hp, initial_atk, initial_def)\n",
    "print(two_star_hp, two_star_atk, two_star_def)\n",
    "print(three_star_hp, three_star_atk, three_star_def)\n",
    "print(four_star_hp, four_star_atk, four_star_def)\n",
    "print(five_star_hp, five_star_atk, five_star_def)\n",
    "print(se_hp, se_atk, se_def)"
   ]
  },
  {
   "cell_type": "code",
   "execution_count": 6,
   "metadata": {},
   "outputs": [
    {
     "name": "stdout",
     "output_type": "stream",
     "text": [
      "['Accel', 'Blast', 'Blast', 'Charge', 'Charge']\n"
     ]
    }
   ],
   "source": [
    "# data 44 through 48 is disks\n",
    "# if condition on alt attribute to determine what type of data to put where\n",
    "\n",
    "disk_one = str(table_data[44])\n",
    "disk_two = str(table_data[45])\n",
    "disk_three = str(table_data[46])\n",
    "disk_four = str(table_data[47])\n",
    "disk_five = str(table_data[48])\n",
    "\n",
    "if (disk_one.find(\"accel\") != -1):\n",
    "    disk_one = \"Accel\"\n",
    "elif (disk_one.find(\"blast\") != -1):\n",
    "    disk_one = \"Blast\"\n",
    "else:\n",
    "    disk_one = \"Charge\"\n",
    "    \n",
    "if (disk_two.find(\"accel\") != -1):\n",
    "    disk_two = \"Accel\"\n",
    "elif (disk_two.find(\"blast\") != -1):\n",
    "    disk_two = \"Blast\"\n",
    "else:\n",
    "    disk_two = \"Charge\"\n",
    "\n",
    "if (disk_three.find(\"accel\") != -1):\n",
    "    disk_three = \"Accel\"\n",
    "elif (disk_three.find(\"blast\") != -1):\n",
    "    disk_three = \"Blast\"\n",
    "else:\n",
    "    disk_three = \"Charge\"\n",
    "    \n",
    "if (disk_four.find(\"accel\") != -1):\n",
    "    disk_four = \"Accel\"\n",
    "elif (disk_four.find(\"blast\") != -1):\n",
    "    disk_four = \"Blast\"\n",
    "else:\n",
    "    disk_four = \"Charge\"\n",
    "    \n",
    "if (disk_five.find(\"accel\") != -1):\n",
    "    disk_five = \"Accel\"\n",
    "elif (disk_five.find(\"blast\") != -1):\n",
    "    disk_five = \"Blast\"\n",
    "else:\n",
    "    disk_five = \"Charge\"\n",
    "    \n",
    "disks = [disk_one, disk_two, disk_three, disk_four, disk_five]\n",
    "print(disks)"
   ]
  },
  {
   "cell_type": "code",
   "execution_count": 7,
   "metadata": {},
   "outputs": [
    {
     "name": "stdout",
     "output_type": "stream",
     "text": [
      "★2: Damage Cut [VII]\n",
      "★3: Damage Cut [X]\n",
      "★4: Damage Cut [XV]\n",
      "★4: Damage Cut [XV] &amp; Attack UP [VI] &amp; Defense UP to Iroha\n"
     ]
    }
   ],
   "source": [
    "# table_data 49 through 52 are Connect Info\n",
    "connect_two_star = str(table_data[49])\n",
    "connect_three_star = str(table_data[50])\n",
    "connect_four_star = str(table_data[51])\n",
    "connect_five_star = str(table_data[52])\n",
    "\n",
    "connect_two_star = connect_two_star.replace('</td>', '')\n",
    "connect_two_star = connect_two_star.replace('<td style=\"width:100%;\">', '')\n",
    "connect_two_star = connect_two_star.rstrip()\n",
    "print(connect_two_star)\n",
    "\n",
    "connect_three_star = connect_three_star.replace('</td>', '')\n",
    "connect_three_star = connect_three_star.replace('<td style=\"width:100%;\">', '')\n",
    "connect_three_star = connect_three_star.rstrip()\n",
    "print(connect_three_star)\n",
    "\n",
    "connect_four_star = connect_four_star.replace('</td>', '')\n",
    "connect_four_star = connect_four_star.replace('<td style=\"width:100%;\">', '')\n",
    "connect_four_star = connect_four_star.rstrip()\n",
    "print(connect_four_star)\n",
    "\n",
    "connect_five_star = connect_five_star.replace('</td>', '')\n",
    "connect_five_star = connect_five_star.replace('<td style=\"width:100%;\">', '')\n",
    "connect_five_star = connect_five_star.rstrip()\n",
    "print(connect_five_star)"
   ]
  },
  {
   "cell_type": "code",
   "execution_count": 8,
   "metadata": {},
   "outputs": [
    {
     "name": "stdout",
     "output_type": "stream",
     "text": [
      "★2: Damage All Enemies [I] &amp; Defense UP (All / 3 T)\n",
      "★3: Damage All Enemies [III] &amp; Defense UP (All / 3 T)\n",
      "★4: Damage All Enemies [V] &amp; Defense UP (All / 3 T) &amp; Damage Cut (All / 3 T)\n",
      "★5: Damage All Enemies [VI] &amp; Defense UP (All / 3 T) &amp; Damage Cut (All / 3 T)\n"
     ]
    }
   ],
   "source": [
    "# table_data 53 through 56 are Magia Info\n",
    "table_data[58]\n",
    "magia_two_star = str(table_data[53])\n",
    "magia_three_star = str(table_data[54])\n",
    "magia_four_star = str(table_data[55])\n",
    "magia_five_star = str(table_data[56])\n",
    "\n",
    "magia_two_star = magia_two_star.replace('</td>', '')\n",
    "magia_two_star = magia_two_star.replace('<td style=\"width:100%;\">', '')\n",
    "magia_two_star = magia_two_star.rstrip()\n",
    "print(magia_two_star)\n",
    "\n",
    "magia_three_star = magia_three_star.replace('</td>', '')\n",
    "magia_three_star = magia_three_star.replace('<td style=\"width:100%;\">', '')\n",
    "magia_three_star = magia_three_star.rstrip()\n",
    "print(magia_three_star)\n",
    "\n",
    "magia_four_star = magia_four_star.replace('</td>', '')\n",
    "magia_four_star = magia_four_star.replace('<td style=\"width:100%;\">', '')\n",
    "magia_four_star = magia_four_star.rstrip()\n",
    "print(magia_four_star)\n",
    "\n",
    "magia_five_star = magia_five_star.replace('</td>', '')\n",
    "magia_five_star = magia_five_star.replace('<td style=\"width:100%;\">', '')\n",
    "magia_five_star = magia_five_star.rstrip()\n",
    "print(magia_five_star)"
   ]
  },
  {
   "cell_type": "code",
   "execution_count": 9,
   "metadata": {},
   "outputs": [
    {
     "name": "stdout",
     "output_type": "stream",
     "text": [
      "Random Damage Effect on All Enemies &amp; 1 of 2 Pattern effects (Random)\n"
     ]
    }
   ],
   "source": [
    "# table_data 57 is Doppel Info\n",
    "table_data[57]\n",
    "doppel_info = str(table_data[57])\n",
    "doppel_info = doppel_info.replace('<td style=\"width:100%;\">', '')\n",
    "doppel_info = doppel_info.replace('</td>', '')\n",
    "doppel_info = doppel_info.rstrip()\n",
    "print(doppel_info)"
   ]
  },
  {
   "cell_type": "code",
   "execution_count": 10,
   "metadata": {},
   "outputs": [
    {
     "name": "stdout",
     "output_type": "stream",
     "text": [
      "<th colspan=\"5\"><b>Magia: </b> <i>Foltergefängnis</i> (Torture Prison)\n",
      "</th>\n",
      "<th colspan=\"5\">Doppel:<b> <i>Theresia</i></b>\n",
      "</th>\n"
     ]
    }
   ],
   "source": [
    "table_head = soup.find_all('th')\n",
    "connect = str(table_head[3])\n",
    "magia = str(table_head[4])\n",
    "doppel = str(table_head[5])\n",
    "print(magia)\n",
    "print(doppel)"
   ]
  },
  {
   "cell_type": "code",
   "execution_count": 11,
   "metadata": {},
   "outputs": [
    {
     "name": "stdout",
     "output_type": "stream",
     "text": [
      "Connect:  Anything You Need From Me\n",
      "Magia:  Foltergefängnis (Torture Prison)\n",
      "Doppel: Theresia\n"
     ]
    }
   ],
   "source": [
    "connect = connect.strip('<th colspan=\"5\">')\n",
    "connect = connect.strip('b>')\n",
    "connect = connect.replace('</b>', '')\n",
    "connect = connect.replace('<i>', '')\n",
    "connect = connect.replace('</i>', '')\n",
    "connect = connect.strip('</')\n",
    "connect = connect.rstrip()\n",
    "print(connect)\n",
    "\n",
    "magia = magia.strip('<th colspan=\"5\">')\n",
    "magia = magia.strip('b>')\n",
    "magia = magia.replace('</b>', '')\n",
    "magia = magia.replace('<i>', '')\n",
    "magia = magia.replace('</i>', '')\n",
    "magia = magia.strip('</')\n",
    "magia = magia.rstrip()\n",
    "print(magia)\n",
    "\n",
    "doppel = doppel.strip('<th colspan=\"5\">')\n",
    "doppel = doppel.strip('b>')\n",
    "doppel = doppel.replace('<b>', '')\n",
    "doppel = doppel.replace('</b>', '')\n",
    "doppel = doppel.replace('<i>', '')\n",
    "doppel = doppel.replace('</i>', '')\n",
    "doppel = doppel.strip('</')\n",
    "doppel = doppel.rstrip()\n",
    "print(doppel)"
   ]
  },
  {
   "cell_type": "code",
   "execution_count": 12,
   "metadata": {},
   "outputs": [
    {
     "name": "stdout",
     "output_type": "stream",
     "text": [
      "Age: 14\n",
      "Height: 153cm\n",
      "Eye colour: Green\n",
      "Hair colour: Green\n",
      "Origins: Chuo Ward\n",
      "Soul Gem: Green crown-shaped gem (necklace at her throat)\n",
      "Weapon: <a class=\"external text\" href=\"https://en.wikipedia.org/wiki/Shield\" rel=\"nofollow\">Large Shield\n",
      "Wish: Please make me invisible. I want to disappear from this world. I don't want anyone to find me.<b> </\n",
      "Ability: Disappear (Disappears along with all signs of magic)\n",
      "Witch form: Theresia\n",
      "Japanese pronoun: <i>watashi</i><span style=\"font-weight: normal\"> (<span class=\"t_nihongo_kanji\" lang=\"ja\">私</span>)</span\n",
      "School: Mizuna Girls' School Eighth grade\n"
     ]
    }
   ],
   "source": [
    "Age = str(bullet_points[22]).strip(\"<li>\").strip(\"</li>\").strip(\"<b>\").replace(\"</b>\", \"\").replace(',', '')\n",
    "print(Age)\n",
    "Height = str(bullet_points[23]).strip(\"<li>\").strip(\"</li>\").strip(\"<b>\").replace(\"</b>\", \"\").replace(',', '')\n",
    "print(Height)\n",
    "EyeColor = str(bullet_points[24]).strip(\"<li>\").strip(\"</li>\").strip(\"<b>\").replace(\"</b>\", \"\").replace(',', '')\n",
    "print(EyeColor)\n",
    "HairColor = str(bullet_points[25]).strip(\"<li>\").strip(\"</li>\").strip(\"<b>\").replace(\"</b>\", \"\").replace(',', '')\n",
    "print(HairColor)\n",
    "Hometown = str(bullet_points[26]).strip(\"<li>\").strip(\"</li>\").strip(\"<b>\").replace(\"</b>\", \"\").replace(',', '')\n",
    "print(Hometown)\n",
    "SoulGem = str(bullet_points[27]).strip(\"<li>\").strip(\"</li>\").strip(\"<b>\").replace(\"</b>\", \"\").replace(',', '')\n",
    "print(SoulGem)\n",
    "Weapon = str(bullet_points[28]).strip(\"<li>\").strip(\"</li>\").strip(\"<b>\").replace(\"</b>\", \"\").replace('</a', '').replace('<a class=\"external text\" href=\"https://en.wikipedia.org/wiki/Crossbow\" rel=\"nofollow\">', '')\n",
    "print(Weapon)\n",
    "Wish = str(bullet_points[29]).strip(\"<li>\").strip(\"</li>\").strip(\"<b>\").replace(\"</b>\", \"\").replace(',', '')\n",
    "print(Wish)\n",
    "Ability = str(bullet_points[30]).strip(\"<li>\").strip(\"</li>\").strip(\"<b>\").replace(\"</b>\", \"\").replace(',', '')\n",
    "print(Ability)\n",
    "Witch = str(bullet_points[31]).strip(\"<li>\").strip(\"</li>\").strip(\"<b>\").replace(\"</b>\", \"\").replace(',', '')\n",
    "print(Witch)\n",
    "Pronoun = str(bullet_points[32]).strip(\"<li>\").strip(\"</li>\").strip(\"<b>\").replace(\"</b>\", \"\").replace(',', '')\n",
    "print(Pronoun)\n",
    "School = str(bullet_points[33]).strip(\"<li>\").strip(\"</li>\").strip(\"<b>\").replace(\"</b>\", \"\").replace(',', '')\n",
    "print(School)"
   ]
  },
  {
   "cell_type": "code",
   "execution_count": 13,
   "metadata": {},
   "outputs": [
    {
     "name": "stdout",
     "output_type": "stream",
     "text": [
      "{'Name': 'Sana Futaba', 'Age': 'Age: 14', 'EyeColor': 'Eye colour: Green', 'HairColor': 'Hair colour: Green', 'Hometown': 'Origins: Chuo Ward', 'SoulGem': 'Soul Gem: Green crown-shaped gem (necklace at her throat)', 'Weapon': 'Weapon: <a class=\"external text\" href=\"https://en.wikipedia.org/wiki/Shield\" rel=\"nofollow\">Large Shield', 'Wish': \"Wish: Please make me invisible. I want to disappear from this world. I don't want anyone to find me.<b> </\", 'Ability': 'Ability: Disappear (Disappears along with all signs of magic)', 'Witch': 'Witch form: Theresia', 'Pronoun': 'Japanese pronoun: <i>watashi</i><span style=\"font-weight: normal\"> (<span class=\"t_nihongo_kanji\" lang=\"ja\">私</span>)</span', 'School': \"School: Mizuna Girls' School Eighth grade\", 'Disks': ['Accel', 'Blast', 'Blast', 'Charge', 'Charge'], 'Stats': {'Initial': {'HP': '12514', 'ATK': '3156', 'DEF': '4375'}, 'Two_Star': {'HP': '12514', 'ATK': '3156', 'DEF': '4375'}, 'Three_Star': {'HP': '15847', 'ATK': '3998', 'DEF': '5551'}, 'Four_Star': {'HP': '20843', 'ATK': '5261', 'DEF': '7310'}, 'Five_Star': {'HP': '25825', 'ATK': '6520', 'DEF': '9080'}, 'SE': {'HP': '28031', 'ATK': '7535', 'DEF': '12322'}}, 'Connect': {'Name': 'Connect:  Anything You Need From Me', 'Two_Star': '★2: Damage Cut [VII]', 'Three_Star': '★3: Damage Cut [X]', 'Four_Star': '★4: Damage Cut [XV]', 'Five_Star': '★4: Damage Cut [XV] &amp; Attack UP [VI] &amp; Defense UP to Iroha'}, 'Magia': {'Name': 'Magia:  Foltergefängnis (Torture Prison)', 'Two_Star': '★2: Damage All Enemies [I] &amp; Defense UP (All / 3 T)', 'Three_Star': '★3: Damage All Enemies [III] &amp; Defense UP (All / 3 T)', 'Four_Star': '★4: Damage All Enemies [V] &amp; Defense UP (All / 3 T) &amp; Damage Cut (All / 3 T)', 'Five_Star': '★5: Damage All Enemies [VI] &amp; Defense UP (All / 3 T) &amp; Damage Cut (All / 3 T)'}, 'Doppel': {'Name': 'Doppel: Theresia', 'Desc': 'The Doppel of invisibility. Its form is an inquisition chair.\\nThe master of this emotion is pained at the sight of its materialized form, but feels some sense of fulfillment as well.\\nThis Doppel’s main body isn’t the chair, but rather an invisible form that sits above the chair in a continual state of torment. The invisible Doppel uses the blood flowing from itself to attack its enemies.\\nHowever, this Doppel also proves rather difficult to control. Apart from the invisible Doppel that’s normally created from its master’s left ear, a visible one may sometimes appear from her right ear instead. In these cases, the Doppel will make no distinction between enemy and ally, wildly swinging its pendulum guillotine in a violent, shrieking rampage.', 'Ability': 'Random Damage Effect on All Enemies &amp; 1 of 2 Pattern effects (Random)'}}\n"
     ]
    }
   ],
   "source": [
    "Sana = {\n",
    "    \"Name\": \"Sana Futaba\",\n",
    "    \"Age\": Age,\n",
    "    \"EyeColor\": EyeColor,\n",
    "    \"HairColor\": HairColor,\n",
    "    \"Hometown\": Hometown,\n",
    "    \"SoulGem\": SoulGem,\n",
    "    \"Weapon\": Weapon,\n",
    "    \"Wish\": Wish,\n",
    "    \"Ability\": Ability,\n",
    "    \"Witch\": Witch,\n",
    "    \"Pronoun\": Pronoun,\n",
    "    \"School\": School,\n",
    "    \"Disks\": disks,\n",
    "    \"Stats\": {\n",
    "        \"Initial\": {\n",
    "            \"HP\": initial_hp,\n",
    "            \"ATK\": initial_atk,\n",
    "            \"DEF\": initial_def\n",
    "        },\n",
    "        \"Two_Star\": {\n",
    "            \"HP\": two_star_hp,\n",
    "            \"ATK\": two_star_atk,\n",
    "            \"DEF\": two_star_def \n",
    "        },\n",
    "        \"Three_Star\": {\n",
    "            \"HP\": three_star_hp,\n",
    "            \"ATK\": three_star_atk,\n",
    "            \"DEF\": three_star_def\n",
    "        },\n",
    "        \"Four_Star\": {\n",
    "            \"HP\": four_star_hp,\n",
    "            \"ATK\": four_star_atk,\n",
    "            \"DEF\": four_star_def\n",
    "        },\n",
    "        \"Five_Star\": {\n",
    "            \"HP\": five_star_hp,\n",
    "            \"ATK\": five_star_atk,\n",
    "            \"DEF\": five_star_def        \n",
    "        },\n",
    "        \"SE\": {\n",
    "            \"HP\": se_hp,\n",
    "            \"ATK\": se_atk,\n",
    "            \"DEF\":  se_def          \n",
    "        }\n",
    "    },\n",
    "    \"Connect\": {\n",
    "        \"Name\": connect,\n",
    "        \"Two_Star\": connect_two_star,\n",
    "        \"Three_Star\": connect_three_star,\n",
    "        \"Four_Star\": connect_four_star,\n",
    "        \"Five_Star\": connect_five_star\n",
    "    },\n",
    "    \"Magia\": {\n",
    "        \"Name\": magia,\n",
    "        \"Two_Star\": magia_two_star,\n",
    "        \"Three_Star\": magia_three_star,\n",
    "        \"Four_Star\": magia_four_star,\n",
    "        \"Five_Star\": magia_five_star\n",
    "    },\n",
    "    \"Doppel\": {\n",
    "        \"Name\": doppel,\n",
    "        \"Desc\": para,\n",
    "        \"Ability\": doppel_info,\n",
    "    }\n",
    "}\n",
    "\n",
    "print(Sana)"
   ]
  },
  {
   "cell_type": "code",
   "execution_count": 14,
   "metadata": {},
   "outputs": [
    {
     "name": "stdout",
     "output_type": "stream",
     "text": [
      "{\"Name\": \"Sana Futaba\", \"Age\": \"Age: 14\", \"EyeColor\": \"Eye colour: Green\", \"HairColor\": \"Hair colour: Green\", \"Hometown\": \"Origins: Chuo Ward\", \"SoulGem\": \"Soul Gem: Green crown-shaped gem (necklace at her throat)\", \"Weapon\": \"Weapon: <a class=\\\"external text\\\" href=\\\"https://en.wikipedia.org/wiki/Shield\\\" rel=\\\"nofollow\\\">Large Shield\", \"Wish\": \"Wish: Please make me invisible. I want to disappear from this world. I don't want anyone to find me.<b> </\", \"Ability\": \"Ability: Disappear (Disappears along with all signs of magic)\", \"Witch\": \"Witch form: Theresia\", \"Pronoun\": \"Japanese pronoun: <i>watashi</i><span style=\\\"font-weight: normal\\\"> (<span class=\\\"t_nihongo_kanji\\\" lang=\\\"ja\\\">\\u79c1</span>)</span\", \"School\": \"School: Mizuna Girls' School Eighth grade\", \"Disks\": [\"Accel\", \"Blast\", \"Blast\", \"Charge\", \"Charge\"], \"Stats\": {\"Initial\": {\"HP\": \"12514\", \"ATK\": \"3156\", \"DEF\": \"4375\"}, \"Two_Star\": {\"HP\": \"12514\", \"ATK\": \"3156\", \"DEF\": \"4375\"}, \"Three_Star\": {\"HP\": \"15847\", \"ATK\": \"3998\", \"DEF\": \"5551\"}, \"Four_Star\": {\"HP\": \"20843\", \"ATK\": \"5261\", \"DEF\": \"7310\"}, \"Five_Star\": {\"HP\": \"25825\", \"ATK\": \"6520\", \"DEF\": \"9080\"}, \"SE\": {\"HP\": \"28031\", \"ATK\": \"7535\", \"DEF\": \"12322\"}}, \"Connect\": {\"Name\": \"Connect:  Anything You Need From Me\", \"Two_Star\": \"\\u26052: Damage Cut [VII]\", \"Three_Star\": \"\\u26053: Damage Cut [X]\", \"Four_Star\": \"\\u26054: Damage Cut [XV]\", \"Five_Star\": \"\\u26054: Damage Cut [XV] &amp; Attack UP [VI] &amp; Defense UP to Iroha\"}, \"Magia\": {\"Name\": \"Magia:  Foltergef\\u00e4ngnis (Torture Prison)\", \"Two_Star\": \"\\u26052: Damage All Enemies [I] &amp; Defense UP (All / 3 T)\", \"Three_Star\": \"\\u26053: Damage All Enemies [III] &amp; Defense UP (All / 3 T)\", \"Four_Star\": \"\\u26054: Damage All Enemies [V] &amp; Defense UP (All / 3 T) &amp; Damage Cut (All / 3 T)\", \"Five_Star\": \"\\u26055: Damage All Enemies [VI] &amp; Defense UP (All / 3 T) &amp; Damage Cut (All / 3 T)\"}, \"Doppel\": {\"Name\": \"Doppel: Theresia\", \"Desc\": \"The Doppel of invisibility. Its form is an inquisition chair.\\nThe master of this emotion is pained at the sight of its materialized form, but feels some sense of fulfillment as well.\\nThis Doppel\\u2019s main body isn\\u2019t the chair, but rather an invisible form that sits above the chair in a continual state of torment. The invisible Doppel uses the blood flowing from itself to attack its enemies.\\nHowever, this Doppel also proves rather difficult to control. Apart from the invisible Doppel that\\u2019s normally created from its master\\u2019s left ear, a visible one may sometimes appear from her right ear instead. In these cases, the Doppel will make no distinction between enemy and ally, wildly swinging its pendulum guillotine in a violent, shrieking rampage.\", \"Ability\": \"Random Damage Effect on All Enemies &amp; 1 of 2 Pattern effects (Random)\"}}\n"
     ]
    }
   ],
   "source": [
    "girl_json = json.dumps(Sana)\n",
    "print(girl_json)\n",
    "\n",
    "with open('sana.json', 'w') as json_file:\n",
    "  json.dump(girl_json, json_file)"
   ]
  },
  {
   "cell_type": "code",
   "execution_count": null,
   "metadata": {},
   "outputs": [],
   "source": []
  }
 ],
 "metadata": {
  "kernelspec": {
   "display_name": "Python 3",
   "language": "python",
   "name": "python3"
  },
  "language_info": {
   "codemirror_mode": {
    "name": "ipython",
    "version": 3
   },
   "file_extension": ".py",
   "mimetype": "text/x-python",
   "name": "python",
   "nbconvert_exporter": "python",
   "pygments_lexer": "ipython3",
   "version": "3.7.3"
  }
 },
 "nbformat": 4,
 "nbformat_minor": 2
}
