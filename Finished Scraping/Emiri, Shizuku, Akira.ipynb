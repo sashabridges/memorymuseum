{
 "cells": [
  {
   "cell_type": "code",
   "execution_count": 3,
   "metadata": {},
   "outputs": [
    {
     "name": "stdout",
     "output_type": "stream",
     "text": [
      "<li><b>Age:</b> 13</li>\n",
      "<li><b>School:</b> Kamihama City University Affiliated School, Seventh Grade</li>\n",
      "The Doppel of temptation. Its form is serpent berries.\n",
      "While the master of this emotion feels an affinity for her Doppel, which behaves as it pleases without any concept of good or evil, she also feels her own immaturity emanating from it.\n",
      "This Doppel speaks directly into one’s brain via ultrasonic tones, giving affirmation to anything and everything. The confidence and courage it grants are enough to wipe away any concern one may have.\n",
      "Its comfortable words lead people to develop a great dependence on them, but because it well-meaningly affirms even people’s aggressive or malicious emotions ad infinitum, it may unintentionally guide its targets towards the worst possible actions.\n"
     ]
    }
   ],
   "source": [
    "# Dependencies\n",
    "import os\n",
    "from bs4 import BeautifulSoup as bs\n",
    "import json\n",
    "import requests\n",
    "\n",
    "query_url = \"https://wiki.puella-magi.net/Emiri_Kisaki\"\n",
    "response = requests.get(query_url)\n",
    "soup = bs(response.text, 'html.parser')\n",
    "\n",
    "bullet_points = soup.find_all('li')\n",
    "# 19- 30 General Info\n",
    "print(bullet_points[18])\n",
    "print(bullet_points[29])\n",
    "\n",
    "para = soup.find_all('p')\n",
    "para = str(para[5])\n",
    "para = para.strip(\"<p>\")\n",
    "para = para.strip(\"</p>\")\n",
    "para = para.rstrip()\n",
    "print(para)"
   ]
  },
  {
   "cell_type": "code",
   "execution_count": 5,
   "metadata": {},
   "outputs": [
    {
     "name": "stdout",
     "output_type": "stream",
     "text": [
      "3812 1094 1047\n",
      "12030 3573 3281\n",
      "15238 4530 4160\n",
      "20042 5965 5466\n",
      "24841 7402 6776\n",
      "27005 8701 8409\n"
     ]
    }
   ],
   "source": [
    "table_data = soup.find_all('td')\n",
    "\n",
    "# table_data[8] through\n",
    "# Headers no1 8, 9,10, 11\n",
    "# Data 12, 13, 14, 15 - 15 is a Link Picture\n",
    "# Headers no2 16, 17, 18, 19\n",
    "# initial 20, 21, 22, 23\n",
    "initial_hp = str(table_data[21]).replace('<td style=\"width:25%;\">', '').replace('</td>', '').rstrip()\n",
    "initial_atk = str(table_data[22]).replace('<td style=\"width:25%;\">', '').replace('</td>', '').rstrip()\n",
    "initial_def = str(table_data[23]).replace('<td style=\"width:25%;\">', '').replace('</td>', '').rstrip()\n",
    "# max at 2* 25, 26, 27\n",
    "two_star_hp = str(table_data[25]).replace('<td style=\"width:25%;\">', '').replace('</td>', '').rstrip()\n",
    "two_star_atk = str(table_data[26]).replace('<td style=\"width:25%;\">', '').replace('</td>', '').rstrip()\n",
    "two_star_def = str(table_data[27]).replace('<td style=\"width:25%;\">', '').replace('</td>', '').rstrip()\n",
    "# max at 3* 29, 30, 31\n",
    "three_star_hp = str(table_data[29]).replace('<td style=\"width:25%;\">', '').replace('</td>', '').rstrip()\n",
    "three_star_atk = str(table_data[30]).replace('<td style=\"width:25%;\">', '').replace('</td>', '').rstrip()\n",
    "three_star_def = str(table_data[31]).replace('<td style=\"width:25%;\">', '').replace('</td>', '').rstrip()\n",
    "# max at 4* 33, 34, 35\n",
    "four_star_hp = str(table_data[33]).replace('<td style=\"width:25%;\">', '').replace('</td>', '').rstrip()\n",
    "four_star_atk = str(table_data[34]).replace('<td style=\"width:25%;\">', '').replace('</td>', '').rstrip()\n",
    "four_star_def = str(table_data[35]).replace('<td style=\"width:25%;\">', '').replace('</td>', '').rstrip()\n",
    "# max at 5* 37, 38, 39\n",
    "five_star_hp = str(table_data[37]).replace('<td style=\"width:25%;\">', '').replace('</td>', '').rstrip()\n",
    "five_star_atk = str(table_data[38]).replace('<td style=\"width:25%;\">', '').replace('</td>', '').rstrip()\n",
    "five_star_def = str(table_data[39]).replace('<td style=\"width:25%;\">', '').replace('</td>', '').rstrip()\n",
    "# Max SE 41, 42, 43\n",
    "se_hp = str(table_data[41]).replace('<td style=\"width:25%;\">', '').replace('</td>', '').rstrip()\n",
    "se_atk = str(table_data[42]).replace('<td style=\"width:25%;\">', '').replace('</td>', '').rstrip()\n",
    "se_def = str(table_data[43]).replace('<td style=\"width:25%;\">', '').replace('</td>', '').rstrip()\n",
    "print(initial_hp, initial_atk, initial_def)\n",
    "print(two_star_hp, two_star_atk, two_star_def)\n",
    "print(three_star_hp, three_star_atk, three_star_def)\n",
    "print(four_star_hp, four_star_atk, four_star_def)\n",
    "print(five_star_hp, five_star_atk, five_star_def)\n",
    "print(se_hp, se_atk, se_def)"
   ]
  },
  {
   "cell_type": "code",
   "execution_count": 6,
   "metadata": {},
   "outputs": [
    {
     "name": "stdout",
     "output_type": "stream",
     "text": [
      "['Accel', 'Accel', 'Blast', 'Charge', 'Charge']\n"
     ]
    }
   ],
   "source": [
    "# data 44 through 48 is disks\n",
    "# if condition on alt attribute to determine what type of data to put where\n",
    "\n",
    "disk_one = str(table_data[44])\n",
    "disk_two = str(table_data[45])\n",
    "disk_three = str(table_data[46])\n",
    "disk_four = str(table_data[47])\n",
    "disk_five = str(table_data[48])\n",
    "\n",
    "if (disk_one.find(\"accel\") != -1):\n",
    "    disk_one = \"Accel\"\n",
    "elif (disk_one.find(\"blast\") != -1):\n",
    "    disk_one = \"Blast\"\n",
    "else:\n",
    "    disk_one = \"Charge\"\n",
    "    \n",
    "if (disk_two.find(\"accel\") != -1):\n",
    "    disk_two = \"Accel\"\n",
    "elif (disk_two.find(\"blast\") != -1):\n",
    "    disk_two = \"Blast\"\n",
    "else:\n",
    "    disk_two = \"Charge\"\n",
    "\n",
    "if (disk_three.find(\"accel\") != -1):\n",
    "    disk_three = \"Accel\"\n",
    "elif (disk_three.find(\"blast\") != -1):\n",
    "    disk_three = \"Blast\"\n",
    "else:\n",
    "    disk_three = \"Charge\"\n",
    "    \n",
    "if (disk_four.find(\"accel\") != -1):\n",
    "    disk_four = \"Accel\"\n",
    "elif (disk_four.find(\"blast\") != -1):\n",
    "    disk_four = \"Blast\"\n",
    "else:\n",
    "    disk_four = \"Charge\"\n",
    "    \n",
    "if (disk_five.find(\"accel\") != -1):\n",
    "    disk_five = \"Accel\"\n",
    "elif (disk_five.find(\"blast\") != -1):\n",
    "    disk_five = \"Blast\"\n",
    "else:\n",
    "    disk_five = \"Charge\"\n",
    "    \n",
    "disks = [disk_one, disk_two, disk_three, disk_four, disk_five]\n",
    "print(disks)"
   ]
  },
  {
   "cell_type": "code",
   "execution_count": 7,
   "metadata": {},
   "outputs": [
    {
     "name": "stdout",
     "output_type": "stream",
     "text": [
      "★2: Damage UP [IV] &amp; Guaranteed Dazzle Edge\n",
      "★3: Damage UP [VI] &amp; Guaranteed Dazzle Edge\n",
      "★4: Damage UP [VIII] &amp; Guaranteed Dazzle Edge\n",
      "★5: Damage UP [X] &amp; Guaranteed Dazzle Edge\n",
      "★2: Damage All Enemies [I] &amp; Enemy Damage DOWN (All / 3 T)\n",
      "★3: Damage All Enemies [III] &amp; Enemy Damage DOWN (All / 3 T)\n",
      "★4: Damage All Enemies [V] &amp; Enemy Damage DOWN (All / 3 T) &amp; Chance to Dazzle (All / 1 T)\n",
      "★5: Damage All Enemies [VII] &amp; Enemy Damage DOWN (All / 3 T) &amp; Chance to Dazzle (All / 1 T)\n"
     ]
    }
   ],
   "source": [
    "# table_data 49 through 52 are Connect Info\n",
    "connect_two_star = str(table_data[49])\n",
    "connect_three_star = str(table_data[50])\n",
    "connect_four_star = str(table_data[51])\n",
    "connect_five_star = str(table_data[52])\n",
    "\n",
    "connect_two_star = connect_two_star.replace('</td>', '')\n",
    "connect_two_star = connect_two_star.replace('<td style=\"width:100%;\">', '')\n",
    "connect_two_star = connect_two_star.rstrip()\n",
    "print(connect_two_star)\n",
    "\n",
    "connect_three_star = connect_three_star.replace('</td>', '')\n",
    "connect_three_star = connect_three_star.replace('<td style=\"width:100%;\">', '')\n",
    "connect_three_star = connect_three_star.rstrip()\n",
    "print(connect_three_star)\n",
    "\n",
    "connect_four_star = connect_four_star.replace('</td>', '')\n",
    "connect_four_star = connect_four_star.replace('<td style=\"width:100%;\">', '')\n",
    "connect_four_star = connect_four_star.rstrip()\n",
    "print(connect_four_star)\n",
    "\n",
    "connect_five_star = connect_five_star.replace('</td>', '')\n",
    "connect_five_star = connect_five_star.replace('<td style=\"width:100%;\">', '')\n",
    "connect_five_star = connect_five_star.rstrip()\n",
    "print(connect_five_star)\n",
    "\n",
    "# table_data 53 through 56 are Magia Info\n",
    "table_data[58]\n",
    "magia_two_star = str(table_data[53])\n",
    "magia_three_star = str(table_data[54])\n",
    "magia_four_star = str(table_data[55])\n",
    "magia_five_star = str(table_data[56])\n",
    "\n",
    "magia_two_star = magia_two_star.replace('</td>', '')\n",
    "magia_two_star = magia_two_star.replace('<td style=\"width:100%;\">', '')\n",
    "magia_two_star = magia_two_star.rstrip()\n",
    "print(magia_two_star)\n",
    "\n",
    "magia_three_star = magia_three_star.replace('</td>', '')\n",
    "magia_three_star = magia_three_star.replace('<td style=\"width:100%;\">', '')\n",
    "magia_three_star = magia_three_star.rstrip()\n",
    "print(magia_three_star)\n",
    "\n",
    "magia_four_star = magia_four_star.replace('</td>', '')\n",
    "magia_four_star = magia_four_star.replace('<td style=\"width:100%;\">', '')\n",
    "magia_four_star = magia_four_star.rstrip()\n",
    "print(magia_four_star)\n",
    "\n",
    "magia_five_star = magia_five_star.replace('</td>', '')\n",
    "magia_five_star = magia_five_star.replace('<td style=\"width:100%;\">', '')\n",
    "magia_five_star = magia_five_star.rstrip()\n",
    "print(magia_five_star)"
   ]
  },
  {
   "cell_type": "code",
   "execution_count": 8,
   "metadata": {},
   "outputs": [
    {
     "name": "stdout",
     "output_type": "stream",
     "text": [
      "Damage All Enemies [IX] &amp; Enemy Damage Down (All / 3 T) &amp; chance to Dazzle (All / 1 T)\n",
      "<th colspan=\"5\"><b>Magia:</b> <i>My Sadistic Heart</i><sup class=\"reference\" id=\"cite_ref-1\"><a href=\"#cite_note-1\">[1]</a></sup>\n",
      "</th>\n",
      "<th colspan=\"5\"><b>Doppel:</b> <i>Shalimar</i>\n",
      "</th>\n"
     ]
    }
   ],
   "source": [
    "# table_data 57 is Doppel Info\n",
    "table_data[57]\n",
    "doppel_info = str(table_data[57])\n",
    "doppel_info = doppel_info.replace('<td style=\"width:100%;\">', '')\n",
    "doppel_info = doppel_info.replace('</td>', '')\n",
    "doppel_info = doppel_info.rstrip()\n",
    "print(doppel_info)\n",
    "\n",
    "table_head = soup.find_all('th')\n",
    "connect = str(table_head[3])\n",
    "magia = str(table_head[4])\n",
    "doppel = str(table_head[5])\n",
    "print(magia)\n",
    "print(doppel)"
   ]
  },
  {
   "cell_type": "code",
   "execution_count": 13,
   "metadata": {},
   "outputs": [
    {
     "name": "stdout",
     "output_type": "stream",
     "text": [
      "Connect: Let's Totally Have a Blast!\n",
      "Magia: My Sadistic Heart\n",
      "Doppel: Shalimar\n"
     ]
    }
   ],
   "source": [
    "connect = connect.strip('<th colspan=\"5\">')\n",
    "connect = connect.strip('b>')\n",
    "connect = connect.replace('</b>', '')\n",
    "connect = connect.replace('<i>', '')\n",
    "connect = connect.replace('</i>', '')\n",
    "connect = connect.strip('</')\n",
    "connect = connect.rstrip()\n",
    "print(connect)\n",
    "\n",
    "magia = magia.strip('<th colspan=\"5\">')\n",
    "magia = magia.strip('b>')\n",
    "magia = magia.replace('</b>', '')\n",
    "magia = magia.replace('<i>', '')\n",
    "magia = magia.replace('</i>', '')\n",
    "magia = magia.replace('<sup class=\"reference\" id=\"cite_ref-1\">', '')\n",
    "magia = magia.replace('<a href=\"#cite_note-1\">[1]</a></su', '')\n",
    "magia = magia.strip('</')\n",
    "magia = magia.rstrip()\n",
    "print(magia)\n",
    "\n",
    "doppel = doppel.strip('<th colspan=\"5\">')\n",
    "doppel = doppel.strip('b>')\n",
    "doppel = doppel.replace('<b>', '')\n",
    "doppel = doppel.replace('</b>', '')\n",
    "doppel = doppel.replace('<i>', '')\n",
    "doppel = doppel.replace('</i>', '')\n",
    "doppel = doppel.strip('</')\n",
    "doppel = doppel.rstrip()\n",
    "print(doppel)"
   ]
  },
  {
   "cell_type": "code",
   "execution_count": 14,
   "metadata": {},
   "outputs": [
    {
     "name": "stdout",
     "output_type": "stream",
     "text": [
      "Age: 13\n",
      "Height: 154cm\n",
      "Eye colour: Red\n",
      "Hair colour: Blonde\n",
      "Origins: Sakae Ward\n",
      "Soul Gem: Orange heart (earring on left ear)\n",
      "Weapon: Heart-shaped Devil Ta\n",
      "Wish: To be closer to her \"older sister\"\n",
      "Ability: Charm\n",
      "Witch form: Shalimar\n",
      "Japanese pronoun: <i>a-shi</i><span style=\"font-weight: normal\"> (<span class=\"t_nihongo_kanji\" lang=\"ja\">あーし</span>)</span\n",
      "School: Kamihama City University Affiliated School Seventh Grade\n"
     ]
    }
   ],
   "source": [
    "Age = str(bullet_points[18]).strip(\"<li>\").strip(\"</li>\").strip(\"<b>\").replace(\"</b>\", \"\").replace(',', '')\n",
    "print(Age)\n",
    "Height = str(bullet_points[19]).strip(\"<li>\").strip(\"</li>\").strip(\"<b>\").replace(\"</b>\", \"\").replace(',', '')\n",
    "print(Height)\n",
    "EyeColor = str(bullet_points[20]).strip(\"<li>\").strip(\"</li>\").strip(\"<b>\").replace(\"</b>\", \"\").replace(',', '')\n",
    "print(EyeColor)\n",
    "HairColor = str(bullet_points[21]).strip(\"<li>\").strip(\"</li>\").strip(\"<b>\").replace(\"</b>\", \"\").replace(',', '')\n",
    "print(HairColor)\n",
    "Hometown = str(bullet_points[22]).strip(\"<li>\").strip(\"</li>\").strip(\"<b>\").replace(\"</b>\", \"\").replace(',', '')\n",
    "print(Hometown)\n",
    "SoulGem = str(bullet_points[23]).strip(\"<li>\").strip(\"</li>\").strip(\"<b>\").replace(\"</b>\", \"\").replace(',', '')\n",
    "print(SoulGem)\n",
    "Weapon = str(bullet_points[24]).strip(\"<li>\").strip(\"</li>\").strip(\"<b>\").replace(\"</b>\", \"\").replace('</a', '').replace('<a class=\"external text\" href=\"https://en.wikipedia.org/wiki/Crossbow\" rel=\"nofollow\">', '')\n",
    "print(Weapon)\n",
    "Wish = str(bullet_points[25]).strip(\"<li>\").strip(\"</li>\").strip(\"<b>\").replace(\"</b>\", \"\").replace(',', '')\n",
    "print(Wish)\n",
    "Ability = str(bullet_points[26]).strip(\"<li>\").strip(\"</li>\").strip(\"<b>\").replace(\"</b>\", \"\").replace(',', '')\n",
    "print(Ability)\n",
    "Witch = str(bullet_points[27]).strip(\"<li>\").strip(\"</li>\").strip(\"<b>\").replace(\"</b>\", \"\").replace(',', '')\n",
    "print(Witch)\n",
    "Pronoun = str(bullet_points[28]).strip(\"<li>\").strip(\"</li>\").strip(\"<b>\").replace(\"</b>\", \"\").replace(',', '')\n",
    "print(Pronoun)\n",
    "School = str(bullet_points[29]).strip(\"<li>\").strip(\"</li>\").strip(\"<b>\").replace(\"</b>\", \"\").replace(',', '')\n",
    "print(School)"
   ]
  },
  {
   "cell_type": "code",
   "execution_count": 15,
   "metadata": {},
   "outputs": [
    {
     "name": "stdout",
     "output_type": "stream",
     "text": [
      "{'Name': 'Emiri Kisaki', 'Age': 'Age: 13', 'EyeColor': 'Eye colour: Red', 'HairColor': 'Hair colour: Blonde', 'Hometown': 'Origins: Sakae Ward', 'SoulGem': 'Soul Gem: Orange heart (earring on left ear)', 'Weapon': 'Weapon: Heart-shaped Devil Ta', 'Wish': 'Wish: To be closer to her \"older sister\"', 'Ability': 'Ability: Charm', 'Witch': 'Witch form: Shalimar', 'Pronoun': 'Japanese pronoun: <i>a-shi</i><span style=\"font-weight: normal\"> (<span class=\"t_nihongo_kanji\" lang=\"ja\">あーし</span>)</span', 'School': 'School: Kamihama City University Affiliated School Seventh Grade', 'Disks': ['Accel', 'Accel', 'Blast', 'Charge', 'Charge'], 'Stats': {'Initial': {'HP': '3812', 'ATK': '1094', 'DEF': '1047'}, 'Two_Star': {'HP': '12030', 'ATK': '3573', 'DEF': '3281'}, 'Three_Star': {'HP': '15238', 'ATK': '4530', 'DEF': '4160'}, 'Four_Star': {'HP': '20042', 'ATK': '5965', 'DEF': '5466'}, 'Five_Star': {'HP': '24841', 'ATK': '7402', 'DEF': '6776'}, 'SE': {'HP': '27005', 'ATK': '8701', 'DEF': '8409'}}, 'Connect': {'Name': \"Connect: Let's Totally Have a Blast!\", 'Two_Star': '★2: Damage UP [IV] &amp; Guaranteed Dazzle Edge', 'Three_Star': '★3: Damage UP [VI] &amp; Guaranteed Dazzle Edge', 'Four_Star': '★4: Damage UP [VIII] &amp; Guaranteed Dazzle Edge', 'Five_Star': '★5: Damage UP [X] &amp; Guaranteed Dazzle Edge'}, 'Magia': {'Name': 'Magia: My Sadistic Heart', 'Two_Star': '★2: Damage All Enemies [I] &amp; Enemy Damage DOWN (All / 3 T)', 'Three_Star': '★3: Damage All Enemies [III] &amp; Enemy Damage DOWN (All / 3 T)', 'Four_Star': '★4: Damage All Enemies [V] &amp; Enemy Damage DOWN (All / 3 T) &amp; Chance to Dazzle (All / 1 T)', 'Five_Star': '★5: Damage All Enemies [VII] &amp; Enemy Damage DOWN (All / 3 T) &amp; Chance to Dazzle (All / 1 T)'}, 'Doppel': {'Name': 'Doppel: Shalimar', 'Desc': 'The Doppel of temptation. Its form is serpent berries.\\nWhile the master of this emotion feels an affinity for her Doppel, which behaves as it pleases without any concept of good or evil, she also feels her own immaturity emanating from it.\\nThis Doppel speaks directly into one’s brain via ultrasonic tones, giving affirmation to anything and everything. The confidence and courage it grants are enough to wipe away any concern one may have.\\nIts comfortable words lead people to develop a great dependence on them, but because it well-meaningly affirms even people’s aggressive or malicious emotions ad infinitum, it may unintentionally guide its targets towards the worst possible actions.', 'Ability': 'Damage All Enemies [IX] &amp; Enemy Damage Down (All / 3 T) &amp; chance to Dazzle (All / 1 T)'}}\n"
     ]
    }
   ],
   "source": [
    "Emiri = {\n",
    "    \"Name\": \"Emiri Kisaki\",\n",
    "    \"Age\": Age,\n",
    "    \"EyeColor\": EyeColor,\n",
    "    \"HairColor\": HairColor,\n",
    "    \"Hometown\": Hometown,\n",
    "    \"SoulGem\": SoulGem,\n",
    "    \"Weapon\": Weapon,\n",
    "    \"Wish\": Wish,\n",
    "    \"Ability\": Ability,\n",
    "    \"Witch\": Witch,\n",
    "    \"Pronoun\": Pronoun,\n",
    "    \"School\": School,\n",
    "    \"Disks\": disks,\n",
    "    \"Stats\": {\n",
    "        \"Initial\": {\n",
    "            \"HP\": initial_hp,\n",
    "            \"ATK\": initial_atk,\n",
    "            \"DEF\": initial_def\n",
    "        },\n",
    "        \"Two_Star\": {\n",
    "            \"HP\": two_star_hp,\n",
    "            \"ATK\": two_star_atk,\n",
    "            \"DEF\": two_star_def \n",
    "        },\n",
    "        \"Three_Star\": {\n",
    "            \"HP\": three_star_hp,\n",
    "            \"ATK\": three_star_atk,\n",
    "            \"DEF\": three_star_def\n",
    "        },\n",
    "        \"Four_Star\": {\n",
    "            \"HP\": four_star_hp,\n",
    "            \"ATK\": four_star_atk,\n",
    "            \"DEF\": four_star_def\n",
    "        },\n",
    "        \"Five_Star\": {\n",
    "            \"HP\": five_star_hp,\n",
    "            \"ATK\": five_star_atk,\n",
    "            \"DEF\": five_star_def        \n",
    "        },\n",
    "        \"SE\": {\n",
    "            \"HP\": se_hp,\n",
    "            \"ATK\": se_atk,\n",
    "            \"DEF\":  se_def          \n",
    "        }\n",
    "    },\n",
    "    \"Connect\": {\n",
    "        \"Name\": connect,\n",
    "        \"Two_Star\": connect_two_star,\n",
    "        \"Three_Star\": connect_three_star,\n",
    "        \"Four_Star\": connect_four_star,\n",
    "        \"Five_Star\": connect_five_star\n",
    "    },\n",
    "    \"Magia\": {\n",
    "        \"Name\": magia,\n",
    "        \"Two_Star\": magia_two_star,\n",
    "        \"Three_Star\": magia_three_star,\n",
    "        \"Four_Star\": magia_four_star,\n",
    "        \"Five_Star\": magia_five_star\n",
    "    },\n",
    "    \"Doppel\": {\n",
    "        \"Name\": doppel,\n",
    "        \"Desc\": para,\n",
    "        \"Ability\": doppel_info,\n",
    "    }\n",
    "}\n",
    "\n",
    "print(Emiri)"
   ]
  },
  {
   "cell_type": "code",
   "execution_count": 16,
   "metadata": {},
   "outputs": [
    {
     "name": "stdout",
     "output_type": "stream",
     "text": [
      "{\"Name\": \"Emiri Kisaki\", \"Age\": \"Age: 13\", \"EyeColor\": \"Eye colour: Red\", \"HairColor\": \"Hair colour: Blonde\", \"Hometown\": \"Origins: Sakae Ward\", \"SoulGem\": \"Soul Gem: Orange heart (earring on left ear)\", \"Weapon\": \"Weapon: Heart-shaped Devil Ta\", \"Wish\": \"Wish: To be closer to her \\\"older sister\\\"\", \"Ability\": \"Ability: Charm\", \"Witch\": \"Witch form: Shalimar\", \"Pronoun\": \"Japanese pronoun: <i>a-shi</i><span style=\\\"font-weight: normal\\\"> (<span class=\\\"t_nihongo_kanji\\\" lang=\\\"ja\\\">\\u3042\\u30fc\\u3057</span>)</span\", \"School\": \"School: Kamihama City University Affiliated School Seventh Grade\", \"Disks\": [\"Accel\", \"Accel\", \"Blast\", \"Charge\", \"Charge\"], \"Stats\": {\"Initial\": {\"HP\": \"3812\", \"ATK\": \"1094\", \"DEF\": \"1047\"}, \"Two_Star\": {\"HP\": \"12030\", \"ATK\": \"3573\", \"DEF\": \"3281\"}, \"Three_Star\": {\"HP\": \"15238\", \"ATK\": \"4530\", \"DEF\": \"4160\"}, \"Four_Star\": {\"HP\": \"20042\", \"ATK\": \"5965\", \"DEF\": \"5466\"}, \"Five_Star\": {\"HP\": \"24841\", \"ATK\": \"7402\", \"DEF\": \"6776\"}, \"SE\": {\"HP\": \"27005\", \"ATK\": \"8701\", \"DEF\": \"8409\"}}, \"Connect\": {\"Name\": \"Connect: Let's Totally Have a Blast!\", \"Two_Star\": \"\\u26052: Damage UP [IV] &amp; Guaranteed Dazzle Edge\", \"Three_Star\": \"\\u26053: Damage UP [VI] &amp; Guaranteed Dazzle Edge\", \"Four_Star\": \"\\u26054: Damage UP [VIII] &amp; Guaranteed Dazzle Edge\", \"Five_Star\": \"\\u26055: Damage UP [X] &amp; Guaranteed Dazzle Edge\"}, \"Magia\": {\"Name\": \"Magia: My Sadistic Heart\", \"Two_Star\": \"\\u26052: Damage All Enemies [I] &amp; Enemy Damage DOWN (All / 3 T)\", \"Three_Star\": \"\\u26053: Damage All Enemies [III] &amp; Enemy Damage DOWN (All / 3 T)\", \"Four_Star\": \"\\u26054: Damage All Enemies [V] &amp; Enemy Damage DOWN (All / 3 T) &amp; Chance to Dazzle (All / 1 T)\", \"Five_Star\": \"\\u26055: Damage All Enemies [VII] &amp; Enemy Damage DOWN (All / 3 T) &amp; Chance to Dazzle (All / 1 T)\"}, \"Doppel\": {\"Name\": \"Doppel: Shalimar\", \"Desc\": \"The Doppel of temptation. Its form is serpent berries.\\nWhile the master of this emotion feels an affinity for her Doppel, which behaves as it pleases without any concept of good or evil, she also feels her own immaturity emanating from it.\\nThis Doppel speaks directly into one\\u2019s brain via ultrasonic tones, giving affirmation to anything and everything. The confidence and courage it grants are enough to wipe away any concern one may have.\\nIts comfortable words lead people to develop a great dependence on them, but because it well-meaningly affirms even people\\u2019s aggressive or malicious emotions ad infinitum, it may unintentionally guide its targets towards the worst possible actions.\", \"Ability\": \"Damage All Enemies [IX] &amp; Enemy Damage Down (All / 3 T) &amp; chance to Dazzle (All / 1 T)\"}}\n"
     ]
    }
   ],
   "source": [
    "girl_json = json.dumps(Emiri)\n",
    "print(girl_json)\n",
    "\n",
    "with open('emiri.json', 'w') as json_file:\n",
    "  json.dump(girl_json, json_file)"
   ]
  },
  {
   "cell_type": "code",
   "execution_count": 18,
   "metadata": {},
   "outputs": [
    {
     "name": "stdout",
     "output_type": "stream",
     "text": [
      "<li><b>Age:</b> 16</li>\n",
      "<li><b>School:</b> Sankyoin Educational Academy, Tenth Grade</li>\n"
     ]
    }
   ],
   "source": [
    "# Dependencies\n",
    "import os\n",
    "from bs4 import BeautifulSoup as bs\n",
    "import json\n",
    "import requests\n",
    "\n",
    "query_url = \"https://wiki.puella-magi.net/Shizuku_Hozumi\"\n",
    "response = requests.get(query_url)\n",
    "soup = bs(response.text, 'html.parser')\n",
    "\n",
    "bullet_points = soup.find_all('li')\n",
    "# 19- 30 General Info\n",
    "print(bullet_points[16])\n",
    "print(bullet_points[27])"
   ]
  },
  {
   "cell_type": "code",
   "execution_count": 19,
   "metadata": {},
   "outputs": [
    {
     "name": "stdout",
     "output_type": "stream",
     "text": [
      "3122 1300 1006\n",
      "9990 4160 3219\n",
      "12658 5270 4080\n",
      "16657 6930 5367\n",
      "20445 8143 7015\n"
     ]
    }
   ],
   "source": [
    "table_data = soup.find_all('td')\n",
    "\n",
    "initial_hp = str(table_data[21]).replace('<td style=\"width:25%;\">', '').replace('</td>', '').rstrip()\n",
    "initial_atk = str(table_data[22]).replace('<td style=\"width:25%;\">', '').replace('</td>', '').rstrip()\n",
    "initial_def = str(table_data[23]).replace('<td style=\"width:25%;\">', '').replace('</td>', '').rstrip()\n",
    "# max at 2* 28, 29, 30, 31\n",
    "two_star_hp = str(table_data[25]).replace('<td style=\"width:25%;\">', '').replace('</td>', '').rstrip()\n",
    "two_star_atk = str(table_data[26]).replace('<td style=\"width:25%;\">', '').replace('</td>', '').rstrip()\n",
    "two_star_def = str(table_data[27]).replace('<td style=\"width:25%;\">', '').replace('</td>', '').rstrip()\n",
    "# max at 3* 32, 33, 34, 35\n",
    "three_star_hp = str(table_data[29]).replace('<td style=\"width:25%;\">', '').replace('</td>', '').rstrip()\n",
    "three_star_atk = str(table_data[30]).replace('<td style=\"width:25%;\">', '').replace('</td>', '').rstrip()\n",
    "three_star_def = str(table_data[31]).replace('<td style=\"width:25%;\">', '').replace('</td>', '').rstrip()\n",
    "# max at 4* 36, 37, 38, 39\n",
    "four_star_hp = str(table_data[33]).replace('<td style=\"width:25%;\">', '').replace('</td>', '').rstrip()\n",
    "four_star_atk = str(table_data[34]).replace('<td style=\"width:25%;\">', '').replace('</td>', '').rstrip()\n",
    "four_star_def = str(table_data[35]).replace('<td style=\"width:25%;\">', '').replace('</td>', '').rstrip()\n",
    "# Max SE 44, 45, 46, 47\n",
    "se_hp = str(table_data[37]).replace('<td style=\"width:25%;\">', '').replace('</td>', '').rstrip()\n",
    "se_atk = str(table_data[38]).replace('<td style=\"width:25%;\">', '').replace('</td>', '').rstrip()\n",
    "se_def = str(table_data[39]).replace('<td style=\"width:25%;\">', '').replace('</td>', '').rstrip()\n",
    "\n",
    "print(initial_hp, initial_atk, initial_def)\n",
    "print(two_star_hp, two_star_atk, two_star_def)\n",
    "print(three_star_hp, three_star_atk, three_star_def)\n",
    "print(four_star_hp, four_star_atk, four_star_def)\n",
    "print(se_hp, se_atk, se_def)"
   ]
  },
  {
   "cell_type": "code",
   "execution_count": 20,
   "metadata": {},
   "outputs": [
    {
     "name": "stdout",
     "output_type": "stream",
     "text": [
      "['Accel', 'Blast', 'Blast', 'Charge', 'Charge']\n"
     ]
    }
   ],
   "source": [
    "disk_one = str(table_data[40])\n",
    "disk_two = str(table_data[41])\n",
    "disk_three = str(table_data[42])\n",
    "disk_four = str(table_data[43])\n",
    "disk_five = str(table_data[44])\n",
    "\n",
    "if (disk_one.find(\"accel\") != -1):\n",
    "    disk_one = \"Accel\"\n",
    "elif (disk_one.find(\"blast\") != -1):\n",
    "    disk_one = \"Blast\"\n",
    "else:\n",
    "    disk_one = \"Charge\"\n",
    "    \n",
    "if (disk_two.find(\"accel\") != -1):\n",
    "    disk_two = \"Accel\"\n",
    "elif (disk_two.find(\"blast\") != -1):\n",
    "    disk_two = \"Blast\"\n",
    "else:\n",
    "    disk_two = \"Charge\"\n",
    "\n",
    "if (disk_three.find(\"accel\") != -1):\n",
    "    disk_three = \"Accel\"\n",
    "elif (disk_three.find(\"blast\") != -1):\n",
    "    disk_three = \"Blast\"\n",
    "else:\n",
    "    disk_three = \"Charge\"\n",
    "    \n",
    "if (disk_four.find(\"accel\") != -1):\n",
    "    disk_four = \"Accel\"\n",
    "elif (disk_four.find(\"blast\") != -1):\n",
    "    disk_four = \"Blast\"\n",
    "else:\n",
    "    disk_four = \"Charge\"\n",
    "    \n",
    "if (disk_five.find(\"accel\") != -1):\n",
    "    disk_five = \"Accel\"\n",
    "elif (disk_five.find(\"blast\") != -1):\n",
    "    disk_five = \"Blast\"\n",
    "else:\n",
    "    disk_five = \"Charge\"\n",
    "    \n",
    "disks = [disk_one, disk_two, disk_three, disk_four, disk_five]\n",
    "print(disks)"
   ]
  },
  {
   "cell_type": "code",
   "execution_count": 21,
   "metadata": {},
   "outputs": [
    {
     "name": "stdout",
     "output_type": "stream",
     "text": [
      "★2: Damage UP [III] &amp; Chase [III]\n",
      "★3: Damage UP [V] &amp; Chase [V]\n",
      "★4: Damage UP [VII] &amp; Chase [VII]\n",
      "★2: Damage Two Random Enemies [I] &amp; Probability Critical (All / 3 T)\n",
      "★3: Damage Two Random Enemies [III] &amp; Probability Critical (All / 3 T)\n",
      "★4: Damage Four Random Enemies [V] &amp; Probability Critical (All / 3 T)\n"
     ]
    }
   ],
   "source": [
    "# table_data 49 through 52 are Connect Info\n",
    "connect_two_star = str(table_data[45])\n",
    "connect_three_star = str(table_data[46])\n",
    "connect_four_star = str(table_data[47])\n",
    "\n",
    "connect_two_star = connect_two_star.replace('</td>', '')\n",
    "connect_two_star = connect_two_star.replace('<td style=\"width:100%;\">', '')\n",
    "connect_two_star = connect_two_star.rstrip()\n",
    "print(connect_two_star)\n",
    "\n",
    "connect_three_star = connect_three_star.replace('</td>', '')\n",
    "connect_three_star = connect_three_star.replace('<td style=\"width:100%;\">', '')\n",
    "connect_three_star = connect_three_star.rstrip()\n",
    "print(connect_three_star)\n",
    "\n",
    "connect_four_star = connect_four_star.replace('</td>', '')\n",
    "connect_four_star = connect_four_star.replace('<td style=\"width:100%;\">', '')\n",
    "connect_four_star = connect_four_star.rstrip()\n",
    "print(connect_four_star)\n",
    "\n",
    "# table_data 53 through 56 are Magia Info\n",
    "\n",
    "magia_two_star = str(table_data[48])\n",
    "magia_three_star = str(table_data[49])\n",
    "magia_four_star = str(table_data[50])\n",
    "\n",
    "magia_two_star = magia_two_star.replace('</td>', '')\n",
    "magia_two_star = magia_two_star.replace('<td style=\"width:100%;\">', '')\n",
    "magia_two_star = magia_two_star.rstrip()\n",
    "print(magia_two_star)\n",
    "\n",
    "magia_three_star = magia_three_star.replace('</td>', '')\n",
    "magia_three_star = magia_three_star.replace('<td style=\"width:100%;\">', '')\n",
    "magia_three_star = magia_three_star.rstrip()\n",
    "print(magia_three_star)\n",
    "\n",
    "magia_four_star = magia_four_star.replace('</td>', '')\n",
    "magia_four_star = magia_four_star.replace('<td style=\"width:100%;\">', '')\n",
    "magia_four_star = magia_four_star.rstrip()\n",
    "print(magia_four_star)"
   ]
  },
  {
   "cell_type": "code",
   "execution_count": 22,
   "metadata": {},
   "outputs": [
    {
     "name": "stdout",
     "output_type": "stream",
     "text": [
      "<th colspan=\"5\"><b>Magia:</b> <i>Myriad Meese</i>\n",
      "</th>\n",
      "Connect: I'll Bridge the Gap\n",
      "Magia: Myriad Meese\n"
     ]
    }
   ],
   "source": [
    "table_head = soup.find_all('th')\n",
    "connect = str(table_head[3])\n",
    "magia = str(table_head[4])\n",
    "print(magia)\n",
    "\n",
    "connect = connect.strip('<th colspan=\"5\">')\n",
    "connect = connect.strip('b>')\n",
    "connect = connect.strip('<b>')\n",
    "connect = connect.replace('</b>', '')\n",
    "connect = connect.replace('<i>', '')\n",
    "connect = connect.replace('</i>', '')\n",
    "connect = connect.strip('</')\n",
    "connect = connect.rstrip()\n",
    "print(connect)\n",
    "\n",
    "magia = magia.strip('<th colspan=\"5\">')\n",
    "magia = magia.strip('b>')\n",
    "magia = magia.replace('</b>', '')\n",
    "magia = magia.replace('<i>', '')\n",
    "magia = magia.replace('</i>', '')\n",
    "magia = magia.strip('</')\n",
    "magia = magia.rstrip()\n",
    "print(magia)"
   ]
  },
  {
   "cell_type": "code",
   "execution_count": 23,
   "metadata": {},
   "outputs": [
    {
     "name": "stdout",
     "output_type": "stream",
     "text": [
      "Age: 16\n",
      "Height: 161cm\n",
      "Eye colour: Purple\n",
      "Hair colour: Lavender\n",
      "Origins: Sankyo Ward\n",
      "Soul Gem: Purple eye-shaped oval (left side of torso)\n",
      "Weapon: <a class=\"external text\" href=\"https://en.m.wikipedia.org/wiki/Chakram\" rel=\"nofollow\">Chakrams\n",
      "Wish: \"I want to see him...! Take me to where he is right this instant!!\" (In reference to a boy she was close to who was in an accident.)\n",
      "Ability: Join spaces\n",
      "Witch form:\n",
      "Japanese pronoun: <i>watashi</i><span style=\"font-weight: normal\"> (<span class=\"t_nihongo_kanji\" lang=\"ja\">私</span>)</span\n",
      "School: Sankyoin Educational Academy Tenth Grade\n"
     ]
    }
   ],
   "source": [
    "Age = str(bullet_points[16]).strip(\"<li>\").strip(\"</li>\").strip(\"<b>\").replace(\"</b>\", \"\").replace(',', '')\n",
    "print(Age)\n",
    "Height = str(bullet_points[17]).strip(\"<li>\").strip(\"</li>\").strip(\"<b>\").replace(\"</b>\", \"\").replace(',', '')\n",
    "print(Height)\n",
    "EyeColor = str(bullet_points[18]).strip(\"<li>\").strip(\"</li>\").strip(\"<b>\").replace(\"</b>\", \"\").replace(',', '')\n",
    "print(EyeColor)\n",
    "HairColor = str(bullet_points[19]).strip(\"<li>\").strip(\"</li>\").strip(\"<b>\").replace(\"</b>\", \"\").replace(',', '')\n",
    "print(HairColor)\n",
    "Hometown = str(bullet_points[20]).strip(\"<li>\").strip(\"</li>\").strip(\"<b>\").replace(\"</b>\", \"\").replace(',', '')\n",
    "print(Hometown)\n",
    "SoulGem = str(bullet_points[21]).strip(\"<li>\").strip(\"</li>\").strip(\"<b>\").replace(\"</b>\", \"\").replace(',', '')\n",
    "print(SoulGem)\n",
    "Weapon = str(bullet_points[22]).strip(\"<li>\").strip(\"</li>\").strip(\"<b>\").replace(\"</b>\", \"\").replace('</a', '').replace('<a class=\"external text\" href=\"https://en.wikipedia.org/wiki/Crossbow\" rel=\"nofollow\">', '')\n",
    "print(Weapon)\n",
    "Wish = str(bullet_points[23]).strip(\"<li>\").strip(\"</li>\").strip(\"<b>\").replace(\"</b>\", \"\").replace(',', '')\n",
    "print(Wish)\n",
    "Ability = str(bullet_points[24]).strip(\"<li>\").strip(\"</li>\").strip(\"<b>\").replace(\"</b>\", \"\").replace(',', '')\n",
    "print(Ability)\n",
    "Witch = str(bullet_points[25]).strip(\"<li>\").strip(\"</li>\").strip(\"<b>\").replace(\"</b>\", \"\").replace(',', '').replace('</', '')\n",
    "print(Witch)\n",
    "Pronoun = str(bullet_points[26]).strip(\"<li>\").strip(\"</li>\").strip(\"<b>\").replace(\"</b>\", \"\").replace(',', '')\n",
    "print(Pronoun)\n",
    "School = str(bullet_points[27]).strip(\"<li>\").strip(\"</li>\").strip(\"<b>\").replace(\"</b>\", \"\").replace(',', '')\n",
    "print(School)"
   ]
  },
  {
   "cell_type": "code",
   "execution_count": 24,
   "metadata": {},
   "outputs": [
    {
     "name": "stdout",
     "output_type": "stream",
     "text": [
      "{'Name': 'Shizuku Hozumi', 'Age': 'Age: 16', 'EyeColor': 'Eye colour: Purple', 'HairColor': 'Hair colour: Lavender', 'Hometown': 'Origins: Sankyo Ward', 'SoulGem': 'Soul Gem: Purple eye-shaped oval (left side of torso)', 'Weapon': 'Weapon: <a class=\"external text\" href=\"https://en.m.wikipedia.org/wiki/Chakram\" rel=\"nofollow\">Chakrams', 'Wish': 'Wish: \"I want to see him...! Take me to where he is right this instant!!\" (In reference to a boy she was close to who was in an accident.)', 'Ability': 'Ability: Join spaces', 'Witch': 'Witch form:', 'Pronoun': 'Japanese pronoun: <i>watashi</i><span style=\"font-weight: normal\"> (<span class=\"t_nihongo_kanji\" lang=\"ja\">私</span>)</span', 'School': 'School: Sankyoin Educational Academy Tenth Grade', 'Disks': ['Accel', 'Blast', 'Blast', 'Charge', 'Charge'], 'Stats': {'Initial': {'HP': '3122', 'ATK': '1300', 'DEF': '1006'}, 'Two_Star': {'HP': '9990', 'ATK': '4160', 'DEF': '3219'}, 'Three_Star': {'HP': '12658', 'ATK': '5270', 'DEF': '4080'}, 'Four_Star': {'HP': '16657', 'ATK': '6930', 'DEF': '5367'}, 'SE': {'HP': '20445', 'ATK': '8143', 'DEF': '7015'}}, 'Connect': {'Name': \"Connect: I'll Bridge the Gap\", 'Two_Star': '★2: Damage UP [III] &amp; Chase [III]', 'Three_Star': '★3: Damage UP [V] &amp; Chase [V]', 'Four_Star': '★4: Damage UP [VII] &amp; Chase [VII]'}, 'Magia': {'Name': 'Magia: Myriad Meese', 'Two_Star': '★2: Damage Two Random Enemies [I] &amp; Probability Critical (All / 3 T)', 'Three_Star': '★3: Damage Two Random Enemies [III] &amp; Probability Critical (All / 3 T)', 'Four_Star': '★4: Damage Four Random Enemies [V] &amp; Probability Critical (All / 3 T)'}, 'Doppel': {'Name': ''}}\n"
     ]
    }
   ],
   "source": [
    "Shizuku = {\n",
    "    \"Name\": \"Shizuku Hozumi\",\n",
    "    \"Age\": Age,\n",
    "    \"EyeColor\": EyeColor,\n",
    "    \"HairColor\": HairColor,\n",
    "    \"Hometown\": Hometown,\n",
    "    \"SoulGem\": SoulGem,\n",
    "    \"Weapon\": Weapon,\n",
    "    \"Wish\": Wish,\n",
    "    \"Ability\": Ability,\n",
    "    \"Witch\": Witch,\n",
    "    \"Pronoun\": Pronoun,\n",
    "    \"School\": School,\n",
    "    \"Disks\": disks,\n",
    "    \"Stats\": {\n",
    "        \"Initial\": {\n",
    "            \"HP\": initial_hp,\n",
    "            \"ATK\": initial_atk,\n",
    "            \"DEF\": initial_def\n",
    "        },\n",
    "        \"Two_Star\": {\n",
    "            \"HP\": two_star_hp,\n",
    "            \"ATK\": two_star_atk,\n",
    "            \"DEF\": two_star_def \n",
    "        },\n",
    "        \"Three_Star\": {\n",
    "            \"HP\": three_star_hp,\n",
    "            \"ATK\": three_star_atk,\n",
    "            \"DEF\": three_star_def\n",
    "        },\n",
    "        \"Four_Star\": {\n",
    "            \"HP\": four_star_hp,\n",
    "            \"ATK\": four_star_atk,\n",
    "            \"DEF\": four_star_def\n",
    "        },\n",
    "        \"SE\": {\n",
    "            \"HP\": se_hp,\n",
    "            \"ATK\": se_atk,\n",
    "            \"DEF\":  se_def          \n",
    "        }\n",
    "    },\n",
    "    \"Connect\": {\n",
    "        \"Name\": connect,\n",
    "        \"Two_Star\": connect_two_star,\n",
    "        \"Three_Star\": connect_three_star,\n",
    "        \"Four_Star\": connect_four_star\n",
    "    },\n",
    "    \"Magia\": {\n",
    "        \"Name\": magia,\n",
    "        \"Two_Star\": magia_two_star,\n",
    "        \"Three_Star\": magia_three_star,\n",
    "        \"Four_Star\": magia_four_star\n",
    "    },\n",
    "    \"Doppel\": {\n",
    "        \"Name\": \"\"\n",
    "    }\n",
    "}\n",
    "\n",
    "print(Shizuku)"
   ]
  },
  {
   "cell_type": "code",
   "execution_count": 25,
   "metadata": {},
   "outputs": [
    {
     "name": "stdout",
     "output_type": "stream",
     "text": [
      "{\"Name\": \"Shizuku Hozumi\", \"Age\": \"Age: 16\", \"EyeColor\": \"Eye colour: Purple\", \"HairColor\": \"Hair colour: Lavender\", \"Hometown\": \"Origins: Sankyo Ward\", \"SoulGem\": \"Soul Gem: Purple eye-shaped oval (left side of torso)\", \"Weapon\": \"Weapon: <a class=\\\"external text\\\" href=\\\"https://en.m.wikipedia.org/wiki/Chakram\\\" rel=\\\"nofollow\\\">Chakrams\", \"Wish\": \"Wish: \\\"I want to see him...! Take me to where he is right this instant!!\\\" (In reference to a boy she was close to who was in an accident.)\", \"Ability\": \"Ability: Join spaces\", \"Witch\": \"Witch form:\", \"Pronoun\": \"Japanese pronoun: <i>watashi</i><span style=\\\"font-weight: normal\\\"> (<span class=\\\"t_nihongo_kanji\\\" lang=\\\"ja\\\">\\u79c1</span>)</span\", \"School\": \"School: Sankyoin Educational Academy Tenth Grade\", \"Disks\": [\"Accel\", \"Blast\", \"Blast\", \"Charge\", \"Charge\"], \"Stats\": {\"Initial\": {\"HP\": \"3122\", \"ATK\": \"1300\", \"DEF\": \"1006\"}, \"Two_Star\": {\"HP\": \"9990\", \"ATK\": \"4160\", \"DEF\": \"3219\"}, \"Three_Star\": {\"HP\": \"12658\", \"ATK\": \"5270\", \"DEF\": \"4080\"}, \"Four_Star\": {\"HP\": \"16657\", \"ATK\": \"6930\", \"DEF\": \"5367\"}, \"SE\": {\"HP\": \"20445\", \"ATK\": \"8143\", \"DEF\": \"7015\"}}, \"Connect\": {\"Name\": \"Connect: I'll Bridge the Gap\", \"Two_Star\": \"\\u26052: Damage UP [III] &amp; Chase [III]\", \"Three_Star\": \"\\u26053: Damage UP [V] &amp; Chase [V]\", \"Four_Star\": \"\\u26054: Damage UP [VII] &amp; Chase [VII]\"}, \"Magia\": {\"Name\": \"Magia: Myriad Meese\", \"Two_Star\": \"\\u26052: Damage Two Random Enemies [I] &amp; Probability Critical (All / 3 T)\", \"Three_Star\": \"\\u26053: Damage Two Random Enemies [III] &amp; Probability Critical (All / 3 T)\", \"Four_Star\": \"\\u26054: Damage Four Random Enemies [V] &amp; Probability Critical (All / 3 T)\"}, \"Doppel\": {\"Name\": \"\"}}\n"
     ]
    }
   ],
   "source": [
    "girl_json = json.dumps(Shizuku)\n",
    "print(girl_json)\n",
    "\n",
    "with open('shizuku.json', 'w') as json_file:\n",
    "  json.dump(girl_json, json_file)"
   ]
  },
  {
   "cell_type": "code",
   "execution_count": 27,
   "metadata": {},
   "outputs": [
    {
     "name": "stdout",
     "output_type": "stream",
     "text": [
      "<li><b>Age:</b> 15</li>\n",
      "<li><b>School:</b> Sankyoin Educational Academy, Ninth Grade</li>\n"
     ]
    }
   ],
   "source": [
    "# Dependencies\n",
    "import os\n",
    "from bs4 import BeautifulSoup as bs\n",
    "import json\n",
    "import requests\n",
    "\n",
    "query_url = \"https://wiki.puella-magi.net/Akira_Shinobu\"\n",
    "response = requests.get(query_url)\n",
    "soup = bs(response.text, 'html.parser')\n",
    "\n",
    "bullet_points = soup.find_all('li')\n",
    "# 19- 30 General Info\n",
    "print(bullet_points[16])\n",
    "print(bullet_points[27])"
   ]
  },
  {
   "cell_type": "code",
   "execution_count": 28,
   "metadata": {},
   "outputs": [
    {
     "name": "stdout",
     "output_type": "stream",
     "text": [
      "3085 1322 994\n",
      "9736 4317 3115\n",
      "12335 5475 3947\n",
      "16225 7208 5191\n",
      "19310 8968 6839\n"
     ]
    }
   ],
   "source": [
    "table_data = soup.find_all('td')\n",
    "\n",
    "initial_hp = str(table_data[21]).replace('<td style=\"width:25%;\">', '').replace('</td>', '').rstrip()\n",
    "initial_atk = str(table_data[22]).replace('<td style=\"width:25%;\">', '').replace('</td>', '').rstrip()\n",
    "initial_def = str(table_data[23]).replace('<td style=\"width:25%;\">', '').replace('</td>', '').rstrip()\n",
    "# max at 2* 28, 29, 30, 31\n",
    "two_star_hp = str(table_data[25]).replace('<td style=\"width:25%;\">', '').replace('</td>', '').rstrip()\n",
    "two_star_atk = str(table_data[26]).replace('<td style=\"width:25%;\">', '').replace('</td>', '').rstrip()\n",
    "two_star_def = str(table_data[27]).replace('<td style=\"width:25%;\">', '').replace('</td>', '').rstrip()\n",
    "# max at 3* 32, 33, 34, 35\n",
    "three_star_hp = str(table_data[29]).replace('<td style=\"width:25%;\">', '').replace('</td>', '').rstrip()\n",
    "three_star_atk = str(table_data[30]).replace('<td style=\"width:25%;\">', '').replace('</td>', '').rstrip()\n",
    "three_star_def = str(table_data[31]).replace('<td style=\"width:25%;\">', '').replace('</td>', '').rstrip()\n",
    "# max at 4* 36, 37, 38, 39\n",
    "four_star_hp = str(table_data[33]).replace('<td style=\"width:25%;\">', '').replace('</td>', '').rstrip()\n",
    "four_star_atk = str(table_data[34]).replace('<td style=\"width:25%;\">', '').replace('</td>', '').rstrip()\n",
    "four_star_def = str(table_data[35]).replace('<td style=\"width:25%;\">', '').replace('</td>', '').rstrip()\n",
    "# Max SE 44, 45, 46, 47\n",
    "se_hp = str(table_data[37]).replace('<td style=\"width:25%;\">', '').replace('</td>', '').rstrip()\n",
    "se_atk = str(table_data[38]).replace('<td style=\"width:25%;\">', '').replace('</td>', '').rstrip()\n",
    "se_def = str(table_data[39]).replace('<td style=\"width:25%;\">', '').replace('</td>', '').rstrip()\n",
    "\n",
    "print(initial_hp, initial_atk, initial_def)\n",
    "print(two_star_hp, two_star_atk, two_star_def)\n",
    "print(three_star_hp, three_star_atk, three_star_def)\n",
    "print(four_star_hp, four_star_atk, four_star_def)\n",
    "print(se_hp, se_atk, se_def)"
   ]
  },
  {
   "cell_type": "code",
   "execution_count": 29,
   "metadata": {},
   "outputs": [
    {
     "name": "stdout",
     "output_type": "stream",
     "text": [
      "['Accel', 'Blast', 'Charge', 'Charge', 'Charge']\n"
     ]
    }
   ],
   "source": [
    "disk_one = str(table_data[40])\n",
    "disk_two = str(table_data[41])\n",
    "disk_three = str(table_data[42])\n",
    "disk_four = str(table_data[43])\n",
    "disk_five = str(table_data[44])\n",
    "\n",
    "if (disk_one.find(\"accel\") != -1):\n",
    "    disk_one = \"Accel\"\n",
    "elif (disk_one.find(\"blast\") != -1):\n",
    "    disk_one = \"Blast\"\n",
    "else:\n",
    "    disk_one = \"Charge\"\n",
    "    \n",
    "if (disk_two.find(\"accel\") != -1):\n",
    "    disk_two = \"Accel\"\n",
    "elif (disk_two.find(\"blast\") != -1):\n",
    "    disk_two = \"Blast\"\n",
    "else:\n",
    "    disk_two = \"Charge\"\n",
    "\n",
    "if (disk_three.find(\"accel\") != -1):\n",
    "    disk_three = \"Accel\"\n",
    "elif (disk_three.find(\"blast\") != -1):\n",
    "    disk_three = \"Blast\"\n",
    "else:\n",
    "    disk_three = \"Charge\"\n",
    "    \n",
    "if (disk_four.find(\"accel\") != -1):\n",
    "    disk_four = \"Accel\"\n",
    "elif (disk_four.find(\"blast\") != -1):\n",
    "    disk_four = \"Blast\"\n",
    "else:\n",
    "    disk_four = \"Charge\"\n",
    "    \n",
    "if (disk_five.find(\"accel\") != -1):\n",
    "    disk_five = \"Accel\"\n",
    "elif (disk_five.find(\"blast\") != -1):\n",
    "    disk_five = \"Blast\"\n",
    "else:\n",
    "    disk_five = \"Charge\"\n",
    "    \n",
    "disks = [disk_one, disk_two, disk_three, disk_four, disk_five]\n",
    "print(disks)"
   ]
  },
  {
   "cell_type": "code",
   "execution_count": 30,
   "metadata": {},
   "outputs": [
    {
     "name": "stdout",
     "output_type": "stream",
     "text": [
      "★2: Charge Damage UP [III] &amp; Attack UP [III]\n",
      "★3: Charge Damage UP [V] &amp; Attack UP [V]\n",
      "★4: Charge Damage UP [VII] &amp; Attack UP [VII]\n",
      "★2: Damage One Enemy [I] &amp; Charge Damage UP (All / 3 T)\n",
      "★3: Damage One Enemy [III] &amp; Charge Damage UP (All / 3 T)\n",
      "★4: Damage One Enemy [V] &amp; Charge Damage UP (All / 3 T) &amp; Damage UP (Self / 3 T)\n"
     ]
    }
   ],
   "source": [
    "# table_data 49 through 52 are Connect Info\n",
    "connect_two_star = str(table_data[45])\n",
    "connect_three_star = str(table_data[46])\n",
    "connect_four_star = str(table_data[47])\n",
    "\n",
    "connect_two_star = connect_two_star.replace('</td>', '')\n",
    "connect_two_star = connect_two_star.replace('<td style=\"width:100%;\">', '')\n",
    "connect_two_star = connect_two_star.rstrip()\n",
    "print(connect_two_star)\n",
    "\n",
    "connect_three_star = connect_three_star.replace('</td>', '')\n",
    "connect_three_star = connect_three_star.replace('<td style=\"width:100%;\">', '')\n",
    "connect_three_star = connect_three_star.rstrip()\n",
    "print(connect_three_star)\n",
    "\n",
    "connect_four_star = connect_four_star.replace('</td>', '')\n",
    "connect_four_star = connect_four_star.replace('<td style=\"width:100%;\">', '')\n",
    "connect_four_star = connect_four_star.rstrip()\n",
    "print(connect_four_star)\n",
    "\n",
    "# table_data 53 through 56 are Magia Info\n",
    "\n",
    "magia_two_star = str(table_data[48])\n",
    "magia_three_star = str(table_data[49])\n",
    "magia_four_star = str(table_data[50])\n",
    "\n",
    "magia_two_star = magia_two_star.replace('</td>', '')\n",
    "magia_two_star = magia_two_star.replace('<td style=\"width:100%;\">', '')\n",
    "magia_two_star = magia_two_star.rstrip()\n",
    "print(magia_two_star)\n",
    "\n",
    "magia_three_star = magia_three_star.replace('</td>', '')\n",
    "magia_three_star = magia_three_star.replace('<td style=\"width:100%;\">', '')\n",
    "magia_three_star = magia_three_star.rstrip()\n",
    "print(magia_three_star)\n",
    "\n",
    "magia_four_star = magia_four_star.replace('</td>', '')\n",
    "magia_four_star = magia_four_star.replace('<td style=\"width:100%;\">', '')\n",
    "magia_four_star = magia_four_star.rstrip()\n",
    "print(magia_four_star)"
   ]
  },
  {
   "cell_type": "code",
   "execution_count": 31,
   "metadata": {},
   "outputs": [
    {
     "name": "stdout",
     "output_type": "stream",
     "text": [
      "<th colspan=\"5\"><b>Magia:</b> <i>Machinegun Fists</i>\n",
      "</th>\n",
      "Connect: Let's Go Fist to Fist!\n",
      "Magia: Machinegun Fists\n"
     ]
    }
   ],
   "source": [
    "table_head = soup.find_all('th')\n",
    "connect = str(table_head[3])\n",
    "magia = str(table_head[4])\n",
    "print(magia)\n",
    "\n",
    "connect = connect.strip('<th colspan=\"5\">')\n",
    "connect = connect.strip('b>')\n",
    "connect = connect.strip('<b>')\n",
    "connect = connect.replace('</b>', '')\n",
    "connect = connect.replace('<i>', '')\n",
    "connect = connect.replace('</i>', '')\n",
    "connect = connect.strip('</')\n",
    "connect = connect.rstrip()\n",
    "print(connect)\n",
    "\n",
    "magia = magia.strip('<th colspan=\"5\">')\n",
    "magia = magia.strip('b>')\n",
    "magia = magia.replace('</b>', '')\n",
    "magia = magia.replace('<i>', '')\n",
    "magia = magia.replace('</i>', '')\n",
    "magia = magia.strip('</')\n",
    "magia = magia.rstrip()\n",
    "print(magia)"
   ]
  },
  {
   "cell_type": "code",
   "execution_count": 32,
   "metadata": {},
   "outputs": [
    {
     "name": "stdout",
     "output_type": "stream",
     "text": [
      "Age: 15\n",
      "Height: 164cm\n",
      "Eye colour: Light blue\n",
      "Hair colour: Gray\n",
      "Origins: Sankyo Ward\n",
      "Soul Gem: Blue diamond (left gauntlet)\n",
      "Weapon: Open finger gloves\n",
      "Wish: \"All those people...Save them\" (Akira made this wish after finding people trapped in a witch's barrier when she was injured by familiars.)\n",
      "Ability: Identifying weak points\n",
      "Witch form:\n",
      "Japanese pronoun: <i>boku</i><span style=\"font-weight: normal\"> (<span class=\"t_nihongo_kanji\" lang=\"ja\">ボク</span>)</span\n",
      "School: Sankyoin Educational Academy Ninth Grade\n"
     ]
    }
   ],
   "source": [
    "Age = str(bullet_points[16]).strip(\"<li>\").strip(\"</li>\").strip(\"<b>\").replace(\"</b>\", \"\").replace(',', '')\n",
    "print(Age)\n",
    "Height = str(bullet_points[17]).strip(\"<li>\").strip(\"</li>\").strip(\"<b>\").replace(\"</b>\", \"\").replace(',', '')\n",
    "print(Height)\n",
    "EyeColor = str(bullet_points[18]).strip(\"<li>\").strip(\"</li>\").strip(\"<b>\").replace(\"</b>\", \"\").replace(',', '')\n",
    "print(EyeColor)\n",
    "HairColor = str(bullet_points[19]).strip(\"<li>\").strip(\"</li>\").strip(\"<b>\").replace(\"</b>\", \"\").replace(',', '')\n",
    "print(HairColor)\n",
    "Hometown = str(bullet_points[20]).strip(\"<li>\").strip(\"</li>\").strip(\"<b>\").replace(\"</b>\", \"\").replace(',', '')\n",
    "print(Hometown)\n",
    "SoulGem = str(bullet_points[21]).strip(\"<li>\").strip(\"</li>\").strip(\"<b>\").replace(\"</b>\", \"\").replace(',', '')\n",
    "print(SoulGem)\n",
    "Weapon = str(bullet_points[22]).strip(\"<li>\").strip(\"</li>\").strip(\"<b>\").replace(\"</b>\", \"\").replace('</a', '').replace('<a class=\"external text\" href=\"https://en.wikipedia.org/wiki/Crossbow\" rel=\"nofollow\">', '')\n",
    "print(Weapon)\n",
    "Wish = str(bullet_points[23]).strip(\"<li>\").strip(\"</li>\").strip(\"<b>\").replace(\"</b>\", \"\").replace(',', '')\n",
    "print(Wish)\n",
    "Ability = str(bullet_points[24]).strip(\"<li>\").strip(\"</li>\").strip(\"<b>\").replace(\"</b>\", \"\").replace(',', '')\n",
    "print(Ability)\n",
    "Witch = str(bullet_points[25]).strip(\"<li>\").strip(\"</li>\").strip(\"<b>\").replace(\"</b>\", \"\").replace(',', '').replace('</', '')\n",
    "print(Witch)\n",
    "Pronoun = str(bullet_points[26]).strip(\"<li>\").strip(\"</li>\").strip(\"<b>\").replace(\"</b>\", \"\").replace(',', '')\n",
    "print(Pronoun)\n",
    "School = str(bullet_points[27]).strip(\"<li>\").strip(\"</li>\").strip(\"<b>\").replace(\"</b>\", \"\").replace(',', '')\n",
    "print(School)"
   ]
  },
  {
   "cell_type": "code",
   "execution_count": 34,
   "metadata": {},
   "outputs": [
    {
     "name": "stdout",
     "output_type": "stream",
     "text": [
      "{'Name': 'Akira Shinobu', 'Age': 'Age: 15', 'EyeColor': 'Eye colour: Light blue', 'HairColor': 'Hair colour: Gray', 'Hometown': 'Origins: Sankyo Ward', 'SoulGem': 'Soul Gem: Blue diamond (left gauntlet)', 'Weapon': 'Weapon: Open finger gloves', 'Wish': 'Wish: \"All those people...Save them\" (Akira made this wish after finding people trapped in a witch\\'s barrier when she was injured by familiars.)', 'Ability': 'Ability: Identifying weak points', 'Witch': 'Witch form:', 'Pronoun': 'Japanese pronoun: <i>boku</i><span style=\"font-weight: normal\"> (<span class=\"t_nihongo_kanji\" lang=\"ja\">ボク</span>)</span', 'School': 'School: Sankyoin Educational Academy Ninth Grade', 'Disks': ['Accel', 'Blast', 'Charge', 'Charge', 'Charge'], 'Stats': {'Initial': {'HP': '3085', 'ATK': '1322', 'DEF': '994'}, 'Two_Star': {'HP': '9736', 'ATK': '4317', 'DEF': '3115'}, 'Three_Star': {'HP': '12335', 'ATK': '5475', 'DEF': '3947'}, 'Four_Star': {'HP': '16225', 'ATK': '7208', 'DEF': '5191'}, 'SE': {'HP': '19310', 'ATK': '8968', 'DEF': '6839'}}, 'Connect': {'Name': \"Connect: Let's Go Fist to Fist!\", 'Two_Star': '★2: Charge Damage UP [III] &amp; Attack UP [III]', 'Three_Star': '★3: Charge Damage UP [V] &amp; Attack UP [V]', 'Four_Star': '★4: Charge Damage UP [VII] &amp; Attack UP [VII]'}, 'Magia': {'Name': 'Magia: Machinegun Fists', 'Two_Star': '★2: Damage One Enemy [I] &amp; Charge Damage UP (All / 3 T)', 'Three_Star': '★3: Damage One Enemy [III] &amp; Charge Damage UP (All / 3 T)', 'Four_Star': '★4: Damage One Enemy [V] &amp; Charge Damage UP (All / 3 T) &amp; Damage UP (Self / 3 T)'}, 'Doppel': {'Name': ''}}\n"
     ]
    }
   ],
   "source": [
    "Akira = {\n",
    "    \"Name\": \"Akira Shinobu\",\n",
    "    \"Age\": Age,\n",
    "    \"EyeColor\": EyeColor,\n",
    "    \"HairColor\": HairColor,\n",
    "    \"Hometown\": Hometown,\n",
    "    \"SoulGem\": SoulGem,\n",
    "    \"Weapon\": Weapon,\n",
    "    \"Wish\": Wish,\n",
    "    \"Ability\": Ability,\n",
    "    \"Witch\": Witch,\n",
    "    \"Pronoun\": Pronoun,\n",
    "    \"School\": School,\n",
    "    \"Disks\": disks,\n",
    "    \"Stats\": {\n",
    "        \"Initial\": {\n",
    "            \"HP\": initial_hp,\n",
    "            \"ATK\": initial_atk,\n",
    "            \"DEF\": initial_def\n",
    "        },\n",
    "        \"Two_Star\": {\n",
    "            \"HP\": two_star_hp,\n",
    "            \"ATK\": two_star_atk,\n",
    "            \"DEF\": two_star_def \n",
    "        },\n",
    "        \"Three_Star\": {\n",
    "            \"HP\": three_star_hp,\n",
    "            \"ATK\": three_star_atk,\n",
    "            \"DEF\": three_star_def\n",
    "        },\n",
    "        \"Four_Star\": {\n",
    "            \"HP\": four_star_hp,\n",
    "            \"ATK\": four_star_atk,\n",
    "            \"DEF\": four_star_def\n",
    "        },\n",
    "        \"SE\": {\n",
    "            \"HP\": se_hp,\n",
    "            \"ATK\": se_atk,\n",
    "            \"DEF\":  se_def          \n",
    "        }\n",
    "    },\n",
    "    \"Connect\": {\n",
    "        \"Name\": connect,\n",
    "        \"Two_Star\": connect_two_star,\n",
    "        \"Three_Star\": connect_three_star,\n",
    "        \"Four_Star\": connect_four_star\n",
    "    },\n",
    "    \"Magia\": {\n",
    "        \"Name\": magia,\n",
    "        \"Two_Star\": magia_two_star,\n",
    "        \"Three_Star\": magia_three_star,\n",
    "        \"Four_Star\": magia_four_star\n",
    "    },\n",
    "    \"Doppel\": {\n",
    "        \"Name\": \"\"\n",
    "    }\n",
    "}\n",
    "\n",
    "print(Akira)"
   ]
  },
  {
   "cell_type": "code",
   "execution_count": 35,
   "metadata": {},
   "outputs": [
    {
     "name": "stdout",
     "output_type": "stream",
     "text": [
      "{\"Name\": \"Akira Shinobu\", \"Age\": \"Age: 15\", \"EyeColor\": \"Eye colour: Light blue\", \"HairColor\": \"Hair colour: Gray\", \"Hometown\": \"Origins: Sankyo Ward\", \"SoulGem\": \"Soul Gem: Blue diamond (left gauntlet)\", \"Weapon\": \"Weapon: Open finger gloves\", \"Wish\": \"Wish: \\\"All those people...Save them\\\" (Akira made this wish after finding people trapped in a witch's barrier when she was injured by familiars.)\", \"Ability\": \"Ability: Identifying weak points\", \"Witch\": \"Witch form:\", \"Pronoun\": \"Japanese pronoun: <i>boku</i><span style=\\\"font-weight: normal\\\"> (<span class=\\\"t_nihongo_kanji\\\" lang=\\\"ja\\\">\\u30dc\\u30af</span>)</span\", \"School\": \"School: Sankyoin Educational Academy Ninth Grade\", \"Disks\": [\"Accel\", \"Blast\", \"Charge\", \"Charge\", \"Charge\"], \"Stats\": {\"Initial\": {\"HP\": \"3085\", \"ATK\": \"1322\", \"DEF\": \"994\"}, \"Two_Star\": {\"HP\": \"9736\", \"ATK\": \"4317\", \"DEF\": \"3115\"}, \"Three_Star\": {\"HP\": \"12335\", \"ATK\": \"5475\", \"DEF\": \"3947\"}, \"Four_Star\": {\"HP\": \"16225\", \"ATK\": \"7208\", \"DEF\": \"5191\"}, \"SE\": {\"HP\": \"19310\", \"ATK\": \"8968\", \"DEF\": \"6839\"}}, \"Connect\": {\"Name\": \"Connect: Let's Go Fist to Fist!\", \"Two_Star\": \"\\u26052: Charge Damage UP [III] &amp; Attack UP [III]\", \"Three_Star\": \"\\u26053: Charge Damage UP [V] &amp; Attack UP [V]\", \"Four_Star\": \"\\u26054: Charge Damage UP [VII] &amp; Attack UP [VII]\"}, \"Magia\": {\"Name\": \"Magia: Machinegun Fists\", \"Two_Star\": \"\\u26052: Damage One Enemy [I] &amp; Charge Damage UP (All / 3 T)\", \"Three_Star\": \"\\u26053: Damage One Enemy [III] &amp; Charge Damage UP (All / 3 T)\", \"Four_Star\": \"\\u26054: Damage One Enemy [V] &amp; Charge Damage UP (All / 3 T) &amp; Damage UP (Self / 3 T)\"}, \"Doppel\": {\"Name\": \"\"}}\n"
     ]
    }
   ],
   "source": [
    "girl_json = json.dumps(Akira)\n",
    "print(girl_json)\n",
    "\n",
    "with open('akira.json', 'w') as json_file:\n",
    "  json.dump(girl_json, json_file)"
   ]
  },
  {
   "cell_type": "code",
   "execution_count": null,
   "metadata": {},
   "outputs": [],
   "source": []
  }
 ],
 "metadata": {
  "kernelspec": {
   "display_name": "Python 3",
   "language": "python",
   "name": "python3"
  },
  "language_info": {
   "codemirror_mode": {
    "name": "ipython",
    "version": 3
   },
   "file_extension": ".py",
   "mimetype": "text/x-python",
   "name": "python",
   "nbconvert_exporter": "python",
   "pygments_lexer": "ipython3",
   "version": "3.7.3"
  }
 },
 "nbformat": 4,
 "nbformat_minor": 2
}
